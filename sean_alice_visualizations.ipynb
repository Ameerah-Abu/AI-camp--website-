{
 "cells": [
  {
   "cell_type": "code",
   "execution_count": 3,
   "metadata": {
    "collapsed": false
   },
   "outputs": [
   ],
   "source": [
    "import pandas as pd\n",
    "import plotly.express as px\n",
    "\n",
    "wh_df = pd.read_csv('data/world-happiness-report.csv')\n",
    "wh_df21 = pd.read_csv('data/world-happiness-report-2021.csv')\n"
   ]
  },
  {
   "cell_type": "code",
   "execution_count": 30,
   "metadata": {
    "collapsed": false
   },
   "outputs": [
    {
     "data": {
      "text/plain": [
       "Index(['Country name', 'year', 'Life Ladder', 'Log GDP per capita',\n",
       "       'Social support', 'Healthy life expectancy at birth',\n",
       "       'Freedom to make life choices', 'Generosity',\n",
       "       'Perceptions of corruption', 'Positive affect', 'Negative affect'],\n",
       "      dtype='object')"
      ]
     },
     "execution_count": 30,
     "metadata": {
     },
     "output_type": "execute_result"
    }
   ],
   "source": [
    "wh_df.columns"
   ]
  },
  {
   "cell_type": "code",
   "execution_count": 4,
   "metadata": {
    "collapsed": false,
    "scrolled": true
   },
   "outputs": [
    {
     "data": {
      "text/html": [
       "<div>\n",
       "<style scoped>\n",
       "    .dataframe tbody tr th:only-of-type {\n",
       "        vertical-align: middle;\n",
       "    }\n",
       "\n",
       "    .dataframe tbody tr th {\n",
       "        vertical-align: top;\n",
       "    }\n",
       "\n",
       "    .dataframe thead th {\n",
       "        text-align: right;\n",
       "    }\n",
       "</style>\n",
       "<table border=\"1\" class=\"dataframe\">\n",
       "  <thead>\n",
       "    <tr style=\"text-align: right;\">\n",
       "      <th></th>\n",
       "      <th>Country name</th>\n",
       "      <th>year</th>\n",
       "      <th>Life Ladder</th>\n",
       "      <th>Log GDP per capita</th>\n",
       "      <th>Social support</th>\n",
       "      <th>Healthy life expectancy at birth</th>\n",
       "      <th>Freedom to make life choices</th>\n",
       "      <th>Generosity</th>\n",
       "      <th>Perceptions of corruption</th>\n",
       "      <th>Positive affect</th>\n",
       "      <th>Negative affect</th>\n",
       "    </tr>\n",
       "  </thead>\n",
       "  <tbody>\n",
       "    <tr>\n",
       "      <th>0</th>\n",
       "      <td>Afghanistan</td>\n",
       "      <td>2008</td>\n",
       "      <td>3.724</td>\n",
       "      <td>7.370</td>\n",
       "      <td>0.451</td>\n",
       "      <td>50.80</td>\n",
       "      <td>0.718</td>\n",
       "      <td>0.168</td>\n",
       "      <td>0.882</td>\n",
       "      <td>0.518</td>\n",
       "      <td>0.258</td>\n",
       "    </tr>\n",
       "    <tr>\n",
       "      <th>1</th>\n",
       "      <td>Afghanistan</td>\n",
       "      <td>2009</td>\n",
       "      <td>4.402</td>\n",
       "      <td>7.540</td>\n",
       "      <td>0.552</td>\n",
       "      <td>51.20</td>\n",
       "      <td>0.679</td>\n",
       "      <td>0.190</td>\n",
       "      <td>0.850</td>\n",
       "      <td>0.584</td>\n",
       "      <td>0.237</td>\n",
       "    </tr>\n",
       "    <tr>\n",
       "      <th>2</th>\n",
       "      <td>Afghanistan</td>\n",
       "      <td>2010</td>\n",
       "      <td>4.758</td>\n",
       "      <td>7.647</td>\n",
       "      <td>0.539</td>\n",
       "      <td>51.60</td>\n",
       "      <td>0.600</td>\n",
       "      <td>0.121</td>\n",
       "      <td>0.707</td>\n",
       "      <td>0.618</td>\n",
       "      <td>0.275</td>\n",
       "    </tr>\n",
       "    <tr>\n",
       "      <th>3</th>\n",
       "      <td>Afghanistan</td>\n",
       "      <td>2011</td>\n",
       "      <td>3.832</td>\n",
       "      <td>7.620</td>\n",
       "      <td>0.521</td>\n",
       "      <td>51.92</td>\n",
       "      <td>0.496</td>\n",
       "      <td>0.162</td>\n",
       "      <td>0.731</td>\n",
       "      <td>0.611</td>\n",
       "      <td>0.267</td>\n",
       "    </tr>\n",
       "    <tr>\n",
       "      <th>4</th>\n",
       "      <td>Afghanistan</td>\n",
       "      <td>2012</td>\n",
       "      <td>3.783</td>\n",
       "      <td>7.705</td>\n",
       "      <td>0.521</td>\n",
       "      <td>52.24</td>\n",
       "      <td>0.531</td>\n",
       "      <td>0.236</td>\n",
       "      <td>0.776</td>\n",
       "      <td>0.710</td>\n",
       "      <td>0.268</td>\n",
       "    </tr>\n",
       "  </tbody>\n",
       "</table>\n",
       "</div>"
      ],
      "text/plain": [
       "  Country name  year  Life Ladder  Log GDP per capita  Social support  \\\n",
       "0  Afghanistan  2008        3.724               7.370           0.451   \n",
       "1  Afghanistan  2009        4.402               7.540           0.552   \n",
       "2  Afghanistan  2010        4.758               7.647           0.539   \n",
       "3  Afghanistan  2011        3.832               7.620           0.521   \n",
       "4  Afghanistan  2012        3.783               7.705           0.521   \n",
       "\n",
       "   Healthy life expectancy at birth  Freedom to make life choices  Generosity  \\\n",
       "0                             50.80                         0.718       0.168   \n",
       "1                             51.20                         0.679       0.190   \n",
       "2                             51.60                         0.600       0.121   \n",
       "3                             51.92                         0.496       0.162   \n",
       "4                             52.24                         0.531       0.236   \n",
       "\n",
       "   Perceptions of corruption  Positive affect  Negative affect  \n",
       "0                      0.882            0.518            0.258  \n",
       "1                      0.850            0.584            0.237  \n",
       "2                      0.707            0.618            0.275  \n",
       "3                      0.731            0.611            0.267  \n",
       "4                      0.776            0.710            0.268  "
      ]
     },
     "execution_count": 4,
     "metadata": {
     },
     "output_type": "execute_result"
    }
   ],
   "source": [
    "wh_df.head()"
   ]
  },
  {
   "cell_type": "code",
   "execution_count": 5,
   "metadata": {
    "collapsed": false,
    "scrolled": true
   },
   "outputs": [
    {
     "data": {
      "text/html": [
       "<div>\n",
       "<style scoped>\n",
       "    .dataframe tbody tr th:only-of-type {\n",
       "        vertical-align: middle;\n",
       "    }\n",
       "\n",
       "    .dataframe tbody tr th {\n",
       "        vertical-align: top;\n",
       "    }\n",
       "\n",
       "    .dataframe thead th {\n",
       "        text-align: right;\n",
       "    }\n",
       "</style>\n",
       "<table border=\"1\" class=\"dataframe\">\n",
       "  <thead>\n",
       "    <tr style=\"text-align: right;\">\n",
       "      <th></th>\n",
       "      <th>Country name</th>\n",
       "      <th>year</th>\n",
       "      <th>Life Ladder</th>\n",
       "      <th>Log GDP per capita</th>\n",
       "      <th>Social support</th>\n",
       "      <th>Healthy life expectancy at birth</th>\n",
       "      <th>Freedom to make life choices</th>\n",
       "      <th>Generosity</th>\n",
       "      <th>Perceptions of corruption</th>\n",
       "      <th>Positive affect</th>\n",
       "      <th>Negative affect</th>\n",
       "    </tr>\n",
       "  </thead>\n",
       "  <tbody>\n",
       "    <tr>\n",
       "      <th>0</th>\n",
       "      <td>Afghanistan</td>\n",
       "      <td>2008</td>\n",
       "      <td>3.724</td>\n",
       "      <td>7.370</td>\n",
       "      <td>0.451</td>\n",
       "      <td>50.80</td>\n",
       "      <td>0.718</td>\n",
       "      <td>0.168</td>\n",
       "      <td>0.882</td>\n",
       "      <td>0.518</td>\n",
       "      <td>0.258</td>\n",
       "    </tr>\n",
       "    <tr>\n",
       "      <th>1</th>\n",
       "      <td>Afghanistan</td>\n",
       "      <td>2009</td>\n",
       "      <td>4.402</td>\n",
       "      <td>7.540</td>\n",
       "      <td>0.552</td>\n",
       "      <td>51.20</td>\n",
       "      <td>0.679</td>\n",
       "      <td>0.190</td>\n",
       "      <td>0.850</td>\n",
       "      <td>0.584</td>\n",
       "      <td>0.237</td>\n",
       "    </tr>\n",
       "    <tr>\n",
       "      <th>2</th>\n",
       "      <td>Afghanistan</td>\n",
       "      <td>2010</td>\n",
       "      <td>4.758</td>\n",
       "      <td>7.647</td>\n",
       "      <td>0.539</td>\n",
       "      <td>51.60</td>\n",
       "      <td>0.600</td>\n",
       "      <td>0.121</td>\n",
       "      <td>0.707</td>\n",
       "      <td>0.618</td>\n",
       "      <td>0.275</td>\n",
       "    </tr>\n",
       "    <tr>\n",
       "      <th>3</th>\n",
       "      <td>Afghanistan</td>\n",
       "      <td>2011</td>\n",
       "      <td>3.832</td>\n",
       "      <td>7.620</td>\n",
       "      <td>0.521</td>\n",
       "      <td>51.92</td>\n",
       "      <td>0.496</td>\n",
       "      <td>0.162</td>\n",
       "      <td>0.731</td>\n",
       "      <td>0.611</td>\n",
       "      <td>0.267</td>\n",
       "    </tr>\n",
       "    <tr>\n",
       "      <th>4</th>\n",
       "      <td>Afghanistan</td>\n",
       "      <td>2012</td>\n",
       "      <td>3.783</td>\n",
       "      <td>7.705</td>\n",
       "      <td>0.521</td>\n",
       "      <td>52.24</td>\n",
       "      <td>0.531</td>\n",
       "      <td>0.236</td>\n",
       "      <td>0.776</td>\n",
       "      <td>0.710</td>\n",
       "      <td>0.268</td>\n",
       "    </tr>\n",
       "    <tr>\n",
       "      <th>5</th>\n",
       "      <td>Afghanistan</td>\n",
       "      <td>2013</td>\n",
       "      <td>3.572</td>\n",
       "      <td>7.725</td>\n",
       "      <td>0.484</td>\n",
       "      <td>52.56</td>\n",
       "      <td>0.578</td>\n",
       "      <td>0.061</td>\n",
       "      <td>0.823</td>\n",
       "      <td>0.621</td>\n",
       "      <td>0.273</td>\n",
       "    </tr>\n",
       "    <tr>\n",
       "      <th>6</th>\n",
       "      <td>Afghanistan</td>\n",
       "      <td>2014</td>\n",
       "      <td>3.131</td>\n",
       "      <td>7.718</td>\n",
       "      <td>0.526</td>\n",
       "      <td>52.88</td>\n",
       "      <td>0.509</td>\n",
       "      <td>0.104</td>\n",
       "      <td>0.871</td>\n",
       "      <td>0.532</td>\n",
       "      <td>0.375</td>\n",
       "    </tr>\n",
       "    <tr>\n",
       "      <th>7</th>\n",
       "      <td>Afghanistan</td>\n",
       "      <td>2015</td>\n",
       "      <td>3.983</td>\n",
       "      <td>7.702</td>\n",
       "      <td>0.529</td>\n",
       "      <td>53.20</td>\n",
       "      <td>0.389</td>\n",
       "      <td>0.080</td>\n",
       "      <td>0.881</td>\n",
       "      <td>0.554</td>\n",
       "      <td>0.339</td>\n",
       "    </tr>\n",
       "    <tr>\n",
       "      <th>8</th>\n",
       "      <td>Afghanistan</td>\n",
       "      <td>2016</td>\n",
       "      <td>4.220</td>\n",
       "      <td>7.697</td>\n",
       "      <td>0.559</td>\n",
       "      <td>53.00</td>\n",
       "      <td>0.523</td>\n",
       "      <td>0.042</td>\n",
       "      <td>0.793</td>\n",
       "      <td>0.565</td>\n",
       "      <td>0.348</td>\n",
       "    </tr>\n",
       "    <tr>\n",
       "      <th>9</th>\n",
       "      <td>Afghanistan</td>\n",
       "      <td>2017</td>\n",
       "      <td>2.662</td>\n",
       "      <td>7.697</td>\n",
       "      <td>0.491</td>\n",
       "      <td>52.80</td>\n",
       "      <td>0.427</td>\n",
       "      <td>-0.121</td>\n",
       "      <td>0.954</td>\n",
       "      <td>0.496</td>\n",
       "      <td>0.371</td>\n",
       "    </tr>\n",
       "    <tr>\n",
       "      <th>10</th>\n",
       "      <td>Afghanistan</td>\n",
       "      <td>2018</td>\n",
       "      <td>2.694</td>\n",
       "      <td>7.692</td>\n",
       "      <td>0.508</td>\n",
       "      <td>52.60</td>\n",
       "      <td>0.374</td>\n",
       "      <td>-0.094</td>\n",
       "      <td>0.928</td>\n",
       "      <td>0.424</td>\n",
       "      <td>0.405</td>\n",
       "    </tr>\n",
       "    <tr>\n",
       "      <th>11</th>\n",
       "      <td>Afghanistan</td>\n",
       "      <td>2019</td>\n",
       "      <td>2.375</td>\n",
       "      <td>7.697</td>\n",
       "      <td>0.420</td>\n",
       "      <td>52.40</td>\n",
       "      <td>0.394</td>\n",
       "      <td>-0.108</td>\n",
       "      <td>0.924</td>\n",
       "      <td>0.351</td>\n",
       "      <td>0.502</td>\n",
       "    </tr>\n",
       "  </tbody>\n",
       "</table>\n",
       "</div>"
      ],
      "text/plain": [
       "   Country name  year  Life Ladder  Log GDP per capita  Social support  \\\n",
       "0   Afghanistan  2008        3.724               7.370           0.451   \n",
       "1   Afghanistan  2009        4.402               7.540           0.552   \n",
       "2   Afghanistan  2010        4.758               7.647           0.539   \n",
       "3   Afghanistan  2011        3.832               7.620           0.521   \n",
       "4   Afghanistan  2012        3.783               7.705           0.521   \n",
       "5   Afghanistan  2013        3.572               7.725           0.484   \n",
       "6   Afghanistan  2014        3.131               7.718           0.526   \n",
       "7   Afghanistan  2015        3.983               7.702           0.529   \n",
       "8   Afghanistan  2016        4.220               7.697           0.559   \n",
       "9   Afghanistan  2017        2.662               7.697           0.491   \n",
       "10  Afghanistan  2018        2.694               7.692           0.508   \n",
       "11  Afghanistan  2019        2.375               7.697           0.420   \n",
       "\n",
       "    Healthy life expectancy at birth  Freedom to make life choices  \\\n",
       "0                              50.80                         0.718   \n",
       "1                              51.20                         0.679   \n",
       "2                              51.60                         0.600   \n",
       "3                              51.92                         0.496   \n",
       "4                              52.24                         0.531   \n",
       "5                              52.56                         0.578   \n",
       "6                              52.88                         0.509   \n",
       "7                              53.20                         0.389   \n",
       "8                              53.00                         0.523   \n",
       "9                              52.80                         0.427   \n",
       "10                             52.60                         0.374   \n",
       "11                             52.40                         0.394   \n",
       "\n",
       "    Generosity  Perceptions of corruption  Positive affect  Negative affect  \n",
       "0        0.168                      0.882            0.518            0.258  \n",
       "1        0.190                      0.850            0.584            0.237  \n",
       "2        0.121                      0.707            0.618            0.275  \n",
       "3        0.162                      0.731            0.611            0.267  \n",
       "4        0.236                      0.776            0.710            0.268  \n",
       "5        0.061                      0.823            0.621            0.273  \n",
       "6        0.104                      0.871            0.532            0.375  \n",
       "7        0.080                      0.881            0.554            0.339  \n",
       "8        0.042                      0.793            0.565            0.348  \n",
       "9       -0.121                      0.954            0.496            0.371  \n",
       "10      -0.094                      0.928            0.424            0.405  \n",
       "11      -0.108                      0.924            0.351            0.502  "
      ]
     },
     "execution_count": 5,
     "metadata": {
     },
     "output_type": "execute_result"
    }
   ],
   "source": [
    "wh_df[wh_df['Country name'] == 'Afghanistan']"
   ]
  },
  {
   "cell_type": "code",
   "execution_count": 0,
   "metadata": {
    "collapsed": false
   },
   "outputs": [
   ],
   "source": [
   ]
  },
  {
   "cell_type": "code",
   "execution_count": 6,
   "metadata": {
    "collapsed": false,
    "scrolled": true
   },
   "outputs": [
    {
     "data": {
      "text/html": [
       "<div>\n",
       "<style scoped>\n",
       "    .dataframe tbody tr th:only-of-type {\n",
       "        vertical-align: middle;\n",
       "    }\n",
       "\n",
       "    .dataframe tbody tr th {\n",
       "        vertical-align: top;\n",
       "    }\n",
       "\n",
       "    .dataframe thead th {\n",
       "        text-align: right;\n",
       "    }\n",
       "</style>\n",
       "<table border=\"1\" class=\"dataframe\">\n",
       "  <thead>\n",
       "    <tr style=\"text-align: right;\">\n",
       "      <th></th>\n",
       "      <th>Country name</th>\n",
       "      <th>Regional indicator</th>\n",
       "      <th>Ladder score</th>\n",
       "      <th>Standard error of ladder score</th>\n",
       "      <th>upperwhisker</th>\n",
       "      <th>lowerwhisker</th>\n",
       "      <th>Logged GDP per capita</th>\n",
       "      <th>Social support</th>\n",
       "      <th>Healthy life expectancy</th>\n",
       "      <th>Freedom to make life choices</th>\n",
       "      <th>Generosity</th>\n",
       "      <th>Perceptions of corruption</th>\n",
       "      <th>Ladder score in Dystopia</th>\n",
       "      <th>Explained by: Log GDP per capita</th>\n",
       "      <th>Explained by: Social support</th>\n",
       "      <th>Explained by: Healthy life expectancy</th>\n",
       "      <th>Explained by: Freedom to make life choices</th>\n",
       "      <th>Explained by: Generosity</th>\n",
       "      <th>Explained by: Perceptions of corruption</th>\n",
       "      <th>Dystopia + residual</th>\n",
       "    </tr>\n",
       "  </thead>\n",
       "  <tbody>\n",
       "    <tr>\n",
       "      <th>0</th>\n",
       "      <td>Finland</td>\n",
       "      <td>Western Europe</td>\n",
       "      <td>7.842</td>\n",
       "      <td>0.032</td>\n",
       "      <td>7.904</td>\n",
       "      <td>7.780</td>\n",
       "      <td>10.775</td>\n",
       "      <td>0.954</td>\n",
       "      <td>72.000</td>\n",
       "      <td>0.949</td>\n",
       "      <td>-0.098</td>\n",
       "      <td>0.186</td>\n",
       "      <td>2.43</td>\n",
       "      <td>1.446</td>\n",
       "      <td>1.106</td>\n",
       "      <td>0.741</td>\n",
       "      <td>0.691</td>\n",
       "      <td>0.124</td>\n",
       "      <td>0.481</td>\n",
       "      <td>3.253</td>\n",
       "    </tr>\n",
       "    <tr>\n",
       "      <th>1</th>\n",
       "      <td>Denmark</td>\n",
       "      <td>Western Europe</td>\n",
       "      <td>7.620</td>\n",
       "      <td>0.035</td>\n",
       "      <td>7.687</td>\n",
       "      <td>7.552</td>\n",
       "      <td>10.933</td>\n",
       "      <td>0.954</td>\n",
       "      <td>72.700</td>\n",
       "      <td>0.946</td>\n",
       "      <td>0.030</td>\n",
       "      <td>0.179</td>\n",
       "      <td>2.43</td>\n",
       "      <td>1.502</td>\n",
       "      <td>1.108</td>\n",
       "      <td>0.763</td>\n",
       "      <td>0.686</td>\n",
       "      <td>0.208</td>\n",
       "      <td>0.485</td>\n",
       "      <td>2.868</td>\n",
       "    </tr>\n",
       "    <tr>\n",
       "      <th>2</th>\n",
       "      <td>Switzerland</td>\n",
       "      <td>Western Europe</td>\n",
       "      <td>7.571</td>\n",
       "      <td>0.036</td>\n",
       "      <td>7.643</td>\n",
       "      <td>7.500</td>\n",
       "      <td>11.117</td>\n",
       "      <td>0.942</td>\n",
       "      <td>74.400</td>\n",
       "      <td>0.919</td>\n",
       "      <td>0.025</td>\n",
       "      <td>0.292</td>\n",
       "      <td>2.43</td>\n",
       "      <td>1.566</td>\n",
       "      <td>1.079</td>\n",
       "      <td>0.816</td>\n",
       "      <td>0.653</td>\n",
       "      <td>0.204</td>\n",
       "      <td>0.413</td>\n",
       "      <td>2.839</td>\n",
       "    </tr>\n",
       "    <tr>\n",
       "      <th>3</th>\n",
       "      <td>Iceland</td>\n",
       "      <td>Western Europe</td>\n",
       "      <td>7.554</td>\n",
       "      <td>0.059</td>\n",
       "      <td>7.670</td>\n",
       "      <td>7.438</td>\n",
       "      <td>10.878</td>\n",
       "      <td>0.983</td>\n",
       "      <td>73.000</td>\n",
       "      <td>0.955</td>\n",
       "      <td>0.160</td>\n",
       "      <td>0.673</td>\n",
       "      <td>2.43</td>\n",
       "      <td>1.482</td>\n",
       "      <td>1.172</td>\n",
       "      <td>0.772</td>\n",
       "      <td>0.698</td>\n",
       "      <td>0.293</td>\n",
       "      <td>0.170</td>\n",
       "      <td>2.967</td>\n",
       "    </tr>\n",
       "    <tr>\n",
       "      <th>4</th>\n",
       "      <td>Netherlands</td>\n",
       "      <td>Western Europe</td>\n",
       "      <td>7.464</td>\n",
       "      <td>0.027</td>\n",
       "      <td>7.518</td>\n",
       "      <td>7.410</td>\n",
       "      <td>10.932</td>\n",
       "      <td>0.942</td>\n",
       "      <td>72.400</td>\n",
       "      <td>0.913</td>\n",
       "      <td>0.175</td>\n",
       "      <td>0.338</td>\n",
       "      <td>2.43</td>\n",
       "      <td>1.501</td>\n",
       "      <td>1.079</td>\n",
       "      <td>0.753</td>\n",
       "      <td>0.647</td>\n",
       "      <td>0.302</td>\n",
       "      <td>0.384</td>\n",
       "      <td>2.798</td>\n",
       "    </tr>\n",
       "    <tr>\n",
       "      <th>...</th>\n",
       "      <td>...</td>\n",
       "      <td>...</td>\n",
       "      <td>...</td>\n",
       "      <td>...</td>\n",
       "      <td>...</td>\n",
       "      <td>...</td>\n",
       "      <td>...</td>\n",
       "      <td>...</td>\n",
       "      <td>...</td>\n",
       "      <td>...</td>\n",
       "      <td>...</td>\n",
       "      <td>...</td>\n",
       "      <td>...</td>\n",
       "      <td>...</td>\n",
       "      <td>...</td>\n",
       "      <td>...</td>\n",
       "      <td>...</td>\n",
       "      <td>...</td>\n",
       "      <td>...</td>\n",
       "      <td>...</td>\n",
       "    </tr>\n",
       "    <tr>\n",
       "      <th>144</th>\n",
       "      <td>Lesotho</td>\n",
       "      <td>Sub-Saharan Africa</td>\n",
       "      <td>3.512</td>\n",
       "      <td>0.120</td>\n",
       "      <td>3.748</td>\n",
       "      <td>3.276</td>\n",
       "      <td>7.926</td>\n",
       "      <td>0.787</td>\n",
       "      <td>48.700</td>\n",
       "      <td>0.715</td>\n",
       "      <td>-0.131</td>\n",
       "      <td>0.915</td>\n",
       "      <td>2.43</td>\n",
       "      <td>0.451</td>\n",
       "      <td>0.731</td>\n",
       "      <td>0.007</td>\n",
       "      <td>0.405</td>\n",
       "      <td>0.103</td>\n",
       "      <td>0.015</td>\n",
       "      <td>1.800</td>\n",
       "    </tr>\n",
       "    <tr>\n",
       "      <th>145</th>\n",
       "      <td>Botswana</td>\n",
       "      <td>Sub-Saharan Africa</td>\n",
       "      <td>3.467</td>\n",
       "      <td>0.074</td>\n",
       "      <td>3.611</td>\n",
       "      <td>3.322</td>\n",
       "      <td>9.782</td>\n",
       "      <td>0.784</td>\n",
       "      <td>59.269</td>\n",
       "      <td>0.824</td>\n",
       "      <td>-0.246</td>\n",
       "      <td>0.801</td>\n",
       "      <td>2.43</td>\n",
       "      <td>1.099</td>\n",
       "      <td>0.724</td>\n",
       "      <td>0.340</td>\n",
       "      <td>0.539</td>\n",
       "      <td>0.027</td>\n",
       "      <td>0.088</td>\n",
       "      <td>0.648</td>\n",
       "    </tr>\n",
       "    <tr>\n",
       "      <th>146</th>\n",
       "      <td>Rwanda</td>\n",
       "      <td>Sub-Saharan Africa</td>\n",
       "      <td>3.415</td>\n",
       "      <td>0.068</td>\n",
       "      <td>3.548</td>\n",
       "      <td>3.282</td>\n",
       "      <td>7.676</td>\n",
       "      <td>0.552</td>\n",
       "      <td>61.400</td>\n",
       "      <td>0.897</td>\n",
       "      <td>0.061</td>\n",
       "      <td>0.167</td>\n",
       "      <td>2.43</td>\n",
       "      <td>0.364</td>\n",
       "      <td>0.202</td>\n",
       "      <td>0.407</td>\n",
       "      <td>0.627</td>\n",
       "      <td>0.227</td>\n",
       "      <td>0.493</td>\n",
       "      <td>1.095</td>\n",
       "    </tr>\n",
       "    <tr>\n",
       "      <th>147</th>\n",
       "      <td>Zimbabwe</td>\n",
       "      <td>Sub-Saharan Africa</td>\n",
       "      <td>3.145</td>\n",
       "      <td>0.058</td>\n",
       "      <td>3.259</td>\n",
       "      <td>3.030</td>\n",
       "      <td>7.943</td>\n",
       "      <td>0.750</td>\n",
       "      <td>56.201</td>\n",
       "      <td>0.677</td>\n",
       "      <td>-0.047</td>\n",
       "      <td>0.821</td>\n",
       "      <td>2.43</td>\n",
       "      <td>0.457</td>\n",
       "      <td>0.649</td>\n",
       "      <td>0.243</td>\n",
       "      <td>0.359</td>\n",
       "      <td>0.157</td>\n",
       "      <td>0.075</td>\n",
       "      <td>1.205</td>\n",
       "    </tr>\n",
       "    <tr>\n",
       "      <th>148</th>\n",
       "      <td>Afghanistan</td>\n",
       "      <td>South Asia</td>\n",
       "      <td>2.523</td>\n",
       "      <td>0.038</td>\n",
       "      <td>2.596</td>\n",
       "      <td>2.449</td>\n",
       "      <td>7.695</td>\n",
       "      <td>0.463</td>\n",
       "      <td>52.493</td>\n",
       "      <td>0.382</td>\n",
       "      <td>-0.102</td>\n",
       "      <td>0.924</td>\n",
       "      <td>2.43</td>\n",
       "      <td>0.370</td>\n",
       "      <td>0.000</td>\n",
       "      <td>0.126</td>\n",
       "      <td>0.000</td>\n",
       "      <td>0.122</td>\n",
       "      <td>0.010</td>\n",
       "      <td>1.895</td>\n",
       "    </tr>\n",
       "  </tbody>\n",
       "</table>\n",
       "<p>149 rows × 20 columns</p>\n",
       "</div>"
      ],
      "text/plain": [
       "    Country name  Regional indicator  Ladder score  \\\n",
       "0        Finland      Western Europe         7.842   \n",
       "1        Denmark      Western Europe         7.620   \n",
       "2    Switzerland      Western Europe         7.571   \n",
       "3        Iceland      Western Europe         7.554   \n",
       "4    Netherlands      Western Europe         7.464   \n",
       "..           ...                 ...           ...   \n",
       "144      Lesotho  Sub-Saharan Africa         3.512   \n",
       "145     Botswana  Sub-Saharan Africa         3.467   \n",
       "146       Rwanda  Sub-Saharan Africa         3.415   \n",
       "147     Zimbabwe  Sub-Saharan Africa         3.145   \n",
       "148  Afghanistan          South Asia         2.523   \n",
       "\n",
       "     Standard error of ladder score  upperwhisker  lowerwhisker  \\\n",
       "0                             0.032         7.904         7.780   \n",
       "1                             0.035         7.687         7.552   \n",
       "2                             0.036         7.643         7.500   \n",
       "3                             0.059         7.670         7.438   \n",
       "4                             0.027         7.518         7.410   \n",
       "..                              ...           ...           ...   \n",
       "144                           0.120         3.748         3.276   \n",
       "145                           0.074         3.611         3.322   \n",
       "146                           0.068         3.548         3.282   \n",
       "147                           0.058         3.259         3.030   \n",
       "148                           0.038         2.596         2.449   \n",
       "\n",
       "     Logged GDP per capita  Social support  Healthy life expectancy  \\\n",
       "0                   10.775           0.954                   72.000   \n",
       "1                   10.933           0.954                   72.700   \n",
       "2                   11.117           0.942                   74.400   \n",
       "3                   10.878           0.983                   73.000   \n",
       "4                   10.932           0.942                   72.400   \n",
       "..                     ...             ...                      ...   \n",
       "144                  7.926           0.787                   48.700   \n",
       "145                  9.782           0.784                   59.269   \n",
       "146                  7.676           0.552                   61.400   \n",
       "147                  7.943           0.750                   56.201   \n",
       "148                  7.695           0.463                   52.493   \n",
       "\n",
       "     Freedom to make life choices  Generosity  Perceptions of corruption  \\\n",
       "0                           0.949      -0.098                      0.186   \n",
       "1                           0.946       0.030                      0.179   \n",
       "2                           0.919       0.025                      0.292   \n",
       "3                           0.955       0.160                      0.673   \n",
       "4                           0.913       0.175                      0.338   \n",
       "..                            ...         ...                        ...   \n",
       "144                         0.715      -0.131                      0.915   \n",
       "145                         0.824      -0.246                      0.801   \n",
       "146                         0.897       0.061                      0.167   \n",
       "147                         0.677      -0.047                      0.821   \n",
       "148                         0.382      -0.102                      0.924   \n",
       "\n",
       "     Ladder score in Dystopia  Explained by: Log GDP per capita  \\\n",
       "0                        2.43                             1.446   \n",
       "1                        2.43                             1.502   \n",
       "2                        2.43                             1.566   \n",
       "3                        2.43                             1.482   \n",
       "4                        2.43                             1.501   \n",
       "..                        ...                               ...   \n",
       "144                      2.43                             0.451   \n",
       "145                      2.43                             1.099   \n",
       "146                      2.43                             0.364   \n",
       "147                      2.43                             0.457   \n",
       "148                      2.43                             0.370   \n",
       "\n",
       "     Explained by: Social support  Explained by: Healthy life expectancy  \\\n",
       "0                           1.106                                  0.741   \n",
       "1                           1.108                                  0.763   \n",
       "2                           1.079                                  0.816   \n",
       "3                           1.172                                  0.772   \n",
       "4                           1.079                                  0.753   \n",
       "..                            ...                                    ...   \n",
       "144                         0.731                                  0.007   \n",
       "145                         0.724                                  0.340   \n",
       "146                         0.202                                  0.407   \n",
       "147                         0.649                                  0.243   \n",
       "148                         0.000                                  0.126   \n",
       "\n",
       "     Explained by: Freedom to make life choices  Explained by: Generosity  \\\n",
       "0                                         0.691                     0.124   \n",
       "1                                         0.686                     0.208   \n",
       "2                                         0.653                     0.204   \n",
       "3                                         0.698                     0.293   \n",
       "4                                         0.647                     0.302   \n",
       "..                                          ...                       ...   \n",
       "144                                       0.405                     0.103   \n",
       "145                                       0.539                     0.027   \n",
       "146                                       0.627                     0.227   \n",
       "147                                       0.359                     0.157   \n",
       "148                                       0.000                     0.122   \n",
       "\n",
       "     Explained by: Perceptions of corruption  Dystopia + residual  \n",
       "0                                      0.481                3.253  \n",
       "1                                      0.485                2.868  \n",
       "2                                      0.413                2.839  \n",
       "3                                      0.170                2.967  \n",
       "4                                      0.384                2.798  \n",
       "..                                       ...                  ...  \n",
       "144                                    0.015                1.800  \n",
       "145                                    0.088                0.648  \n",
       "146                                    0.493                1.095  \n",
       "147                                    0.075                1.205  \n",
       "148                                    0.010                1.895  \n",
       "\n",
       "[149 rows x 20 columns]"
      ]
     },
     "execution_count": 6,
     "metadata": {
     },
     "output_type": "execute_result"
    }
   ],
   "source": [
    "wh_df21"
   ]
  },
  {
   "cell_type": "code",
   "execution_count": 7,
   "metadata": {
    "collapsed": false
   },
   "outputs": [
    {
     "data": {
      "text/html": [
       "<div>\n",
       "<style scoped>\n",
       "    .dataframe tbody tr th:only-of-type {\n",
       "        vertical-align: middle;\n",
       "    }\n",
       "\n",
       "    .dataframe tbody tr th {\n",
       "        vertical-align: top;\n",
       "    }\n",
       "\n",
       "    .dataframe thead th {\n",
       "        text-align: right;\n",
       "    }\n",
       "</style>\n",
       "<table border=\"1\" class=\"dataframe\">\n",
       "  <thead>\n",
       "    <tr style=\"text-align: right;\">\n",
       "      <th></th>\n",
       "      <th>Ladder score</th>\n",
       "      <th>Standard error of ladder score</th>\n",
       "      <th>upperwhisker</th>\n",
       "      <th>lowerwhisker</th>\n",
       "      <th>Logged GDP per capita</th>\n",
       "      <th>Social support</th>\n",
       "      <th>Healthy life expectancy</th>\n",
       "      <th>Freedom to make life choices</th>\n",
       "      <th>Generosity</th>\n",
       "      <th>Perceptions of corruption</th>\n",
       "      <th>Ladder score in Dystopia</th>\n",
       "      <th>Explained by: Log GDP per capita</th>\n",
       "      <th>Explained by: Social support</th>\n",
       "      <th>Explained by: Healthy life expectancy</th>\n",
       "      <th>Explained by: Freedom to make life choices</th>\n",
       "      <th>Explained by: Generosity</th>\n",
       "      <th>Explained by: Perceptions of corruption</th>\n",
       "      <th>Dystopia + residual</th>\n",
       "    </tr>\n",
       "  </thead>\n",
       "  <tbody>\n",
       "    <tr>\n",
       "      <th>count</th>\n",
       "      <td>149.000000</td>\n",
       "      <td>149.000000</td>\n",
       "      <td>149.000000</td>\n",
       "      <td>149.000000</td>\n",
       "      <td>149.000000</td>\n",
       "      <td>149.000000</td>\n",
       "      <td>149.000000</td>\n",
       "      <td>149.000000</td>\n",
       "      <td>149.000000</td>\n",
       "      <td>149.000000</td>\n",
       "      <td>149.00</td>\n",
       "      <td>149.000000</td>\n",
       "      <td>149.000000</td>\n",
       "      <td>149.000000</td>\n",
       "      <td>149.000000</td>\n",
       "      <td>149.000000</td>\n",
       "      <td>149.000000</td>\n",
       "      <td>149.000000</td>\n",
       "    </tr>\n",
       "    <tr>\n",
       "      <th>mean</th>\n",
       "      <td>5.532839</td>\n",
       "      <td>0.058752</td>\n",
       "      <td>5.648007</td>\n",
       "      <td>5.417631</td>\n",
       "      <td>9.432208</td>\n",
       "      <td>0.814745</td>\n",
       "      <td>64.992799</td>\n",
       "      <td>0.791597</td>\n",
       "      <td>-0.015134</td>\n",
       "      <td>0.727450</td>\n",
       "      <td>2.43</td>\n",
       "      <td>0.977161</td>\n",
       "      <td>0.793315</td>\n",
       "      <td>0.520161</td>\n",
       "      <td>0.498711</td>\n",
       "      <td>0.178047</td>\n",
       "      <td>0.135141</td>\n",
       "      <td>2.430329</td>\n",
       "    </tr>\n",
       "    <tr>\n",
       "      <th>std</th>\n",
       "      <td>1.073924</td>\n",
       "      <td>0.022001</td>\n",
       "      <td>1.054330</td>\n",
       "      <td>1.094879</td>\n",
       "      <td>1.158601</td>\n",
       "      <td>0.114889</td>\n",
       "      <td>6.762043</td>\n",
       "      <td>0.113332</td>\n",
       "      <td>0.150657</td>\n",
       "      <td>0.179226</td>\n",
       "      <td>0.00</td>\n",
       "      <td>0.404740</td>\n",
       "      <td>0.258871</td>\n",
       "      <td>0.213019</td>\n",
       "      <td>0.137888</td>\n",
       "      <td>0.098270</td>\n",
       "      <td>0.114361</td>\n",
       "      <td>0.537645</td>\n",
       "    </tr>\n",
       "    <tr>\n",
       "      <th>min</th>\n",
       "      <td>2.523000</td>\n",
       "      <td>0.026000</td>\n",
       "      <td>2.596000</td>\n",
       "      <td>2.449000</td>\n",
       "      <td>6.635000</td>\n",
       "      <td>0.463000</td>\n",
       "      <td>48.478000</td>\n",
       "      <td>0.382000</td>\n",
       "      <td>-0.288000</td>\n",
       "      <td>0.082000</td>\n",
       "      <td>2.43</td>\n",
       "      <td>0.000000</td>\n",
       "      <td>0.000000</td>\n",
       "      <td>0.000000</td>\n",
       "      <td>0.000000</td>\n",
       "      <td>0.000000</td>\n",
       "      <td>0.000000</td>\n",
       "      <td>0.648000</td>\n",
       "    </tr>\n",
       "    <tr>\n",
       "      <th>25%</th>\n",
       "      <td>4.852000</td>\n",
       "      <td>0.043000</td>\n",
       "      <td>4.991000</td>\n",
       "      <td>4.706000</td>\n",
       "      <td>8.541000</td>\n",
       "      <td>0.750000</td>\n",
       "      <td>59.802000</td>\n",
       "      <td>0.718000</td>\n",
       "      <td>-0.126000</td>\n",
       "      <td>0.667000</td>\n",
       "      <td>2.43</td>\n",
       "      <td>0.666000</td>\n",
       "      <td>0.647000</td>\n",
       "      <td>0.357000</td>\n",
       "      <td>0.409000</td>\n",
       "      <td>0.105000</td>\n",
       "      <td>0.060000</td>\n",
       "      <td>2.138000</td>\n",
       "    </tr>\n",
       "    <tr>\n",
       "      <th>50%</th>\n",
       "      <td>5.534000</td>\n",
       "      <td>0.054000</td>\n",
       "      <td>5.625000</td>\n",
       "      <td>5.413000</td>\n",
       "      <td>9.569000</td>\n",
       "      <td>0.832000</td>\n",
       "      <td>66.603000</td>\n",
       "      <td>0.804000</td>\n",
       "      <td>-0.036000</td>\n",
       "      <td>0.781000</td>\n",
       "      <td>2.43</td>\n",
       "      <td>1.025000</td>\n",
       "      <td>0.832000</td>\n",
       "      <td>0.571000</td>\n",
       "      <td>0.514000</td>\n",
       "      <td>0.164000</td>\n",
       "      <td>0.101000</td>\n",
       "      <td>2.509000</td>\n",
       "    </tr>\n",
       "    <tr>\n",
       "      <th>75%</th>\n",
       "      <td>6.255000</td>\n",
       "      <td>0.070000</td>\n",
       "      <td>6.344000</td>\n",
       "      <td>6.128000</td>\n",
       "      <td>10.421000</td>\n",
       "      <td>0.905000</td>\n",
       "      <td>69.600000</td>\n",
       "      <td>0.877000</td>\n",
       "      <td>0.079000</td>\n",
       "      <td>0.845000</td>\n",
       "      <td>2.43</td>\n",
       "      <td>1.323000</td>\n",
       "      <td>0.996000</td>\n",
       "      <td>0.665000</td>\n",
       "      <td>0.603000</td>\n",
       "      <td>0.239000</td>\n",
       "      <td>0.174000</td>\n",
       "      <td>2.794000</td>\n",
       "    </tr>\n",
       "    <tr>\n",
       "      <th>max</th>\n",
       "      <td>7.842000</td>\n",
       "      <td>0.173000</td>\n",
       "      <td>7.904000</td>\n",
       "      <td>7.780000</td>\n",
       "      <td>11.647000</td>\n",
       "      <td>0.983000</td>\n",
       "      <td>76.953000</td>\n",
       "      <td>0.970000</td>\n",
       "      <td>0.542000</td>\n",
       "      <td>0.939000</td>\n",
       "      <td>2.43</td>\n",
       "      <td>1.751000</td>\n",
       "      <td>1.172000</td>\n",
       "      <td>0.897000</td>\n",
       "      <td>0.716000</td>\n",
       "      <td>0.541000</td>\n",
       "      <td>0.547000</td>\n",
       "      <td>3.482000</td>\n",
       "    </tr>\n",
       "  </tbody>\n",
       "</table>\n",
       "</div>"
      ],
      "text/plain": [
       "       Ladder score  Standard error of ladder score  upperwhisker  \\\n",
       "count    149.000000                      149.000000    149.000000   \n",
       "mean       5.532839                        0.058752      5.648007   \n",
       "std        1.073924                        0.022001      1.054330   \n",
       "min        2.523000                        0.026000      2.596000   \n",
       "25%        4.852000                        0.043000      4.991000   \n",
       "50%        5.534000                        0.054000      5.625000   \n",
       "75%        6.255000                        0.070000      6.344000   \n",
       "max        7.842000                        0.173000      7.904000   \n",
       "\n",
       "       lowerwhisker  Logged GDP per capita  Social support  \\\n",
       "count    149.000000             149.000000      149.000000   \n",
       "mean       5.417631               9.432208        0.814745   \n",
       "std        1.094879               1.158601        0.114889   \n",
       "min        2.449000               6.635000        0.463000   \n",
       "25%        4.706000               8.541000        0.750000   \n",
       "50%        5.413000               9.569000        0.832000   \n",
       "75%        6.128000              10.421000        0.905000   \n",
       "max        7.780000              11.647000        0.983000   \n",
       "\n",
       "       Healthy life expectancy  Freedom to make life choices  Generosity  \\\n",
       "count               149.000000                    149.000000  149.000000   \n",
       "mean                 64.992799                      0.791597   -0.015134   \n",
       "std                   6.762043                      0.113332    0.150657   \n",
       "min                  48.478000                      0.382000   -0.288000   \n",
       "25%                  59.802000                      0.718000   -0.126000   \n",
       "50%                  66.603000                      0.804000   -0.036000   \n",
       "75%                  69.600000                      0.877000    0.079000   \n",
       "max                  76.953000                      0.970000    0.542000   \n",
       "\n",
       "       Perceptions of corruption  Ladder score in Dystopia  \\\n",
       "count                 149.000000                    149.00   \n",
       "mean                    0.727450                      2.43   \n",
       "std                     0.179226                      0.00   \n",
       "min                     0.082000                      2.43   \n",
       "25%                     0.667000                      2.43   \n",
       "50%                     0.781000                      2.43   \n",
       "75%                     0.845000                      2.43   \n",
       "max                     0.939000                      2.43   \n",
       "\n",
       "       Explained by: Log GDP per capita  Explained by: Social support  \\\n",
       "count                        149.000000                    149.000000   \n",
       "mean                           0.977161                      0.793315   \n",
       "std                            0.404740                      0.258871   \n",
       "min                            0.000000                      0.000000   \n",
       "25%                            0.666000                      0.647000   \n",
       "50%                            1.025000                      0.832000   \n",
       "75%                            1.323000                      0.996000   \n",
       "max                            1.751000                      1.172000   \n",
       "\n",
       "       Explained by: Healthy life expectancy  \\\n",
       "count                             149.000000   \n",
       "mean                                0.520161   \n",
       "std                                 0.213019   \n",
       "min                                 0.000000   \n",
       "25%                                 0.357000   \n",
       "50%                                 0.571000   \n",
       "75%                                 0.665000   \n",
       "max                                 0.897000   \n",
       "\n",
       "       Explained by: Freedom to make life choices  Explained by: Generosity  \\\n",
       "count                                  149.000000                149.000000   \n",
       "mean                                     0.498711                  0.178047   \n",
       "std                                      0.137888                  0.098270   \n",
       "min                                      0.000000                  0.000000   \n",
       "25%                                      0.409000                  0.105000   \n",
       "50%                                      0.514000                  0.164000   \n",
       "75%                                      0.603000                  0.239000   \n",
       "max                                      0.716000                  0.541000   \n",
       "\n",
       "       Explained by: Perceptions of corruption  Dystopia + residual  \n",
       "count                               149.000000           149.000000  \n",
       "mean                                  0.135141             2.430329  \n",
       "std                                   0.114361             0.537645  \n",
       "min                                   0.000000             0.648000  \n",
       "25%                                   0.060000             2.138000  \n",
       "50%                                   0.101000             2.509000  \n",
       "75%                                   0.174000             2.794000  \n",
       "max                                   0.547000             3.482000  "
      ]
     },
     "execution_count": 7,
     "metadata": {
     },
     "output_type": "execute_result"
    }
   ],
   "source": [
    "wh_df21.describe() #A little more description of the data"
   ]
  },
  {
   "cell_type": "code",
   "execution_count": 8,
   "metadata": {
    "collapsed": false
   },
   "outputs": [
    {
     "data": {
      "text/plain": [
       "Index(['Country name', 'Regional indicator', 'Ladder score',\n",
       "       'Standard error of ladder score', 'upperwhisker', 'lowerwhisker',\n",
       "       'Logged GDP per capita', 'Social support', 'Healthy life expectancy',\n",
       "       'Freedom to make life choices', 'Generosity',\n",
       "       'Perceptions of corruption', 'Ladder score in Dystopia',\n",
       "       'Explained by: Log GDP per capita', 'Explained by: Social support',\n",
       "       'Explained by: Healthy life expectancy',\n",
       "       'Explained by: Freedom to make life choices',\n",
       "       'Explained by: Generosity', 'Explained by: Perceptions of corruption',\n",
       "       'Dystopia + residual'],\n",
       "      dtype='object')"
      ]
     },
     "execution_count": 8,
     "metadata": {
     },
     "output_type": "execute_result"
    }
   ],
   "source": [
    "wh_df21.columns"
   ]
  },
  {
   "cell_type": "code",
   "execution_count": 9,
   "metadata": {
    "collapsed": false
   },
   "outputs": [
   ],
   "source": [
    "#Questions formulated to recieve data\n",
    "#Social Support=  “If you were in trouble, do you have relatives or friends you can count on to help you whenever you need them, or not?” (0=no, 1=yes)\n",
    "#Freedom= \"Are you satisfied or dissatisfied with your freedom to choose what you do with your life?”(0=no 1=yes)\n",
    "#Generosity= “Have you donated money to a charity in the past month?”\n",
    "#Corruption= \"Is corruption widespread throughout the government in this country or not?” this is also applied with gov information\n"
   ]
  },
  {
   "cell_type": "code",
   "execution_count": 10,
   "metadata": {
    "collapsed": false
   },
   "outputs": [
   ],
   "source": [
    "# meaning of column names\n",
    "\n",
    "# Country name - Essential\n",
    "# Regional Indicator is the region of the country and could be used when looking at data on a wider scale\n",
    "# Ladder Score: rate their own current lives on a scalre of 0 to 10 (0 = worst, 10 = best)\n",
    "# Standerd Error of Ladder Score: the statistical accuracy of the measurement - not essential\n",
    "# Upper/Lower Whisker: the values between Q3 and max (Upper) and the values between min and Q1 (lower) - not essential\n",
    "# Logged GDP capita - Essential\n",
    "# Social Support: Assitance provided by the community to an individual - Red Flag (what's it measured in).\n",
    "# Healthy Life Expectancy: Average number of years that a person can expect to live in full health - Essential\n",
    "# Freedom to make Life Choices - Red Flag (very vague)\n",
    "# Generosity: the average response to the question \"Have you donated money to charity in the past month\" - not essential or relevant\n",
    "# Perceptions of Corruption: The measure is the national average of the survey responses to two questions in the GWP: “Is corruption widespread throughout the government or not” and “Is corruption widespread within businesses or not?” - Red Flag (could recieve biased responses)\n",
    "# Ladder Score in Dystopia - The precentage of happiness in a country compare to the \"world saddest country\"(a dystopia where all the column values are low) not essential\n",
    "# Explained By Columns - not essential"
   ]
  },
  {
   "cell_type": "code",
   "execution_count": 11,
   "metadata": {
    "collapsed": false
   },
   "outputs": [
   ],
   "source": [
    "# dropping columns\n",
    "\n",
    "columns_to_drop = ['Standard error of ladder score', 'upperwhisker', 'lowerwhisker', 'Explained by: Log GDP per capita', 'Explained by: Social support',\n",
    "       'Explained by: Healthy life expectancy',\n",
    "       'Explained by: Freedom to make life choices',\n",
    "       'Explained by: Generosity', 'Explained by: Perceptions of corruption']\n",
    "wh_df21.drop(columns_to_drop, axis=1, inplace = True)"
   ]
  },
  {
   "cell_type": "code",
   "execution_count": 0,
   "metadata": {
    "collapsed": false
   },
   "outputs": [
   ],
   "source": [
   ]
  },
  {
   "cell_type": "code",
   "execution_count": 12,
   "metadata": {
    "collapsed": false
   },
   "outputs": [
   ],
   "source": [
    "Social_support= wh_df21['Social support']"
   ]
  },
  {
   "cell_type": "code",
   "execution_count": 13,
   "metadata": {
    "collapsed": false
   },
   "outputs": [
    {
     "data": {
      "text/plain": [
       "0.983"
      ]
     },
     "execution_count": 13,
     "metadata": {
     },
     "output_type": "execute_result"
    }
   ],
   "source": [
    "Social_support.max()"
   ]
  },
  {
   "cell_type": "code",
   "execution_count": 14,
   "metadata": {
    "collapsed": false
   },
   "outputs": [
    {
     "data": {
      "text/plain": [
       "0.463"
      ]
     },
     "execution_count": 14,
     "metadata": {
     },
     "output_type": "execute_result"
    }
   ],
   "source": [
    "Social_support.min()"
   ]
  },
  {
   "cell_type": "code",
   "execution_count": 15,
   "metadata": {
    "collapsed": false
   },
   "outputs": [
    {
     "data": {
      "text/plain": [
       "(149, 11)"
      ]
     },
     "execution_count": 15,
     "metadata": {
     },
     "output_type": "execute_result"
    }
   ],
   "source": [
    "wh_df21.shape #number of rows and columns in dataset"
   ]
  },
  {
   "cell_type": "code",
   "execution_count": 16,
   "metadata": {
    "collapsed": false
   },
   "outputs": [
   ],
   "source": [
    "wh_df21.dropna(inplace=True)\n",
    "wh_df21.reset_index(drop=True, inplace=True) #to drop na values"
   ]
  },
  {
   "cell_type": "code",
   "execution_count": 0,
   "metadata": {
    "collapsed": false
   },
   "outputs": [
   ],
   "source": [
   ]
  },
  {
   "cell_type": "code",
   "execution_count": 29,
   "metadata": {
    "collapsed": false
   },
   "outputs": [
   ],
   "source": [
    "# wh_df.to_csv('clean_wh.csv')\n",
    "wh_df21.to_csv('clean_21.csv')"
   ]
  },
  {
   "cell_type": "code",
   "execution_count": 17,
   "metadata": {
    "collapsed": false
   },
   "outputs": [
    {
     "data": {
      "text/plain": [
       "Sub-Saharan Africa                    36\n",
       "Western Europe                        21\n",
       "Latin America and Caribbean           20\n",
       "Middle East and North Africa          17\n",
       "Central and Eastern Europe            17\n",
       "Commonwealth of Independent States    12\n",
       "Southeast Asia                         9\n",
       "South Asia                             7\n",
       "East Asia                              6\n",
       "North America and ANZ                  4\n",
       "Name: Regional indicator, dtype: int64"
      ]
     },
     "execution_count": 17,
     "metadata": {
     },
     "output_type": "execute_result"
    }
   ],
   "source": [
    "wh_df21['Regional indicator'].value_counts() #number of countries within regions"
   ]
  },
  {
   "cell_type": "code",
   "execution_count": 18,
   "metadata": {
    "collapsed": false
   },
   "outputs": [
    {
     "data": {
      "text/html": [
       "<div>\n",
       "<style scoped>\n",
       "    .dataframe tbody tr th:only-of-type {\n",
       "        vertical-align: middle;\n",
       "    }\n",
       "\n",
       "    .dataframe tbody tr th {\n",
       "        vertical-align: top;\n",
       "    }\n",
       "\n",
       "    .dataframe thead th {\n",
       "        text-align: right;\n",
       "    }\n",
       "</style>\n",
       "<table border=\"1\" class=\"dataframe\">\n",
       "  <thead>\n",
       "    <tr style=\"text-align: right;\">\n",
       "      <th></th>\n",
       "      <th>Country name</th>\n",
       "      <th>Regional indicator</th>\n",
       "      <th>Ladder score</th>\n",
       "      <th>Logged GDP per capita</th>\n",
       "      <th>Social support</th>\n",
       "      <th>Healthy life expectancy</th>\n",
       "      <th>Freedom to make life choices</th>\n",
       "      <th>Generosity</th>\n",
       "      <th>Perceptions of corruption</th>\n",
       "      <th>Ladder score in Dystopia</th>\n",
       "      <th>Dystopia + residual</th>\n",
       "    </tr>\n",
       "  </thead>\n",
       "  <tbody>\n",
       "    <tr>\n",
       "      <th>0</th>\n",
       "      <td>Finland</td>\n",
       "      <td>Western Europe</td>\n",
       "      <td>7.842</td>\n",
       "      <td>10.775</td>\n",
       "      <td>0.954</td>\n",
       "      <td>72.000</td>\n",
       "      <td>0.949</td>\n",
       "      <td>-0.098</td>\n",
       "      <td>0.186</td>\n",
       "      <td>2.43</td>\n",
       "      <td>3.253</td>\n",
       "    </tr>\n",
       "    <tr>\n",
       "      <th>1</th>\n",
       "      <td>Denmark</td>\n",
       "      <td>Western Europe</td>\n",
       "      <td>7.620</td>\n",
       "      <td>10.933</td>\n",
       "      <td>0.954</td>\n",
       "      <td>72.700</td>\n",
       "      <td>0.946</td>\n",
       "      <td>0.030</td>\n",
       "      <td>0.179</td>\n",
       "      <td>2.43</td>\n",
       "      <td>2.868</td>\n",
       "    </tr>\n",
       "    <tr>\n",
       "      <th>2</th>\n",
       "      <td>Switzerland</td>\n",
       "      <td>Western Europe</td>\n",
       "      <td>7.571</td>\n",
       "      <td>11.117</td>\n",
       "      <td>0.942</td>\n",
       "      <td>74.400</td>\n",
       "      <td>0.919</td>\n",
       "      <td>0.025</td>\n",
       "      <td>0.292</td>\n",
       "      <td>2.43</td>\n",
       "      <td>2.839</td>\n",
       "    </tr>\n",
       "    <tr>\n",
       "      <th>3</th>\n",
       "      <td>Iceland</td>\n",
       "      <td>Western Europe</td>\n",
       "      <td>7.554</td>\n",
       "      <td>10.878</td>\n",
       "      <td>0.983</td>\n",
       "      <td>73.000</td>\n",
       "      <td>0.955</td>\n",
       "      <td>0.160</td>\n",
       "      <td>0.673</td>\n",
       "      <td>2.43</td>\n",
       "      <td>2.967</td>\n",
       "    </tr>\n",
       "    <tr>\n",
       "      <th>4</th>\n",
       "      <td>Netherlands</td>\n",
       "      <td>Western Europe</td>\n",
       "      <td>7.464</td>\n",
       "      <td>10.932</td>\n",
       "      <td>0.942</td>\n",
       "      <td>72.400</td>\n",
       "      <td>0.913</td>\n",
       "      <td>0.175</td>\n",
       "      <td>0.338</td>\n",
       "      <td>2.43</td>\n",
       "      <td>2.798</td>\n",
       "    </tr>\n",
       "    <tr>\n",
       "      <th>...</th>\n",
       "      <td>...</td>\n",
       "      <td>...</td>\n",
       "      <td>...</td>\n",
       "      <td>...</td>\n",
       "      <td>...</td>\n",
       "      <td>...</td>\n",
       "      <td>...</td>\n",
       "      <td>...</td>\n",
       "      <td>...</td>\n",
       "      <td>...</td>\n",
       "      <td>...</td>\n",
       "    </tr>\n",
       "    <tr>\n",
       "      <th>144</th>\n",
       "      <td>Lesotho</td>\n",
       "      <td>Sub-Saharan Africa</td>\n",
       "      <td>3.512</td>\n",
       "      <td>7.926</td>\n",
       "      <td>0.787</td>\n",
       "      <td>48.700</td>\n",
       "      <td>0.715</td>\n",
       "      <td>-0.131</td>\n",
       "      <td>0.915</td>\n",
       "      <td>2.43</td>\n",
       "      <td>1.800</td>\n",
       "    </tr>\n",
       "    <tr>\n",
       "      <th>145</th>\n",
       "      <td>Botswana</td>\n",
       "      <td>Sub-Saharan Africa</td>\n",
       "      <td>3.467</td>\n",
       "      <td>9.782</td>\n",
       "      <td>0.784</td>\n",
       "      <td>59.269</td>\n",
       "      <td>0.824</td>\n",
       "      <td>-0.246</td>\n",
       "      <td>0.801</td>\n",
       "      <td>2.43</td>\n",
       "      <td>0.648</td>\n",
       "    </tr>\n",
       "    <tr>\n",
       "      <th>146</th>\n",
       "      <td>Rwanda</td>\n",
       "      <td>Sub-Saharan Africa</td>\n",
       "      <td>3.415</td>\n",
       "      <td>7.676</td>\n",
       "      <td>0.552</td>\n",
       "      <td>61.400</td>\n",
       "      <td>0.897</td>\n",
       "      <td>0.061</td>\n",
       "      <td>0.167</td>\n",
       "      <td>2.43</td>\n",
       "      <td>1.095</td>\n",
       "    </tr>\n",
       "    <tr>\n",
       "      <th>147</th>\n",
       "      <td>Zimbabwe</td>\n",
       "      <td>Sub-Saharan Africa</td>\n",
       "      <td>3.145</td>\n",
       "      <td>7.943</td>\n",
       "      <td>0.750</td>\n",
       "      <td>56.201</td>\n",
       "      <td>0.677</td>\n",
       "      <td>-0.047</td>\n",
       "      <td>0.821</td>\n",
       "      <td>2.43</td>\n",
       "      <td>1.205</td>\n",
       "    </tr>\n",
       "    <tr>\n",
       "      <th>148</th>\n",
       "      <td>Afghanistan</td>\n",
       "      <td>South Asia</td>\n",
       "      <td>2.523</td>\n",
       "      <td>7.695</td>\n",
       "      <td>0.463</td>\n",
       "      <td>52.493</td>\n",
       "      <td>0.382</td>\n",
       "      <td>-0.102</td>\n",
       "      <td>0.924</td>\n",
       "      <td>2.43</td>\n",
       "      <td>1.895</td>\n",
       "    </tr>\n",
       "  </tbody>\n",
       "</table>\n",
       "<p>149 rows × 11 columns</p>\n",
       "</div>"
      ],
      "text/plain": [
       "    Country name  Regional indicator  Ladder score  Logged GDP per capita  \\\n",
       "0        Finland      Western Europe         7.842                 10.775   \n",
       "1        Denmark      Western Europe         7.620                 10.933   \n",
       "2    Switzerland      Western Europe         7.571                 11.117   \n",
       "3        Iceland      Western Europe         7.554                 10.878   \n",
       "4    Netherlands      Western Europe         7.464                 10.932   \n",
       "..           ...                 ...           ...                    ...   \n",
       "144      Lesotho  Sub-Saharan Africa         3.512                  7.926   \n",
       "145     Botswana  Sub-Saharan Africa         3.467                  9.782   \n",
       "146       Rwanda  Sub-Saharan Africa         3.415                  7.676   \n",
       "147     Zimbabwe  Sub-Saharan Africa         3.145                  7.943   \n",
       "148  Afghanistan          South Asia         2.523                  7.695   \n",
       "\n",
       "     Social support  Healthy life expectancy  Freedom to make life choices  \\\n",
       "0             0.954                   72.000                         0.949   \n",
       "1             0.954                   72.700                         0.946   \n",
       "2             0.942                   74.400                         0.919   \n",
       "3             0.983                   73.000                         0.955   \n",
       "4             0.942                   72.400                         0.913   \n",
       "..              ...                      ...                           ...   \n",
       "144           0.787                   48.700                         0.715   \n",
       "145           0.784                   59.269                         0.824   \n",
       "146           0.552                   61.400                         0.897   \n",
       "147           0.750                   56.201                         0.677   \n",
       "148           0.463                   52.493                         0.382   \n",
       "\n",
       "     Generosity  Perceptions of corruption  Ladder score in Dystopia  \\\n",
       "0        -0.098                      0.186                      2.43   \n",
       "1         0.030                      0.179                      2.43   \n",
       "2         0.025                      0.292                      2.43   \n",
       "3         0.160                      0.673                      2.43   \n",
       "4         0.175                      0.338                      2.43   \n",
       "..          ...                        ...                       ...   \n",
       "144      -0.131                      0.915                      2.43   \n",
       "145      -0.246                      0.801                      2.43   \n",
       "146       0.061                      0.167                      2.43   \n",
       "147      -0.047                      0.821                      2.43   \n",
       "148      -0.102                      0.924                      2.43   \n",
       "\n",
       "     Dystopia + residual  \n",
       "0                  3.253  \n",
       "1                  2.868  \n",
       "2                  2.839  \n",
       "3                  2.967  \n",
       "4                  2.798  \n",
       "..                   ...  \n",
       "144                1.800  \n",
       "145                0.648  \n",
       "146                1.095  \n",
       "147                1.205  \n",
       "148                1.895  \n",
       "\n",
       "[149 rows x 11 columns]"
      ]
     },
     "execution_count": 18,
     "metadata": {
     },
     "output_type": "execute_result"
    }
   ],
   "source": [
    "wh_df21"
   ]
  },
  {
   "cell_type": "code",
   "execution_count": 19,
   "metadata": {
    "collapsed": false
   },
   "outputs": [
    {
     "data": {
      "text/plain": [
       "Index(['Country name', 'year', 'Life Ladder', 'Log GDP per capita',\n",
       "       'Social support', 'Healthy life expectancy at birth',\n",
       "       'Freedom to make life choices', 'Generosity',\n",
       "       'Perceptions of corruption', 'Positive affect', 'Negative affect'],\n",
       "      dtype='object')"
      ]
     },
     "execution_count": 19,
     "metadata": {
     },
     "output_type": "execute_result"
    }
   ],
   "source": [
    "wh_df.columns #to compare with 2021 columns"
   ]
  },
  {
   "cell_type": "code",
   "execution_count": 20,
   "metadata": {
    "collapsed": false
   },
   "outputs": [
   ],
   "source": [
    "import plotly.express as px #importing plotly for any future usage"
   ]
  },
  {
   "cell_type": "code",
   "execution_count": 21,
   "metadata": {
    "collapsed": false,
    "scrolled": true
   },
   "outputs": [
    {
     "data": {
      "text/html": "<html>\n<head><meta charset=\"utf-8\" /></head>\n<body>\n    <div>            <script src=\"https://cdnjs.cloudflare.com/ajax/libs/mathjax/2.7.5/MathJax.js?config=TeX-AMS-MML_SVG\"></script><script type=\"text/javascript\">if (window.MathJax && window.MathJax.Hub && window.MathJax.Hub.Config) {window.MathJax.Hub.Config({SVG: {font: \"STIX-Web\"}});}</script>                <script type=\"text/javascript\">window.PlotlyConfig = {MathJaxConfig: 'local'};</script>\n        <script src=\"https://cdn.plot.ly/plotly-2.16.1.min.js\"></script>                <div id=\"e2ac8f9e-7a86-42cf-82db-0a989163de66\" class=\"plotly-graph-div\" style=\"height:525px; width:100%;\"></div>            <script type=\"text/javascript\">                                    window.PLOTLYENV=window.PLOTLYENV || {};                                    if (document.getElementById(\"e2ac8f9e-7a86-42cf-82db-0a989163de66\")) {                    Plotly.newPlot(                        \"e2ac8f9e-7a86-42cf-82db-0a989163de66\",                        [{\"hovertemplate\":\"Country name=Finland<br>Freedom to make life choices=%{x}<br>Perceptions of corruption=%{y}<br>Dystopia + residual=%{marker.size}<extra></extra>\",\"legendgroup\":\"Finland\",\"marker\":{\"color\":\"#636efa\",\"size\":[3.253],\"sizemode\":\"area\",\"sizeref\":0.008705000000000001,\"symbol\":\"circle\"},\"mode\":\"markers\",\"name\":\"Finland\",\"orientation\":\"v\",\"showlegend\":true,\"x\":[0.949],\"xaxis\":\"x\",\"y\":[0.186],\"yaxis\":\"y\",\"type\":\"scatter\"},{\"hovertemplate\":\"Country name=Denmark<br>Freedom to make life choices=%{x}<br>Perceptions of corruption=%{y}<br>Dystopia + residual=%{marker.size}<extra></extra>\",\"legendgroup\":\"Denmark\",\"marker\":{\"color\":\"#EF553B\",\"size\":[2.868],\"sizemode\":\"area\",\"sizeref\":0.008705000000000001,\"symbol\":\"circle\"},\"mode\":\"markers\",\"name\":\"Denmark\",\"orientation\":\"v\",\"showlegend\":true,\"x\":[0.946],\"xaxis\":\"x\",\"y\":[0.179],\"yaxis\":\"y\",\"type\":\"scatter\"},{\"hovertemplate\":\"Country name=Switzerland<br>Freedom to make life choices=%{x}<br>Perceptions of corruption=%{y}<br>Dystopia + residual=%{marker.size}<extra></extra>\",\"legendgroup\":\"Switzerland\",\"marker\":{\"color\":\"#00cc96\",\"size\":[2.839],\"sizemode\":\"area\",\"sizeref\":0.008705000000000001,\"symbol\":\"circle\"},\"mode\":\"markers\",\"name\":\"Switzerland\",\"orientation\":\"v\",\"showlegend\":true,\"x\":[0.919],\"xaxis\":\"x\",\"y\":[0.292],\"yaxis\":\"y\",\"type\":\"scatter\"},{\"hovertemplate\":\"Country name=Iceland<br>Freedom to make life choices=%{x}<br>Perceptions of corruption=%{y}<br>Dystopia + residual=%{marker.size}<extra></extra>\",\"legendgroup\":\"Iceland\",\"marker\":{\"color\":\"#ab63fa\",\"size\":[2.967],\"sizemode\":\"area\",\"sizeref\":0.008705000000000001,\"symbol\":\"circle\"},\"mode\":\"markers\",\"name\":\"Iceland\",\"orientation\":\"v\",\"showlegend\":true,\"x\":[0.955],\"xaxis\":\"x\",\"y\":[0.673],\"yaxis\":\"y\",\"type\":\"scatter\"},{\"hovertemplate\":\"Country name=Netherlands<br>Freedom to make life choices=%{x}<br>Perceptions of corruption=%{y}<br>Dystopia + residual=%{marker.size}<extra></extra>\",\"legendgroup\":\"Netherlands\",\"marker\":{\"color\":\"#FFA15A\",\"size\":[2.798],\"sizemode\":\"area\",\"sizeref\":0.008705000000000001,\"symbol\":\"circle\"},\"mode\":\"markers\",\"name\":\"Netherlands\",\"orientation\":\"v\",\"showlegend\":true,\"x\":[0.913],\"xaxis\":\"x\",\"y\":[0.338],\"yaxis\":\"y\",\"type\":\"scatter\"},{\"hovertemplate\":\"Country name=Norway<br>Freedom to make life choices=%{x}<br>Perceptions of corruption=%{y}<br>Dystopia + residual=%{marker.size}<extra></extra>\",\"legendgroup\":\"Norway\",\"marker\":{\"color\":\"#19d3f3\",\"size\":[2.58],\"sizemode\":\"area\",\"sizeref\":0.008705000000000001,\"symbol\":\"circle\"},\"mode\":\"markers\",\"name\":\"Norway\",\"orientation\":\"v\",\"showlegend\":true,\"x\":[0.96],\"xaxis\":\"x\",\"y\":[0.27],\"yaxis\":\"y\",\"type\":\"scatter\"},{\"hovertemplate\":\"Country name=Sweden<br>Freedom to make life choices=%{x}<br>Perceptions of corruption=%{y}<br>Dystopia + residual=%{marker.size}<extra></extra>\",\"legendgroup\":\"Sweden\",\"marker\":{\"color\":\"#FF6692\",\"size\":[2.683],\"sizemode\":\"area\",\"sizeref\":0.008705000000000001,\"symbol\":\"circle\"},\"mode\":\"markers\",\"name\":\"Sweden\",\"orientation\":\"v\",\"showlegend\":true,\"x\":[0.945],\"xaxis\":\"x\",\"y\":[0.237],\"yaxis\":\"y\",\"type\":\"scatter\"},{\"hovertemplate\":\"Country name=Luxembourg<br>Freedom to make life choices=%{x}<br>Perceptions of corruption=%{y}<br>Dystopia + residual=%{marker.size}<extra></extra>\",\"legendgroup\":\"Luxembourg\",\"marker\":{\"color\":\"#B6E880\",\"size\":[2.653],\"sizemode\":\"area\",\"sizeref\":0.008705000000000001,\"symbol\":\"circle\"},\"mode\":\"markers\",\"name\":\"Luxembourg\",\"orientation\":\"v\",\"showlegend\":true,\"x\":[0.907],\"xaxis\":\"x\",\"y\":[0.386],\"yaxis\":\"y\",\"type\":\"scatter\"},{\"hovertemplate\":\"Country name=New Zealand<br>Freedom to make life choices=%{x}<br>Perceptions of corruption=%{y}<br>Dystopia + residual=%{marker.size}<extra></extra>\",\"legendgroup\":\"New Zealand\",\"marker\":{\"color\":\"#FF97FF\",\"size\":[2.612],\"sizemode\":\"area\",\"sizeref\":0.008705000000000001,\"symbol\":\"circle\"},\"mode\":\"markers\",\"name\":\"New Zealand\",\"orientation\":\"v\",\"showlegend\":true,\"x\":[0.929],\"xaxis\":\"x\",\"y\":[0.242],\"yaxis\":\"y\",\"type\":\"scatter\"},{\"hovertemplate\":\"Country name=Austria<br>Freedom to make life choices=%{x}<br>Perceptions of corruption=%{y}<br>Dystopia + residual=%{marker.size}<extra></extra>\",\"legendgroup\":\"Austria\",\"marker\":{\"color\":\"#FECB52\",\"size\":[2.784],\"sizemode\":\"area\",\"sizeref\":0.008705000000000001,\"symbol\":\"circle\"},\"mode\":\"markers\",\"name\":\"Austria\",\"orientation\":\"v\",\"showlegend\":true,\"x\":[0.908],\"xaxis\":\"x\",\"y\":[0.481],\"yaxis\":\"y\",\"type\":\"scatter\"},{\"hovertemplate\":\"Country name=Australia<br>Freedom to make life choices=%{x}<br>Perceptions of corruption=%{y}<br>Dystopia + residual=%{marker.size}<extra></extra>\",\"legendgroup\":\"Australia\",\"marker\":{\"color\":\"#636efa\",\"size\":[2.598],\"sizemode\":\"area\",\"sizeref\":0.008705000000000001,\"symbol\":\"circle\"},\"mode\":\"markers\",\"name\":\"Australia\",\"orientation\":\"v\",\"showlegend\":true,\"x\":[0.914],\"xaxis\":\"x\",\"y\":[0.442],\"yaxis\":\"y\",\"type\":\"scatter\"},{\"hovertemplate\":\"Country name=Israel<br>Freedom to make life choices=%{x}<br>Perceptions of corruption=%{y}<br>Dystopia + residual=%{marker.size}<extra></extra>\",\"legendgroup\":\"Israel\",\"marker\":{\"color\":\"#EF553B\",\"size\":[3.083],\"sizemode\":\"area\",\"sizeref\":0.008705000000000001,\"symbol\":\"circle\"},\"mode\":\"markers\",\"name\":\"Israel\",\"orientation\":\"v\",\"showlegend\":true,\"x\":[0.8],\"xaxis\":\"x\",\"y\":[0.753],\"yaxis\":\"y\",\"type\":\"scatter\"},{\"hovertemplate\":\"Country name=Germany<br>Freedom to make life choices=%{x}<br>Perceptions of corruption=%{y}<br>Dystopia + residual=%{marker.size}<extra></extra>\",\"legendgroup\":\"Germany\",\"marker\":{\"color\":\"#00cc96\",\"size\":[2.824],\"sizemode\":\"area\",\"sizeref\":0.008705000000000001,\"symbol\":\"circle\"},\"mode\":\"markers\",\"name\":\"Germany\",\"orientation\":\"v\",\"showlegend\":true,\"x\":[0.875],\"xaxis\":\"x\",\"y\":[0.46],\"yaxis\":\"y\",\"type\":\"scatter\"},{\"hovertemplate\":\"Country name=Canada<br>Freedom to make life choices=%{x}<br>Perceptions of corruption=%{y}<br>Dystopia + residual=%{marker.size}<extra></extra>\",\"legendgroup\":\"Canada\",\"marker\":{\"color\":\"#ab63fa\",\"size\":[2.585],\"sizemode\":\"area\",\"sizeref\":0.008705000000000001,\"symbol\":\"circle\"},\"mode\":\"markers\",\"name\":\"Canada\",\"orientation\":\"v\",\"showlegend\":true,\"x\":[0.915],\"xaxis\":\"x\",\"y\":[0.415],\"yaxis\":\"y\",\"type\":\"scatter\"},{\"hovertemplate\":\"Country name=Ireland<br>Freedom to make life choices=%{x}<br>Perceptions of corruption=%{y}<br>Dystopia + residual=%{marker.size}<extra></extra>\",\"legendgroup\":\"Ireland\",\"marker\":{\"color\":\"#FFA15A\",\"size\":[2.384],\"sizemode\":\"area\",\"sizeref\":0.008705000000000001,\"symbol\":\"circle\"},\"mode\":\"markers\",\"name\":\"Ireland\",\"orientation\":\"v\",\"showlegend\":true,\"x\":[0.879],\"xaxis\":\"x\",\"y\":[0.363],\"yaxis\":\"y\",\"type\":\"scatter\"},{\"hovertemplate\":\"Country name=Costa Rica<br>Freedom to make life choices=%{x}<br>Perceptions of corruption=%{y}<br>Dystopia + residual=%{marker.size}<extra></extra>\",\"legendgroup\":\"Costa Rica\",\"marker\":{\"color\":\"#19d3f3\",\"size\":[3.387],\"sizemode\":\"area\",\"sizeref\":0.008705000000000001,\"symbol\":\"circle\"},\"mode\":\"markers\",\"name\":\"Costa Rica\",\"orientation\":\"v\",\"showlegend\":true,\"x\":[0.934],\"xaxis\":\"x\",\"y\":[0.809],\"yaxis\":\"y\",\"type\":\"scatter\"},{\"hovertemplate\":\"Country name=United Kingdom<br>Freedom to make life choices=%{x}<br>Perceptions of corruption=%{y}<br>Dystopia + residual=%{marker.size}<extra></extra>\",\"legendgroup\":\"United Kingdom\",\"marker\":{\"color\":\"#FF6692\",\"size\":[2.596],\"sizemode\":\"area\",\"sizeref\":0.008705000000000001,\"symbol\":\"circle\"},\"mode\":\"markers\",\"name\":\"United Kingdom\",\"orientation\":\"v\",\"showlegend\":true,\"x\":[0.859],\"xaxis\":\"x\",\"y\":[0.459],\"yaxis\":\"y\",\"type\":\"scatter\"},{\"hovertemplate\":\"Country name=Czech Republic<br>Freedom to make life choices=%{x}<br>Perceptions of corruption=%{y}<br>Dystopia + residual=%{marker.size}<extra></extra>\",\"legendgroup\":\"Czech Republic\",\"marker\":{\"color\":\"#B6E880\",\"size\":[3.124],\"sizemode\":\"area\",\"sizeref\":0.008705000000000001,\"symbol\":\"circle\"},\"mode\":\"markers\",\"name\":\"Czech Republic\",\"orientation\":\"v\",\"showlegend\":true,\"x\":[0.858],\"xaxis\":\"x\",\"y\":[0.868],\"yaxis\":\"y\",\"type\":\"scatter\"},{\"hovertemplate\":\"Country name=United States<br>Freedom to make life choices=%{x}<br>Perceptions of corruption=%{y}<br>Dystopia + residual=%{marker.size}<extra></extra>\",\"legendgroup\":\"United States\",\"marker\":{\"color\":\"#FF97FF\",\"size\":[2.807],\"sizemode\":\"area\",\"sizeref\":0.008705000000000001,\"symbol\":\"circle\"},\"mode\":\"markers\",\"name\":\"United States\",\"orientation\":\"v\",\"showlegend\":true,\"x\":[0.837],\"xaxis\":\"x\",\"y\":[0.698],\"yaxis\":\"y\",\"type\":\"scatter\"},{\"hovertemplate\":\"Country name=Belgium<br>Freedom to make life choices=%{x}<br>Perceptions of corruption=%{y}<br>Dystopia + residual=%{marker.size}<extra></extra>\",\"legendgroup\":\"Belgium\",\"marker\":{\"color\":\"#FECB52\",\"size\":[2.862],\"sizemode\":\"area\",\"sizeref\":0.008705000000000001,\"symbol\":\"circle\"},\"mode\":\"markers\",\"name\":\"Belgium\",\"orientation\":\"v\",\"showlegend\":true,\"x\":[0.783],\"xaxis\":\"x\",\"y\":[0.646],\"yaxis\":\"y\",\"type\":\"scatter\"},{\"hovertemplate\":\"Country name=France<br>Freedom to make life choices=%{x}<br>Perceptions of corruption=%{y}<br>Dystopia + residual=%{marker.size}<extra></extra>\",\"legendgroup\":\"France\",\"marker\":{\"color\":\"#636efa\",\"size\":[2.521],\"sizemode\":\"area\",\"sizeref\":0.008705000000000001,\"symbol\":\"circle\"},\"mode\":\"markers\",\"name\":\"France\",\"orientation\":\"v\",\"showlegend\":true,\"x\":[0.822],\"xaxis\":\"x\",\"y\":[0.571],\"yaxis\":\"y\",\"type\":\"scatter\"},{\"hovertemplate\":\"Country name=Bahrain<br>Freedom to make life choices=%{x}<br>Perceptions of corruption=%{y}<br>Dystopia + residual=%{marker.size}<extra></extra>\",\"legendgroup\":\"Bahrain\",\"marker\":{\"color\":\"#EF553B\",\"size\":[2.631],\"sizemode\":\"area\",\"sizeref\":0.008705000000000001,\"symbol\":\"circle\"},\"mode\":\"markers\",\"name\":\"Bahrain\",\"orientation\":\"v\",\"showlegend\":true,\"x\":[0.925],\"xaxis\":\"x\",\"y\":[0.722],\"yaxis\":\"y\",\"type\":\"scatter\"},{\"hovertemplate\":\"Country name=Malta<br>Freedom to make life choices=%{x}<br>Perceptions of corruption=%{y}<br>Dystopia + residual=%{marker.size}<extra></extra>\",\"legendgroup\":\"Malta\",\"marker\":{\"color\":\"#00cc96\",\"size\":[2.268],\"sizemode\":\"area\",\"sizeref\":0.008705000000000001,\"symbol\":\"circle\"},\"mode\":\"markers\",\"name\":\"Malta\",\"orientation\":\"v\",\"showlegend\":true,\"x\":[0.927],\"xaxis\":\"x\",\"y\":[0.653],\"yaxis\":\"y\",\"type\":\"scatter\"},{\"hovertemplate\":\"Country name=Taiwan Province of China<br>Freedom to make life choices=%{x}<br>Perceptions of corruption=%{y}<br>Dystopia + residual=%{marker.size}<extra></extra>\",\"legendgroup\":\"Taiwan Province of China\",\"marker\":{\"color\":\"#ab63fa\",\"size\":[2.687],\"sizemode\":\"area\",\"sizeref\":0.008705000000000001,\"symbol\":\"circle\"},\"mode\":\"markers\",\"name\":\"Taiwan Province of China\",\"orientation\":\"v\",\"showlegend\":true,\"x\":[0.784],\"xaxis\":\"x\",\"y\":[0.721],\"yaxis\":\"y\",\"type\":\"scatter\"},{\"hovertemplate\":\"Country name=United Arab Emirates<br>Freedom to make life choices=%{x}<br>Perceptions of corruption=%{y}<br>Dystopia + residual=%{marker.size}<extra></extra>\",\"legendgroup\":\"United Arab Emirates\",\"marker\":{\"color\":\"#FFA15A\",\"size\":[2.422],\"sizemode\":\"area\",\"sizeref\":0.008705000000000001,\"symbol\":\"circle\"},\"mode\":\"markers\",\"name\":\"United Arab Emirates\",\"orientation\":\"v\",\"showlegend\":true,\"x\":[0.932],\"xaxis\":\"x\",\"y\":[0.589],\"yaxis\":\"y\",\"type\":\"scatter\"},{\"hovertemplate\":\"Country name=Saudi Arabia<br>Freedom to make life choices=%{x}<br>Perceptions of corruption=%{y}<br>Dystopia + residual=%{marker.size}<extra></extra>\",\"legendgroup\":\"Saudi Arabia\",\"marker\":{\"color\":\"#19d3f3\",\"size\":[2.668],\"sizemode\":\"area\",\"sizeref\":0.008705000000000001,\"symbol\":\"circle\"},\"mode\":\"markers\",\"name\":\"Saudi Arabia\",\"orientation\":\"v\",\"showlegend\":true,\"x\":[0.877],\"xaxis\":\"x\",\"y\":[0.684],\"yaxis\":\"y\",\"type\":\"scatter\"},{\"hovertemplate\":\"Country name=Spain<br>Freedom to make life choices=%{x}<br>Perceptions of corruption=%{y}<br>Dystopia + residual=%{marker.size}<extra></extra>\",\"legendgroup\":\"Spain\",\"marker\":{\"color\":\"#FF6692\",\"size\":[2.513],\"sizemode\":\"area\",\"sizeref\":0.008705000000000001,\"symbol\":\"circle\"},\"mode\":\"markers\",\"name\":\"Spain\",\"orientation\":\"v\",\"showlegend\":true,\"x\":[0.761],\"xaxis\":\"x\",\"y\":[0.745],\"yaxis\":\"y\",\"type\":\"scatter\"},{\"hovertemplate\":\"Country name=Italy<br>Freedom to make life choices=%{x}<br>Perceptions of corruption=%{y}<br>Dystopia + residual=%{marker.size}<extra></extra>\",\"legendgroup\":\"Italy\",\"marker\":{\"color\":\"#B6E880\",\"size\":[2.794],\"sizemode\":\"area\",\"sizeref\":0.008705000000000001,\"symbol\":\"circle\"},\"mode\":\"markers\",\"name\":\"Italy\",\"orientation\":\"v\",\"showlegend\":true,\"x\":[0.693],\"xaxis\":\"x\",\"y\":[0.866],\"yaxis\":\"y\",\"type\":\"scatter\"},{\"hovertemplate\":\"Country name=Slovenia<br>Freedom to make life choices=%{x}<br>Perceptions of corruption=%{y}<br>Dystopia + residual=%{marker.size}<extra></extra>\",\"legendgroup\":\"Slovenia\",\"marker\":{\"color\":\"#FF97FF\",\"size\":[2.388],\"sizemode\":\"area\",\"sizeref\":0.008705000000000001,\"symbol\":\"circle\"},\"mode\":\"markers\",\"name\":\"Slovenia\",\"orientation\":\"v\",\"showlegend\":true,\"x\":[0.949],\"xaxis\":\"x\",\"y\":[0.806],\"yaxis\":\"y\",\"type\":\"scatter\"},{\"hovertemplate\":\"Country name=Guatemala<br>Freedom to make life choices=%{x}<br>Perceptions of corruption=%{y}<br>Dystopia + residual=%{marker.size}<extra></extra>\",\"legendgroup\":\"Guatemala\",\"marker\":{\"color\":\"#FECB52\",\"size\":[3.375],\"sizemode\":\"area\",\"sizeref\":0.008705000000000001,\"symbol\":\"circle\"},\"mode\":\"markers\",\"name\":\"Guatemala\",\"orientation\":\"v\",\"showlegend\":true,\"x\":[0.906],\"xaxis\":\"x\",\"y\":[0.775],\"yaxis\":\"y\",\"type\":\"scatter\"},{\"hovertemplate\":\"Country name=Uruguay<br>Freedom to make life choices=%{x}<br>Perceptions of corruption=%{y}<br>Dystopia + residual=%{marker.size}<extra></extra>\",\"legendgroup\":\"Uruguay\",\"marker\":{\"color\":\"#636efa\",\"size\":[2.6],\"sizemode\":\"area\",\"sizeref\":0.008705000000000001,\"symbol\":\"circle\"},\"mode\":\"markers\",\"name\":\"Uruguay\",\"orientation\":\"v\",\"showlegend\":true,\"x\":[0.896],\"xaxis\":\"x\",\"y\":[0.59],\"yaxis\":\"y\",\"type\":\"scatter\"},{\"hovertemplate\":\"Country name=Singapore<br>Freedom to make life choices=%{x}<br>Perceptions of corruption=%{y}<br>Dystopia + residual=%{marker.size}<extra></extra>\",\"legendgroup\":\"Singapore\",\"marker\":{\"color\":\"#EF553B\",\"size\":[1.379],\"sizemode\":\"area\",\"sizeref\":0.008705000000000001,\"symbol\":\"circle\"},\"mode\":\"markers\",\"name\":\"Singapore\",\"orientation\":\"v\",\"showlegend\":true,\"x\":[0.927],\"xaxis\":\"x\",\"y\":[0.082],\"yaxis\":\"y\",\"type\":\"scatter\"},{\"hovertemplate\":\"Country name=Kosovo<br>Freedom to make life choices=%{x}<br>Perceptions of corruption=%{y}<br>Dystopia + residual=%{marker.size}<extra></extra>\",\"legendgroup\":\"Kosovo\",\"marker\":{\"color\":\"#00cc96\",\"size\":[3.182],\"sizemode\":\"area\",\"sizeref\":0.008705000000000001,\"symbol\":\"circle\"},\"mode\":\"markers\",\"name\":\"Kosovo\",\"orientation\":\"v\",\"showlegend\":true,\"x\":[0.869],\"xaxis\":\"x\",\"y\":[0.917],\"yaxis\":\"y\",\"type\":\"scatter\"},{\"hovertemplate\":\"Country name=Slovakia<br>Freedom to make life choices=%{x}<br>Perceptions of corruption=%{y}<br>Dystopia + residual=%{marker.size}<extra></extra>\",\"legendgroup\":\"Slovakia\",\"marker\":{\"color\":\"#ab63fa\",\"size\":[2.714],\"sizemode\":\"area\",\"sizeref\":0.008705000000000001,\"symbol\":\"circle\"},\"mode\":\"markers\",\"name\":\"Slovakia\",\"orientation\":\"v\",\"showlegend\":true,\"x\":[0.766],\"xaxis\":\"x\",\"y\":[0.911],\"yaxis\":\"y\",\"type\":\"scatter\"},{\"hovertemplate\":\"Country name=Brazil<br>Freedom to make life choices=%{x}<br>Perceptions of corruption=%{y}<br>Dystopia + residual=%{marker.size}<extra></extra>\",\"legendgroup\":\"Brazil\",\"marker\":{\"color\":\"#FFA15A\",\"size\":[3.015],\"sizemode\":\"area\",\"sizeref\":0.008705000000000001,\"symbol\":\"circle\"},\"mode\":\"markers\",\"name\":\"Brazil\",\"orientation\":\"v\",\"showlegend\":true,\"x\":[0.804],\"xaxis\":\"x\",\"y\":[0.756],\"yaxis\":\"y\",\"type\":\"scatter\"},{\"hovertemplate\":\"Country name=Mexico<br>Freedom to make life choices=%{x}<br>Perceptions of corruption=%{y}<br>Dystopia + residual=%{marker.size}<extra></extra>\",\"legendgroup\":\"Mexico\",\"marker\":{\"color\":\"#19d3f3\",\"size\":[2.961],\"sizemode\":\"area\",\"sizeref\":0.008705000000000001,\"symbol\":\"circle\"},\"mode\":\"markers\",\"name\":\"Mexico\",\"orientation\":\"v\",\"showlegend\":true,\"x\":[0.862],\"xaxis\":\"x\",\"y\":[0.799],\"yaxis\":\"y\",\"type\":\"scatter\"},{\"hovertemplate\":\"Country name=Jamaica<br>Freedom to make life choices=%{x}<br>Perceptions of corruption=%{y}<br>Dystopia + residual=%{marker.size}<extra></extra>\",\"legendgroup\":\"Jamaica\",\"marker\":{\"color\":\"#FF6692\",\"size\":[3.135],\"sizemode\":\"area\",\"sizeref\":0.008705000000000001,\"symbol\":\"circle\"},\"mode\":\"markers\",\"name\":\"Jamaica\",\"orientation\":\"v\",\"showlegend\":true,\"x\":[0.89],\"xaxis\":\"x\",\"y\":[0.884],\"yaxis\":\"y\",\"type\":\"scatter\"},{\"hovertemplate\":\"Country name=Lithuania<br>Freedom to make life choices=%{x}<br>Perceptions of corruption=%{y}<br>Dystopia + residual=%{marker.size}<extra></extra>\",\"legendgroup\":\"Lithuania\",\"marker\":{\"color\":\"#B6E880\",\"size\":[2.624],\"sizemode\":\"area\",\"sizeref\":0.008705000000000001,\"symbol\":\"circle\"},\"mode\":\"markers\",\"name\":\"Lithuania\",\"orientation\":\"v\",\"showlegend\":true,\"x\":[0.773],\"xaxis\":\"x\",\"y\":[0.826],\"yaxis\":\"y\",\"type\":\"scatter\"},{\"hovertemplate\":\"Country name=Cyprus<br>Freedom to make life choices=%{x}<br>Perceptions of corruption=%{y}<br>Dystopia + residual=%{marker.size}<extra></extra>\",\"legendgroup\":\"Cyprus\",\"marker\":{\"color\":\"#FF97FF\",\"size\":[2.578],\"sizemode\":\"area\",\"sizeref\":0.008705000000000001,\"symbol\":\"circle\"},\"mode\":\"markers\",\"name\":\"Cyprus\",\"orientation\":\"v\",\"showlegend\":true,\"x\":[0.763],\"xaxis\":\"x\",\"y\":[0.844],\"yaxis\":\"y\",\"type\":\"scatter\"},{\"hovertemplate\":\"Country name=Estonia<br>Freedom to make life choices=%{x}<br>Perceptions of corruption=%{y}<br>Dystopia + residual=%{marker.size}<extra></extra>\",\"legendgroup\":\"Estonia\",\"marker\":{\"color\":\"#FECB52\",\"size\":[2.103],\"sizemode\":\"area\",\"sizeref\":0.008705000000000001,\"symbol\":\"circle\"},\"mode\":\"markers\",\"name\":\"Estonia\",\"orientation\":\"v\",\"showlegend\":true,\"x\":[0.909],\"xaxis\":\"x\",\"y\":[0.527],\"yaxis\":\"y\",\"type\":\"scatter\"},{\"hovertemplate\":\"Country name=Panama<br>Freedom to make life choices=%{x}<br>Perceptions of corruption=%{y}<br>Dystopia + residual=%{marker.size}<extra></extra>\",\"legendgroup\":\"Panama\",\"marker\":{\"color\":\"#636efa\",\"size\":[2.509],\"sizemode\":\"area\",\"sizeref\":0.008705000000000001,\"symbol\":\"circle\"},\"mode\":\"markers\",\"name\":\"Panama\",\"orientation\":\"v\",\"showlegend\":true,\"x\":[0.872],\"xaxis\":\"x\",\"y\":[0.856],\"yaxis\":\"y\",\"type\":\"scatter\"},{\"hovertemplate\":\"Country name=Uzbekistan<br>Freedom to make life choices=%{x}<br>Perceptions of corruption=%{y}<br>Dystopia + residual=%{marker.size}<extra></extra>\",\"legendgroup\":\"Uzbekistan\",\"marker\":{\"color\":\"#EF553B\",\"size\":[2.477],\"sizemode\":\"area\",\"sizeref\":0.008705000000000001,\"symbol\":\"circle\"},\"mode\":\"markers\",\"name\":\"Uzbekistan\",\"orientation\":\"v\",\"showlegend\":true,\"x\":[0.97],\"xaxis\":\"x\",\"y\":[0.515],\"yaxis\":\"y\",\"type\":\"scatter\"},{\"hovertemplate\":\"Country name=Chile<br>Freedom to make life choices=%{x}<br>Perceptions of corruption=%{y}<br>Dystopia + residual=%{marker.size}<extra></extra>\",\"legendgroup\":\"Chile\",\"marker\":{\"color\":\"#00cc96\",\"size\":[2.682],\"sizemode\":\"area\",\"sizeref\":0.008705000000000001,\"symbol\":\"circle\"},\"mode\":\"markers\",\"name\":\"Chile\",\"orientation\":\"v\",\"showlegend\":true,\"x\":[0.742],\"xaxis\":\"x\",\"y\":[0.83],\"yaxis\":\"y\",\"type\":\"scatter\"},{\"hovertemplate\":\"Country name=Poland<br>Freedom to make life choices=%{x}<br>Perceptions of corruption=%{y}<br>Dystopia + residual=%{marker.size}<extra></extra>\",\"legendgroup\":\"Poland\",\"marker\":{\"color\":\"#ab63fa\",\"size\":[2.438],\"sizemode\":\"area\",\"sizeref\":0.008705000000000001,\"symbol\":\"circle\"},\"mode\":\"markers\",\"name\":\"Poland\",\"orientation\":\"v\",\"showlegend\":true,\"x\":[0.841],\"xaxis\":\"x\",\"y\":[0.735],\"yaxis\":\"y\",\"type\":\"scatter\"},{\"hovertemplate\":\"Country name=Kazakhstan<br>Freedom to make life choices=%{x}<br>Perceptions of corruption=%{y}<br>Dystopia + residual=%{marker.size}<extra></extra>\",\"legendgroup\":\"Kazakhstan\",\"marker\":{\"color\":\"#FFA15A\",\"size\":[2.446],\"sizemode\":\"area\",\"sizeref\":0.008705000000000001,\"symbol\":\"circle\"},\"mode\":\"markers\",\"name\":\"Kazakhstan\",\"orientation\":\"v\",\"showlegend\":true,\"x\":[0.853],\"xaxis\":\"x\",\"y\":[0.733],\"yaxis\":\"y\",\"type\":\"scatter\"},{\"hovertemplate\":\"Country name=Romania<br>Freedom to make life choices=%{x}<br>Perceptions of corruption=%{y}<br>Dystopia + residual=%{marker.size}<extra></extra>\",\"legendgroup\":\"Romania\",\"marker\":{\"color\":\"#19d3f3\",\"size\":[2.83],\"sizemode\":\"area\",\"sizeref\":0.008705000000000001,\"symbol\":\"circle\"},\"mode\":\"markers\",\"name\":\"Romania\",\"orientation\":\"v\",\"showlegend\":true,\"x\":[0.845],\"xaxis\":\"x\",\"y\":[0.938],\"yaxis\":\"y\",\"type\":\"scatter\"},{\"hovertemplate\":\"Country name=Kuwait<br>Freedom to make life choices=%{x}<br>Perceptions of corruption=%{y}<br>Dystopia + residual=%{marker.size}<extra></extra>\",\"legendgroup\":\"Kuwait\",\"marker\":{\"color\":\"#FF6692\",\"size\":[2.368],\"sizemode\":\"area\",\"sizeref\":0.008705000000000001,\"symbol\":\"circle\"},\"mode\":\"markers\",\"name\":\"Kuwait\",\"orientation\":\"v\",\"showlegend\":true,\"x\":[0.867],\"xaxis\":\"x\",\"y\":[0.736],\"yaxis\":\"y\",\"type\":\"scatter\"},{\"hovertemplate\":\"Country name=Serbia<br>Freedom to make life choices=%{x}<br>Perceptions of corruption=%{y}<br>Dystopia + residual=%{marker.size}<extra></extra>\",\"legendgroup\":\"Serbia\",\"marker\":{\"color\":\"#B6E880\",\"size\":[2.682],\"sizemode\":\"area\",\"sizeref\":0.008705000000000001,\"symbol\":\"circle\"},\"mode\":\"markers\",\"name\":\"Serbia\",\"orientation\":\"v\",\"showlegend\":true,\"x\":[0.778],\"xaxis\":\"x\",\"y\":[0.835],\"yaxis\":\"y\",\"type\":\"scatter\"},{\"hovertemplate\":\"Country name=El Salvador<br>Freedom to make life choices=%{x}<br>Perceptions of corruption=%{y}<br>Dystopia + residual=%{marker.size}<extra></extra>\",\"legendgroup\":\"El Salvador\",\"marker\":{\"color\":\"#FF97FF\",\"size\":[3.085],\"sizemode\":\"area\",\"sizeref\":0.008705000000000001,\"symbol\":\"circle\"},\"mode\":\"markers\",\"name\":\"El Salvador\",\"orientation\":\"v\",\"showlegend\":true,\"x\":[0.888],\"xaxis\":\"x\",\"y\":[0.688],\"yaxis\":\"y\",\"type\":\"scatter\"},{\"hovertemplate\":\"Country name=Mauritius<br>Freedom to make life choices=%{x}<br>Perceptions of corruption=%{y}<br>Dystopia + residual=%{marker.size}<extra></extra>\",\"legendgroup\":\"Mauritius\",\"marker\":{\"color\":\"#FECB52\",\"size\":[2.462],\"sizemode\":\"area\",\"sizeref\":0.008705000000000001,\"symbol\":\"circle\"},\"mode\":\"markers\",\"name\":\"Mauritius\",\"orientation\":\"v\",\"showlegend\":true,\"x\":[0.867],\"xaxis\":\"x\",\"y\":[0.789],\"yaxis\":\"y\",\"type\":\"scatter\"},{\"hovertemplate\":\"Country name=Latvia<br>Freedom to make life choices=%{x}<br>Perceptions of corruption=%{y}<br>Dystopia + residual=%{marker.size}<extra></extra>\",\"legendgroup\":\"Latvia\",\"marker\":{\"color\":\"#636efa\",\"size\":[2.536],\"sizemode\":\"area\",\"sizeref\":0.008705000000000001,\"symbol\":\"circle\"},\"mode\":\"markers\",\"name\":\"Latvia\",\"orientation\":\"v\",\"showlegend\":true,\"x\":[0.715],\"xaxis\":\"x\",\"y\":[0.8],\"yaxis\":\"y\",\"type\":\"scatter\"},{\"hovertemplate\":\"Country name=Colombia<br>Freedom to make life choices=%{x}<br>Perceptions of corruption=%{y}<br>Dystopia + residual=%{marker.size}<extra></extra>\",\"legendgroup\":\"Colombia\",\"marker\":{\"color\":\"#EF553B\",\"size\":[2.794],\"sizemode\":\"area\",\"sizeref\":0.008705000000000001,\"symbol\":\"circle\"},\"mode\":\"markers\",\"name\":\"Colombia\",\"orientation\":\"v\",\"showlegend\":true,\"x\":[0.837],\"xaxis\":\"x\",\"y\":[0.841],\"yaxis\":\"y\",\"type\":\"scatter\"},{\"hovertemplate\":\"Country name=Hungary<br>Freedom to make life choices=%{x}<br>Perceptions of corruption=%{y}<br>Dystopia + residual=%{marker.size}<extra></extra>\",\"legendgroup\":\"Hungary\",\"marker\":{\"color\":\"#00cc96\",\"size\":[2.432],\"sizemode\":\"area\",\"sizeref\":0.008705000000000001,\"symbol\":\"circle\"},\"mode\":\"markers\",\"name\":\"Hungary\",\"orientation\":\"v\",\"showlegend\":true,\"x\":[0.755],\"xaxis\":\"x\",\"y\":[0.876],\"yaxis\":\"y\",\"type\":\"scatter\"},{\"hovertemplate\":\"Country name=Thailand<br>Freedom to make life choices=%{x}<br>Perceptions of corruption=%{y}<br>Dystopia + residual=%{marker.size}<extra></extra>\",\"legendgroup\":\"Thailand\",\"marker\":{\"color\":\"#ab63fa\",\"size\":[2.309],\"sizemode\":\"area\",\"sizeref\":0.008705000000000001,\"symbol\":\"circle\"},\"mode\":\"markers\",\"name\":\"Thailand\",\"orientation\":\"v\",\"showlegend\":true,\"x\":[0.884],\"xaxis\":\"x\",\"y\":[0.895],\"yaxis\":\"y\",\"type\":\"scatter\"},{\"hovertemplate\":\"Country name=Nicaragua<br>Freedom to make life choices=%{x}<br>Perceptions of corruption=%{y}<br>Dystopia + residual=%{marker.size}<extra></extra>\",\"legendgroup\":\"Nicaragua\",\"marker\":{\"color\":\"#FFA15A\",\"size\":[2.841],\"sizemode\":\"area\",\"sizeref\":0.008705000000000001,\"symbol\":\"circle\"},\"mode\":\"markers\",\"name\":\"Nicaragua\",\"orientation\":\"v\",\"showlegend\":true,\"x\":[0.836],\"xaxis\":\"x\",\"y\":[0.664],\"yaxis\":\"y\",\"type\":\"scatter\"},{\"hovertemplate\":\"Country name=Japan<br>Freedom to make life choices=%{x}<br>Perceptions of corruption=%{y}<br>Dystopia + residual=%{marker.size}<extra></extra>\",\"legendgroup\":\"Japan\",\"marker\":{\"color\":\"#19d3f3\",\"size\":[2.048],\"sizemode\":\"area\",\"sizeref\":0.008705000000000001,\"symbol\":\"circle\"},\"mode\":\"markers\",\"name\":\"Japan\",\"orientation\":\"v\",\"showlegend\":true,\"x\":[0.796],\"xaxis\":\"x\",\"y\":[0.638],\"yaxis\":\"y\",\"type\":\"scatter\"},{\"hovertemplate\":\"Country name=Argentina<br>Freedom to make life choices=%{x}<br>Perceptions of corruption=%{y}<br>Dystopia + residual=%{marker.size}<extra></extra>\",\"legendgroup\":\"Argentina\",\"marker\":{\"color\":\"#FF6692\",\"size\":[2.461],\"sizemode\":\"area\",\"sizeref\":0.008705000000000001,\"symbol\":\"circle\"},\"mode\":\"markers\",\"name\":\"Argentina\",\"orientation\":\"v\",\"showlegend\":true,\"x\":[0.828],\"xaxis\":\"x\",\"y\":[0.834],\"yaxis\":\"y\",\"type\":\"scatter\"},{\"hovertemplate\":\"Country name=Portugal<br>Freedom to make life choices=%{x}<br>Perceptions of corruption=%{y}<br>Dystopia + residual=%{marker.size}<extra></extra>\",\"legendgroup\":\"Portugal\",\"marker\":{\"color\":\"#B6E880\",\"size\":[2.225],\"sizemode\":\"area\",\"sizeref\":0.008705000000000001,\"symbol\":\"circle\"},\"mode\":\"markers\",\"name\":\"Portugal\",\"orientation\":\"v\",\"showlegend\":true,\"x\":[0.892],\"xaxis\":\"x\",\"y\":[0.887],\"yaxis\":\"y\",\"type\":\"scatter\"},{\"hovertemplate\":\"Country name=Honduras<br>Freedom to make life choices=%{x}<br>Perceptions of corruption=%{y}<br>Dystopia + residual=%{marker.size}<extra></extra>\",\"legendgroup\":\"Honduras\",\"marker\":{\"color\":\"#FF97FF\",\"size\":[2.934],\"sizemode\":\"area\",\"sizeref\":0.008705000000000001,\"symbol\":\"circle\"},\"mode\":\"markers\",\"name\":\"Honduras\",\"orientation\":\"v\",\"showlegend\":true,\"x\":[0.857],\"xaxis\":\"x\",\"y\":[0.809],\"yaxis\":\"y\",\"type\":\"scatter\"},{\"hovertemplate\":\"Country name=Croatia<br>Freedom to make life choices=%{x}<br>Perceptions of corruption=%{y}<br>Dystopia + residual=%{marker.size}<extra></extra>\",\"legendgroup\":\"Croatia\",\"marker\":{\"color\":\"#FECB52\",\"size\":[2.325],\"sizemode\":\"area\",\"sizeref\":0.008705000000000001,\"symbol\":\"circle\"},\"mode\":\"markers\",\"name\":\"Croatia\",\"orientation\":\"v\",\"showlegend\":true,\"x\":[0.754],\"xaxis\":\"x\",\"y\":[0.939],\"yaxis\":\"y\",\"type\":\"scatter\"},{\"hovertemplate\":\"Country name=Philippines<br>Freedom to make life choices=%{x}<br>Perceptions of corruption=%{y}<br>Dystopia + residual=%{marker.size}<extra></extra>\",\"legendgroup\":\"Philippines\",\"marker\":{\"color\":\"#636efa\",\"size\":[2.872],\"sizemode\":\"area\",\"sizeref\":0.008705000000000001,\"symbol\":\"circle\"},\"mode\":\"markers\",\"name\":\"Philippines\",\"orientation\":\"v\",\"showlegend\":true,\"x\":[0.917],\"xaxis\":\"x\",\"y\":[0.742],\"yaxis\":\"y\",\"type\":\"scatter\"},{\"hovertemplate\":\"Country name=South Korea<br>Freedom to make life choices=%{x}<br>Perceptions of corruption=%{y}<br>Dystopia + residual=%{marker.size}<extra></extra>\",\"legendgroup\":\"South Korea\",\"marker\":{\"color\":\"#EF553B\",\"size\":[2.262],\"sizemode\":\"area\",\"sizeref\":0.008705000000000001,\"symbol\":\"circle\"},\"mode\":\"markers\",\"name\":\"South Korea\",\"orientation\":\"v\",\"showlegend\":true,\"x\":[0.672],\"xaxis\":\"x\",\"y\":[0.727],\"yaxis\":\"y\",\"type\":\"scatter\"},{\"hovertemplate\":\"Country name=Peru<br>Freedom to make life choices=%{x}<br>Perceptions of corruption=%{y}<br>Dystopia + residual=%{marker.size}<extra></extra>\",\"legendgroup\":\"Peru\",\"marker\":{\"color\":\"#00cc96\",\"size\":[2.744],\"sizemode\":\"area\",\"sizeref\":0.008705000000000001,\"symbol\":\"circle\"},\"mode\":\"markers\",\"name\":\"Peru\",\"orientation\":\"v\",\"showlegend\":true,\"x\":[0.822],\"xaxis\":\"x\",\"y\":[0.891],\"yaxis\":\"y\",\"type\":\"scatter\"},{\"hovertemplate\":\"Country name=Bosnia and Herzegovina<br>Freedom to make life choices=%{x}<br>Perceptions of corruption=%{y}<br>Dystopia + residual=%{marker.size}<extra></extra>\",\"legendgroup\":\"Bosnia and Herzegovina\",\"marker\":{\"color\":\"#ab63fa\",\"size\":[2.583],\"sizemode\":\"area\",\"sizeref\":0.008705000000000001,\"symbol\":\"circle\"},\"mode\":\"markers\",\"name\":\"Bosnia and Herzegovina\",\"orientation\":\"v\",\"showlegend\":true,\"x\":[0.706],\"xaxis\":\"x\",\"y\":[0.931],\"yaxis\":\"y\",\"type\":\"scatter\"},{\"hovertemplate\":\"Country name=Moldova<br>Freedom to make life choices=%{x}<br>Perceptions of corruption=%{y}<br>Dystopia + residual=%{marker.size}<extra></extra>\",\"legendgroup\":\"Moldova\",\"marker\":{\"color\":\"#FFA15A\",\"size\":[2.665],\"sizemode\":\"area\",\"sizeref\":0.008705000000000001,\"symbol\":\"circle\"},\"mode\":\"markers\",\"name\":\"Moldova\",\"orientation\":\"v\",\"showlegend\":true,\"x\":[0.822],\"xaxis\":\"x\",\"y\":[0.918],\"yaxis\":\"y\",\"type\":\"scatter\"},{\"hovertemplate\":\"Country name=Ecuador<br>Freedom to make life choices=%{x}<br>Perceptions of corruption=%{y}<br>Dystopia + residual=%{marker.size}<extra></extra>\",\"legendgroup\":\"Ecuador\",\"marker\":{\"color\":\"#19d3f3\",\"size\":[2.653],\"sizemode\":\"area\",\"sizeref\":0.008705000000000001,\"symbol\":\"circle\"},\"mode\":\"markers\",\"name\":\"Ecuador\",\"orientation\":\"v\",\"showlegend\":true,\"x\":[0.842],\"xaxis\":\"x\",\"y\":[0.843],\"yaxis\":\"y\",\"type\":\"scatter\"},{\"hovertemplate\":\"Country name=Kyrgyzstan<br>Freedom to make life choices=%{x}<br>Perceptions of corruption=%{y}<br>Dystopia + residual=%{marker.size}<extra></extra>\",\"legendgroup\":\"Kyrgyzstan\",\"marker\":{\"color\":\"#FF6692\",\"size\":[2.648],\"sizemode\":\"area\",\"sizeref\":0.008705000000000001,\"symbol\":\"circle\"},\"mode\":\"markers\",\"name\":\"Kyrgyzstan\",\"orientation\":\"v\",\"showlegend\":true,\"x\":[0.935],\"xaxis\":\"x\",\"y\":[0.908],\"yaxis\":\"y\",\"type\":\"scatter\"},{\"hovertemplate\":\"Country name=Greece<br>Freedom to make life choices=%{x}<br>Perceptions of corruption=%{y}<br>Dystopia + residual=%{marker.size}<extra></extra>\",\"legendgroup\":\"Greece\",\"marker\":{\"color\":\"#B6E880\",\"size\":[2.561],\"sizemode\":\"area\",\"sizeref\":0.008705000000000001,\"symbol\":\"circle\"},\"mode\":\"markers\",\"name\":\"Greece\",\"orientation\":\"v\",\"showlegend\":true,\"x\":[0.582],\"xaxis\":\"x\",\"y\":[0.823],\"yaxis\":\"y\",\"type\":\"scatter\"},{\"hovertemplate\":\"Country name=Bolivia<br>Freedom to make life choices=%{x}<br>Perceptions of corruption=%{y}<br>Dystopia + residual=%{marker.size}<extra></extra>\",\"legendgroup\":\"Bolivia\",\"marker\":{\"color\":\"#FF97FF\",\"size\":[2.805],\"sizemode\":\"area\",\"sizeref\":0.008705000000000001,\"symbol\":\"circle\"},\"mode\":\"markers\",\"name\":\"Bolivia\",\"orientation\":\"v\",\"showlegend\":true,\"x\":[0.875],\"xaxis\":\"x\",\"y\":[0.839],\"yaxis\":\"y\",\"type\":\"scatter\"},{\"hovertemplate\":\"Country name=Mongolia<br>Freedom to make life choices=%{x}<br>Perceptions of corruption=%{y}<br>Dystopia + residual=%{marker.size}<extra></extra>\",\"legendgroup\":\"Mongolia\",\"marker\":{\"color\":\"#FECB52\",\"size\":[2.492],\"sizemode\":\"area\",\"sizeref\":0.008705000000000001,\"symbol\":\"circle\"},\"mode\":\"markers\",\"name\":\"Mongolia\",\"orientation\":\"v\",\"showlegend\":true,\"x\":[0.708],\"xaxis\":\"x\",\"y\":[0.856],\"yaxis\":\"y\",\"type\":\"scatter\"},{\"hovertemplate\":\"Country name=Paraguay<br>Freedom to make life choices=%{x}<br>Perceptions of corruption=%{y}<br>Dystopia + residual=%{marker.size}<extra></extra>\",\"legendgroup\":\"Paraguay\",\"marker\":{\"color\":\"#636efa\",\"size\":[2.306],\"sizemode\":\"area\",\"sizeref\":0.008705000000000001,\"symbol\":\"circle\"},\"mode\":\"markers\",\"name\":\"Paraguay\",\"orientation\":\"v\",\"showlegend\":true,\"x\":[0.876],\"xaxis\":\"x\",\"y\":[0.882],\"yaxis\":\"y\",\"type\":\"scatter\"},{\"hovertemplate\":\"Country name=Montenegro<br>Freedom to make life choices=%{x}<br>Perceptions of corruption=%{y}<br>Dystopia + residual=%{marker.size}<extra></extra>\",\"legendgroup\":\"Montenegro\",\"marker\":{\"color\":\"#EF553B\",\"size\":[2.254],\"sizemode\":\"area\",\"sizeref\":0.008705000000000001,\"symbol\":\"circle\"},\"mode\":\"markers\",\"name\":\"Montenegro\",\"orientation\":\"v\",\"showlegend\":true,\"x\":[0.708],\"xaxis\":\"x\",\"y\":[0.812],\"yaxis\":\"y\",\"type\":\"scatter\"},{\"hovertemplate\":\"Country name=Dominican Republic<br>Freedom to make life choices=%{x}<br>Perceptions of corruption=%{y}<br>Dystopia + residual=%{marker.size}<extra></extra>\",\"legendgroup\":\"Dominican Republic\",\"marker\":{\"color\":\"#00cc96\",\"size\":[2.178],\"sizemode\":\"area\",\"sizeref\":0.008705000000000001,\"symbol\":\"circle\"},\"mode\":\"markers\",\"name\":\"Dominican Republic\",\"orientation\":\"v\",\"showlegend\":true,\"x\":[0.86],\"xaxis\":\"x\",\"y\":[0.714],\"yaxis\":\"y\",\"type\":\"scatter\"},{\"hovertemplate\":\"Country name=North Cyprus<br>Freedom to make life choices=%{x}<br>Perceptions of corruption=%{y}<br>Dystopia + residual=%{marker.size}<extra></extra>\",\"legendgroup\":\"North Cyprus\",\"marker\":{\"color\":\"#ab63fa\",\"size\":[1.653],\"sizemode\":\"area\",\"sizeref\":0.008705000000000001,\"symbol\":\"circle\"},\"mode\":\"markers\",\"name\":\"North Cyprus\",\"orientation\":\"v\",\"showlegend\":true,\"x\":[0.795],\"xaxis\":\"x\",\"y\":[0.626],\"yaxis\":\"y\",\"type\":\"scatter\"},{\"hovertemplate\":\"Country name=Belarus<br>Freedom to make life choices=%{x}<br>Perceptions of corruption=%{y}<br>Dystopia + residual=%{marker.size}<extra></extra>\",\"legendgroup\":\"Belarus\",\"marker\":{\"color\":\"#FFA15A\",\"size\":[2.247],\"sizemode\":\"area\",\"sizeref\":0.008705000000000001,\"symbol\":\"circle\"},\"mode\":\"markers\",\"name\":\"Belarus\",\"orientation\":\"v\",\"showlegend\":true,\"x\":[0.65],\"xaxis\":\"x\",\"y\":[0.627],\"yaxis\":\"y\",\"type\":\"scatter\"},{\"hovertemplate\":\"Country name=Russia<br>Freedom to make life choices=%{x}<br>Perceptions of corruption=%{y}<br>Dystopia + residual=%{marker.size}<extra></extra>\",\"legendgroup\":\"Russia\",\"marker\":{\"color\":\"#19d3f3\",\"size\":[2.148],\"sizemode\":\"area\",\"sizeref\":0.008705000000000001,\"symbol\":\"circle\"},\"mode\":\"markers\",\"name\":\"Russia\",\"orientation\":\"v\",\"showlegend\":true,\"x\":[0.718],\"xaxis\":\"x\",\"y\":[0.845],\"yaxis\":\"y\",\"type\":\"scatter\"},{\"hovertemplate\":\"Country name=Hong Kong S.A.R. of China<br>Freedom to make life choices=%{x}<br>Perceptions of corruption=%{y}<br>Dystopia + residual=%{marker.size}<extra></extra>\",\"legendgroup\":\"Hong Kong S.A.R. of China\",\"marker\":{\"color\":\"#FF6692\",\"size\":[1.236],\"sizemode\":\"area\",\"sizeref\":0.008705000000000001,\"symbol\":\"circle\"},\"mode\":\"markers\",\"name\":\"Hong Kong S.A.R. of China\",\"orientation\":\"v\",\"showlegend\":true,\"x\":[0.717],\"xaxis\":\"x\",\"y\":[0.403],\"yaxis\":\"y\",\"type\":\"scatter\"},{\"hovertemplate\":\"Country name=Tajikistan<br>Freedom to make life choices=%{x}<br>Perceptions of corruption=%{y}<br>Dystopia + residual=%{marker.size}<extra></extra>\",\"legendgroup\":\"Tajikistan\",\"marker\":{\"color\":\"#B6E880\",\"size\":[2.619],\"sizemode\":\"area\",\"sizeref\":0.008705000000000001,\"symbol\":\"circle\"},\"mode\":\"markers\",\"name\":\"Tajikistan\",\"orientation\":\"v\",\"showlegend\":true,\"x\":[0.832],\"xaxis\":\"x\",\"y\":[0.553],\"yaxis\":\"y\",\"type\":\"scatter\"},{\"hovertemplate\":\"Country name=Vietnam<br>Freedom to make life choices=%{x}<br>Perceptions of corruption=%{y}<br>Dystopia + residual=%{marker.size}<extra></extra>\",\"legendgroup\":\"Vietnam\",\"marker\":{\"color\":\"#FF97FF\",\"size\":[2.211],\"sizemode\":\"area\",\"sizeref\":0.008705000000000001,\"symbol\":\"circle\"},\"mode\":\"markers\",\"name\":\"Vietnam\",\"orientation\":\"v\",\"showlegend\":true,\"x\":[0.94],\"xaxis\":\"x\",\"y\":[0.796],\"yaxis\":\"y\",\"type\":\"scatter\"},{\"hovertemplate\":\"Country name=Libya<br>Freedom to make life choices=%{x}<br>Perceptions of corruption=%{y}<br>Dystopia + residual=%{marker.size}<extra></extra>\",\"legendgroup\":\"Libya\",\"marker\":{\"color\":\"#FECB52\",\"size\":[2.331],\"sizemode\":\"area\",\"sizeref\":0.008705000000000001,\"symbol\":\"circle\"},\"mode\":\"markers\",\"name\":\"Libya\",\"orientation\":\"v\",\"showlegend\":true,\"x\":[0.771],\"xaxis\":\"x\",\"y\":[0.667],\"yaxis\":\"y\",\"type\":\"scatter\"},{\"hovertemplate\":\"Country name=Malaysia<br>Freedom to make life choices=%{x}<br>Perceptions of corruption=%{y}<br>Dystopia + residual=%{marker.size}<extra></extra>\",\"legendgroup\":\"Malaysia\",\"marker\":{\"color\":\"#636efa\",\"size\":[1.784],\"sizemode\":\"area\",\"sizeref\":0.008705000000000001,\"symbol\":\"circle\"},\"mode\":\"markers\",\"name\":\"Malaysia\",\"orientation\":\"v\",\"showlegend\":true,\"x\":[0.895],\"xaxis\":\"x\",\"y\":[0.839],\"yaxis\":\"y\",\"type\":\"scatter\"},{\"hovertemplate\":\"Country name=Indonesia<br>Freedom to make life choices=%{x}<br>Perceptions of corruption=%{y}<br>Dystopia + residual=%{marker.size}<extra></extra>\",\"legendgroup\":\"Indonesia\",\"marker\":{\"color\":\"#EF553B\",\"size\":[1.987],\"sizemode\":\"area\",\"sizeref\":0.008705000000000001,\"symbol\":\"circle\"},\"mode\":\"markers\",\"name\":\"Indonesia\",\"orientation\":\"v\",\"showlegend\":true,\"x\":[0.873],\"xaxis\":\"x\",\"y\":[0.867],\"yaxis\":\"y\",\"type\":\"scatter\"},{\"hovertemplate\":\"Country name=Congo (Brazzaville)<br>Freedom to make life choices=%{x}<br>Perceptions of corruption=%{y}<br>Dystopia + residual=%{marker.size}<extra></extra>\",\"legendgroup\":\"Congo (Brazzaville)\",\"marker\":{\"color\":\"#00cc96\",\"size\":[3.476],\"sizemode\":\"area\",\"sizeref\":0.008705000000000001,\"symbol\":\"circle\"},\"mode\":\"markers\",\"name\":\"Congo (Brazzaville)\",\"orientation\":\"v\",\"showlegend\":true,\"x\":[0.695],\"xaxis\":\"x\",\"y\":[0.745],\"yaxis\":\"y\",\"type\":\"scatter\"},{\"hovertemplate\":\"Country name=China<br>Freedom to make life choices=%{x}<br>Perceptions of corruption=%{y}<br>Dystopia + residual=%{marker.size}<extra></extra>\",\"legendgroup\":\"China\",\"marker\":{\"color\":\"#ab63fa\",\"size\":[1.982],\"sizemode\":\"area\",\"sizeref\":0.008705000000000001,\"symbol\":\"circle\"},\"mode\":\"markers\",\"name\":\"China\",\"orientation\":\"v\",\"showlegend\":true,\"x\":[0.904],\"xaxis\":\"x\",\"y\":[0.755],\"yaxis\":\"y\",\"type\":\"scatter\"},{\"hovertemplate\":\"Country name=Ivory Coast<br>Freedom to make life choices=%{x}<br>Perceptions of corruption=%{y}<br>Dystopia + residual=%{marker.size}<extra></extra>\",\"legendgroup\":\"Ivory Coast\",\"marker\":{\"color\":\"#FFA15A\",\"size\":[3.469],\"sizemode\":\"area\",\"sizeref\":0.008705000000000001,\"symbol\":\"circle\"},\"mode\":\"markers\",\"name\":\"Ivory Coast\",\"orientation\":\"v\",\"showlegend\":true,\"x\":[0.741],\"xaxis\":\"x\",\"y\":[0.794],\"yaxis\":\"y\",\"type\":\"scatter\"},{\"hovertemplate\":\"Country name=Armenia<br>Freedom to make life choices=%{x}<br>Perceptions of corruption=%{y}<br>Dystopia + residual=%{marker.size}<extra></extra>\",\"legendgroup\":\"Armenia\",\"marker\":{\"color\":\"#19d3f3\",\"size\":[2.127],\"sizemode\":\"area\",\"sizeref\":0.008705000000000001,\"symbol\":\"circle\"},\"mode\":\"markers\",\"name\":\"Armenia\",\"orientation\":\"v\",\"showlegend\":true,\"x\":[0.825],\"xaxis\":\"x\",\"y\":[0.629],\"yaxis\":\"y\",\"type\":\"scatter\"},{\"hovertemplate\":\"Country name=Nepal<br>Freedom to make life choices=%{x}<br>Perceptions of corruption=%{y}<br>Dystopia + residual=%{marker.size}<extra></extra>\",\"legendgroup\":\"Nepal\",\"marker\":{\"color\":\"#FF6692\",\"size\":[2.642],\"sizemode\":\"area\",\"sizeref\":0.008705000000000001,\"symbol\":\"circle\"},\"mode\":\"markers\",\"name\":\"Nepal\",\"orientation\":\"v\",\"showlegend\":true,\"x\":[0.782],\"xaxis\":\"x\",\"y\":[0.727],\"yaxis\":\"y\",\"type\":\"scatter\"},{\"hovertemplate\":\"Country name=Bulgaria<br>Freedom to make life choices=%{x}<br>Perceptions of corruption=%{y}<br>Dystopia + residual=%{marker.size}<extra></extra>\",\"legendgroup\":\"Bulgaria\",\"marker\":{\"color\":\"#B6E880\",\"size\":[1.823],\"sizemode\":\"area\",\"sizeref\":0.008705000000000001,\"symbol\":\"circle\"},\"mode\":\"markers\",\"name\":\"Bulgaria\",\"orientation\":\"v\",\"showlegend\":true,\"x\":[0.788],\"xaxis\":\"x\",\"y\":[0.932],\"yaxis\":\"y\",\"type\":\"scatter\"},{\"hovertemplate\":\"Country name=Maldives<br>Freedom to make life choices=%{x}<br>Perceptions of corruption=%{y}<br>Dystopia + residual=%{marker.size}<extra></extra>\",\"legendgroup\":\"Maldives\",\"marker\":{\"color\":\"#FF97FF\",\"size\":[1.52],\"sizemode\":\"area\",\"sizeref\":0.008705000000000001,\"symbol\":\"circle\"},\"mode\":\"markers\",\"name\":\"Maldives\",\"orientation\":\"v\",\"showlegend\":true,\"x\":[0.854],\"xaxis\":\"x\",\"y\":[0.825],\"yaxis\":\"y\",\"type\":\"scatter\"},{\"hovertemplate\":\"Country name=Azerbaijan<br>Freedom to make life choices=%{x}<br>Perceptions of corruption=%{y}<br>Dystopia + residual=%{marker.size}<extra></extra>\",\"legendgroup\":\"Azerbaijan\",\"marker\":{\"color\":\"#FECB52\",\"size\":[1.919],\"sizemode\":\"area\",\"sizeref\":0.008705000000000001,\"symbol\":\"circle\"},\"mode\":\"markers\",\"name\":\"Azerbaijan\",\"orientation\":\"v\",\"showlegend\":true,\"x\":[0.814],\"xaxis\":\"x\",\"y\":[0.506],\"yaxis\":\"y\",\"type\":\"scatter\"},{\"hovertemplate\":\"Country name=Cameroon<br>Freedom to make life choices=%{x}<br>Perceptions of corruption=%{y}<br>Dystopia + residual=%{marker.size}<extra></extra>\",\"legendgroup\":\"Cameroon\",\"marker\":{\"color\":\"#636efa\",\"size\":[3.195],\"sizemode\":\"area\",\"sizeref\":0.008705000000000001,\"symbol\":\"circle\"},\"mode\":\"markers\",\"name\":\"Cameroon\",\"orientation\":\"v\",\"showlegend\":true,\"x\":[0.731],\"xaxis\":\"x\",\"y\":[0.848],\"yaxis\":\"y\",\"type\":\"scatter\"},{\"hovertemplate\":\"Country name=Senegal<br>Freedom to make life choices=%{x}<br>Perceptions of corruption=%{y}<br>Dystopia + residual=%{marker.size}<extra></extra>\",\"legendgroup\":\"Senegal\",\"marker\":{\"color\":\"#EF553B\",\"size\":[3.071],\"sizemode\":\"area\",\"sizeref\":0.008705000000000001,\"symbol\":\"circle\"},\"mode\":\"markers\",\"name\":\"Senegal\",\"orientation\":\"v\",\"showlegend\":true,\"x\":[0.695],\"xaxis\":\"x\",\"y\":[0.801],\"yaxis\":\"y\",\"type\":\"scatter\"},{\"hovertemplate\":\"Country name=Albania<br>Freedom to make life choices=%{x}<br>Perceptions of corruption=%{y}<br>Dystopia + residual=%{marker.size}<extra></extra>\",\"legendgroup\":\"Albania\",\"marker\":{\"color\":\"#00cc96\",\"size\":[2.25],\"sizemode\":\"area\",\"sizeref\":0.008705000000000001,\"symbol\":\"circle\"},\"mode\":\"markers\",\"name\":\"Albania\",\"orientation\":\"v\",\"showlegend\":true,\"x\":[0.785],\"xaxis\":\"x\",\"y\":[0.901],\"yaxis\":\"y\",\"type\":\"scatter\"},{\"hovertemplate\":\"Country name=North Macedonia<br>Freedom to make life choices=%{x}<br>Perceptions of corruption=%{y}<br>Dystopia + residual=%{marker.size}<extra></extra>\",\"legendgroup\":\"North Macedonia\",\"marker\":{\"color\":\"#ab63fa\",\"size\":[2.042],\"sizemode\":\"area\",\"sizeref\":0.008705000000000001,\"symbol\":\"circle\"},\"mode\":\"markers\",\"name\":\"North Macedonia\",\"orientation\":\"v\",\"showlegend\":true,\"x\":[0.751],\"xaxis\":\"x\",\"y\":[0.905],\"yaxis\":\"y\",\"type\":\"scatter\"},{\"hovertemplate\":\"Country name=Ghana<br>Freedom to make life choices=%{x}<br>Perceptions of corruption=%{y}<br>Dystopia + residual=%{marker.size}<extra></extra>\",\"legendgroup\":\"Ghana\",\"marker\":{\"color\":\"#FFA15A\",\"size\":[2.684],\"sizemode\":\"area\",\"sizeref\":0.008705000000000001,\"symbol\":\"circle\"},\"mode\":\"markers\",\"name\":\"Ghana\",\"orientation\":\"v\",\"showlegend\":true,\"x\":[0.807],\"xaxis\":\"x\",\"y\":[0.848],\"yaxis\":\"y\",\"type\":\"scatter\"},{\"hovertemplate\":\"Country name=Niger<br>Freedom to make life choices=%{x}<br>Perceptions of corruption=%{y}<br>Dystopia + residual=%{marker.size}<extra></extra>\",\"legendgroup\":\"Niger\",\"marker\":{\"color\":\"#19d3f3\",\"size\":[3.47],\"sizemode\":\"area\",\"sizeref\":0.008705000000000001,\"symbol\":\"circle\"},\"mode\":\"markers\",\"name\":\"Niger\",\"orientation\":\"v\",\"showlegend\":true,\"x\":[0.806],\"xaxis\":\"x\",\"y\":[0.693],\"yaxis\":\"y\",\"type\":\"scatter\"},{\"hovertemplate\":\"Country name=Turkmenistan<br>Freedom to make life choices=%{x}<br>Perceptions of corruption=%{y}<br>Dystopia + residual=%{marker.size}<extra></extra>\",\"legendgroup\":\"Turkmenistan\",\"marker\":{\"color\":\"#FF6692\",\"size\":[1.409],\"sizemode\":\"area\",\"sizeref\":0.008705000000000001,\"symbol\":\"circle\"},\"mode\":\"markers\",\"name\":\"Turkmenistan\",\"orientation\":\"v\",\"showlegend\":true,\"x\":[0.877],\"xaxis\":\"x\",\"y\":[0.888],\"yaxis\":\"y\",\"type\":\"scatter\"},{\"hovertemplate\":\"Country name=Gambia<br>Freedom to make life choices=%{x}<br>Perceptions of corruption=%{y}<br>Dystopia + residual=%{marker.size}<extra></extra>\",\"legendgroup\":\"Gambia\",\"marker\":{\"color\":\"#B6E880\",\"size\":[2.99],\"sizemode\":\"area\",\"sizeref\":0.008705000000000001,\"symbol\":\"circle\"},\"mode\":\"markers\",\"name\":\"Gambia\",\"orientation\":\"v\",\"showlegend\":true,\"x\":[0.697],\"xaxis\":\"x\",\"y\":[0.746],\"yaxis\":\"y\",\"type\":\"scatter\"},{\"hovertemplate\":\"Country name=Benin<br>Freedom to make life choices=%{x}<br>Perceptions of corruption=%{y}<br>Dystopia + residual=%{marker.size}<extra></extra>\",\"legendgroup\":\"Benin\",\"marker\":{\"color\":\"#FF97FF\",\"size\":[3.482],\"sizemode\":\"area\",\"sizeref\":0.008705000000000001,\"symbol\":\"circle\"},\"mode\":\"markers\",\"name\":\"Benin\",\"orientation\":\"v\",\"showlegend\":true,\"x\":[0.757],\"xaxis\":\"x\",\"y\":[0.661],\"yaxis\":\"y\",\"type\":\"scatter\"},{\"hovertemplate\":\"Country name=Laos<br>Freedom to make life choices=%{x}<br>Perceptions of corruption=%{y}<br>Dystopia + residual=%{marker.size}<extra></extra>\",\"legendgroup\":\"Laos\",\"marker\":{\"color\":\"#FECB52\",\"size\":[2.204],\"sizemode\":\"area\",\"sizeref\":0.008705000000000001,\"symbol\":\"circle\"},\"mode\":\"markers\",\"name\":\"Laos\",\"orientation\":\"v\",\"showlegend\":true,\"x\":[0.91],\"xaxis\":\"x\",\"y\":[0.658],\"yaxis\":\"y\",\"type\":\"scatter\"},{\"hovertemplate\":\"Country name=Bangladesh<br>Freedom to make life choices=%{x}<br>Perceptions of corruption=%{y}<br>Dystopia + residual=%{marker.size}<extra></extra>\",\"legendgroup\":\"Bangladesh\",\"marker\":{\"color\":\"#636efa\",\"size\":[2.427],\"sizemode\":\"area\",\"sizeref\":0.008705000000000001,\"symbol\":\"circle\"},\"mode\":\"markers\",\"name\":\"Bangladesh\",\"orientation\":\"v\",\"showlegend\":true,\"x\":[0.877],\"xaxis\":\"x\",\"y\":[0.682],\"yaxis\":\"y\",\"type\":\"scatter\"},{\"hovertemplate\":\"Country name=Guinea<br>Freedom to make life choices=%{x}<br>Perceptions of corruption=%{y}<br>Dystopia + residual=%{marker.size}<extra></extra>\",\"legendgroup\":\"Guinea\",\"marker\":{\"color\":\"#EF553B\",\"size\":[3.216],\"sizemode\":\"area\",\"sizeref\":0.008705000000000001,\"symbol\":\"circle\"},\"mode\":\"markers\",\"name\":\"Guinea\",\"orientation\":\"v\",\"showlegend\":true,\"x\":[0.697],\"xaxis\":\"x\",\"y\":[0.766],\"yaxis\":\"y\",\"type\":\"scatter\"},{\"hovertemplate\":\"Country name=South Africa<br>Freedom to make life choices=%{x}<br>Perceptions of corruption=%{y}<br>Dystopia + residual=%{marker.size}<extra></extra>\",\"legendgroup\":\"South Africa\",\"marker\":{\"color\":\"#00cc96\",\"size\":[2.187],\"sizemode\":\"area\",\"sizeref\":0.008705000000000001,\"symbol\":\"circle\"},\"mode\":\"markers\",\"name\":\"South Africa\",\"orientation\":\"v\",\"showlegend\":true,\"x\":[0.749],\"xaxis\":\"x\",\"y\":[0.86],\"yaxis\":\"y\",\"type\":\"scatter\"},{\"hovertemplate\":\"Country name=Turkey<br>Freedom to make life choices=%{x}<br>Perceptions of corruption=%{y}<br>Dystopia + residual=%{marker.size}<extra></extra>\",\"legendgroup\":\"Turkey\",\"marker\":{\"color\":\"#ab63fa\",\"size\":[1.852],\"sizemode\":\"area\",\"sizeref\":0.008705000000000001,\"symbol\":\"circle\"},\"mode\":\"markers\",\"name\":\"Turkey\",\"orientation\":\"v\",\"showlegend\":true,\"x\":[0.576],\"xaxis\":\"x\",\"y\":[0.776],\"yaxis\":\"y\",\"type\":\"scatter\"},{\"hovertemplate\":\"Country name=Pakistan<br>Freedom to make life choices=%{x}<br>Perceptions of corruption=%{y}<br>Dystopia + residual=%{marker.size}<extra></extra>\",\"legendgroup\":\"Pakistan\",\"marker\":{\"color\":\"#FFA15A\",\"size\":[2.784],\"sizemode\":\"area\",\"sizeref\":0.008705000000000001,\"symbol\":\"circle\"},\"mode\":\"markers\",\"name\":\"Pakistan\",\"orientation\":\"v\",\"showlegend\":true,\"x\":[0.726],\"xaxis\":\"x\",\"y\":[0.787],\"yaxis\":\"y\",\"type\":\"scatter\"},{\"hovertemplate\":\"Country name=Morocco<br>Freedom to make life choices=%{x}<br>Perceptions of corruption=%{y}<br>Dystopia + residual=%{marker.size}<extra></extra>\",\"legendgroup\":\"Morocco\",\"marker\":{\"color\":\"#19d3f3\",\"size\":[2.749],\"sizemode\":\"area\",\"sizeref\":0.008705000000000001,\"symbol\":\"circle\"},\"mode\":\"markers\",\"name\":\"Morocco\",\"orientation\":\"v\",\"showlegend\":true,\"x\":[0.774],\"xaxis\":\"x\",\"y\":[0.801],\"yaxis\":\"y\",\"type\":\"scatter\"},{\"hovertemplate\":\"Country name=Venezuela<br>Freedom to make life choices=%{x}<br>Perceptions of corruption=%{y}<br>Dystopia + residual=%{marker.size}<extra></extra>\",\"legendgroup\":\"Venezuela\",\"marker\":{\"color\":\"#FF6692\",\"size\":[2.135],\"sizemode\":\"area\",\"sizeref\":0.008705000000000001,\"symbol\":\"circle\"},\"mode\":\"markers\",\"name\":\"Venezuela\",\"orientation\":\"v\",\"showlegend\":true,\"x\":[0.615],\"xaxis\":\"x\",\"y\":[0.827],\"yaxis\":\"y\",\"type\":\"scatter\"},{\"hovertemplate\":\"Country name=Georgia<br>Freedom to make life choices=%{x}<br>Perceptions of corruption=%{y}<br>Dystopia + residual=%{marker.size}<extra></extra>\",\"legendgroup\":\"Georgia\",\"marker\":{\"color\":\"#B6E880\",\"size\":[2.191],\"sizemode\":\"area\",\"sizeref\":0.008705000000000001,\"symbol\":\"circle\"},\"mode\":\"markers\",\"name\":\"Georgia\",\"orientation\":\"v\",\"showlegend\":true,\"x\":[0.783],\"xaxis\":\"x\",\"y\":[0.655],\"yaxis\":\"y\",\"type\":\"scatter\"},{\"hovertemplate\":\"Country name=Algeria<br>Freedom to make life choices=%{x}<br>Perceptions of corruption=%{y}<br>Dystopia + residual=%{marker.size}<extra></extra>\",\"legendgroup\":\"Algeria\",\"marker\":{\"color\":\"#FF97FF\",\"size\":[2.242],\"sizemode\":\"area\",\"sizeref\":0.008705000000000001,\"symbol\":\"circle\"},\"mode\":\"markers\",\"name\":\"Algeria\",\"orientation\":\"v\",\"showlegend\":true,\"x\":[0.48],\"xaxis\":\"x\",\"y\":[0.752],\"yaxis\":\"y\",\"type\":\"scatter\"},{\"hovertemplate\":\"Country name=Ukraine<br>Freedom to make life choices=%{x}<br>Perceptions of corruption=%{y}<br>Dystopia + residual=%{marker.size}<extra></extra>\",\"legendgroup\":\"Ukraine\",\"marker\":{\"color\":\"#FECB52\",\"size\":[1.813],\"sizemode\":\"area\",\"sizeref\":0.008705000000000001,\"symbol\":\"circle\"},\"mode\":\"markers\",\"name\":\"Ukraine\",\"orientation\":\"v\",\"showlegend\":true,\"x\":[0.724],\"xaxis\":\"x\",\"y\":[0.924],\"yaxis\":\"y\",\"type\":\"scatter\"},{\"hovertemplate\":\"Country name=Iraq<br>Freedom to make life choices=%{x}<br>Perceptions of corruption=%{y}<br>Dystopia + residual=%{marker.size}<extra></extra>\",\"legendgroup\":\"Iraq\",\"marker\":{\"color\":\"#636efa\",\"size\":[2.429],\"sizemode\":\"area\",\"sizeref\":0.008705000000000001,\"symbol\":\"circle\"},\"mode\":\"markers\",\"name\":\"Iraq\",\"orientation\":\"v\",\"showlegend\":true,\"x\":[0.63],\"xaxis\":\"x\",\"y\":[0.875],\"yaxis\":\"y\",\"type\":\"scatter\"},{\"hovertemplate\":\"Country name=Gabon<br>Freedom to make life choices=%{x}<br>Perceptions of corruption=%{y}<br>Dystopia + residual=%{marker.size}<extra></extra>\",\"legendgroup\":\"Gabon\",\"marker\":{\"color\":\"#EF553B\",\"size\":[2.201],\"sizemode\":\"area\",\"sizeref\":0.008705000000000001,\"symbol\":\"circle\"},\"mode\":\"markers\",\"name\":\"Gabon\",\"orientation\":\"v\",\"showlegend\":true,\"x\":[0.731],\"xaxis\":\"x\",\"y\":[0.84],\"yaxis\":\"y\",\"type\":\"scatter\"},{\"hovertemplate\":\"Country name=Burkina Faso<br>Freedom to make life choices=%{x}<br>Perceptions of corruption=%{y}<br>Dystopia + residual=%{marker.size}<extra></extra>\",\"legendgroup\":\"Burkina Faso\",\"marker\":{\"color\":\"#00cc96\",\"size\":[3.133],\"sizemode\":\"area\",\"sizeref\":0.008705000000000001,\"symbol\":\"circle\"},\"mode\":\"markers\",\"name\":\"Burkina Faso\",\"orientation\":\"v\",\"showlegend\":true,\"x\":[0.695],\"xaxis\":\"x\",\"y\":[0.748],\"yaxis\":\"y\",\"type\":\"scatter\"},{\"hovertemplate\":\"Country name=Cambodia<br>Freedom to make life choices=%{x}<br>Perceptions of corruption=%{y}<br>Dystopia + residual=%{marker.size}<extra></extra>\",\"legendgroup\":\"Cambodia\",\"marker\":{\"color\":\"#ab63fa\",\"size\":[2.148],\"sizemode\":\"area\",\"sizeref\":0.008705000000000001,\"symbol\":\"circle\"},\"mode\":\"markers\",\"name\":\"Cambodia\",\"orientation\":\"v\",\"showlegend\":true,\"x\":[0.959],\"xaxis\":\"x\",\"y\":[0.843],\"yaxis\":\"y\",\"type\":\"scatter\"},{\"hovertemplate\":\"Country name=Mozambique<br>Freedom to make life choices=%{x}<br>Perceptions of corruption=%{y}<br>Dystopia + residual=%{marker.size}<extra></extra>\",\"legendgroup\":\"Mozambique\",\"marker\":{\"color\":\"#FFA15A\",\"size\":[2.783],\"sizemode\":\"area\",\"sizeref\":0.008705000000000001,\"symbol\":\"circle\"},\"mode\":\"markers\",\"name\":\"Mozambique\",\"orientation\":\"v\",\"showlegend\":true,\"x\":[0.882],\"xaxis\":\"x\",\"y\":[0.684],\"yaxis\":\"y\",\"type\":\"scatter\"},{\"hovertemplate\":\"Country name=Nigeria<br>Freedom to make life choices=%{x}<br>Perceptions of corruption=%{y}<br>Dystopia + residual=%{marker.size}<extra></extra>\",\"legendgroup\":\"Nigeria\",\"marker\":{\"color\":\"#19d3f3\",\"size\":[2.736],\"sizemode\":\"area\",\"sizeref\":0.008705000000000001,\"symbol\":\"circle\"},\"mode\":\"markers\",\"name\":\"Nigeria\",\"orientation\":\"v\",\"showlegend\":true,\"x\":[0.737],\"xaxis\":\"x\",\"y\":[0.878],\"yaxis\":\"y\",\"type\":\"scatter\"},{\"hovertemplate\":\"Country name=Mali<br>Freedom to make life choices=%{x}<br>Perceptions of corruption=%{y}<br>Dystopia + residual=%{marker.size}<extra></extra>\",\"legendgroup\":\"Mali\",\"marker\":{\"color\":\"#FF6692\",\"size\":[3.016],\"sizemode\":\"area\",\"sizeref\":0.008705000000000001,\"symbol\":\"circle\"},\"mode\":\"markers\",\"name\":\"Mali\",\"orientation\":\"v\",\"showlegend\":true,\"x\":[0.697],\"xaxis\":\"x\",\"y\":[0.827],\"yaxis\":\"y\",\"type\":\"scatter\"},{\"hovertemplate\":\"Country name=Iran<br>Freedom to make life choices=%{x}<br>Perceptions of corruption=%{y}<br>Dystopia + residual=%{marker.size}<extra></extra>\",\"legendgroup\":\"Iran\",\"marker\":{\"color\":\"#B6E880\",\"size\":[1.823],\"sizemode\":\"area\",\"sizeref\":0.008705000000000001,\"symbol\":\"circle\"},\"mode\":\"markers\",\"name\":\"Iran\",\"orientation\":\"v\",\"showlegend\":true,\"x\":[0.608],\"xaxis\":\"x\",\"y\":[0.714],\"yaxis\":\"y\",\"type\":\"scatter\"},{\"hovertemplate\":\"Country name=Uganda<br>Freedom to make life choices=%{x}<br>Perceptions of corruption=%{y}<br>Dystopia + residual=%{marker.size}<extra></extra>\",\"legendgroup\":\"Uganda\",\"marker\":{\"color\":\"#FF97FF\",\"size\":[2.596],\"sizemode\":\"area\",\"sizeref\":0.008705000000000001,\"symbol\":\"circle\"},\"mode\":\"markers\",\"name\":\"Uganda\",\"orientation\":\"v\",\"showlegend\":true,\"x\":[0.709],\"xaxis\":\"x\",\"y\":[0.855],\"yaxis\":\"y\",\"type\":\"scatter\"},{\"hovertemplate\":\"Country name=Liberia<br>Freedom to make life choices=%{x}<br>Perceptions of corruption=%{y}<br>Dystopia + residual=%{marker.size}<extra></extra>\",\"legendgroup\":\"Liberia\",\"marker\":{\"color\":\"#FECB52\",\"size\":[2.857],\"sizemode\":\"area\",\"sizeref\":0.008705000000000001,\"symbol\":\"circle\"},\"mode\":\"markers\",\"name\":\"Liberia\",\"orientation\":\"v\",\"showlegend\":true,\"x\":[0.735],\"xaxis\":\"x\",\"y\":[0.85],\"yaxis\":\"y\",\"type\":\"scatter\"},{\"hovertemplate\":\"Country name=Kenya<br>Freedom to make life choices=%{x}<br>Perceptions of corruption=%{y}<br>Dystopia + residual=%{marker.size}<extra></extra>\",\"legendgroup\":\"Kenya\",\"marker\":{\"color\":\"#636efa\",\"size\":[2.18],\"sizemode\":\"area\",\"sizeref\":0.008705000000000001,\"symbol\":\"circle\"},\"mode\":\"markers\",\"name\":\"Kenya\",\"orientation\":\"v\",\"showlegend\":true,\"x\":[0.779],\"xaxis\":\"x\",\"y\":[0.825],\"yaxis\":\"y\",\"type\":\"scatter\"},{\"hovertemplate\":\"Country name=Tunisia<br>Freedom to make life choices=%{x}<br>Perceptions of corruption=%{y}<br>Dystopia + residual=%{marker.size}<extra></extra>\",\"legendgroup\":\"Tunisia\",\"marker\":{\"color\":\"#EF553B\",\"size\":[2.138],\"sizemode\":\"area\",\"sizeref\":0.008705000000000001,\"symbol\":\"circle\"},\"mode\":\"markers\",\"name\":\"Tunisia\",\"orientation\":\"v\",\"showlegend\":true,\"x\":[0.656],\"xaxis\":\"x\",\"y\":[0.87],\"yaxis\":\"y\",\"type\":\"scatter\"},{\"hovertemplate\":\"Country name=Lebanon<br>Freedom to make life choices=%{x}<br>Perceptions of corruption=%{y}<br>Dystopia + residual=%{marker.size}<extra></extra>\",\"legendgroup\":\"Lebanon\",\"marker\":{\"color\":\"#00cc96\",\"size\":[1.736],\"sizemode\":\"area\",\"sizeref\":0.008705000000000001,\"symbol\":\"circle\"},\"mode\":\"markers\",\"name\":\"Lebanon\",\"orientation\":\"v\",\"showlegend\":true,\"x\":[0.525],\"xaxis\":\"x\",\"y\":[0.898],\"yaxis\":\"y\",\"type\":\"scatter\"},{\"hovertemplate\":\"Country name=Namibia<br>Freedom to make life choices=%{x}<br>Perceptions of corruption=%{y}<br>Dystopia + residual=%{marker.size}<extra></extra>\",\"legendgroup\":\"Namibia\",\"marker\":{\"color\":\"#ab63fa\",\"size\":[2.068],\"sizemode\":\"area\",\"sizeref\":0.008705000000000001,\"symbol\":\"circle\"},\"mode\":\"markers\",\"name\":\"Namibia\",\"orientation\":\"v\",\"showlegend\":true,\"x\":[0.719],\"xaxis\":\"x\",\"y\":[0.847],\"yaxis\":\"y\",\"type\":\"scatter\"},{\"hovertemplate\":\"Country name=Palestinian Territories<br>Freedom to make life choices=%{x}<br>Perceptions of corruption=%{y}<br>Dystopia + residual=%{marker.size}<extra></extra>\",\"legendgroup\":\"Palestinian Territories\",\"marker\":{\"color\":\"#FFA15A\",\"size\":[2.131],\"sizemode\":\"area\",\"sizeref\":0.008705000000000001,\"symbol\":\"circle\"},\"mode\":\"markers\",\"name\":\"Palestinian Territories\",\"orientation\":\"v\",\"showlegend\":true,\"x\":[0.653],\"xaxis\":\"x\",\"y\":[0.821],\"yaxis\":\"y\",\"type\":\"scatter\"},{\"hovertemplate\":\"Country name=Myanmar<br>Freedom to make life choices=%{x}<br>Perceptions of corruption=%{y}<br>Dystopia + residual=%{marker.size}<extra></extra>\",\"legendgroup\":\"Myanmar\",\"marker\":{\"color\":\"#19d3f3\",\"size\":[1.407],\"sizemode\":\"area\",\"sizeref\":0.008705000000000001,\"symbol\":\"circle\"},\"mode\":\"markers\",\"name\":\"Myanmar\",\"orientation\":\"v\",\"showlegend\":true,\"x\":[0.876],\"xaxis\":\"x\",\"y\":[0.66],\"yaxis\":\"y\",\"type\":\"scatter\"},{\"hovertemplate\":\"Country name=Jordan<br>Freedom to make life choices=%{x}<br>Perceptions of corruption=%{y}<br>Dystopia + residual=%{marker.size}<extra></extra>\",\"legendgroup\":\"Jordan\",\"marker\":{\"color\":\"#FF6692\",\"size\":[1.553],\"sizemode\":\"area\",\"sizeref\":0.008705000000000001,\"symbol\":\"circle\"},\"mode\":\"markers\",\"name\":\"Jordan\",\"orientation\":\"v\",\"showlegend\":true,\"x\":[0.755],\"xaxis\":\"x\",\"y\":[0.705],\"yaxis\":\"y\",\"type\":\"scatter\"},{\"hovertemplate\":\"Country name=Chad<br>Freedom to make life choices=%{x}<br>Perceptions of corruption=%{y}<br>Dystopia + residual=%{marker.size}<extra></extra>\",\"legendgroup\":\"Chad\",\"marker\":{\"color\":\"#B6E880\",\"size\":[3.209],\"sizemode\":\"area\",\"sizeref\":0.008705000000000001,\"symbol\":\"circle\"},\"mode\":\"markers\",\"name\":\"Chad\",\"orientation\":\"v\",\"showlegend\":true,\"x\":[0.579],\"xaxis\":\"x\",\"y\":[0.807],\"yaxis\":\"y\",\"type\":\"scatter\"},{\"hovertemplate\":\"Country name=Sri Lanka<br>Freedom to make life choices=%{x}<br>Perceptions of corruption=%{y}<br>Dystopia + residual=%{marker.size}<extra></extra>\",\"legendgroup\":\"Sri Lanka\",\"marker\":{\"color\":\"#FF97FF\",\"size\":[1.075],\"sizemode\":\"area\",\"sizeref\":0.008705000000000001,\"symbol\":\"circle\"},\"mode\":\"markers\",\"name\":\"Sri Lanka\",\"orientation\":\"v\",\"showlegend\":true,\"x\":[0.841],\"xaxis\":\"x\",\"y\":[0.863],\"yaxis\":\"y\",\"type\":\"scatter\"},{\"hovertemplate\":\"Country name=Swaziland<br>Freedom to make life choices=%{x}<br>Perceptions of corruption=%{y}<br>Dystopia + residual=%{marker.size}<extra></extra>\",\"legendgroup\":\"Swaziland\",\"marker\":{\"color\":\"#FECB52\",\"size\":[2.155],\"sizemode\":\"area\",\"sizeref\":0.008705000000000001,\"symbol\":\"circle\"},\"mode\":\"markers\",\"name\":\"Swaziland\",\"orientation\":\"v\",\"showlegend\":true,\"x\":[0.647],\"xaxis\":\"x\",\"y\":[0.708],\"yaxis\":\"y\",\"type\":\"scatter\"},{\"hovertemplate\":\"Country name=Comoros<br>Freedom to make life choices=%{x}<br>Perceptions of corruption=%{y}<br>Dystopia + residual=%{marker.size}<extra></extra>\",\"legendgroup\":\"Comoros\",\"marker\":{\"color\":\"#636efa\",\"size\":[2.61],\"sizemode\":\"area\",\"sizeref\":0.008705000000000001,\"symbol\":\"circle\"},\"mode\":\"markers\",\"name\":\"Comoros\",\"orientation\":\"v\",\"showlegend\":true,\"x\":[0.548],\"xaxis\":\"x\",\"y\":[0.781],\"yaxis\":\"y\",\"type\":\"scatter\"},{\"hovertemplate\":\"Country name=Egypt<br>Freedom to make life choices=%{x}<br>Perceptions of corruption=%{y}<br>Dystopia + residual=%{marker.size}<extra></extra>\",\"legendgroup\":\"Egypt\",\"marker\":{\"color\":\"#EF553B\",\"size\":[1.648],\"sizemode\":\"area\",\"sizeref\":0.008705000000000001,\"symbol\":\"circle\"},\"mode\":\"markers\",\"name\":\"Egypt\",\"orientation\":\"v\",\"showlegend\":true,\"x\":[0.749],\"xaxis\":\"x\",\"y\":[0.795],\"yaxis\":\"y\",\"type\":\"scatter\"},{\"hovertemplate\":\"Country name=Ethiopia<br>Freedom to make life choices=%{x}<br>Perceptions of corruption=%{y}<br>Dystopia + residual=%{marker.size}<extra></extra>\",\"legendgroup\":\"Ethiopia\",\"marker\":{\"color\":\"#00cc96\",\"size\":[2.089],\"sizemode\":\"area\",\"sizeref\":0.008705000000000001,\"symbol\":\"circle\"},\"mode\":\"markers\",\"name\":\"Ethiopia\",\"orientation\":\"v\",\"showlegend\":true,\"x\":[0.752],\"xaxis\":\"x\",\"y\":[0.761],\"yaxis\":\"y\",\"type\":\"scatter\"},{\"hovertemplate\":\"Country name=Mauritania<br>Freedom to make life choices=%{x}<br>Perceptions of corruption=%{y}<br>Dystopia + residual=%{marker.size}<extra></extra>\",\"legendgroup\":\"Mauritania\",\"marker\":{\"color\":\"#ab63fa\",\"size\":[2.069],\"sizemode\":\"area\",\"sizeref\":0.008705000000000001,\"symbol\":\"circle\"},\"mode\":\"markers\",\"name\":\"Mauritania\",\"orientation\":\"v\",\"showlegend\":true,\"x\":[0.561],\"xaxis\":\"x\",\"y\":[0.731],\"yaxis\":\"y\",\"type\":\"scatter\"},{\"hovertemplate\":\"Country name=Madagascar<br>Freedom to make life choices=%{x}<br>Perceptions of corruption=%{y}<br>Dystopia + residual=%{marker.size}<extra></extra>\",\"legendgroup\":\"Madagascar\",\"marker\":{\"color\":\"#FFA15A\",\"size\":[2.62],\"sizemode\":\"area\",\"sizeref\":0.008705000000000001,\"symbol\":\"circle\"},\"mode\":\"markers\",\"name\":\"Madagascar\",\"orientation\":\"v\",\"showlegend\":true,\"x\":[0.552],\"xaxis\":\"x\",\"y\":[0.803],\"yaxis\":\"y\",\"type\":\"scatter\"},{\"hovertemplate\":\"Country name=Togo<br>Freedom to make life choices=%{x}<br>Perceptions of corruption=%{y}<br>Dystopia + residual=%{marker.size}<extra></extra>\",\"legendgroup\":\"Togo\",\"marker\":{\"color\":\"#19d3f3\",\"size\":[2.806],\"sizemode\":\"area\",\"sizeref\":0.008705000000000001,\"symbol\":\"circle\"},\"mode\":\"markers\",\"name\":\"Togo\",\"orientation\":\"v\",\"showlegend\":true,\"x\":[0.619],\"xaxis\":\"x\",\"y\":[0.772],\"yaxis\":\"y\",\"type\":\"scatter\"},{\"hovertemplate\":\"Country name=Zambia<br>Freedom to make life choices=%{x}<br>Perceptions of corruption=%{y}<br>Dystopia + residual=%{marker.size}<extra></extra>\",\"legendgroup\":\"Zambia\",\"marker\":{\"color\":\"#FF6692\",\"size\":[1.975],\"sizemode\":\"area\",\"sizeref\":0.008705000000000001,\"symbol\":\"circle\"},\"mode\":\"markers\",\"name\":\"Zambia\",\"orientation\":\"v\",\"showlegend\":true,\"x\":[0.782],\"xaxis\":\"x\",\"y\":[0.823],\"yaxis\":\"y\",\"type\":\"scatter\"},{\"hovertemplate\":\"Country name=Sierra Leone<br>Freedom to make life choices=%{x}<br>Perceptions of corruption=%{y}<br>Dystopia + residual=%{marker.size}<extra></extra>\",\"legendgroup\":\"Sierra Leone\",\"marker\":{\"color\":\"#B6E880\",\"size\":[2.396],\"sizemode\":\"area\",\"sizeref\":0.008705000000000001,\"symbol\":\"circle\"},\"mode\":\"markers\",\"name\":\"Sierra Leone\",\"orientation\":\"v\",\"showlegend\":true,\"x\":[0.717],\"xaxis\":\"x\",\"y\":[0.866],\"yaxis\":\"y\",\"type\":\"scatter\"},{\"hovertemplate\":\"Country name=India<br>Freedom to make life choices=%{x}<br>Perceptions of corruption=%{y}<br>Dystopia + residual=%{marker.size}<extra></extra>\",\"legendgroup\":\"India\",\"marker\":{\"color\":\"#FF97FF\",\"size\":[1.405],\"sizemode\":\"area\",\"sizeref\":0.008705000000000001,\"symbol\":\"circle\"},\"mode\":\"markers\",\"name\":\"India\",\"orientation\":\"v\",\"showlegend\":true,\"x\":[0.893],\"xaxis\":\"x\",\"y\":[0.774],\"yaxis\":\"y\",\"type\":\"scatter\"},{\"hovertemplate\":\"Country name=Burundi<br>Freedom to make life choices=%{x}<br>Perceptions of corruption=%{y}<br>Dystopia + residual=%{marker.size}<extra></extra>\",\"legendgroup\":\"Burundi\",\"marker\":{\"color\":\"#FECB52\",\"size\":[2.876],\"sizemode\":\"area\",\"sizeref\":0.008705000000000001,\"symbol\":\"circle\"},\"mode\":\"markers\",\"name\":\"Burundi\",\"orientation\":\"v\",\"showlegend\":true,\"x\":[0.626],\"xaxis\":\"x\",\"y\":[0.607],\"yaxis\":\"y\",\"type\":\"scatter\"},{\"hovertemplate\":\"Country name=Yemen<br>Freedom to make life choices=%{x}<br>Perceptions of corruption=%{y}<br>Dystopia + residual=%{marker.size}<extra></extra>\",\"legendgroup\":\"Yemen\",\"marker\":{\"color\":\"#636efa\",\"size\":[1.776],\"sizemode\":\"area\",\"sizeref\":0.008705000000000001,\"symbol\":\"circle\"},\"mode\":\"markers\",\"name\":\"Yemen\",\"orientation\":\"v\",\"showlegend\":true,\"x\":[0.602],\"xaxis\":\"x\",\"y\":[0.8],\"yaxis\":\"y\",\"type\":\"scatter\"},{\"hovertemplate\":\"Country name=Tanzania<br>Freedom to make life choices=%{x}<br>Perceptions of corruption=%{y}<br>Dystopia + residual=%{marker.size}<extra></extra>\",\"legendgroup\":\"Tanzania\",\"marker\":{\"color\":\"#EF553B\",\"size\":[1.263],\"sizemode\":\"area\",\"sizeref\":0.008705000000000001,\"symbol\":\"circle\"},\"mode\":\"markers\",\"name\":\"Tanzania\",\"orientation\":\"v\",\"showlegend\":true,\"x\":[0.833],\"xaxis\":\"x\",\"y\":[0.577],\"yaxis\":\"y\",\"type\":\"scatter\"},{\"hovertemplate\":\"Country name=Haiti<br>Freedom to make life choices=%{x}<br>Perceptions of corruption=%{y}<br>Dystopia + residual=%{marker.size}<extra></extra>\",\"legendgroup\":\"Haiti\",\"marker\":{\"color\":\"#00cc96\",\"size\":[2.06],\"sizemode\":\"area\",\"sizeref\":0.008705000000000001,\"symbol\":\"circle\"},\"mode\":\"markers\",\"name\":\"Haiti\",\"orientation\":\"v\",\"showlegend\":true,\"x\":[0.593],\"xaxis\":\"x\",\"y\":[0.721],\"yaxis\":\"y\",\"type\":\"scatter\"},{\"hovertemplate\":\"Country name=Malawi<br>Freedom to make life choices=%{x}<br>Perceptions of corruption=%{y}<br>Dystopia + residual=%{marker.size}<extra></extra>\",\"legendgroup\":\"Malawi\",\"marker\":{\"color\":\"#ab63fa\",\"size\":[2.19],\"sizemode\":\"area\",\"sizeref\":0.008705000000000001,\"symbol\":\"circle\"},\"mode\":\"markers\",\"name\":\"Malawi\",\"orientation\":\"v\",\"showlegend\":true,\"x\":[0.78],\"xaxis\":\"x\",\"y\":[0.729],\"yaxis\":\"y\",\"type\":\"scatter\"},{\"hovertemplate\":\"Country name=Lesotho<br>Freedom to make life choices=%{x}<br>Perceptions of corruption=%{y}<br>Dystopia + residual=%{marker.size}<extra></extra>\",\"legendgroup\":\"Lesotho\",\"marker\":{\"color\":\"#FFA15A\",\"size\":[1.8],\"sizemode\":\"area\",\"sizeref\":0.008705000000000001,\"symbol\":\"circle\"},\"mode\":\"markers\",\"name\":\"Lesotho\",\"orientation\":\"v\",\"showlegend\":true,\"x\":[0.715],\"xaxis\":\"x\",\"y\":[0.915],\"yaxis\":\"y\",\"type\":\"scatter\"},{\"hovertemplate\":\"Country name=Botswana<br>Freedom to make life choices=%{x}<br>Perceptions of corruption=%{y}<br>Dystopia + residual=%{marker.size}<extra></extra>\",\"legendgroup\":\"Botswana\",\"marker\":{\"color\":\"#19d3f3\",\"size\":[0.648],\"sizemode\":\"area\",\"sizeref\":0.008705000000000001,\"symbol\":\"circle\"},\"mode\":\"markers\",\"name\":\"Botswana\",\"orientation\":\"v\",\"showlegend\":true,\"x\":[0.824],\"xaxis\":\"x\",\"y\":[0.801],\"yaxis\":\"y\",\"type\":\"scatter\"},{\"hovertemplate\":\"Country name=Rwanda<br>Freedom to make life choices=%{x}<br>Perceptions of corruption=%{y}<br>Dystopia + residual=%{marker.size}<extra></extra>\",\"legendgroup\":\"Rwanda\",\"marker\":{\"color\":\"#FF6692\",\"size\":[1.095],\"sizemode\":\"area\",\"sizeref\":0.008705000000000001,\"symbol\":\"circle\"},\"mode\":\"markers\",\"name\":\"Rwanda\",\"orientation\":\"v\",\"showlegend\":true,\"x\":[0.897],\"xaxis\":\"x\",\"y\":[0.167],\"yaxis\":\"y\",\"type\":\"scatter\"},{\"hovertemplate\":\"Country name=Zimbabwe<br>Freedom to make life choices=%{x}<br>Perceptions of corruption=%{y}<br>Dystopia + residual=%{marker.size}<extra></extra>\",\"legendgroup\":\"Zimbabwe\",\"marker\":{\"color\":\"#B6E880\",\"size\":[1.205],\"sizemode\":\"area\",\"sizeref\":0.008705000000000001,\"symbol\":\"circle\"},\"mode\":\"markers\",\"name\":\"Zimbabwe\",\"orientation\":\"v\",\"showlegend\":true,\"x\":[0.677],\"xaxis\":\"x\",\"y\":[0.821],\"yaxis\":\"y\",\"type\":\"scatter\"},{\"hovertemplate\":\"Country name=Afghanistan<br>Freedom to make life choices=%{x}<br>Perceptions of corruption=%{y}<br>Dystopia + residual=%{marker.size}<extra></extra>\",\"legendgroup\":\"Afghanistan\",\"marker\":{\"color\":\"#FF97FF\",\"size\":[1.895],\"sizemode\":\"area\",\"sizeref\":0.008705000000000001,\"symbol\":\"circle\"},\"mode\":\"markers\",\"name\":\"Afghanistan\",\"orientation\":\"v\",\"showlegend\":true,\"x\":[0.382],\"xaxis\":\"x\",\"y\":[0.924],\"yaxis\":\"y\",\"type\":\"scatter\"}],                        {\"template\":{\"data\":{\"histogram2dcontour\":[{\"type\":\"histogram2dcontour\",\"colorbar\":{\"outlinewidth\":0,\"ticks\":\"\"},\"colorscale\":[[0.0,\"#0d0887\"],[0.1111111111111111,\"#46039f\"],[0.2222222222222222,\"#7201a8\"],[0.3333333333333333,\"#9c179e\"],[0.4444444444444444,\"#bd3786\"],[0.5555555555555556,\"#d8576b\"],[0.6666666666666666,\"#ed7953\"],[0.7777777777777778,\"#fb9f3a\"],[0.8888888888888888,\"#fdca26\"],[1.0,\"#f0f921\"]]}],\"choropleth\":[{\"type\":\"choropleth\",\"colorbar\":{\"outlinewidth\":0,\"ticks\":\"\"}}],\"histogram2d\":[{\"type\":\"histogram2d\",\"colorbar\":{\"outlinewidth\":0,\"ticks\":\"\"},\"colorscale\":[[0.0,\"#0d0887\"],[0.1111111111111111,\"#46039f\"],[0.2222222222222222,\"#7201a8\"],[0.3333333333333333,\"#9c179e\"],[0.4444444444444444,\"#bd3786\"],[0.5555555555555556,\"#d8576b\"],[0.6666666666666666,\"#ed7953\"],[0.7777777777777778,\"#fb9f3a\"],[0.8888888888888888,\"#fdca26\"],[1.0,\"#f0f921\"]]}],\"heatmap\":[{\"type\":\"heatmap\",\"colorbar\":{\"outlinewidth\":0,\"ticks\":\"\"},\"colorscale\":[[0.0,\"#0d0887\"],[0.1111111111111111,\"#46039f\"],[0.2222222222222222,\"#7201a8\"],[0.3333333333333333,\"#9c179e\"],[0.4444444444444444,\"#bd3786\"],[0.5555555555555556,\"#d8576b\"],[0.6666666666666666,\"#ed7953\"],[0.7777777777777778,\"#fb9f3a\"],[0.8888888888888888,\"#fdca26\"],[1.0,\"#f0f921\"]]}],\"heatmapgl\":[{\"type\":\"heatmapgl\",\"colorbar\":{\"outlinewidth\":0,\"ticks\":\"\"},\"colorscale\":[[0.0,\"#0d0887\"],[0.1111111111111111,\"#46039f\"],[0.2222222222222222,\"#7201a8\"],[0.3333333333333333,\"#9c179e\"],[0.4444444444444444,\"#bd3786\"],[0.5555555555555556,\"#d8576b\"],[0.6666666666666666,\"#ed7953\"],[0.7777777777777778,\"#fb9f3a\"],[0.8888888888888888,\"#fdca26\"],[1.0,\"#f0f921\"]]}],\"contourcarpet\":[{\"type\":\"contourcarpet\",\"colorbar\":{\"outlinewidth\":0,\"ticks\":\"\"}}],\"contour\":[{\"type\":\"contour\",\"colorbar\":{\"outlinewidth\":0,\"ticks\":\"\"},\"colorscale\":[[0.0,\"#0d0887\"],[0.1111111111111111,\"#46039f\"],[0.2222222222222222,\"#7201a8\"],[0.3333333333333333,\"#9c179e\"],[0.4444444444444444,\"#bd3786\"],[0.5555555555555556,\"#d8576b\"],[0.6666666666666666,\"#ed7953\"],[0.7777777777777778,\"#fb9f3a\"],[0.8888888888888888,\"#fdca26\"],[1.0,\"#f0f921\"]]}],\"surface\":[{\"type\":\"surface\",\"colorbar\":{\"outlinewidth\":0,\"ticks\":\"\"},\"colorscale\":[[0.0,\"#0d0887\"],[0.1111111111111111,\"#46039f\"],[0.2222222222222222,\"#7201a8\"],[0.3333333333333333,\"#9c179e\"],[0.4444444444444444,\"#bd3786\"],[0.5555555555555556,\"#d8576b\"],[0.6666666666666666,\"#ed7953\"],[0.7777777777777778,\"#fb9f3a\"],[0.8888888888888888,\"#fdca26\"],[1.0,\"#f0f921\"]]}],\"mesh3d\":[{\"type\":\"mesh3d\",\"colorbar\":{\"outlinewidth\":0,\"ticks\":\"\"}}],\"scatter\":[{\"fillpattern\":{\"fillmode\":\"overlay\",\"size\":10,\"solidity\":0.2},\"type\":\"scatter\"}],\"parcoords\":[{\"type\":\"parcoords\",\"line\":{\"colorbar\":{\"outlinewidth\":0,\"ticks\":\"\"}}}],\"scatterpolargl\":[{\"type\":\"scatterpolargl\",\"marker\":{\"colorbar\":{\"outlinewidth\":0,\"ticks\":\"\"}}}],\"bar\":[{\"error_x\":{\"color\":\"#2a3f5f\"},\"error_y\":{\"color\":\"#2a3f5f\"},\"marker\":{\"line\":{\"color\":\"#E5ECF6\",\"width\":0.5},\"pattern\":{\"fillmode\":\"overlay\",\"size\":10,\"solidity\":0.2}},\"type\":\"bar\"}],\"scattergeo\":[{\"type\":\"scattergeo\",\"marker\":{\"colorbar\":{\"outlinewidth\":0,\"ticks\":\"\"}}}],\"scatterpolar\":[{\"type\":\"scatterpolar\",\"marker\":{\"colorbar\":{\"outlinewidth\":0,\"ticks\":\"\"}}}],\"histogram\":[{\"marker\":{\"pattern\":{\"fillmode\":\"overlay\",\"size\":10,\"solidity\":0.2}},\"type\":\"histogram\"}],\"scattergl\":[{\"type\":\"scattergl\",\"marker\":{\"colorbar\":{\"outlinewidth\":0,\"ticks\":\"\"}}}],\"scatter3d\":[{\"type\":\"scatter3d\",\"line\":{\"colorbar\":{\"outlinewidth\":0,\"ticks\":\"\"}},\"marker\":{\"colorbar\":{\"outlinewidth\":0,\"ticks\":\"\"}}}],\"scattermapbox\":[{\"type\":\"scattermapbox\",\"marker\":{\"colorbar\":{\"outlinewidth\":0,\"ticks\":\"\"}}}],\"scatterternary\":[{\"type\":\"scatterternary\",\"marker\":{\"colorbar\":{\"outlinewidth\":0,\"ticks\":\"\"}}}],\"scattercarpet\":[{\"type\":\"scattercarpet\",\"marker\":{\"colorbar\":{\"outlinewidth\":0,\"ticks\":\"\"}}}],\"carpet\":[{\"aaxis\":{\"endlinecolor\":\"#2a3f5f\",\"gridcolor\":\"white\",\"linecolor\":\"white\",\"minorgridcolor\":\"white\",\"startlinecolor\":\"#2a3f5f\"},\"baxis\":{\"endlinecolor\":\"#2a3f5f\",\"gridcolor\":\"white\",\"linecolor\":\"white\",\"minorgridcolor\":\"white\",\"startlinecolor\":\"#2a3f5f\"},\"type\":\"carpet\"}],\"table\":[{\"cells\":{\"fill\":{\"color\":\"#EBF0F8\"},\"line\":{\"color\":\"white\"}},\"header\":{\"fill\":{\"color\":\"#C8D4E3\"},\"line\":{\"color\":\"white\"}},\"type\":\"table\"}],\"barpolar\":[{\"marker\":{\"line\":{\"color\":\"#E5ECF6\",\"width\":0.5},\"pattern\":{\"fillmode\":\"overlay\",\"size\":10,\"solidity\":0.2}},\"type\":\"barpolar\"}],\"pie\":[{\"automargin\":true,\"type\":\"pie\"}]},\"layout\":{\"autotypenumbers\":\"strict\",\"colorway\":[\"#636efa\",\"#EF553B\",\"#00cc96\",\"#ab63fa\",\"#FFA15A\",\"#19d3f3\",\"#FF6692\",\"#B6E880\",\"#FF97FF\",\"#FECB52\"],\"font\":{\"color\":\"#2a3f5f\"},\"hovermode\":\"closest\",\"hoverlabel\":{\"align\":\"left\"},\"paper_bgcolor\":\"white\",\"plot_bgcolor\":\"#E5ECF6\",\"polar\":{\"bgcolor\":\"#E5ECF6\",\"angularaxis\":{\"gridcolor\":\"white\",\"linecolor\":\"white\",\"ticks\":\"\"},\"radialaxis\":{\"gridcolor\":\"white\",\"linecolor\":\"white\",\"ticks\":\"\"}},\"ternary\":{\"bgcolor\":\"#E5ECF6\",\"aaxis\":{\"gridcolor\":\"white\",\"linecolor\":\"white\",\"ticks\":\"\"},\"baxis\":{\"gridcolor\":\"white\",\"linecolor\":\"white\",\"ticks\":\"\"},\"caxis\":{\"gridcolor\":\"white\",\"linecolor\":\"white\",\"ticks\":\"\"}},\"coloraxis\":{\"colorbar\":{\"outlinewidth\":0,\"ticks\":\"\"}},\"colorscale\":{\"sequential\":[[0.0,\"#0d0887\"],[0.1111111111111111,\"#46039f\"],[0.2222222222222222,\"#7201a8\"],[0.3333333333333333,\"#9c179e\"],[0.4444444444444444,\"#bd3786\"],[0.5555555555555556,\"#d8576b\"],[0.6666666666666666,\"#ed7953\"],[0.7777777777777778,\"#fb9f3a\"],[0.8888888888888888,\"#fdca26\"],[1.0,\"#f0f921\"]],\"sequentialminus\":[[0.0,\"#0d0887\"],[0.1111111111111111,\"#46039f\"],[0.2222222222222222,\"#7201a8\"],[0.3333333333333333,\"#9c179e\"],[0.4444444444444444,\"#bd3786\"],[0.5555555555555556,\"#d8576b\"],[0.6666666666666666,\"#ed7953\"],[0.7777777777777778,\"#fb9f3a\"],[0.8888888888888888,\"#fdca26\"],[1.0,\"#f0f921\"]],\"diverging\":[[0,\"#8e0152\"],[0.1,\"#c51b7d\"],[0.2,\"#de77ae\"],[0.3,\"#f1b6da\"],[0.4,\"#fde0ef\"],[0.5,\"#f7f7f7\"],[0.6,\"#e6f5d0\"],[0.7,\"#b8e186\"],[0.8,\"#7fbc41\"],[0.9,\"#4d9221\"],[1,\"#276419\"]]},\"xaxis\":{\"gridcolor\":\"white\",\"linecolor\":\"white\",\"ticks\":\"\",\"title\":{\"standoff\":15},\"zerolinecolor\":\"white\",\"automargin\":true,\"zerolinewidth\":2},\"yaxis\":{\"gridcolor\":\"white\",\"linecolor\":\"white\",\"ticks\":\"\",\"title\":{\"standoff\":15},\"zerolinecolor\":\"white\",\"automargin\":true,\"zerolinewidth\":2},\"scene\":{\"xaxis\":{\"backgroundcolor\":\"#E5ECF6\",\"gridcolor\":\"white\",\"linecolor\":\"white\",\"showbackground\":true,\"ticks\":\"\",\"zerolinecolor\":\"white\",\"gridwidth\":2},\"yaxis\":{\"backgroundcolor\":\"#E5ECF6\",\"gridcolor\":\"white\",\"linecolor\":\"white\",\"showbackground\":true,\"ticks\":\"\",\"zerolinecolor\":\"white\",\"gridwidth\":2},\"zaxis\":{\"backgroundcolor\":\"#E5ECF6\",\"gridcolor\":\"white\",\"linecolor\":\"white\",\"showbackground\":true,\"ticks\":\"\",\"zerolinecolor\":\"white\",\"gridwidth\":2}},\"shapedefaults\":{\"line\":{\"color\":\"#2a3f5f\"}},\"annotationdefaults\":{\"arrowcolor\":\"#2a3f5f\",\"arrowhead\":0,\"arrowwidth\":1},\"geo\":{\"bgcolor\":\"white\",\"landcolor\":\"#E5ECF6\",\"subunitcolor\":\"white\",\"showland\":true,\"showlakes\":true,\"lakecolor\":\"white\"},\"title\":{\"x\":0.05},\"mapbox\":{\"style\":\"light\"}}},\"xaxis\":{\"anchor\":\"y\",\"domain\":[0.0,1.0],\"title\":{\"text\":\"Freedom to make life choices\"}},\"yaxis\":{\"anchor\":\"x\",\"domain\":[0.0,1.0],\"title\":{\"text\":\"Perceptions of corruption\"}},\"legend\":{\"title\":{\"text\":\"Country name\"},\"tracegroupgap\":0,\"itemsizing\":\"constant\"},\"title\":{\"text\":\"Freedom vs Corruption by Location & Dystopia\"}},                        {\"responsive\": true}                    ).then(function(){\n                            \nvar gd = document.getElementById('e2ac8f9e-7a86-42cf-82db-0a989163de66');\nvar x = new MutationObserver(function (mutations, observer) {{\n        var display = window.getComputedStyle(gd).display;\n        if (!display || display === 'none') {{\n            console.log([gd, 'removed!']);\n            Plotly.purge(gd);\n            observer.disconnect();\n        }}\n}});\n\n// Listen for the removal of the full notebook cells\nvar notebookContainer = gd.closest('#notebook-container');\nif (notebookContainer) {{\n    x.observe(notebookContainer, {childList: true});\n}}\n\n// Listen for the clearing of the current output cell\nvar outputEl = gd.closest('.output');\nif (outputEl) {{\n    x.observe(outputEl, {childList: true});\n}}\n\n                        })                };                            </script>        </div>\n</body>\n</html>"
     },
     "execution_count": 21,
     "metadata": {
     },
     "output_type": "execute_result"
    }
   ],
   "source": [
    "#scatter plot: Freedom to make life choices vs. Perceptions of corruption\n",
    "fig = px.scatter(wh_df21, x=\"Freedom to make life choices\", y=\"Perceptions of corruption\", color=\"Country name\", title=\"Freedom vs Corruption by Location & Dystopia\",\n",
    "                size=\"Dystopia + residual\")\n",
    "fig.show()"
   ]
  },
  {
   "cell_type": "code",
   "execution_count": 22,
   "metadata": {
    "collapsed": false,
    "scrolled": true
   },
   "outputs": [
    {
     "data": {
      "text/html": "<html>\n<head><meta charset=\"utf-8\" /></head>\n<body>\n    <div>            <script src=\"https://cdnjs.cloudflare.com/ajax/libs/mathjax/2.7.5/MathJax.js?config=TeX-AMS-MML_SVG\"></script><script type=\"text/javascript\">if (window.MathJax && window.MathJax.Hub && window.MathJax.Hub.Config) {window.MathJax.Hub.Config({SVG: {font: \"STIX-Web\"}});}</script>                <script type=\"text/javascript\">window.PlotlyConfig = {MathJaxConfig: 'local'};</script>\n        <script src=\"https://cdn.plot.ly/plotly-2.16.1.min.js\"></script>                <div id=\"885ae54a-1538-4115-9bb7-d6b49db97076\" class=\"plotly-graph-div\" style=\"height:525px; width:100%;\"></div>            <script type=\"text/javascript\">                                    window.PLOTLYENV=window.PLOTLYENV || {};                                    if (document.getElementById(\"885ae54a-1538-4115-9bb7-d6b49db97076\")) {                    Plotly.newPlot(                        \"885ae54a-1538-4115-9bb7-d6b49db97076\",                        [{\"hovertemplate\":\"Country name=Finland<br>Healthy life expectancy=%{x}<br>Ladder score=%{y}<extra></extra>\",\"legendgroup\":\"Finland\",\"marker\":{\"color\":\"#636efa\",\"symbol\":\"circle\"},\"mode\":\"markers\",\"name\":\"Finland\",\"orientation\":\"v\",\"showlegend\":true,\"x\":[72.0],\"xaxis\":\"x\",\"y\":[7.842],\"yaxis\":\"y\",\"type\":\"scatter\"},{\"hovertemplate\":\"Country name=Denmark<br>Healthy life expectancy=%{x}<br>Ladder score=%{y}<extra></extra>\",\"legendgroup\":\"Denmark\",\"marker\":{\"color\":\"#EF553B\",\"symbol\":\"circle\"},\"mode\":\"markers\",\"name\":\"Denmark\",\"orientation\":\"v\",\"showlegend\":true,\"x\":[72.7],\"xaxis\":\"x\",\"y\":[7.62],\"yaxis\":\"y\",\"type\":\"scatter\"},{\"hovertemplate\":\"Country name=Switzerland<br>Healthy life expectancy=%{x}<br>Ladder score=%{y}<extra></extra>\",\"legendgroup\":\"Switzerland\",\"marker\":{\"color\":\"#00cc96\",\"symbol\":\"circle\"},\"mode\":\"markers\",\"name\":\"Switzerland\",\"orientation\":\"v\",\"showlegend\":true,\"x\":[74.4],\"xaxis\":\"x\",\"y\":[7.571],\"yaxis\":\"y\",\"type\":\"scatter\"},{\"hovertemplate\":\"Country name=Iceland<br>Healthy life expectancy=%{x}<br>Ladder score=%{y}<extra></extra>\",\"legendgroup\":\"Iceland\",\"marker\":{\"color\":\"#ab63fa\",\"symbol\":\"circle\"},\"mode\":\"markers\",\"name\":\"Iceland\",\"orientation\":\"v\",\"showlegend\":true,\"x\":[73.0],\"xaxis\":\"x\",\"y\":[7.554],\"yaxis\":\"y\",\"type\":\"scatter\"},{\"hovertemplate\":\"Country name=Netherlands<br>Healthy life expectancy=%{x}<br>Ladder score=%{y}<extra></extra>\",\"legendgroup\":\"Netherlands\",\"marker\":{\"color\":\"#FFA15A\",\"symbol\":\"circle\"},\"mode\":\"markers\",\"name\":\"Netherlands\",\"orientation\":\"v\",\"showlegend\":true,\"x\":[72.4],\"xaxis\":\"x\",\"y\":[7.464],\"yaxis\":\"y\",\"type\":\"scatter\"},{\"hovertemplate\":\"Country name=Norway<br>Healthy life expectancy=%{x}<br>Ladder score=%{y}<extra></extra>\",\"legendgroup\":\"Norway\",\"marker\":{\"color\":\"#19d3f3\",\"symbol\":\"circle\"},\"mode\":\"markers\",\"name\":\"Norway\",\"orientation\":\"v\",\"showlegend\":true,\"x\":[73.3],\"xaxis\":\"x\",\"y\":[7.392],\"yaxis\":\"y\",\"type\":\"scatter\"},{\"hovertemplate\":\"Country name=Sweden<br>Healthy life expectancy=%{x}<br>Ladder score=%{y}<extra></extra>\",\"legendgroup\":\"Sweden\",\"marker\":{\"color\":\"#FF6692\",\"symbol\":\"circle\"},\"mode\":\"markers\",\"name\":\"Sweden\",\"orientation\":\"v\",\"showlegend\":true,\"x\":[72.7],\"xaxis\":\"x\",\"y\":[7.363],\"yaxis\":\"y\",\"type\":\"scatter\"},{\"hovertemplate\":\"Country name=Luxembourg<br>Healthy life expectancy=%{x}<br>Ladder score=%{y}<extra></extra>\",\"legendgroup\":\"Luxembourg\",\"marker\":{\"color\":\"#B6E880\",\"symbol\":\"circle\"},\"mode\":\"markers\",\"name\":\"Luxembourg\",\"orientation\":\"v\",\"showlegend\":true,\"x\":[72.6],\"xaxis\":\"x\",\"y\":[7.324],\"yaxis\":\"y\",\"type\":\"scatter\"},{\"hovertemplate\":\"Country name=New Zealand<br>Healthy life expectancy=%{x}<br>Ladder score=%{y}<extra></extra>\",\"legendgroup\":\"New Zealand\",\"marker\":{\"color\":\"#FF97FF\",\"symbol\":\"circle\"},\"mode\":\"markers\",\"name\":\"New Zealand\",\"orientation\":\"v\",\"showlegend\":true,\"x\":[73.4],\"xaxis\":\"x\",\"y\":[7.277],\"yaxis\":\"y\",\"type\":\"scatter\"},{\"hovertemplate\":\"Country name=Austria<br>Healthy life expectancy=%{x}<br>Ladder score=%{y}<extra></extra>\",\"legendgroup\":\"Austria\",\"marker\":{\"color\":\"#FECB52\",\"symbol\":\"circle\"},\"mode\":\"markers\",\"name\":\"Austria\",\"orientation\":\"v\",\"showlegend\":true,\"x\":[73.3],\"xaxis\":\"x\",\"y\":[7.268],\"yaxis\":\"y\",\"type\":\"scatter\"},{\"hovertemplate\":\"Country name=Australia<br>Healthy life expectancy=%{x}<br>Ladder score=%{y}<extra></extra>\",\"legendgroup\":\"Australia\",\"marker\":{\"color\":\"#636efa\",\"symbol\":\"circle\"},\"mode\":\"markers\",\"name\":\"Australia\",\"orientation\":\"v\",\"showlegend\":true,\"x\":[73.9],\"xaxis\":\"x\",\"y\":[7.183],\"yaxis\":\"y\",\"type\":\"scatter\"},{\"hovertemplate\":\"Country name=Israel<br>Healthy life expectancy=%{x}<br>Ladder score=%{y}<extra></extra>\",\"legendgroup\":\"Israel\",\"marker\":{\"color\":\"#EF553B\",\"symbol\":\"circle\"},\"mode\":\"markers\",\"name\":\"Israel\",\"orientation\":\"v\",\"showlegend\":true,\"x\":[73.503],\"xaxis\":\"x\",\"y\":[7.157],\"yaxis\":\"y\",\"type\":\"scatter\"},{\"hovertemplate\":\"Country name=Germany<br>Healthy life expectancy=%{x}<br>Ladder score=%{y}<extra></extra>\",\"legendgroup\":\"Germany\",\"marker\":{\"color\":\"#00cc96\",\"symbol\":\"circle\"},\"mode\":\"markers\",\"name\":\"Germany\",\"orientation\":\"v\",\"showlegend\":true,\"x\":[72.5],\"xaxis\":\"x\",\"y\":[7.155],\"yaxis\":\"y\",\"type\":\"scatter\"},{\"hovertemplate\":\"Country name=Canada<br>Healthy life expectancy=%{x}<br>Ladder score=%{y}<extra></extra>\",\"legendgroup\":\"Canada\",\"marker\":{\"color\":\"#ab63fa\",\"symbol\":\"circle\"},\"mode\":\"markers\",\"name\":\"Canada\",\"orientation\":\"v\",\"showlegend\":true,\"x\":[73.8],\"xaxis\":\"x\",\"y\":[7.103],\"yaxis\":\"y\",\"type\":\"scatter\"},{\"hovertemplate\":\"Country name=Ireland<br>Healthy life expectancy=%{x}<br>Ladder score=%{y}<extra></extra>\",\"legendgroup\":\"Ireland\",\"marker\":{\"color\":\"#FFA15A\",\"symbol\":\"circle\"},\"mode\":\"markers\",\"name\":\"Ireland\",\"orientation\":\"v\",\"showlegend\":true,\"x\":[72.4],\"xaxis\":\"x\",\"y\":[7.085],\"yaxis\":\"y\",\"type\":\"scatter\"},{\"hovertemplate\":\"Country name=Costa Rica<br>Healthy life expectancy=%{x}<br>Ladder score=%{y}<extra></extra>\",\"legendgroup\":\"Costa Rica\",\"marker\":{\"color\":\"#19d3f3\",\"symbol\":\"circle\"},\"mode\":\"markers\",\"name\":\"Costa Rica\",\"orientation\":\"v\",\"showlegend\":true,\"x\":[71.4],\"xaxis\":\"x\",\"y\":[7.069],\"yaxis\":\"y\",\"type\":\"scatter\"},{\"hovertemplate\":\"Country name=United Kingdom<br>Healthy life expectancy=%{x}<br>Ladder score=%{y}<extra></extra>\",\"legendgroup\":\"United Kingdom\",\"marker\":{\"color\":\"#FF6692\",\"symbol\":\"circle\"},\"mode\":\"markers\",\"name\":\"United Kingdom\",\"orientation\":\"v\",\"showlegend\":true,\"x\":[72.5],\"xaxis\":\"x\",\"y\":[7.064],\"yaxis\":\"y\",\"type\":\"scatter\"},{\"hovertemplate\":\"Country name=Czech Republic<br>Healthy life expectancy=%{x}<br>Ladder score=%{y}<extra></extra>\",\"legendgroup\":\"Czech Republic\",\"marker\":{\"color\":\"#B6E880\",\"symbol\":\"circle\"},\"mode\":\"markers\",\"name\":\"Czech Republic\",\"orientation\":\"v\",\"showlegend\":true,\"x\":[70.807],\"xaxis\":\"x\",\"y\":[6.965],\"yaxis\":\"y\",\"type\":\"scatter\"},{\"hovertemplate\":\"Country name=United States<br>Healthy life expectancy=%{x}<br>Ladder score=%{y}<extra></extra>\",\"legendgroup\":\"United States\",\"marker\":{\"color\":\"#FF97FF\",\"symbol\":\"circle\"},\"mode\":\"markers\",\"name\":\"United States\",\"orientation\":\"v\",\"showlegend\":true,\"x\":[68.2],\"xaxis\":\"x\",\"y\":[6.951],\"yaxis\":\"y\",\"type\":\"scatter\"},{\"hovertemplate\":\"Country name=Belgium<br>Healthy life expectancy=%{x}<br>Ladder score=%{y}<extra></extra>\",\"legendgroup\":\"Belgium\",\"marker\":{\"color\":\"#FECB52\",\"symbol\":\"circle\"},\"mode\":\"markers\",\"name\":\"Belgium\",\"orientation\":\"v\",\"showlegend\":true,\"x\":[72.199],\"xaxis\":\"x\",\"y\":[6.834],\"yaxis\":\"y\",\"type\":\"scatter\"},{\"hovertemplate\":\"Country name=France<br>Healthy life expectancy=%{x}<br>Ladder score=%{y}<extra></extra>\",\"legendgroup\":\"France\",\"marker\":{\"color\":\"#636efa\",\"symbol\":\"circle\"},\"mode\":\"markers\",\"name\":\"France\",\"orientation\":\"v\",\"showlegend\":true,\"x\":[74.0],\"xaxis\":\"x\",\"y\":[6.69],\"yaxis\":\"y\",\"type\":\"scatter\"},{\"hovertemplate\":\"Country name=Bahrain<br>Healthy life expectancy=%{x}<br>Ladder score=%{y}<extra></extra>\",\"legendgroup\":\"Bahrain\",\"marker\":{\"color\":\"#EF553B\",\"symbol\":\"circle\"},\"mode\":\"markers\",\"name\":\"Bahrain\",\"orientation\":\"v\",\"showlegend\":true,\"x\":[69.495],\"xaxis\":\"x\",\"y\":[6.647],\"yaxis\":\"y\",\"type\":\"scatter\"},{\"hovertemplate\":\"Country name=Malta<br>Healthy life expectancy=%{x}<br>Ladder score=%{y}<extra></extra>\",\"legendgroup\":\"Malta\",\"marker\":{\"color\":\"#00cc96\",\"symbol\":\"circle\"},\"mode\":\"markers\",\"name\":\"Malta\",\"orientation\":\"v\",\"showlegend\":true,\"x\":[72.2],\"xaxis\":\"x\",\"y\":[6.602],\"yaxis\":\"y\",\"type\":\"scatter\"},{\"hovertemplate\":\"Country name=Taiwan Province of China<br>Healthy life expectancy=%{x}<br>Ladder score=%{y}<extra></extra>\",\"legendgroup\":\"Taiwan Province of China\",\"marker\":{\"color\":\"#ab63fa\",\"symbol\":\"circle\"},\"mode\":\"markers\",\"name\":\"Taiwan Province of China\",\"orientation\":\"v\",\"showlegend\":true,\"x\":[69.6],\"xaxis\":\"x\",\"y\":[6.584],\"yaxis\":\"y\",\"type\":\"scatter\"},{\"hovertemplate\":\"Country name=United Arab Emirates<br>Healthy life expectancy=%{x}<br>Ladder score=%{y}<extra></extra>\",\"legendgroup\":\"United Arab Emirates\",\"marker\":{\"color\":\"#FFA15A\",\"symbol\":\"circle\"},\"mode\":\"markers\",\"name\":\"United Arab Emirates\",\"orientation\":\"v\",\"showlegend\":true,\"x\":[67.333],\"xaxis\":\"x\",\"y\":[6.561],\"yaxis\":\"y\",\"type\":\"scatter\"},{\"hovertemplate\":\"Country name=Saudi Arabia<br>Healthy life expectancy=%{x}<br>Ladder score=%{y}<extra></extra>\",\"legendgroup\":\"Saudi Arabia\",\"marker\":{\"color\":\"#19d3f3\",\"symbol\":\"circle\"},\"mode\":\"markers\",\"name\":\"Saudi Arabia\",\"orientation\":\"v\",\"showlegend\":true,\"x\":[66.603],\"xaxis\":\"x\",\"y\":[6.494],\"yaxis\":\"y\",\"type\":\"scatter\"},{\"hovertemplate\":\"Country name=Spain<br>Healthy life expectancy=%{x}<br>Ladder score=%{y}<extra></extra>\",\"legendgroup\":\"Spain\",\"marker\":{\"color\":\"#FF6692\",\"symbol\":\"circle\"},\"mode\":\"markers\",\"name\":\"Spain\",\"orientation\":\"v\",\"showlegend\":true,\"x\":[74.7],\"xaxis\":\"x\",\"y\":[6.491],\"yaxis\":\"y\",\"type\":\"scatter\"},{\"hovertemplate\":\"Country name=Italy<br>Healthy life expectancy=%{x}<br>Ladder score=%{y}<extra></extra>\",\"legendgroup\":\"Italy\",\"marker\":{\"color\":\"#B6E880\",\"symbol\":\"circle\"},\"mode\":\"markers\",\"name\":\"Italy\",\"orientation\":\"v\",\"showlegend\":true,\"x\":[73.8],\"xaxis\":\"x\",\"y\":[6.483],\"yaxis\":\"y\",\"type\":\"scatter\"},{\"hovertemplate\":\"Country name=Slovenia<br>Healthy life expectancy=%{x}<br>Ladder score=%{y}<extra></extra>\",\"legendgroup\":\"Slovenia\",\"marker\":{\"color\":\"#FF97FF\",\"symbol\":\"circle\"},\"mode\":\"markers\",\"name\":\"Slovenia\",\"orientation\":\"v\",\"showlegend\":true,\"x\":[71.4],\"xaxis\":\"x\",\"y\":[6.461],\"yaxis\":\"y\",\"type\":\"scatter\"},{\"hovertemplate\":\"Country name=Guatemala<br>Healthy life expectancy=%{x}<br>Ladder score=%{y}<extra></extra>\",\"legendgroup\":\"Guatemala\",\"marker\":{\"color\":\"#FECB52\",\"symbol\":\"circle\"},\"mode\":\"markers\",\"name\":\"Guatemala\",\"orientation\":\"v\",\"showlegend\":true,\"x\":[64.958],\"xaxis\":\"x\",\"y\":[6.435],\"yaxis\":\"y\",\"type\":\"scatter\"},{\"hovertemplate\":\"Country name=Uruguay<br>Healthy life expectancy=%{x}<br>Ladder score=%{y}<extra></extra>\",\"legendgroup\":\"Uruguay\",\"marker\":{\"color\":\"#636efa\",\"symbol\":\"circle\"},\"mode\":\"markers\",\"name\":\"Uruguay\",\"orientation\":\"v\",\"showlegend\":true,\"x\":[69.1],\"xaxis\":\"x\",\"y\":[6.431],\"yaxis\":\"y\",\"type\":\"scatter\"},{\"hovertemplate\":\"Country name=Singapore<br>Healthy life expectancy=%{x}<br>Ladder score=%{y}<extra></extra>\",\"legendgroup\":\"Singapore\",\"marker\":{\"color\":\"#EF553B\",\"symbol\":\"circle\"},\"mode\":\"markers\",\"name\":\"Singapore\",\"orientation\":\"v\",\"showlegend\":true,\"x\":[76.953],\"xaxis\":\"x\",\"y\":[6.377],\"yaxis\":\"y\",\"type\":\"scatter\"},{\"hovertemplate\":\"Country name=Kosovo<br>Healthy life expectancy=%{x}<br>Ladder score=%{y}<extra></extra>\",\"legendgroup\":\"Kosovo\",\"marker\":{\"color\":\"#00cc96\",\"symbol\":\"circle\"},\"mode\":\"markers\",\"name\":\"Kosovo\",\"orientation\":\"v\",\"showlegend\":true,\"x\":[63.813],\"xaxis\":\"x\",\"y\":[6.372],\"yaxis\":\"y\",\"type\":\"scatter\"},{\"hovertemplate\":\"Country name=Slovakia<br>Healthy life expectancy=%{x}<br>Ladder score=%{y}<extra></extra>\",\"legendgroup\":\"Slovakia\",\"marker\":{\"color\":\"#ab63fa\",\"symbol\":\"circle\"},\"mode\":\"markers\",\"name\":\"Slovakia\",\"orientation\":\"v\",\"showlegend\":true,\"x\":[69.201],\"xaxis\":\"x\",\"y\":[6.331],\"yaxis\":\"y\",\"type\":\"scatter\"},{\"hovertemplate\":\"Country name=Brazil<br>Healthy life expectancy=%{x}<br>Ladder score=%{y}<extra></extra>\",\"legendgroup\":\"Brazil\",\"marker\":{\"color\":\"#FFA15A\",\"symbol\":\"circle\"},\"mode\":\"markers\",\"name\":\"Brazil\",\"orientation\":\"v\",\"showlegend\":true,\"x\":[66.601],\"xaxis\":\"x\",\"y\":[6.33],\"yaxis\":\"y\",\"type\":\"scatter\"},{\"hovertemplate\":\"Country name=Mexico<br>Healthy life expectancy=%{x}<br>Ladder score=%{y}<extra></extra>\",\"legendgroup\":\"Mexico\",\"marker\":{\"color\":\"#19d3f3\",\"symbol\":\"circle\"},\"mode\":\"markers\",\"name\":\"Mexico\",\"orientation\":\"v\",\"showlegend\":true,\"x\":[68.597],\"xaxis\":\"x\",\"y\":[6.317],\"yaxis\":\"y\",\"type\":\"scatter\"},{\"hovertemplate\":\"Country name=Jamaica<br>Healthy life expectancy=%{x}<br>Ladder score=%{y}<extra></extra>\",\"legendgroup\":\"Jamaica\",\"marker\":{\"color\":\"#FF6692\",\"symbol\":\"circle\"},\"mode\":\"markers\",\"name\":\"Jamaica\",\"orientation\":\"v\",\"showlegend\":true,\"x\":[67.5],\"xaxis\":\"x\",\"y\":[6.309],\"yaxis\":\"y\",\"type\":\"scatter\"},{\"hovertemplate\":\"Country name=Lithuania<br>Healthy life expectancy=%{x}<br>Ladder score=%{y}<extra></extra>\",\"legendgroup\":\"Lithuania\",\"marker\":{\"color\":\"#B6E880\",\"symbol\":\"circle\"},\"mode\":\"markers\",\"name\":\"Lithuania\",\"orientation\":\"v\",\"showlegend\":true,\"x\":[67.906],\"xaxis\":\"x\",\"y\":[6.255],\"yaxis\":\"y\",\"type\":\"scatter\"},{\"hovertemplate\":\"Country name=Cyprus<br>Healthy life expectancy=%{x}<br>Ladder score=%{y}<extra></extra>\",\"legendgroup\":\"Cyprus\",\"marker\":{\"color\":\"#FF97FF\",\"symbol\":\"circle\"},\"mode\":\"markers\",\"name\":\"Cyprus\",\"orientation\":\"v\",\"showlegend\":true,\"x\":[73.898],\"xaxis\":\"x\",\"y\":[6.223],\"yaxis\":\"y\",\"type\":\"scatter\"},{\"hovertemplate\":\"Country name=Estonia<br>Healthy life expectancy=%{x}<br>Ladder score=%{y}<extra></extra>\",\"legendgroup\":\"Estonia\",\"marker\":{\"color\":\"#FECB52\",\"symbol\":\"circle\"},\"mode\":\"markers\",\"name\":\"Estonia\",\"orientation\":\"v\",\"showlegend\":true,\"x\":[68.8],\"xaxis\":\"x\",\"y\":[6.189],\"yaxis\":\"y\",\"type\":\"scatter\"},{\"hovertemplate\":\"Country name=Panama<br>Healthy life expectancy=%{x}<br>Ladder score=%{y}<extra></extra>\",\"legendgroup\":\"Panama\",\"marker\":{\"color\":\"#636efa\",\"symbol\":\"circle\"},\"mode\":\"markers\",\"name\":\"Panama\",\"orientation\":\"v\",\"showlegend\":true,\"x\":[69.652],\"xaxis\":\"x\",\"y\":[6.18],\"yaxis\":\"y\",\"type\":\"scatter\"},{\"hovertemplate\":\"Country name=Uzbekistan<br>Healthy life expectancy=%{x}<br>Ladder score=%{y}<extra></extra>\",\"legendgroup\":\"Uzbekistan\",\"marker\":{\"color\":\"#EF553B\",\"symbol\":\"circle\"},\"mode\":\"markers\",\"name\":\"Uzbekistan\",\"orientation\":\"v\",\"showlegend\":true,\"x\":[65.255],\"xaxis\":\"x\",\"y\":[6.179],\"yaxis\":\"y\",\"type\":\"scatter\"},{\"hovertemplate\":\"Country name=Chile<br>Healthy life expectancy=%{x}<br>Ladder score=%{y}<extra></extra>\",\"legendgroup\":\"Chile\",\"marker\":{\"color\":\"#00cc96\",\"symbol\":\"circle\"},\"mode\":\"markers\",\"name\":\"Chile\",\"orientation\":\"v\",\"showlegend\":true,\"x\":[70.0],\"xaxis\":\"x\",\"y\":[6.172],\"yaxis\":\"y\",\"type\":\"scatter\"},{\"hovertemplate\":\"Country name=Poland<br>Healthy life expectancy=%{x}<br>Ladder score=%{y}<extra></extra>\",\"legendgroup\":\"Poland\",\"marker\":{\"color\":\"#ab63fa\",\"symbol\":\"circle\"},\"mode\":\"markers\",\"name\":\"Poland\",\"orientation\":\"v\",\"showlegend\":true,\"x\":[69.702],\"xaxis\":\"x\",\"y\":[6.166],\"yaxis\":\"y\",\"type\":\"scatter\"},{\"hovertemplate\":\"Country name=Kazakhstan<br>Healthy life expectancy=%{x}<br>Ladder score=%{y}<extra></extra>\",\"legendgroup\":\"Kazakhstan\",\"marker\":{\"color\":\"#FFA15A\",\"symbol\":\"circle\"},\"mode\":\"markers\",\"name\":\"Kazakhstan\",\"orientation\":\"v\",\"showlegend\":true,\"x\":[65.2],\"xaxis\":\"x\",\"y\":[6.152],\"yaxis\":\"y\",\"type\":\"scatter\"},{\"hovertemplate\":\"Country name=Romania<br>Healthy life expectancy=%{x}<br>Ladder score=%{y}<extra></extra>\",\"legendgroup\":\"Romania\",\"marker\":{\"color\":\"#19d3f3\",\"symbol\":\"circle\"},\"mode\":\"markers\",\"name\":\"Romania\",\"orientation\":\"v\",\"showlegend\":true,\"x\":[67.355],\"xaxis\":\"x\",\"y\":[6.14],\"yaxis\":\"y\",\"type\":\"scatter\"},{\"hovertemplate\":\"Country name=Kuwait<br>Healthy life expectancy=%{x}<br>Ladder score=%{y}<extra></extra>\",\"legendgroup\":\"Kuwait\",\"marker\":{\"color\":\"#FF6692\",\"symbol\":\"circle\"},\"mode\":\"markers\",\"name\":\"Kuwait\",\"orientation\":\"v\",\"showlegend\":true,\"x\":[66.9],\"xaxis\":\"x\",\"y\":[6.106],\"yaxis\":\"y\",\"type\":\"scatter\"},{\"hovertemplate\":\"Country name=Serbia<br>Healthy life expectancy=%{x}<br>Ladder score=%{y}<extra></extra>\",\"legendgroup\":\"Serbia\",\"marker\":{\"color\":\"#B6E880\",\"symbol\":\"circle\"},\"mode\":\"markers\",\"name\":\"Serbia\",\"orientation\":\"v\",\"showlegend\":true,\"x\":[68.6],\"xaxis\":\"x\",\"y\":[6.078],\"yaxis\":\"y\",\"type\":\"scatter\"},{\"hovertemplate\":\"Country name=El Salvador<br>Healthy life expectancy=%{x}<br>Ladder score=%{y}<extra></extra>\",\"legendgroup\":\"El Salvador\",\"marker\":{\"color\":\"#FF97FF\",\"symbol\":\"circle\"},\"mode\":\"markers\",\"name\":\"El Salvador\",\"orientation\":\"v\",\"showlegend\":true,\"x\":[66.402],\"xaxis\":\"x\",\"y\":[6.061],\"yaxis\":\"y\",\"type\":\"scatter\"},{\"hovertemplate\":\"Country name=Mauritius<br>Healthy life expectancy=%{x}<br>Ladder score=%{y}<extra></extra>\",\"legendgroup\":\"Mauritius\",\"marker\":{\"color\":\"#FECB52\",\"symbol\":\"circle\"},\"mode\":\"markers\",\"name\":\"Mauritius\",\"orientation\":\"v\",\"showlegend\":true,\"x\":[66.701],\"xaxis\":\"x\",\"y\":[6.049],\"yaxis\":\"y\",\"type\":\"scatter\"},{\"hovertemplate\":\"Country name=Latvia<br>Healthy life expectancy=%{x}<br>Ladder score=%{y}<extra></extra>\",\"legendgroup\":\"Latvia\",\"marker\":{\"color\":\"#636efa\",\"symbol\":\"circle\"},\"mode\":\"markers\",\"name\":\"Latvia\",\"orientation\":\"v\",\"showlegend\":true,\"x\":[67.1],\"xaxis\":\"x\",\"y\":[6.032],\"yaxis\":\"y\",\"type\":\"scatter\"},{\"hovertemplate\":\"Country name=Colombia<br>Healthy life expectancy=%{x}<br>Ladder score=%{y}<extra></extra>\",\"legendgroup\":\"Colombia\",\"marker\":{\"color\":\"#EF553B\",\"symbol\":\"circle\"},\"mode\":\"markers\",\"name\":\"Colombia\",\"orientation\":\"v\",\"showlegend\":true,\"x\":[68.001],\"xaxis\":\"x\",\"y\":[6.012],\"yaxis\":\"y\",\"type\":\"scatter\"},{\"hovertemplate\":\"Country name=Hungary<br>Healthy life expectancy=%{x}<br>Ladder score=%{y}<extra></extra>\",\"legendgroup\":\"Hungary\",\"marker\":{\"color\":\"#00cc96\",\"symbol\":\"circle\"},\"mode\":\"markers\",\"name\":\"Hungary\",\"orientation\":\"v\",\"showlegend\":true,\"x\":[68.0],\"xaxis\":\"x\",\"y\":[5.992],\"yaxis\":\"y\",\"type\":\"scatter\"},{\"hovertemplate\":\"Country name=Thailand<br>Healthy life expectancy=%{x}<br>Ladder score=%{y}<extra></extra>\",\"legendgroup\":\"Thailand\",\"marker\":{\"color\":\"#ab63fa\",\"symbol\":\"circle\"},\"mode\":\"markers\",\"name\":\"Thailand\",\"orientation\":\"v\",\"showlegend\":true,\"x\":[67.401],\"xaxis\":\"x\",\"y\":[5.985],\"yaxis\":\"y\",\"type\":\"scatter\"},{\"hovertemplate\":\"Country name=Nicaragua<br>Healthy life expectancy=%{x}<br>Ladder score=%{y}<extra></extra>\",\"legendgroup\":\"Nicaragua\",\"marker\":{\"color\":\"#FFA15A\",\"symbol\":\"circle\"},\"mode\":\"markers\",\"name\":\"Nicaragua\",\"orientation\":\"v\",\"showlegend\":true,\"x\":[67.657],\"xaxis\":\"x\",\"y\":[5.972],\"yaxis\":\"y\",\"type\":\"scatter\"},{\"hovertemplate\":\"Country name=Japan<br>Healthy life expectancy=%{x}<br>Ladder score=%{y}<extra></extra>\",\"legendgroup\":\"Japan\",\"marker\":{\"color\":\"#19d3f3\",\"symbol\":\"circle\"},\"mode\":\"markers\",\"name\":\"Japan\",\"orientation\":\"v\",\"showlegend\":true,\"x\":[75.1],\"xaxis\":\"x\",\"y\":[5.94],\"yaxis\":\"y\",\"type\":\"scatter\"},{\"hovertemplate\":\"Country name=Argentina<br>Healthy life expectancy=%{x}<br>Ladder score=%{y}<extra></extra>\",\"legendgroup\":\"Argentina\",\"marker\":{\"color\":\"#FF6692\",\"symbol\":\"circle\"},\"mode\":\"markers\",\"name\":\"Argentina\",\"orientation\":\"v\",\"showlegend\":true,\"x\":[69.0],\"xaxis\":\"x\",\"y\":[5.929],\"yaxis\":\"y\",\"type\":\"scatter\"},{\"hovertemplate\":\"Country name=Portugal<br>Healthy life expectancy=%{x}<br>Ladder score=%{y}<extra></extra>\",\"legendgroup\":\"Portugal\",\"marker\":{\"color\":\"#B6E880\",\"symbol\":\"circle\"},\"mode\":\"markers\",\"name\":\"Portugal\",\"orientation\":\"v\",\"showlegend\":true,\"x\":[72.6],\"xaxis\":\"x\",\"y\":[5.929],\"yaxis\":\"y\",\"type\":\"scatter\"},{\"hovertemplate\":\"Country name=Honduras<br>Healthy life expectancy=%{x}<br>Ladder score=%{y}<extra></extra>\",\"legendgroup\":\"Honduras\",\"marker\":{\"color\":\"#FF97FF\",\"symbol\":\"circle\"},\"mode\":\"markers\",\"name\":\"Honduras\",\"orientation\":\"v\",\"showlegend\":true,\"x\":[67.3],\"xaxis\":\"x\",\"y\":[5.919],\"yaxis\":\"y\",\"type\":\"scatter\"},{\"hovertemplate\":\"Country name=Croatia<br>Healthy life expectancy=%{x}<br>Ladder score=%{y}<extra></extra>\",\"legendgroup\":\"Croatia\",\"marker\":{\"color\":\"#FECB52\",\"symbol\":\"circle\"},\"mode\":\"markers\",\"name\":\"Croatia\",\"orientation\":\"v\",\"showlegend\":true,\"x\":[70.799],\"xaxis\":\"x\",\"y\":[5.882],\"yaxis\":\"y\",\"type\":\"scatter\"},{\"hovertemplate\":\"Country name=Philippines<br>Healthy life expectancy=%{x}<br>Ladder score=%{y}<extra></extra>\",\"legendgroup\":\"Philippines\",\"marker\":{\"color\":\"#636efa\",\"symbol\":\"circle\"},\"mode\":\"markers\",\"name\":\"Philippines\",\"orientation\":\"v\",\"showlegend\":true,\"x\":[62.0],\"xaxis\":\"x\",\"y\":[5.88],\"yaxis\":\"y\",\"type\":\"scatter\"},{\"hovertemplate\":\"Country name=South Korea<br>Healthy life expectancy=%{x}<br>Ladder score=%{y}<extra></extra>\",\"legendgroup\":\"South Korea\",\"marker\":{\"color\":\"#EF553B\",\"symbol\":\"circle\"},\"mode\":\"markers\",\"name\":\"South Korea\",\"orientation\":\"v\",\"showlegend\":true,\"x\":[73.9],\"xaxis\":\"x\",\"y\":[5.845],\"yaxis\":\"y\",\"type\":\"scatter\"},{\"hovertemplate\":\"Country name=Peru<br>Healthy life expectancy=%{x}<br>Ladder score=%{y}<extra></extra>\",\"legendgroup\":\"Peru\",\"marker\":{\"color\":\"#00cc96\",\"symbol\":\"circle\"},\"mode\":\"markers\",\"name\":\"Peru\",\"orientation\":\"v\",\"showlegend\":true,\"x\":[68.25],\"xaxis\":\"x\",\"y\":[5.84],\"yaxis\":\"y\",\"type\":\"scatter\"},{\"hovertemplate\":\"Country name=Bosnia and Herzegovina<br>Healthy life expectancy=%{x}<br>Ladder score=%{y}<extra></extra>\",\"legendgroup\":\"Bosnia and Herzegovina\",\"marker\":{\"color\":\"#ab63fa\",\"symbol\":\"circle\"},\"mode\":\"markers\",\"name\":\"Bosnia and Herzegovina\",\"orientation\":\"v\",\"showlegend\":true,\"x\":[68.098],\"xaxis\":\"x\",\"y\":[5.813],\"yaxis\":\"y\",\"type\":\"scatter\"},{\"hovertemplate\":\"Country name=Moldova<br>Healthy life expectancy=%{x}<br>Ladder score=%{y}<extra></extra>\",\"legendgroup\":\"Moldova\",\"marker\":{\"color\":\"#FFA15A\",\"symbol\":\"circle\"},\"mode\":\"markers\",\"name\":\"Moldova\",\"orientation\":\"v\",\"showlegend\":true,\"x\":[65.699],\"xaxis\":\"x\",\"y\":[5.766],\"yaxis\":\"y\",\"type\":\"scatter\"},{\"hovertemplate\":\"Country name=Ecuador<br>Healthy life expectancy=%{x}<br>Ladder score=%{y}<extra></extra>\",\"legendgroup\":\"Ecuador\",\"marker\":{\"color\":\"#19d3f3\",\"symbol\":\"circle\"},\"mode\":\"markers\",\"name\":\"Ecuador\",\"orientation\":\"v\",\"showlegend\":true,\"x\":[68.8],\"xaxis\":\"x\",\"y\":[5.764],\"yaxis\":\"y\",\"type\":\"scatter\"},{\"hovertemplate\":\"Country name=Kyrgyzstan<br>Healthy life expectancy=%{x}<br>Ladder score=%{y}<extra></extra>\",\"legendgroup\":\"Kyrgyzstan\",\"marker\":{\"color\":\"#FF6692\",\"symbol\":\"circle\"},\"mode\":\"markers\",\"name\":\"Kyrgyzstan\",\"orientation\":\"v\",\"showlegend\":true,\"x\":[64.401],\"xaxis\":\"x\",\"y\":[5.744],\"yaxis\":\"y\",\"type\":\"scatter\"},{\"hovertemplate\":\"Country name=Greece<br>Healthy life expectancy=%{x}<br>Ladder score=%{y}<extra></extra>\",\"legendgroup\":\"Greece\",\"marker\":{\"color\":\"#B6E880\",\"symbol\":\"circle\"},\"mode\":\"markers\",\"name\":\"Greece\",\"orientation\":\"v\",\"showlegend\":true,\"x\":[72.6],\"xaxis\":\"x\",\"y\":[5.723],\"yaxis\":\"y\",\"type\":\"scatter\"},{\"hovertemplate\":\"Country name=Bolivia<br>Healthy life expectancy=%{x}<br>Ladder score=%{y}<extra></extra>\",\"legendgroup\":\"Bolivia\",\"marker\":{\"color\":\"#FF97FF\",\"symbol\":\"circle\"},\"mode\":\"markers\",\"name\":\"Bolivia\",\"orientation\":\"v\",\"showlegend\":true,\"x\":[63.901],\"xaxis\":\"x\",\"y\":[5.716],\"yaxis\":\"y\",\"type\":\"scatter\"},{\"hovertemplate\":\"Country name=Mongolia<br>Healthy life expectancy=%{x}<br>Ladder score=%{y}<extra></extra>\",\"legendgroup\":\"Mongolia\",\"marker\":{\"color\":\"#FECB52\",\"symbol\":\"circle\"},\"mode\":\"markers\",\"name\":\"Mongolia\",\"orientation\":\"v\",\"showlegend\":true,\"x\":[62.5],\"xaxis\":\"x\",\"y\":[5.677],\"yaxis\":\"y\",\"type\":\"scatter\"},{\"hovertemplate\":\"Country name=Paraguay<br>Healthy life expectancy=%{x}<br>Ladder score=%{y}<extra></extra>\",\"legendgroup\":\"Paraguay\",\"marker\":{\"color\":\"#636efa\",\"symbol\":\"circle\"},\"mode\":\"markers\",\"name\":\"Paraguay\",\"orientation\":\"v\",\"showlegend\":true,\"x\":[65.9],\"xaxis\":\"x\",\"y\":[5.653],\"yaxis\":\"y\",\"type\":\"scatter\"},{\"hovertemplate\":\"Country name=Montenegro<br>Healthy life expectancy=%{x}<br>Ladder score=%{y}<extra></extra>\",\"legendgroup\":\"Montenegro\",\"marker\":{\"color\":\"#EF553B\",\"symbol\":\"circle\"},\"mode\":\"markers\",\"name\":\"Montenegro\",\"orientation\":\"v\",\"showlegend\":true,\"x\":[68.699],\"xaxis\":\"x\",\"y\":[5.581],\"yaxis\":\"y\",\"type\":\"scatter\"},{\"hovertemplate\":\"Country name=Dominican Republic<br>Healthy life expectancy=%{x}<br>Ladder score=%{y}<extra></extra>\",\"legendgroup\":\"Dominican Republic\",\"marker\":{\"color\":\"#00cc96\",\"symbol\":\"circle\"},\"mode\":\"markers\",\"name\":\"Dominican Republic\",\"orientation\":\"v\",\"showlegend\":true,\"x\":[66.102],\"xaxis\":\"x\",\"y\":[5.545],\"yaxis\":\"y\",\"type\":\"scatter\"},{\"hovertemplate\":\"Country name=North Cyprus<br>Healthy life expectancy=%{x}<br>Ladder score=%{y}<extra></extra>\",\"legendgroup\":\"North Cyprus\",\"marker\":{\"color\":\"#ab63fa\",\"symbol\":\"circle\"},\"mode\":\"markers\",\"name\":\"North Cyprus\",\"orientation\":\"v\",\"showlegend\":true,\"x\":[73.898],\"xaxis\":\"x\",\"y\":[5.536],\"yaxis\":\"y\",\"type\":\"scatter\"},{\"hovertemplate\":\"Country name=Belarus<br>Healthy life expectancy=%{x}<br>Ladder score=%{y}<extra></extra>\",\"legendgroup\":\"Belarus\",\"marker\":{\"color\":\"#FFA15A\",\"symbol\":\"circle\"},\"mode\":\"markers\",\"name\":\"Belarus\",\"orientation\":\"v\",\"showlegend\":true,\"x\":[66.253],\"xaxis\":\"x\",\"y\":[5.534],\"yaxis\":\"y\",\"type\":\"scatter\"},{\"hovertemplate\":\"Country name=Russia<br>Healthy life expectancy=%{x}<br>Ladder score=%{y}<extra></extra>\",\"legendgroup\":\"Russia\",\"marker\":{\"color\":\"#19d3f3\",\"symbol\":\"circle\"},\"mode\":\"markers\",\"name\":\"Russia\",\"orientation\":\"v\",\"showlegend\":true,\"x\":[64.703],\"xaxis\":\"x\",\"y\":[5.477],\"yaxis\":\"y\",\"type\":\"scatter\"},{\"hovertemplate\":\"Country name=Hong Kong S.A.R. of China<br>Healthy life expectancy=%{x}<br>Ladder score=%{y}<extra></extra>\",\"legendgroup\":\"Hong Kong S.A.R. of China\",\"marker\":{\"color\":\"#FF6692\",\"symbol\":\"circle\"},\"mode\":\"markers\",\"name\":\"Hong Kong S.A.R. of China\",\"orientation\":\"v\",\"showlegend\":true,\"x\":[76.82],\"xaxis\":\"x\",\"y\":[5.477],\"yaxis\":\"y\",\"type\":\"scatter\"},{\"hovertemplate\":\"Country name=Tajikistan<br>Healthy life expectancy=%{x}<br>Ladder score=%{y}<extra></extra>\",\"legendgroup\":\"Tajikistan\",\"marker\":{\"color\":\"#B6E880\",\"symbol\":\"circle\"},\"mode\":\"markers\",\"name\":\"Tajikistan\",\"orientation\":\"v\",\"showlegend\":true,\"x\":[64.281],\"xaxis\":\"x\",\"y\":[5.466],\"yaxis\":\"y\",\"type\":\"scatter\"},{\"hovertemplate\":\"Country name=Vietnam<br>Healthy life expectancy=%{x}<br>Ladder score=%{y}<extra></extra>\",\"legendgroup\":\"Vietnam\",\"marker\":{\"color\":\"#FF97FF\",\"symbol\":\"circle\"},\"mode\":\"markers\",\"name\":\"Vietnam\",\"orientation\":\"v\",\"showlegend\":true,\"x\":[68.034],\"xaxis\":\"x\",\"y\":[5.411],\"yaxis\":\"y\",\"type\":\"scatter\"},{\"hovertemplate\":\"Country name=Libya<br>Healthy life expectancy=%{x}<br>Ladder score=%{y}<extra></extra>\",\"legendgroup\":\"Libya\",\"marker\":{\"color\":\"#FECB52\",\"symbol\":\"circle\"},\"mode\":\"markers\",\"name\":\"Libya\",\"orientation\":\"v\",\"showlegend\":true,\"x\":[62.3],\"xaxis\":\"x\",\"y\":[5.41],\"yaxis\":\"y\",\"type\":\"scatter\"},{\"hovertemplate\":\"Country name=Malaysia<br>Healthy life expectancy=%{x}<br>Ladder score=%{y}<extra></extra>\",\"legendgroup\":\"Malaysia\",\"marker\":{\"color\":\"#636efa\",\"symbol\":\"circle\"},\"mode\":\"markers\",\"name\":\"Malaysia\",\"orientation\":\"v\",\"showlegend\":true,\"x\":[67.102],\"xaxis\":\"x\",\"y\":[5.384],\"yaxis\":\"y\",\"type\":\"scatter\"},{\"hovertemplate\":\"Country name=Indonesia<br>Healthy life expectancy=%{x}<br>Ladder score=%{y}<extra></extra>\",\"legendgroup\":\"Indonesia\",\"marker\":{\"color\":\"#EF553B\",\"symbol\":\"circle\"},\"mode\":\"markers\",\"name\":\"Indonesia\",\"orientation\":\"v\",\"showlegend\":true,\"x\":[62.236],\"xaxis\":\"x\",\"y\":[5.345],\"yaxis\":\"y\",\"type\":\"scatter\"},{\"hovertemplate\":\"Country name=Congo (Brazzaville)<br>Healthy life expectancy=%{x}<br>Ladder score=%{y}<extra></extra>\",\"legendgroup\":\"Congo (Brazzaville)\",\"marker\":{\"color\":\"#00cc96\",\"symbol\":\"circle\"},\"mode\":\"markers\",\"name\":\"Congo (Brazzaville)\",\"orientation\":\"v\",\"showlegend\":true,\"x\":[58.221],\"xaxis\":\"x\",\"y\":[5.342],\"yaxis\":\"y\",\"type\":\"scatter\"},{\"hovertemplate\":\"Country name=China<br>Healthy life expectancy=%{x}<br>Ladder score=%{y}<extra></extra>\",\"legendgroup\":\"China\",\"marker\":{\"color\":\"#ab63fa\",\"symbol\":\"circle\"},\"mode\":\"markers\",\"name\":\"China\",\"orientation\":\"v\",\"showlegend\":true,\"x\":[69.593],\"xaxis\":\"x\",\"y\":[5.339],\"yaxis\":\"y\",\"type\":\"scatter\"},{\"hovertemplate\":\"Country name=Ivory Coast<br>Healthy life expectancy=%{x}<br>Ladder score=%{y}<extra></extra>\",\"legendgroup\":\"Ivory Coast\",\"marker\":{\"color\":\"#FFA15A\",\"symbol\":\"circle\"},\"mode\":\"markers\",\"name\":\"Ivory Coast\",\"orientation\":\"v\",\"showlegend\":true,\"x\":[50.114],\"xaxis\":\"x\",\"y\":[5.306],\"yaxis\":\"y\",\"type\":\"scatter\"},{\"hovertemplate\":\"Country name=Armenia<br>Healthy life expectancy=%{x}<br>Ladder score=%{y}<extra></extra>\",\"legendgroup\":\"Armenia\",\"marker\":{\"color\":\"#19d3f3\",\"symbol\":\"circle\"},\"mode\":\"markers\",\"name\":\"Armenia\",\"orientation\":\"v\",\"showlegend\":true,\"x\":[67.055],\"xaxis\":\"x\",\"y\":[5.283],\"yaxis\":\"y\",\"type\":\"scatter\"},{\"hovertemplate\":\"Country name=Nepal<br>Healthy life expectancy=%{x}<br>Ladder score=%{y}<extra></extra>\",\"legendgroup\":\"Nepal\",\"marker\":{\"color\":\"#FF6692\",\"symbol\":\"circle\"},\"mode\":\"markers\",\"name\":\"Nepal\",\"orientation\":\"v\",\"showlegend\":true,\"x\":[64.233],\"xaxis\":\"x\",\"y\":[5.269],\"yaxis\":\"y\",\"type\":\"scatter\"},{\"hovertemplate\":\"Country name=Bulgaria<br>Healthy life expectancy=%{x}<br>Ladder score=%{y}<extra></extra>\",\"legendgroup\":\"Bulgaria\",\"marker\":{\"color\":\"#B6E880\",\"symbol\":\"circle\"},\"mode\":\"markers\",\"name\":\"Bulgaria\",\"orientation\":\"v\",\"showlegend\":true,\"x\":[67.0],\"xaxis\":\"x\",\"y\":[5.266],\"yaxis\":\"y\",\"type\":\"scatter\"},{\"hovertemplate\":\"Country name=Maldives<br>Healthy life expectancy=%{x}<br>Ladder score=%{y}<extra></extra>\",\"legendgroup\":\"Maldives\",\"marker\":{\"color\":\"#FF97FF\",\"symbol\":\"circle\"},\"mode\":\"markers\",\"name\":\"Maldives\",\"orientation\":\"v\",\"showlegend\":true,\"x\":[70.6],\"xaxis\":\"x\",\"y\":[5.198],\"yaxis\":\"y\",\"type\":\"scatter\"},{\"hovertemplate\":\"Country name=Azerbaijan<br>Healthy life expectancy=%{x}<br>Ladder score=%{y}<extra></extra>\",\"legendgroup\":\"Azerbaijan\",\"marker\":{\"color\":\"#FECB52\",\"symbol\":\"circle\"},\"mode\":\"markers\",\"name\":\"Azerbaijan\",\"orientation\":\"v\",\"showlegend\":true,\"x\":[65.656],\"xaxis\":\"x\",\"y\":[5.171],\"yaxis\":\"y\",\"type\":\"scatter\"},{\"hovertemplate\":\"Country name=Cameroon<br>Healthy life expectancy=%{x}<br>Ladder score=%{y}<extra></extra>\",\"legendgroup\":\"Cameroon\",\"marker\":{\"color\":\"#636efa\",\"symbol\":\"circle\"},\"mode\":\"markers\",\"name\":\"Cameroon\",\"orientation\":\"v\",\"showlegend\":true,\"x\":[53.515],\"xaxis\":\"x\",\"y\":[5.142],\"yaxis\":\"y\",\"type\":\"scatter\"},{\"hovertemplate\":\"Country name=Senegal<br>Healthy life expectancy=%{x}<br>Ladder score=%{y}<extra></extra>\",\"legendgroup\":\"Senegal\",\"marker\":{\"color\":\"#EF553B\",\"symbol\":\"circle\"},\"mode\":\"markers\",\"name\":\"Senegal\",\"orientation\":\"v\",\"showlegend\":true,\"x\":[59.802],\"xaxis\":\"x\",\"y\":[5.132],\"yaxis\":\"y\",\"type\":\"scatter\"},{\"hovertemplate\":\"Country name=Albania<br>Healthy life expectancy=%{x}<br>Ladder score=%{y}<extra></extra>\",\"legendgroup\":\"Albania\",\"marker\":{\"color\":\"#00cc96\",\"symbol\":\"circle\"},\"mode\":\"markers\",\"name\":\"Albania\",\"orientation\":\"v\",\"showlegend\":true,\"x\":[68.999],\"xaxis\":\"x\",\"y\":[5.117],\"yaxis\":\"y\",\"type\":\"scatter\"},{\"hovertemplate\":\"Country name=North Macedonia<br>Healthy life expectancy=%{x}<br>Ladder score=%{y}<extra></extra>\",\"legendgroup\":\"North Macedonia\",\"marker\":{\"color\":\"#ab63fa\",\"symbol\":\"circle\"},\"mode\":\"markers\",\"name\":\"North Macedonia\",\"orientation\":\"v\",\"showlegend\":true,\"x\":[65.474],\"xaxis\":\"x\",\"y\":[5.101],\"yaxis\":\"y\",\"type\":\"scatter\"},{\"hovertemplate\":\"Country name=Ghana<br>Healthy life expectancy=%{x}<br>Ladder score=%{y}<extra></extra>\",\"legendgroup\":\"Ghana\",\"marker\":{\"color\":\"#FFA15A\",\"symbol\":\"circle\"},\"mode\":\"markers\",\"name\":\"Ghana\",\"orientation\":\"v\",\"showlegend\":true,\"x\":[57.586],\"xaxis\":\"x\",\"y\":[5.088],\"yaxis\":\"y\",\"type\":\"scatter\"},{\"hovertemplate\":\"Country name=Niger<br>Healthy life expectancy=%{x}<br>Ladder score=%{y}<extra></extra>\",\"legendgroup\":\"Niger\",\"marker\":{\"color\":\"#19d3f3\",\"symbol\":\"circle\"},\"mode\":\"markers\",\"name\":\"Niger\",\"orientation\":\"v\",\"showlegend\":true,\"x\":[53.78],\"xaxis\":\"x\",\"y\":[5.074],\"yaxis\":\"y\",\"type\":\"scatter\"},{\"hovertemplate\":\"Country name=Turkmenistan<br>Healthy life expectancy=%{x}<br>Ladder score=%{y}<extra></extra>\",\"legendgroup\":\"Turkmenistan\",\"marker\":{\"color\":\"#FF6692\",\"symbol\":\"circle\"},\"mode\":\"markers\",\"name\":\"Turkmenistan\",\"orientation\":\"v\",\"showlegend\":true,\"x\":[62.409],\"xaxis\":\"x\",\"y\":[5.066],\"yaxis\":\"y\",\"type\":\"scatter\"},{\"hovertemplate\":\"Country name=Gambia<br>Healthy life expectancy=%{x}<br>Ladder score=%{y}<extra></extra>\",\"legendgroup\":\"Gambia\",\"marker\":{\"color\":\"#B6E880\",\"symbol\":\"circle\"},\"mode\":\"markers\",\"name\":\"Gambia\",\"orientation\":\"v\",\"showlegend\":true,\"x\":[55.16],\"xaxis\":\"x\",\"y\":[5.051],\"yaxis\":\"y\",\"type\":\"scatter\"},{\"hovertemplate\":\"Country name=Benin<br>Healthy life expectancy=%{x}<br>Ladder score=%{y}<extra></extra>\",\"legendgroup\":\"Benin\",\"marker\":{\"color\":\"#FF97FF\",\"symbol\":\"circle\"},\"mode\":\"markers\",\"name\":\"Benin\",\"orientation\":\"v\",\"showlegend\":true,\"x\":[54.713],\"xaxis\":\"x\",\"y\":[5.045],\"yaxis\":\"y\",\"type\":\"scatter\"},{\"hovertemplate\":\"Country name=Laos<br>Healthy life expectancy=%{x}<br>Ladder score=%{y}<extra></extra>\",\"legendgroup\":\"Laos\",\"marker\":{\"color\":\"#FECB52\",\"symbol\":\"circle\"},\"mode\":\"markers\",\"name\":\"Laos\",\"orientation\":\"v\",\"showlegend\":true,\"x\":[58.968],\"xaxis\":\"x\",\"y\":[5.03],\"yaxis\":\"y\",\"type\":\"scatter\"},{\"hovertemplate\":\"Country name=Bangladesh<br>Healthy life expectancy=%{x}<br>Ladder score=%{y}<extra></extra>\",\"legendgroup\":\"Bangladesh\",\"marker\":{\"color\":\"#636efa\",\"symbol\":\"circle\"},\"mode\":\"markers\",\"name\":\"Bangladesh\",\"orientation\":\"v\",\"showlegend\":true,\"x\":[64.8],\"xaxis\":\"x\",\"y\":[5.025],\"yaxis\":\"y\",\"type\":\"scatter\"},{\"hovertemplate\":\"Country name=Guinea<br>Healthy life expectancy=%{x}<br>Ladder score=%{y}<extra></extra>\",\"legendgroup\":\"Guinea\",\"marker\":{\"color\":\"#EF553B\",\"symbol\":\"circle\"},\"mode\":\"markers\",\"name\":\"Guinea\",\"orientation\":\"v\",\"showlegend\":true,\"x\":[55.008],\"xaxis\":\"x\",\"y\":[4.984],\"yaxis\":\"y\",\"type\":\"scatter\"},{\"hovertemplate\":\"Country name=South Africa<br>Healthy life expectancy=%{x}<br>Ladder score=%{y}<extra></extra>\",\"legendgroup\":\"South Africa\",\"marker\":{\"color\":\"#00cc96\",\"symbol\":\"circle\"},\"mode\":\"markers\",\"name\":\"South Africa\",\"orientation\":\"v\",\"showlegend\":true,\"x\":[56.904],\"xaxis\":\"x\",\"y\":[4.956],\"yaxis\":\"y\",\"type\":\"scatter\"},{\"hovertemplate\":\"Country name=Turkey<br>Healthy life expectancy=%{x}<br>Ladder score=%{y}<extra></extra>\",\"legendgroup\":\"Turkey\",\"marker\":{\"color\":\"#ab63fa\",\"symbol\":\"circle\"},\"mode\":\"markers\",\"name\":\"Turkey\",\"orientation\":\"v\",\"showlegend\":true,\"x\":[67.199],\"xaxis\":\"x\",\"y\":[4.948],\"yaxis\":\"y\",\"type\":\"scatter\"},{\"hovertemplate\":\"Country name=Pakistan<br>Healthy life expectancy=%{x}<br>Ladder score=%{y}<extra></extra>\",\"legendgroup\":\"Pakistan\",\"marker\":{\"color\":\"#FFA15A\",\"symbol\":\"circle\"},\"mode\":\"markers\",\"name\":\"Pakistan\",\"orientation\":\"v\",\"showlegend\":true,\"x\":[58.709],\"xaxis\":\"x\",\"y\":[4.934],\"yaxis\":\"y\",\"type\":\"scatter\"},{\"hovertemplate\":\"Country name=Morocco<br>Healthy life expectancy=%{x}<br>Ladder score=%{y}<extra></extra>\",\"legendgroup\":\"Morocco\",\"marker\":{\"color\":\"#19d3f3\",\"symbol\":\"circle\"},\"mode\":\"markers\",\"name\":\"Morocco\",\"orientation\":\"v\",\"showlegend\":true,\"x\":[66.208],\"xaxis\":\"x\",\"y\":[4.918],\"yaxis\":\"y\",\"type\":\"scatter\"},{\"hovertemplate\":\"Country name=Venezuela<br>Healthy life expectancy=%{x}<br>Ladder score=%{y}<extra></extra>\",\"legendgroup\":\"Venezuela\",\"marker\":{\"color\":\"#FF6692\",\"symbol\":\"circle\"},\"mode\":\"markers\",\"name\":\"Venezuela\",\"orientation\":\"v\",\"showlegend\":true,\"x\":[66.7],\"xaxis\":\"x\",\"y\":[4.892],\"yaxis\":\"y\",\"type\":\"scatter\"},{\"hovertemplate\":\"Country name=Georgia<br>Healthy life expectancy=%{x}<br>Ladder score=%{y}<extra></extra>\",\"legendgroup\":\"Georgia\",\"marker\":{\"color\":\"#B6E880\",\"symbol\":\"circle\"},\"mode\":\"markers\",\"name\":\"Georgia\",\"orientation\":\"v\",\"showlegend\":true,\"x\":[64.3],\"xaxis\":\"x\",\"y\":[4.891],\"yaxis\":\"y\",\"type\":\"scatter\"},{\"hovertemplate\":\"Country name=Algeria<br>Healthy life expectancy=%{x}<br>Ladder score=%{y}<extra></extra>\",\"legendgroup\":\"Algeria\",\"marker\":{\"color\":\"#FF97FF\",\"symbol\":\"circle\"},\"mode\":\"markers\",\"name\":\"Algeria\",\"orientation\":\"v\",\"showlegend\":true,\"x\":[66.005],\"xaxis\":\"x\",\"y\":[4.887],\"yaxis\":\"y\",\"type\":\"scatter\"},{\"hovertemplate\":\"Country name=Ukraine<br>Healthy life expectancy=%{x}<br>Ladder score=%{y}<extra></extra>\",\"legendgroup\":\"Ukraine\",\"marker\":{\"color\":\"#FECB52\",\"symbol\":\"circle\"},\"mode\":\"markers\",\"name\":\"Ukraine\",\"orientation\":\"v\",\"showlegend\":true,\"x\":[64.902],\"xaxis\":\"x\",\"y\":[4.875],\"yaxis\":\"y\",\"type\":\"scatter\"},{\"hovertemplate\":\"Country name=Iraq<br>Healthy life expectancy=%{x}<br>Ladder score=%{y}<extra></extra>\",\"legendgroup\":\"Iraq\",\"marker\":{\"color\":\"#636efa\",\"symbol\":\"circle\"},\"mode\":\"markers\",\"name\":\"Iraq\",\"orientation\":\"v\",\"showlegend\":true,\"x\":[60.583],\"xaxis\":\"x\",\"y\":[4.854],\"yaxis\":\"y\",\"type\":\"scatter\"},{\"hovertemplate\":\"Country name=Gabon<br>Healthy life expectancy=%{x}<br>Ladder score=%{y}<extra></extra>\",\"legendgroup\":\"Gabon\",\"marker\":{\"color\":\"#EF553B\",\"symbol\":\"circle\"},\"mode\":\"markers\",\"name\":\"Gabon\",\"orientation\":\"v\",\"showlegend\":true,\"x\":[59.962],\"xaxis\":\"x\",\"y\":[4.852],\"yaxis\":\"y\",\"type\":\"scatter\"},{\"hovertemplate\":\"Country name=Burkina Faso<br>Healthy life expectancy=%{x}<br>Ladder score=%{y}<extra></extra>\",\"legendgroup\":\"Burkina Faso\",\"marker\":{\"color\":\"#00cc96\",\"symbol\":\"circle\"},\"mode\":\"markers\",\"name\":\"Burkina Faso\",\"orientation\":\"v\",\"showlegend\":true,\"x\":[54.151],\"xaxis\":\"x\",\"y\":[4.834],\"yaxis\":\"y\",\"type\":\"scatter\"},{\"hovertemplate\":\"Country name=Cambodia<br>Healthy life expectancy=%{x}<br>Ladder score=%{y}<extra></extra>\",\"legendgroup\":\"Cambodia\",\"marker\":{\"color\":\"#ab63fa\",\"symbol\":\"circle\"},\"mode\":\"markers\",\"name\":\"Cambodia\",\"orientation\":\"v\",\"showlegend\":true,\"x\":[62.0],\"xaxis\":\"x\",\"y\":[4.83],\"yaxis\":\"y\",\"type\":\"scatter\"},{\"hovertemplate\":\"Country name=Mozambique<br>Healthy life expectancy=%{x}<br>Ladder score=%{y}<extra></extra>\",\"legendgroup\":\"Mozambique\",\"marker\":{\"color\":\"#FFA15A\",\"symbol\":\"circle\"},\"mode\":\"markers\",\"name\":\"Mozambique\",\"orientation\":\"v\",\"showlegend\":true,\"x\":[54.706],\"xaxis\":\"x\",\"y\":[4.794],\"yaxis\":\"y\",\"type\":\"scatter\"},{\"hovertemplate\":\"Country name=Nigeria<br>Healthy life expectancy=%{x}<br>Ladder score=%{y}<extra></extra>\",\"legendgroup\":\"Nigeria\",\"marker\":{\"color\":\"#19d3f3\",\"symbol\":\"circle\"},\"mode\":\"markers\",\"name\":\"Nigeria\",\"orientation\":\"v\",\"showlegend\":true,\"x\":[50.102],\"xaxis\":\"x\",\"y\":[4.759],\"yaxis\":\"y\",\"type\":\"scatter\"},{\"hovertemplate\":\"Country name=Mali<br>Healthy life expectancy=%{x}<br>Ladder score=%{y}<extra></extra>\",\"legendgroup\":\"Mali\",\"marker\":{\"color\":\"#FF6692\",\"symbol\":\"circle\"},\"mode\":\"markers\",\"name\":\"Mali\",\"orientation\":\"v\",\"showlegend\":true,\"x\":[51.969],\"xaxis\":\"x\",\"y\":[4.723],\"yaxis\":\"y\",\"type\":\"scatter\"},{\"hovertemplate\":\"Country name=Iran<br>Healthy life expectancy=%{x}<br>Ladder score=%{y}<extra></extra>\",\"legendgroup\":\"Iran\",\"marker\":{\"color\":\"#B6E880\",\"symbol\":\"circle\"},\"mode\":\"markers\",\"name\":\"Iran\",\"orientation\":\"v\",\"showlegend\":true,\"x\":[66.3],\"xaxis\":\"x\",\"y\":[4.721],\"yaxis\":\"y\",\"type\":\"scatter\"},{\"hovertemplate\":\"Country name=Uganda<br>Healthy life expectancy=%{x}<br>Ladder score=%{y}<extra></extra>\",\"legendgroup\":\"Uganda\",\"marker\":{\"color\":\"#FF97FF\",\"symbol\":\"circle\"},\"mode\":\"markers\",\"name\":\"Uganda\",\"orientation\":\"v\",\"showlegend\":true,\"x\":[56.101],\"xaxis\":\"x\",\"y\":[4.636],\"yaxis\":\"y\",\"type\":\"scatter\"},{\"hovertemplate\":\"Country name=Liberia<br>Healthy life expectancy=%{x}<br>Ladder score=%{y}<extra></extra>\",\"legendgroup\":\"Liberia\",\"marker\":{\"color\":\"#FECB52\",\"symbol\":\"circle\"},\"mode\":\"markers\",\"name\":\"Liberia\",\"orientation\":\"v\",\"showlegend\":true,\"x\":[56.498],\"xaxis\":\"x\",\"y\":[4.625],\"yaxis\":\"y\",\"type\":\"scatter\"},{\"hovertemplate\":\"Country name=Kenya<br>Healthy life expectancy=%{x}<br>Ladder score=%{y}<extra></extra>\",\"legendgroup\":\"Kenya\",\"marker\":{\"color\":\"#636efa\",\"symbol\":\"circle\"},\"mode\":\"markers\",\"name\":\"Kenya\",\"orientation\":\"v\",\"showlegend\":true,\"x\":[60.704],\"xaxis\":\"x\",\"y\":[4.607],\"yaxis\":\"y\",\"type\":\"scatter\"},{\"hovertemplate\":\"Country name=Tunisia<br>Healthy life expectancy=%{x}<br>Ladder score=%{y}<extra></extra>\",\"legendgroup\":\"Tunisia\",\"marker\":{\"color\":\"#EF553B\",\"symbol\":\"circle\"},\"mode\":\"markers\",\"name\":\"Tunisia\",\"orientation\":\"v\",\"showlegend\":true,\"x\":[67.201],\"xaxis\":\"x\",\"y\":[4.596],\"yaxis\":\"y\",\"type\":\"scatter\"},{\"hovertemplate\":\"Country name=Lebanon<br>Healthy life expectancy=%{x}<br>Ladder score=%{y}<extra></extra>\",\"legendgroup\":\"Lebanon\",\"marker\":{\"color\":\"#00cc96\",\"symbol\":\"circle\"},\"mode\":\"markers\",\"name\":\"Lebanon\",\"orientation\":\"v\",\"showlegend\":true,\"x\":[67.355],\"xaxis\":\"x\",\"y\":[4.584],\"yaxis\":\"y\",\"type\":\"scatter\"},{\"hovertemplate\":\"Country name=Namibia<br>Healthy life expectancy=%{x}<br>Ladder score=%{y}<extra></extra>\",\"legendgroup\":\"Namibia\",\"marker\":{\"color\":\"#ab63fa\",\"symbol\":\"circle\"},\"mode\":\"markers\",\"name\":\"Namibia\",\"orientation\":\"v\",\"showlegend\":true,\"x\":[56.799],\"xaxis\":\"x\",\"y\":[4.574],\"yaxis\":\"y\",\"type\":\"scatter\"},{\"hovertemplate\":\"Country name=Palestinian Territories<br>Healthy life expectancy=%{x}<br>Ladder score=%{y}<extra></extra>\",\"legendgroup\":\"Palestinian Territories\",\"marker\":{\"color\":\"#FFA15A\",\"symbol\":\"circle\"},\"mode\":\"markers\",\"name\":\"Palestinian Territories\",\"orientation\":\"v\",\"showlegend\":true,\"x\":[62.25],\"xaxis\":\"x\",\"y\":[4.517],\"yaxis\":\"y\",\"type\":\"scatter\"},{\"hovertemplate\":\"Country name=Myanmar<br>Healthy life expectancy=%{x}<br>Ladder score=%{y}<extra></extra>\",\"legendgroup\":\"Myanmar\",\"marker\":{\"color\":\"#19d3f3\",\"symbol\":\"circle\"},\"mode\":\"markers\",\"name\":\"Myanmar\",\"orientation\":\"v\",\"showlegend\":true,\"x\":[59.302],\"xaxis\":\"x\",\"y\":[4.426],\"yaxis\":\"y\",\"type\":\"scatter\"},{\"hovertemplate\":\"Country name=Jordan<br>Healthy life expectancy=%{x}<br>Ladder score=%{y}<extra></extra>\",\"legendgroup\":\"Jordan\",\"marker\":{\"color\":\"#FF6692\",\"symbol\":\"circle\"},\"mode\":\"markers\",\"name\":\"Jordan\",\"orientation\":\"v\",\"showlegend\":true,\"x\":[67.0],\"xaxis\":\"x\",\"y\":[4.395],\"yaxis\":\"y\",\"type\":\"scatter\"},{\"hovertemplate\":\"Country name=Chad<br>Healthy life expectancy=%{x}<br>Ladder score=%{y}<extra></extra>\",\"legendgroup\":\"Chad\",\"marker\":{\"color\":\"#B6E880\",\"symbol\":\"circle\"},\"mode\":\"markers\",\"name\":\"Chad\",\"orientation\":\"v\",\"showlegend\":true,\"x\":[48.478],\"xaxis\":\"x\",\"y\":[4.355],\"yaxis\":\"y\",\"type\":\"scatter\"},{\"hovertemplate\":\"Country name=Sri Lanka<br>Healthy life expectancy=%{x}<br>Ladder score=%{y}<extra></extra>\",\"legendgroup\":\"Sri Lanka\",\"marker\":{\"color\":\"#FF97FF\",\"symbol\":\"circle\"},\"mode\":\"markers\",\"name\":\"Sri Lanka\",\"orientation\":\"v\",\"showlegend\":true,\"x\":[67.299],\"xaxis\":\"x\",\"y\":[4.325],\"yaxis\":\"y\",\"type\":\"scatter\"},{\"hovertemplate\":\"Country name=Swaziland<br>Healthy life expectancy=%{x}<br>Ladder score=%{y}<extra></extra>\",\"legendgroup\":\"Swaziland\",\"marker\":{\"color\":\"#FECB52\",\"symbol\":\"circle\"},\"mode\":\"markers\",\"name\":\"Swaziland\",\"orientation\":\"v\",\"showlegend\":true,\"x\":[50.833],\"xaxis\":\"x\",\"y\":[4.308],\"yaxis\":\"y\",\"type\":\"scatter\"},{\"hovertemplate\":\"Country name=Comoros<br>Healthy life expectancy=%{x}<br>Ladder score=%{y}<extra></extra>\",\"legendgroup\":\"Comoros\",\"marker\":{\"color\":\"#636efa\",\"symbol\":\"circle\"},\"mode\":\"markers\",\"name\":\"Comoros\",\"orientation\":\"v\",\"showlegend\":true,\"x\":[57.349],\"xaxis\":\"x\",\"y\":[4.289],\"yaxis\":\"y\",\"type\":\"scatter\"},{\"hovertemplate\":\"Country name=Egypt<br>Healthy life expectancy=%{x}<br>Ladder score=%{y}<extra></extra>\",\"legendgroup\":\"Egypt\",\"marker\":{\"color\":\"#EF553B\",\"symbol\":\"circle\"},\"mode\":\"markers\",\"name\":\"Egypt\",\"orientation\":\"v\",\"showlegend\":true,\"x\":[61.998],\"xaxis\":\"x\",\"y\":[4.283],\"yaxis\":\"y\",\"type\":\"scatter\"},{\"hovertemplate\":\"Country name=Ethiopia<br>Healthy life expectancy=%{x}<br>Ladder score=%{y}<extra></extra>\",\"legendgroup\":\"Ethiopia\",\"marker\":{\"color\":\"#00cc96\",\"symbol\":\"circle\"},\"mode\":\"markers\",\"name\":\"Ethiopia\",\"orientation\":\"v\",\"showlegend\":true,\"x\":[59.0],\"xaxis\":\"x\",\"y\":[4.275],\"yaxis\":\"y\",\"type\":\"scatter\"},{\"hovertemplate\":\"Country name=Mauritania<br>Healthy life expectancy=%{x}<br>Ladder score=%{y}<extra></extra>\",\"legendgroup\":\"Mauritania\",\"marker\":{\"color\":\"#ab63fa\",\"symbol\":\"circle\"},\"mode\":\"markers\",\"name\":\"Mauritania\",\"orientation\":\"v\",\"showlegend\":true,\"x\":[57.161],\"xaxis\":\"x\",\"y\":[4.227],\"yaxis\":\"y\",\"type\":\"scatter\"},{\"hovertemplate\":\"Country name=Madagascar<br>Healthy life expectancy=%{x}<br>Ladder score=%{y}<extra></extra>\",\"legendgroup\":\"Madagascar\",\"marker\":{\"color\":\"#FFA15A\",\"symbol\":\"circle\"},\"mode\":\"markers\",\"name\":\"Madagascar\",\"orientation\":\"v\",\"showlegend\":true,\"x\":[59.305],\"xaxis\":\"x\",\"y\":[4.208],\"yaxis\":\"y\",\"type\":\"scatter\"},{\"hovertemplate\":\"Country name=Togo<br>Healthy life expectancy=%{x}<br>Ladder score=%{y}<extra></extra>\",\"legendgroup\":\"Togo\",\"marker\":{\"color\":\"#19d3f3\",\"symbol\":\"circle\"},\"mode\":\"markers\",\"name\":\"Togo\",\"orientation\":\"v\",\"showlegend\":true,\"x\":[54.914],\"xaxis\":\"x\",\"y\":[4.107],\"yaxis\":\"y\",\"type\":\"scatter\"},{\"hovertemplate\":\"Country name=Zambia<br>Healthy life expectancy=%{x}<br>Ladder score=%{y}<extra></extra>\",\"legendgroup\":\"Zambia\",\"marker\":{\"color\":\"#FF6692\",\"symbol\":\"circle\"},\"mode\":\"markers\",\"name\":\"Zambia\",\"orientation\":\"v\",\"showlegend\":true,\"x\":[55.809],\"xaxis\":\"x\",\"y\":[4.073],\"yaxis\":\"y\",\"type\":\"scatter\"},{\"hovertemplate\":\"Country name=Sierra Leone<br>Healthy life expectancy=%{x}<br>Ladder score=%{y}<extra></extra>\",\"legendgroup\":\"Sierra Leone\",\"marker\":{\"color\":\"#B6E880\",\"symbol\":\"circle\"},\"mode\":\"markers\",\"name\":\"Sierra Leone\",\"orientation\":\"v\",\"showlegend\":true,\"x\":[51.651],\"xaxis\":\"x\",\"y\":[3.849],\"yaxis\":\"y\",\"type\":\"scatter\"},{\"hovertemplate\":\"Country name=India<br>Healthy life expectancy=%{x}<br>Ladder score=%{y}<extra></extra>\",\"legendgroup\":\"India\",\"marker\":{\"color\":\"#FF97FF\",\"symbol\":\"circle\"},\"mode\":\"markers\",\"name\":\"India\",\"orientation\":\"v\",\"showlegend\":true,\"x\":[60.633],\"xaxis\":\"x\",\"y\":[3.819],\"yaxis\":\"y\",\"type\":\"scatter\"},{\"hovertemplate\":\"Country name=Burundi<br>Healthy life expectancy=%{x}<br>Ladder score=%{y}<extra></extra>\",\"legendgroup\":\"Burundi\",\"marker\":{\"color\":\"#FECB52\",\"symbol\":\"circle\"},\"mode\":\"markers\",\"name\":\"Burundi\",\"orientation\":\"v\",\"showlegend\":true,\"x\":[53.4],\"xaxis\":\"x\",\"y\":[3.775],\"yaxis\":\"y\",\"type\":\"scatter\"},{\"hovertemplate\":\"Country name=Yemen<br>Healthy life expectancy=%{x}<br>Ladder score=%{y}<extra></extra>\",\"legendgroup\":\"Yemen\",\"marker\":{\"color\":\"#636efa\",\"symbol\":\"circle\"},\"mode\":\"markers\",\"name\":\"Yemen\",\"orientation\":\"v\",\"showlegend\":true,\"x\":[57.122],\"xaxis\":\"x\",\"y\":[3.658],\"yaxis\":\"y\",\"type\":\"scatter\"},{\"hovertemplate\":\"Country name=Tanzania<br>Healthy life expectancy=%{x}<br>Ladder score=%{y}<extra></extra>\",\"legendgroup\":\"Tanzania\",\"marker\":{\"color\":\"#EF553B\",\"symbol\":\"circle\"},\"mode\":\"markers\",\"name\":\"Tanzania\",\"orientation\":\"v\",\"showlegend\":true,\"x\":[57.999],\"xaxis\":\"x\",\"y\":[3.623],\"yaxis\":\"y\",\"type\":\"scatter\"},{\"hovertemplate\":\"Country name=Haiti<br>Healthy life expectancy=%{x}<br>Ladder score=%{y}<extra></extra>\",\"legendgroup\":\"Haiti\",\"marker\":{\"color\":\"#00cc96\",\"symbol\":\"circle\"},\"mode\":\"markers\",\"name\":\"Haiti\",\"orientation\":\"v\",\"showlegend\":true,\"x\":[55.7],\"xaxis\":\"x\",\"y\":[3.615],\"yaxis\":\"y\",\"type\":\"scatter\"},{\"hovertemplate\":\"Country name=Malawi<br>Healthy life expectancy=%{x}<br>Ladder score=%{y}<extra></extra>\",\"legendgroup\":\"Malawi\",\"marker\":{\"color\":\"#ab63fa\",\"symbol\":\"circle\"},\"mode\":\"markers\",\"name\":\"Malawi\",\"orientation\":\"v\",\"showlegend\":true,\"x\":[57.948],\"xaxis\":\"x\",\"y\":[3.6],\"yaxis\":\"y\",\"type\":\"scatter\"},{\"hovertemplate\":\"Country name=Lesotho<br>Healthy life expectancy=%{x}<br>Ladder score=%{y}<extra></extra>\",\"legendgroup\":\"Lesotho\",\"marker\":{\"color\":\"#FFA15A\",\"symbol\":\"circle\"},\"mode\":\"markers\",\"name\":\"Lesotho\",\"orientation\":\"v\",\"showlegend\":true,\"x\":[48.7],\"xaxis\":\"x\",\"y\":[3.512],\"yaxis\":\"y\",\"type\":\"scatter\"},{\"hovertemplate\":\"Country name=Botswana<br>Healthy life expectancy=%{x}<br>Ladder score=%{y}<extra></extra>\",\"legendgroup\":\"Botswana\",\"marker\":{\"color\":\"#19d3f3\",\"symbol\":\"circle\"},\"mode\":\"markers\",\"name\":\"Botswana\",\"orientation\":\"v\",\"showlegend\":true,\"x\":[59.269],\"xaxis\":\"x\",\"y\":[3.467],\"yaxis\":\"y\",\"type\":\"scatter\"},{\"hovertemplate\":\"Country name=Rwanda<br>Healthy life expectancy=%{x}<br>Ladder score=%{y}<extra></extra>\",\"legendgroup\":\"Rwanda\",\"marker\":{\"color\":\"#FF6692\",\"symbol\":\"circle\"},\"mode\":\"markers\",\"name\":\"Rwanda\",\"orientation\":\"v\",\"showlegend\":true,\"x\":[61.4],\"xaxis\":\"x\",\"y\":[3.415],\"yaxis\":\"y\",\"type\":\"scatter\"},{\"hovertemplate\":\"Country name=Zimbabwe<br>Healthy life expectancy=%{x}<br>Ladder score=%{y}<extra></extra>\",\"legendgroup\":\"Zimbabwe\",\"marker\":{\"color\":\"#B6E880\",\"symbol\":\"circle\"},\"mode\":\"markers\",\"name\":\"Zimbabwe\",\"orientation\":\"v\",\"showlegend\":true,\"x\":[56.201],\"xaxis\":\"x\",\"y\":[3.145],\"yaxis\":\"y\",\"type\":\"scatter\"},{\"hovertemplate\":\"Country name=Afghanistan<br>Healthy life expectancy=%{x}<br>Ladder score=%{y}<extra></extra>\",\"legendgroup\":\"Afghanistan\",\"marker\":{\"color\":\"#FF97FF\",\"symbol\":\"circle\"},\"mode\":\"markers\",\"name\":\"Afghanistan\",\"orientation\":\"v\",\"showlegend\":true,\"x\":[52.493],\"xaxis\":\"x\",\"y\":[2.523],\"yaxis\":\"y\",\"type\":\"scatter\"}],                        {\"template\":{\"data\":{\"histogram2dcontour\":[{\"type\":\"histogram2dcontour\",\"colorbar\":{\"outlinewidth\":0,\"ticks\":\"\"},\"colorscale\":[[0.0,\"#0d0887\"],[0.1111111111111111,\"#46039f\"],[0.2222222222222222,\"#7201a8\"],[0.3333333333333333,\"#9c179e\"],[0.4444444444444444,\"#bd3786\"],[0.5555555555555556,\"#d8576b\"],[0.6666666666666666,\"#ed7953\"],[0.7777777777777778,\"#fb9f3a\"],[0.8888888888888888,\"#fdca26\"],[1.0,\"#f0f921\"]]}],\"choropleth\":[{\"type\":\"choropleth\",\"colorbar\":{\"outlinewidth\":0,\"ticks\":\"\"}}],\"histogram2d\":[{\"type\":\"histogram2d\",\"colorbar\":{\"outlinewidth\":0,\"ticks\":\"\"},\"colorscale\":[[0.0,\"#0d0887\"],[0.1111111111111111,\"#46039f\"],[0.2222222222222222,\"#7201a8\"],[0.3333333333333333,\"#9c179e\"],[0.4444444444444444,\"#bd3786\"],[0.5555555555555556,\"#d8576b\"],[0.6666666666666666,\"#ed7953\"],[0.7777777777777778,\"#fb9f3a\"],[0.8888888888888888,\"#fdca26\"],[1.0,\"#f0f921\"]]}],\"heatmap\":[{\"type\":\"heatmap\",\"colorbar\":{\"outlinewidth\":0,\"ticks\":\"\"},\"colorscale\":[[0.0,\"#0d0887\"],[0.1111111111111111,\"#46039f\"],[0.2222222222222222,\"#7201a8\"],[0.3333333333333333,\"#9c179e\"],[0.4444444444444444,\"#bd3786\"],[0.5555555555555556,\"#d8576b\"],[0.6666666666666666,\"#ed7953\"],[0.7777777777777778,\"#fb9f3a\"],[0.8888888888888888,\"#fdca26\"],[1.0,\"#f0f921\"]]}],\"heatmapgl\":[{\"type\":\"heatmapgl\",\"colorbar\":{\"outlinewidth\":0,\"ticks\":\"\"},\"colorscale\":[[0.0,\"#0d0887\"],[0.1111111111111111,\"#46039f\"],[0.2222222222222222,\"#7201a8\"],[0.3333333333333333,\"#9c179e\"],[0.4444444444444444,\"#bd3786\"],[0.5555555555555556,\"#d8576b\"],[0.6666666666666666,\"#ed7953\"],[0.7777777777777778,\"#fb9f3a\"],[0.8888888888888888,\"#fdca26\"],[1.0,\"#f0f921\"]]}],\"contourcarpet\":[{\"type\":\"contourcarpet\",\"colorbar\":{\"outlinewidth\":0,\"ticks\":\"\"}}],\"contour\":[{\"type\":\"contour\",\"colorbar\":{\"outlinewidth\":0,\"ticks\":\"\"},\"colorscale\":[[0.0,\"#0d0887\"],[0.1111111111111111,\"#46039f\"],[0.2222222222222222,\"#7201a8\"],[0.3333333333333333,\"#9c179e\"],[0.4444444444444444,\"#bd3786\"],[0.5555555555555556,\"#d8576b\"],[0.6666666666666666,\"#ed7953\"],[0.7777777777777778,\"#fb9f3a\"],[0.8888888888888888,\"#fdca26\"],[1.0,\"#f0f921\"]]}],\"surface\":[{\"type\":\"surface\",\"colorbar\":{\"outlinewidth\":0,\"ticks\":\"\"},\"colorscale\":[[0.0,\"#0d0887\"],[0.1111111111111111,\"#46039f\"],[0.2222222222222222,\"#7201a8\"],[0.3333333333333333,\"#9c179e\"],[0.4444444444444444,\"#bd3786\"],[0.5555555555555556,\"#d8576b\"],[0.6666666666666666,\"#ed7953\"],[0.7777777777777778,\"#fb9f3a\"],[0.8888888888888888,\"#fdca26\"],[1.0,\"#f0f921\"]]}],\"mesh3d\":[{\"type\":\"mesh3d\",\"colorbar\":{\"outlinewidth\":0,\"ticks\":\"\"}}],\"scatter\":[{\"fillpattern\":{\"fillmode\":\"overlay\",\"size\":10,\"solidity\":0.2},\"type\":\"scatter\"}],\"parcoords\":[{\"type\":\"parcoords\",\"line\":{\"colorbar\":{\"outlinewidth\":0,\"ticks\":\"\"}}}],\"scatterpolargl\":[{\"type\":\"scatterpolargl\",\"marker\":{\"colorbar\":{\"outlinewidth\":0,\"ticks\":\"\"}}}],\"bar\":[{\"error_x\":{\"color\":\"#2a3f5f\"},\"error_y\":{\"color\":\"#2a3f5f\"},\"marker\":{\"line\":{\"color\":\"#E5ECF6\",\"width\":0.5},\"pattern\":{\"fillmode\":\"overlay\",\"size\":10,\"solidity\":0.2}},\"type\":\"bar\"}],\"scattergeo\":[{\"type\":\"scattergeo\",\"marker\":{\"colorbar\":{\"outlinewidth\":0,\"ticks\":\"\"}}}],\"scatterpolar\":[{\"type\":\"scatterpolar\",\"marker\":{\"colorbar\":{\"outlinewidth\":0,\"ticks\":\"\"}}}],\"histogram\":[{\"marker\":{\"pattern\":{\"fillmode\":\"overlay\",\"size\":10,\"solidity\":0.2}},\"type\":\"histogram\"}],\"scattergl\":[{\"type\":\"scattergl\",\"marker\":{\"colorbar\":{\"outlinewidth\":0,\"ticks\":\"\"}}}],\"scatter3d\":[{\"type\":\"scatter3d\",\"line\":{\"colorbar\":{\"outlinewidth\":0,\"ticks\":\"\"}},\"marker\":{\"colorbar\":{\"outlinewidth\":0,\"ticks\":\"\"}}}],\"scattermapbox\":[{\"type\":\"scattermapbox\",\"marker\":{\"colorbar\":{\"outlinewidth\":0,\"ticks\":\"\"}}}],\"scatterternary\":[{\"type\":\"scatterternary\",\"marker\":{\"colorbar\":{\"outlinewidth\":0,\"ticks\":\"\"}}}],\"scattercarpet\":[{\"type\":\"scattercarpet\",\"marker\":{\"colorbar\":{\"outlinewidth\":0,\"ticks\":\"\"}}}],\"carpet\":[{\"aaxis\":{\"endlinecolor\":\"#2a3f5f\",\"gridcolor\":\"white\",\"linecolor\":\"white\",\"minorgridcolor\":\"white\",\"startlinecolor\":\"#2a3f5f\"},\"baxis\":{\"endlinecolor\":\"#2a3f5f\",\"gridcolor\":\"white\",\"linecolor\":\"white\",\"minorgridcolor\":\"white\",\"startlinecolor\":\"#2a3f5f\"},\"type\":\"carpet\"}],\"table\":[{\"cells\":{\"fill\":{\"color\":\"#EBF0F8\"},\"line\":{\"color\":\"white\"}},\"header\":{\"fill\":{\"color\":\"#C8D4E3\"},\"line\":{\"color\":\"white\"}},\"type\":\"table\"}],\"barpolar\":[{\"marker\":{\"line\":{\"color\":\"#E5ECF6\",\"width\":0.5},\"pattern\":{\"fillmode\":\"overlay\",\"size\":10,\"solidity\":0.2}},\"type\":\"barpolar\"}],\"pie\":[{\"automargin\":true,\"type\":\"pie\"}]},\"layout\":{\"autotypenumbers\":\"strict\",\"colorway\":[\"#636efa\",\"#EF553B\",\"#00cc96\",\"#ab63fa\",\"#FFA15A\",\"#19d3f3\",\"#FF6692\",\"#B6E880\",\"#FF97FF\",\"#FECB52\"],\"font\":{\"color\":\"#2a3f5f\"},\"hovermode\":\"closest\",\"hoverlabel\":{\"align\":\"left\"},\"paper_bgcolor\":\"white\",\"plot_bgcolor\":\"#E5ECF6\",\"polar\":{\"bgcolor\":\"#E5ECF6\",\"angularaxis\":{\"gridcolor\":\"white\",\"linecolor\":\"white\",\"ticks\":\"\"},\"radialaxis\":{\"gridcolor\":\"white\",\"linecolor\":\"white\",\"ticks\":\"\"}},\"ternary\":{\"bgcolor\":\"#E5ECF6\",\"aaxis\":{\"gridcolor\":\"white\",\"linecolor\":\"white\",\"ticks\":\"\"},\"baxis\":{\"gridcolor\":\"white\",\"linecolor\":\"white\",\"ticks\":\"\"},\"caxis\":{\"gridcolor\":\"white\",\"linecolor\":\"white\",\"ticks\":\"\"}},\"coloraxis\":{\"colorbar\":{\"outlinewidth\":0,\"ticks\":\"\"}},\"colorscale\":{\"sequential\":[[0.0,\"#0d0887\"],[0.1111111111111111,\"#46039f\"],[0.2222222222222222,\"#7201a8\"],[0.3333333333333333,\"#9c179e\"],[0.4444444444444444,\"#bd3786\"],[0.5555555555555556,\"#d8576b\"],[0.6666666666666666,\"#ed7953\"],[0.7777777777777778,\"#fb9f3a\"],[0.8888888888888888,\"#fdca26\"],[1.0,\"#f0f921\"]],\"sequentialminus\":[[0.0,\"#0d0887\"],[0.1111111111111111,\"#46039f\"],[0.2222222222222222,\"#7201a8\"],[0.3333333333333333,\"#9c179e\"],[0.4444444444444444,\"#bd3786\"],[0.5555555555555556,\"#d8576b\"],[0.6666666666666666,\"#ed7953\"],[0.7777777777777778,\"#fb9f3a\"],[0.8888888888888888,\"#fdca26\"],[1.0,\"#f0f921\"]],\"diverging\":[[0,\"#8e0152\"],[0.1,\"#c51b7d\"],[0.2,\"#de77ae\"],[0.3,\"#f1b6da\"],[0.4,\"#fde0ef\"],[0.5,\"#f7f7f7\"],[0.6,\"#e6f5d0\"],[0.7,\"#b8e186\"],[0.8,\"#7fbc41\"],[0.9,\"#4d9221\"],[1,\"#276419\"]]},\"xaxis\":{\"gridcolor\":\"white\",\"linecolor\":\"white\",\"ticks\":\"\",\"title\":{\"standoff\":15},\"zerolinecolor\":\"white\",\"automargin\":true,\"zerolinewidth\":2},\"yaxis\":{\"gridcolor\":\"white\",\"linecolor\":\"white\",\"ticks\":\"\",\"title\":{\"standoff\":15},\"zerolinecolor\":\"white\",\"automargin\":true,\"zerolinewidth\":2},\"scene\":{\"xaxis\":{\"backgroundcolor\":\"#E5ECF6\",\"gridcolor\":\"white\",\"linecolor\":\"white\",\"showbackground\":true,\"ticks\":\"\",\"zerolinecolor\":\"white\",\"gridwidth\":2},\"yaxis\":{\"backgroundcolor\":\"#E5ECF6\",\"gridcolor\":\"white\",\"linecolor\":\"white\",\"showbackground\":true,\"ticks\":\"\",\"zerolinecolor\":\"white\",\"gridwidth\":2},\"zaxis\":{\"backgroundcolor\":\"#E5ECF6\",\"gridcolor\":\"white\",\"linecolor\":\"white\",\"showbackground\":true,\"ticks\":\"\",\"zerolinecolor\":\"white\",\"gridwidth\":2}},\"shapedefaults\":{\"line\":{\"color\":\"#2a3f5f\"}},\"annotationdefaults\":{\"arrowcolor\":\"#2a3f5f\",\"arrowhead\":0,\"arrowwidth\":1},\"geo\":{\"bgcolor\":\"white\",\"landcolor\":\"#E5ECF6\",\"subunitcolor\":\"white\",\"showland\":true,\"showlakes\":true,\"lakecolor\":\"white\"},\"title\":{\"x\":0.05},\"mapbox\":{\"style\":\"light\"}}},\"xaxis\":{\"anchor\":\"y\",\"domain\":[0.0,1.0],\"title\":{\"text\":\"Healthy life expectancy\"}},\"yaxis\":{\"anchor\":\"x\",\"domain\":[0.0,1.0],\"title\":{\"text\":\"Ladder score\"}},\"legend\":{\"title\":{\"text\":\"Country name\"},\"tracegroupgap\":0},\"title\":{\"text\":\"Healthy Life Expectancy vs. Ladder Score\"}},                        {\"responsive\": true}                    ).then(function(){\n                            \nvar gd = document.getElementById('885ae54a-1538-4115-9bb7-d6b49db97076');\nvar x = new MutationObserver(function (mutations, observer) {{\n        var display = window.getComputedStyle(gd).display;\n        if (!display || display === 'none') {{\n            console.log([gd, 'removed!']);\n            Plotly.purge(gd);\n            observer.disconnect();\n        }}\n}});\n\n// Listen for the removal of the full notebook cells\nvar notebookContainer = gd.closest('#notebook-container');\nif (notebookContainer) {{\n    x.observe(notebookContainer, {childList: true});\n}}\n\n// Listen for the clearing of the current output cell\nvar outputEl = gd.closest('.output');\nif (outputEl) {{\n    x.observe(outputEl, {childList: true});\n}}\n\n                        })                };                            </script>        </div>\n</body>\n</html>"
     },
     "execution_count": 22,
     "metadata": {
     },
     "output_type": "execute_result"
    }
   ],
   "source": [
    "# scatter plot: Healthy Life Expectancy vs. Ladder Score\n",
    "\n",
    "fig_hle_vs_ls = px.scatter(wh_df21, x = 'Healthy life expectancy', y = 'Ladder score', color = 'Country name', title = 'Healthy Life Expectancy vs. Ladder Score')\n",
    "fig_hle_vs_ls.show()\n",
    "\n",
    "# conclusion: shows positive, medium/strong correlation\n",
    "# in general, the higher the healthy life expectancy, the higher the ladder score & the happier the general country is.\n",
    "# a couple of outliers (high healthy life expectancy but relatively lower ladder score)"
   ]
  },
  {
   "cell_type": "code",
   "execution_count": 23,
   "metadata": {
    "collapsed": false,
    "scrolled": true
   },
   "outputs": [
    {
     "data": {
      "text/html": "<html>\n<head><meta charset=\"utf-8\" /></head>\n<body>\n    <div>            <script src=\"https://cdnjs.cloudflare.com/ajax/libs/mathjax/2.7.5/MathJax.js?config=TeX-AMS-MML_SVG\"></script><script type=\"text/javascript\">if (window.MathJax && window.MathJax.Hub && window.MathJax.Hub.Config) {window.MathJax.Hub.Config({SVG: {font: \"STIX-Web\"}});}</script>                <script type=\"text/javascript\">window.PlotlyConfig = {MathJaxConfig: 'local'};</script>\n        <script src=\"https://cdn.plot.ly/plotly-2.16.1.min.js\"></script>                <div id=\"f7a54788-095e-4d84-9403-5935be4f5058\" class=\"plotly-graph-div\" style=\"height:525px; width:100%;\"></div>            <script type=\"text/javascript\">                                    window.PLOTLYENV=window.PLOTLYENV || {};                                    if (document.getElementById(\"f7a54788-095e-4d84-9403-5935be4f5058\")) {                    Plotly.newPlot(                        \"f7a54788-095e-4d84-9403-5935be4f5058\",                        [{\"hovertemplate\":\"Country name=Finland<br>Logged GDP per capita=%{x}<br>Generosity=%{y}<br>Healthy life expectancy=%{marker.size}<extra></extra>\",\"legendgroup\":\"Finland\",\"marker\":{\"color\":\"#636efa\",\"size\":[72.0],\"sizemode\":\"area\",\"sizeref\":0.1923825,\"symbol\":\"circle\"},\"mode\":\"markers\",\"name\":\"Finland\",\"orientation\":\"v\",\"showlegend\":true,\"x\":[10.775],\"xaxis\":\"x\",\"y\":[-0.098],\"yaxis\":\"y\",\"type\":\"scatter\"},{\"hovertemplate\":\"Country name=Denmark<br>Logged GDP per capita=%{x}<br>Generosity=%{y}<br>Healthy life expectancy=%{marker.size}<extra></extra>\",\"legendgroup\":\"Denmark\",\"marker\":{\"color\":\"#EF553B\",\"size\":[72.7],\"sizemode\":\"area\",\"sizeref\":0.1923825,\"symbol\":\"circle\"},\"mode\":\"markers\",\"name\":\"Denmark\",\"orientation\":\"v\",\"showlegend\":true,\"x\":[10.933],\"xaxis\":\"x\",\"y\":[0.03],\"yaxis\":\"y\",\"type\":\"scatter\"},{\"hovertemplate\":\"Country name=Switzerland<br>Logged GDP per capita=%{x}<br>Generosity=%{y}<br>Healthy life expectancy=%{marker.size}<extra></extra>\",\"legendgroup\":\"Switzerland\",\"marker\":{\"color\":\"#00cc96\",\"size\":[74.4],\"sizemode\":\"area\",\"sizeref\":0.1923825,\"symbol\":\"circle\"},\"mode\":\"markers\",\"name\":\"Switzerland\",\"orientation\":\"v\",\"showlegend\":true,\"x\":[11.117],\"xaxis\":\"x\",\"y\":[0.025],\"yaxis\":\"y\",\"type\":\"scatter\"},{\"hovertemplate\":\"Country name=Iceland<br>Logged GDP per capita=%{x}<br>Generosity=%{y}<br>Healthy life expectancy=%{marker.size}<extra></extra>\",\"legendgroup\":\"Iceland\",\"marker\":{\"color\":\"#ab63fa\",\"size\":[73.0],\"sizemode\":\"area\",\"sizeref\":0.1923825,\"symbol\":\"circle\"},\"mode\":\"markers\",\"name\":\"Iceland\",\"orientation\":\"v\",\"showlegend\":true,\"x\":[10.878],\"xaxis\":\"x\",\"y\":[0.16],\"yaxis\":\"y\",\"type\":\"scatter\"},{\"hovertemplate\":\"Country name=Netherlands<br>Logged GDP per capita=%{x}<br>Generosity=%{y}<br>Healthy life expectancy=%{marker.size}<extra></extra>\",\"legendgroup\":\"Netherlands\",\"marker\":{\"color\":\"#FFA15A\",\"size\":[72.4],\"sizemode\":\"area\",\"sizeref\":0.1923825,\"symbol\":\"circle\"},\"mode\":\"markers\",\"name\":\"Netherlands\",\"orientation\":\"v\",\"showlegend\":true,\"x\":[10.932],\"xaxis\":\"x\",\"y\":[0.175],\"yaxis\":\"y\",\"type\":\"scatter\"},{\"hovertemplate\":\"Country name=Norway<br>Logged GDP per capita=%{x}<br>Generosity=%{y}<br>Healthy life expectancy=%{marker.size}<extra></extra>\",\"legendgroup\":\"Norway\",\"marker\":{\"color\":\"#19d3f3\",\"size\":[73.3],\"sizemode\":\"area\",\"sizeref\":0.1923825,\"symbol\":\"circle\"},\"mode\":\"markers\",\"name\":\"Norway\",\"orientation\":\"v\",\"showlegend\":true,\"x\":[11.053],\"xaxis\":\"x\",\"y\":[0.093],\"yaxis\":\"y\",\"type\":\"scatter\"},{\"hovertemplate\":\"Country name=Sweden<br>Logged GDP per capita=%{x}<br>Generosity=%{y}<br>Healthy life expectancy=%{marker.size}<extra></extra>\",\"legendgroup\":\"Sweden\",\"marker\":{\"color\":\"#FF6692\",\"size\":[72.7],\"sizemode\":\"area\",\"sizeref\":0.1923825,\"symbol\":\"circle\"},\"mode\":\"markers\",\"name\":\"Sweden\",\"orientation\":\"v\",\"showlegend\":true,\"x\":[10.867],\"xaxis\":\"x\",\"y\":[0.086],\"yaxis\":\"y\",\"type\":\"scatter\"},{\"hovertemplate\":\"Country name=Luxembourg<br>Logged GDP per capita=%{x}<br>Generosity=%{y}<br>Healthy life expectancy=%{marker.size}<extra></extra>\",\"legendgroup\":\"Luxembourg\",\"marker\":{\"color\":\"#B6E880\",\"size\":[72.6],\"sizemode\":\"area\",\"sizeref\":0.1923825,\"symbol\":\"circle\"},\"mode\":\"markers\",\"name\":\"Luxembourg\",\"orientation\":\"v\",\"showlegend\":true,\"x\":[11.647],\"xaxis\":\"x\",\"y\":[-0.034],\"yaxis\":\"y\",\"type\":\"scatter\"},{\"hovertemplate\":\"Country name=New Zealand<br>Logged GDP per capita=%{x}<br>Generosity=%{y}<br>Healthy life expectancy=%{marker.size}<extra></extra>\",\"legendgroup\":\"New Zealand\",\"marker\":{\"color\":\"#FF97FF\",\"size\":[73.4],\"sizemode\":\"area\",\"sizeref\":0.1923825,\"symbol\":\"circle\"},\"mode\":\"markers\",\"name\":\"New Zealand\",\"orientation\":\"v\",\"showlegend\":true,\"x\":[10.643],\"xaxis\":\"x\",\"y\":[0.134],\"yaxis\":\"y\",\"type\":\"scatter\"},{\"hovertemplate\":\"Country name=Austria<br>Logged GDP per capita=%{x}<br>Generosity=%{y}<br>Healthy life expectancy=%{marker.size}<extra></extra>\",\"legendgroup\":\"Austria\",\"marker\":{\"color\":\"#FECB52\",\"size\":[73.3],\"sizemode\":\"area\",\"sizeref\":0.1923825,\"symbol\":\"circle\"},\"mode\":\"markers\",\"name\":\"Austria\",\"orientation\":\"v\",\"showlegend\":true,\"x\":[10.906],\"xaxis\":\"x\",\"y\":[0.042],\"yaxis\":\"y\",\"type\":\"scatter\"},{\"hovertemplate\":\"Country name=Australia<br>Logged GDP per capita=%{x}<br>Generosity=%{y}<br>Healthy life expectancy=%{marker.size}<extra></extra>\",\"legendgroup\":\"Australia\",\"marker\":{\"color\":\"#636efa\",\"size\":[73.9],\"sizemode\":\"area\",\"sizeref\":0.1923825,\"symbol\":\"circle\"},\"mode\":\"markers\",\"name\":\"Australia\",\"orientation\":\"v\",\"showlegend\":true,\"x\":[10.796],\"xaxis\":\"x\",\"y\":[0.159],\"yaxis\":\"y\",\"type\":\"scatter\"},{\"hovertemplate\":\"Country name=Israel<br>Logged GDP per capita=%{x}<br>Generosity=%{y}<br>Healthy life expectancy=%{marker.size}<extra></extra>\",\"legendgroup\":\"Israel\",\"marker\":{\"color\":\"#EF553B\",\"size\":[73.503],\"sizemode\":\"area\",\"sizeref\":0.1923825,\"symbol\":\"circle\"},\"mode\":\"markers\",\"name\":\"Israel\",\"orientation\":\"v\",\"showlegend\":true,\"x\":[10.575],\"xaxis\":\"x\",\"y\":[0.031],\"yaxis\":\"y\",\"type\":\"scatter\"},{\"hovertemplate\":\"Country name=Germany<br>Logged GDP per capita=%{x}<br>Generosity=%{y}<br>Healthy life expectancy=%{marker.size}<extra></extra>\",\"legendgroup\":\"Germany\",\"marker\":{\"color\":\"#00cc96\",\"size\":[72.5],\"sizemode\":\"area\",\"sizeref\":0.1923825,\"symbol\":\"circle\"},\"mode\":\"markers\",\"name\":\"Germany\",\"orientation\":\"v\",\"showlegend\":true,\"x\":[10.873],\"xaxis\":\"x\",\"y\":[0.011],\"yaxis\":\"y\",\"type\":\"scatter\"},{\"hovertemplate\":\"Country name=Canada<br>Logged GDP per capita=%{x}<br>Generosity=%{y}<br>Healthy life expectancy=%{marker.size}<extra></extra>\",\"legendgroup\":\"Canada\",\"marker\":{\"color\":\"#ab63fa\",\"size\":[73.8],\"sizemode\":\"area\",\"sizeref\":0.1923825,\"symbol\":\"circle\"},\"mode\":\"markers\",\"name\":\"Canada\",\"orientation\":\"v\",\"showlegend\":true,\"x\":[10.776],\"xaxis\":\"x\",\"y\":[0.089],\"yaxis\":\"y\",\"type\":\"scatter\"},{\"hovertemplate\":\"Country name=Ireland<br>Logged GDP per capita=%{x}<br>Generosity=%{y}<br>Healthy life expectancy=%{marker.size}<extra></extra>\",\"legendgroup\":\"Ireland\",\"marker\":{\"color\":\"#FFA15A\",\"size\":[72.4],\"sizemode\":\"area\",\"sizeref\":0.1923825,\"symbol\":\"circle\"},\"mode\":\"markers\",\"name\":\"Ireland\",\"orientation\":\"v\",\"showlegend\":true,\"x\":[11.342],\"xaxis\":\"x\",\"y\":[0.077],\"yaxis\":\"y\",\"type\":\"scatter\"},{\"hovertemplate\":\"Country name=Costa Rica<br>Logged GDP per capita=%{x}<br>Generosity=%{y}<br>Healthy life expectancy=%{marker.size}<extra></extra>\",\"legendgroup\":\"Costa Rica\",\"marker\":{\"color\":\"#19d3f3\",\"size\":[71.4],\"sizemode\":\"area\",\"sizeref\":0.1923825,\"symbol\":\"circle\"},\"mode\":\"markers\",\"name\":\"Costa Rica\",\"orientation\":\"v\",\"showlegend\":true,\"x\":[9.88],\"xaxis\":\"x\",\"y\":[-0.126],\"yaxis\":\"y\",\"type\":\"scatter\"},{\"hovertemplate\":\"Country name=United Kingdom<br>Logged GDP per capita=%{x}<br>Generosity=%{y}<br>Healthy life expectancy=%{marker.size}<extra></extra>\",\"legendgroup\":\"United Kingdom\",\"marker\":{\"color\":\"#FF6692\",\"size\":[72.5],\"sizemode\":\"area\",\"sizeref\":0.1923825,\"symbol\":\"circle\"},\"mode\":\"markers\",\"name\":\"United Kingdom\",\"orientation\":\"v\",\"showlegend\":true,\"x\":[10.707],\"xaxis\":\"x\",\"y\":[0.233],\"yaxis\":\"y\",\"type\":\"scatter\"},{\"hovertemplate\":\"Country name=Czech Republic<br>Logged GDP per capita=%{x}<br>Generosity=%{y}<br>Healthy life expectancy=%{marker.size}<extra></extra>\",\"legendgroup\":\"Czech Republic\",\"marker\":{\"color\":\"#B6E880\",\"size\":[70.807],\"sizemode\":\"area\",\"sizeref\":0.1923825,\"symbol\":\"circle\"},\"mode\":\"markers\",\"name\":\"Czech Republic\",\"orientation\":\"v\",\"showlegend\":true,\"x\":[10.556],\"xaxis\":\"x\",\"y\":[-0.208],\"yaxis\":\"y\",\"type\":\"scatter\"},{\"hovertemplate\":\"Country name=United States<br>Logged GDP per capita=%{x}<br>Generosity=%{y}<br>Healthy life expectancy=%{marker.size}<extra></extra>\",\"legendgroup\":\"United States\",\"marker\":{\"color\":\"#FF97FF\",\"size\":[68.2],\"sizemode\":\"area\",\"sizeref\":0.1923825,\"symbol\":\"circle\"},\"mode\":\"markers\",\"name\":\"United States\",\"orientation\":\"v\",\"showlegend\":true,\"x\":[11.023],\"xaxis\":\"x\",\"y\":[0.098],\"yaxis\":\"y\",\"type\":\"scatter\"},{\"hovertemplate\":\"Country name=Belgium<br>Logged GDP per capita=%{x}<br>Generosity=%{y}<br>Healthy life expectancy=%{marker.size}<extra></extra>\",\"legendgroup\":\"Belgium\",\"marker\":{\"color\":\"#FECB52\",\"size\":[72.199],\"sizemode\":\"area\",\"sizeref\":0.1923825,\"symbol\":\"circle\"},\"mode\":\"markers\",\"name\":\"Belgium\",\"orientation\":\"v\",\"showlegend\":true,\"x\":[10.823],\"xaxis\":\"x\",\"y\":[-0.153],\"yaxis\":\"y\",\"type\":\"scatter\"},{\"hovertemplate\":\"Country name=France<br>Logged GDP per capita=%{x}<br>Generosity=%{y}<br>Healthy life expectancy=%{marker.size}<extra></extra>\",\"legendgroup\":\"France\",\"marker\":{\"color\":\"#636efa\",\"size\":[74.0],\"sizemode\":\"area\",\"sizeref\":0.1923825,\"symbol\":\"circle\"},\"mode\":\"markers\",\"name\":\"France\",\"orientation\":\"v\",\"showlegend\":true,\"x\":[10.704],\"xaxis\":\"x\",\"y\":[-0.147],\"yaxis\":\"y\",\"type\":\"scatter\"},{\"hovertemplate\":\"Country name=Bahrain<br>Logged GDP per capita=%{x}<br>Generosity=%{y}<br>Healthy life expectancy=%{marker.size}<extra></extra>\",\"legendgroup\":\"Bahrain\",\"marker\":{\"color\":\"#EF553B\",\"size\":[69.495],\"sizemode\":\"area\",\"sizeref\":0.1923825,\"symbol\":\"circle\"},\"mode\":\"markers\",\"name\":\"Bahrain\",\"orientation\":\"v\",\"showlegend\":true,\"x\":[10.669],\"xaxis\":\"x\",\"y\":[0.089],\"yaxis\":\"y\",\"type\":\"scatter\"},{\"hovertemplate\":\"Country name=Malta<br>Logged GDP per capita=%{x}<br>Generosity=%{y}<br>Healthy life expectancy=%{marker.size}<extra></extra>\",\"legendgroup\":\"Malta\",\"marker\":{\"color\":\"#00cc96\",\"size\":[72.2],\"sizemode\":\"area\",\"sizeref\":0.1923825,\"symbol\":\"circle\"},\"mode\":\"markers\",\"name\":\"Malta\",\"orientation\":\"v\",\"showlegend\":true,\"x\":[10.674],\"xaxis\":\"x\",\"y\":[0.133],\"yaxis\":\"y\",\"type\":\"scatter\"},{\"hovertemplate\":\"Country name=Taiwan Province of China<br>Logged GDP per capita=%{x}<br>Generosity=%{y}<br>Healthy life expectancy=%{marker.size}<extra></extra>\",\"legendgroup\":\"Taiwan Province of China\",\"marker\":{\"color\":\"#ab63fa\",\"size\":[69.6],\"sizemode\":\"area\",\"sizeref\":0.1923825,\"symbol\":\"circle\"},\"mode\":\"markers\",\"name\":\"Taiwan Province of China\",\"orientation\":\"v\",\"showlegend\":true,\"x\":[10.871],\"xaxis\":\"x\",\"y\":[-0.07],\"yaxis\":\"y\",\"type\":\"scatter\"},{\"hovertemplate\":\"Country name=United Arab Emirates<br>Logged GDP per capita=%{x}<br>Generosity=%{y}<br>Healthy life expectancy=%{marker.size}<extra></extra>\",\"legendgroup\":\"United Arab Emirates\",\"marker\":{\"color\":\"#FFA15A\",\"size\":[67.333],\"sizemode\":\"area\",\"sizeref\":0.1923825,\"symbol\":\"circle\"},\"mode\":\"markers\",\"name\":\"United Arab Emirates\",\"orientation\":\"v\",\"showlegend\":true,\"x\":[11.085],\"xaxis\":\"x\",\"y\":[0.074],\"yaxis\":\"y\",\"type\":\"scatter\"},{\"hovertemplate\":\"Country name=Saudi Arabia<br>Logged GDP per capita=%{x}<br>Generosity=%{y}<br>Healthy life expectancy=%{marker.size}<extra></extra>\",\"legendgroup\":\"Saudi Arabia\",\"marker\":{\"color\":\"#19d3f3\",\"size\":[66.603],\"sizemode\":\"area\",\"sizeref\":0.1923825,\"symbol\":\"circle\"},\"mode\":\"markers\",\"name\":\"Saudi Arabia\",\"orientation\":\"v\",\"showlegend\":true,\"x\":[10.743],\"xaxis\":\"x\",\"y\":[-0.149],\"yaxis\":\"y\",\"type\":\"scatter\"},{\"hovertemplate\":\"Country name=Spain<br>Logged GDP per capita=%{x}<br>Generosity=%{y}<br>Healthy life expectancy=%{marker.size}<extra></extra>\",\"legendgroup\":\"Spain\",\"marker\":{\"color\":\"#FF6692\",\"size\":[74.7],\"sizemode\":\"area\",\"sizeref\":0.1923825,\"symbol\":\"circle\"},\"mode\":\"markers\",\"name\":\"Spain\",\"orientation\":\"v\",\"showlegend\":true,\"x\":[10.571],\"xaxis\":\"x\",\"y\":[-0.081],\"yaxis\":\"y\",\"type\":\"scatter\"},{\"hovertemplate\":\"Country name=Italy<br>Logged GDP per capita=%{x}<br>Generosity=%{y}<br>Healthy life expectancy=%{marker.size}<extra></extra>\",\"legendgroup\":\"Italy\",\"marker\":{\"color\":\"#B6E880\",\"size\":[73.8],\"sizemode\":\"area\",\"sizeref\":0.1923825,\"symbol\":\"circle\"},\"mode\":\"markers\",\"name\":\"Italy\",\"orientation\":\"v\",\"showlegend\":true,\"x\":[10.623],\"xaxis\":\"x\",\"y\":[-0.084],\"yaxis\":\"y\",\"type\":\"scatter\"},{\"hovertemplate\":\"Country name=Slovenia<br>Logged GDP per capita=%{x}<br>Generosity=%{y}<br>Healthy life expectancy=%{marker.size}<extra></extra>\",\"legendgroup\":\"Slovenia\",\"marker\":{\"color\":\"#FF97FF\",\"size\":[71.4],\"sizemode\":\"area\",\"sizeref\":0.1923825,\"symbol\":\"circle\"},\"mode\":\"markers\",\"name\":\"Slovenia\",\"orientation\":\"v\",\"showlegend\":true,\"x\":[10.529],\"xaxis\":\"x\",\"y\":[-0.101],\"yaxis\":\"y\",\"type\":\"scatter\"},{\"hovertemplate\":\"Country name=Guatemala<br>Logged GDP per capita=%{x}<br>Generosity=%{y}<br>Healthy life expectancy=%{marker.size}<extra></extra>\",\"legendgroup\":\"Guatemala\",\"marker\":{\"color\":\"#FECB52\",\"size\":[64.958],\"sizemode\":\"area\",\"sizeref\":0.1923825,\"symbol\":\"circle\"},\"mode\":\"markers\",\"name\":\"Guatemala\",\"orientation\":\"v\",\"showlegend\":true,\"x\":[9.053],\"xaxis\":\"x\",\"y\":[-0.038],\"yaxis\":\"y\",\"type\":\"scatter\"},{\"hovertemplate\":\"Country name=Uruguay<br>Logged GDP per capita=%{x}<br>Generosity=%{y}<br>Healthy life expectancy=%{marker.size}<extra></extra>\",\"legendgroup\":\"Uruguay\",\"marker\":{\"color\":\"#636efa\",\"size\":[69.1],\"sizemode\":\"area\",\"sizeref\":0.1923825,\"symbol\":\"circle\"},\"mode\":\"markers\",\"name\":\"Uruguay\",\"orientation\":\"v\",\"showlegend\":true,\"x\":[9.966],\"xaxis\":\"x\",\"y\":[-0.092],\"yaxis\":\"y\",\"type\":\"scatter\"},{\"hovertemplate\":\"Country name=Singapore<br>Logged GDP per capita=%{x}<br>Generosity=%{y}<br>Healthy life expectancy=%{marker.size}<extra></extra>\",\"legendgroup\":\"Singapore\",\"marker\":{\"color\":\"#EF553B\",\"size\":[76.953],\"sizemode\":\"area\",\"sizeref\":0.1923825,\"symbol\":\"circle\"},\"mode\":\"markers\",\"name\":\"Singapore\",\"orientation\":\"v\",\"showlegend\":true,\"x\":[11.488],\"xaxis\":\"x\",\"y\":[-0.018],\"yaxis\":\"y\",\"type\":\"scatter\"},{\"hovertemplate\":\"Country name=Kosovo<br>Logged GDP per capita=%{x}<br>Generosity=%{y}<br>Healthy life expectancy=%{marker.size}<extra></extra>\",\"legendgroup\":\"Kosovo\",\"marker\":{\"color\":\"#00cc96\",\"size\":[63.813],\"sizemode\":\"area\",\"sizeref\":0.1923825,\"symbol\":\"circle\"},\"mode\":\"markers\",\"name\":\"Kosovo\",\"orientation\":\"v\",\"showlegend\":true,\"x\":[9.318],\"xaxis\":\"x\",\"y\":[0.257],\"yaxis\":\"y\",\"type\":\"scatter\"},{\"hovertemplate\":\"Country name=Slovakia<br>Logged GDP per capita=%{x}<br>Generosity=%{y}<br>Healthy life expectancy=%{marker.size}<extra></extra>\",\"legendgroup\":\"Slovakia\",\"marker\":{\"color\":\"#ab63fa\",\"size\":[69.201],\"sizemode\":\"area\",\"sizeref\":0.1923825,\"symbol\":\"circle\"},\"mode\":\"markers\",\"name\":\"Slovakia\",\"orientation\":\"v\",\"showlegend\":true,\"x\":[10.369],\"xaxis\":\"x\",\"y\":[-0.124],\"yaxis\":\"y\",\"type\":\"scatter\"},{\"hovertemplate\":\"Country name=Brazil<br>Logged GDP per capita=%{x}<br>Generosity=%{y}<br>Healthy life expectancy=%{marker.size}<extra></extra>\",\"legendgroup\":\"Brazil\",\"marker\":{\"color\":\"#FFA15A\",\"size\":[66.601],\"sizemode\":\"area\",\"sizeref\":0.1923825,\"symbol\":\"circle\"},\"mode\":\"markers\",\"name\":\"Brazil\",\"orientation\":\"v\",\"showlegend\":true,\"x\":[9.577],\"xaxis\":\"x\",\"y\":[-0.071],\"yaxis\":\"y\",\"type\":\"scatter\"},{\"hovertemplate\":\"Country name=Mexico<br>Logged GDP per capita=%{x}<br>Generosity=%{y}<br>Healthy life expectancy=%{marker.size}<extra></extra>\",\"legendgroup\":\"Mexico\",\"marker\":{\"color\":\"#19d3f3\",\"size\":[68.597],\"sizemode\":\"area\",\"sizeref\":0.1923825,\"symbol\":\"circle\"},\"mode\":\"markers\",\"name\":\"Mexico\",\"orientation\":\"v\",\"showlegend\":true,\"x\":[9.859],\"xaxis\":\"x\",\"y\":[-0.147],\"yaxis\":\"y\",\"type\":\"scatter\"},{\"hovertemplate\":\"Country name=Jamaica<br>Logged GDP per capita=%{x}<br>Generosity=%{y}<br>Healthy life expectancy=%{marker.size}<extra></extra>\",\"legendgroup\":\"Jamaica\",\"marker\":{\"color\":\"#FF6692\",\"size\":[67.5],\"sizemode\":\"area\",\"sizeref\":0.1923825,\"symbol\":\"circle\"},\"mode\":\"markers\",\"name\":\"Jamaica\",\"orientation\":\"v\",\"showlegend\":true,\"x\":[9.186],\"xaxis\":\"x\",\"y\":[-0.137],\"yaxis\":\"y\",\"type\":\"scatter\"},{\"hovertemplate\":\"Country name=Lithuania<br>Logged GDP per capita=%{x}<br>Generosity=%{y}<br>Healthy life expectancy=%{marker.size}<extra></extra>\",\"legendgroup\":\"Lithuania\",\"marker\":{\"color\":\"#B6E880\",\"size\":[67.906],\"sizemode\":\"area\",\"sizeref\":0.1923825,\"symbol\":\"circle\"},\"mode\":\"markers\",\"name\":\"Lithuania\",\"orientation\":\"v\",\"showlegend\":true,\"x\":[10.499],\"xaxis\":\"x\",\"y\":[-0.203],\"yaxis\":\"y\",\"type\":\"scatter\"},{\"hovertemplate\":\"Country name=Cyprus<br>Logged GDP per capita=%{x}<br>Generosity=%{y}<br>Healthy life expectancy=%{marker.size}<extra></extra>\",\"legendgroup\":\"Cyprus\",\"marker\":{\"color\":\"#FF97FF\",\"size\":[73.898],\"sizemode\":\"area\",\"sizeref\":0.1923825,\"symbol\":\"circle\"},\"mode\":\"markers\",\"name\":\"Cyprus\",\"orientation\":\"v\",\"showlegend\":true,\"x\":[10.576],\"xaxis\":\"x\",\"y\":[-0.015],\"yaxis\":\"y\",\"type\":\"scatter\"},{\"hovertemplate\":\"Country name=Estonia<br>Logged GDP per capita=%{x}<br>Generosity=%{y}<br>Healthy life expectancy=%{marker.size}<extra></extra>\",\"legendgroup\":\"Estonia\",\"marker\":{\"color\":\"#FECB52\",\"size\":[68.8],\"sizemode\":\"area\",\"sizeref\":0.1923825,\"symbol\":\"circle\"},\"mode\":\"markers\",\"name\":\"Estonia\",\"orientation\":\"v\",\"showlegend\":true,\"x\":[10.481],\"xaxis\":\"x\",\"y\":[-0.106],\"yaxis\":\"y\",\"type\":\"scatter\"},{\"hovertemplate\":\"Country name=Panama<br>Logged GDP per capita=%{x}<br>Generosity=%{y}<br>Healthy life expectancy=%{marker.size}<extra></extra>\",\"legendgroup\":\"Panama\",\"marker\":{\"color\":\"#636efa\",\"size\":[69.652],\"sizemode\":\"area\",\"sizeref\":0.1923825,\"symbol\":\"circle\"},\"mode\":\"markers\",\"name\":\"Panama\",\"orientation\":\"v\",\"showlegend\":true,\"x\":[10.35],\"xaxis\":\"x\",\"y\":[-0.166],\"yaxis\":\"y\",\"type\":\"scatter\"},{\"hovertemplate\":\"Country name=Uzbekistan<br>Logged GDP per capita=%{x}<br>Generosity=%{y}<br>Healthy life expectancy=%{marker.size}<extra></extra>\",\"legendgroup\":\"Uzbekistan\",\"marker\":{\"color\":\"#EF553B\",\"size\":[65.255],\"sizemode\":\"area\",\"sizeref\":0.1923825,\"symbol\":\"circle\"},\"mode\":\"markers\",\"name\":\"Uzbekistan\",\"orientation\":\"v\",\"showlegend\":true,\"x\":[8.836],\"xaxis\":\"x\",\"y\":[0.311],\"yaxis\":\"y\",\"type\":\"scatter\"},{\"hovertemplate\":\"Country name=Chile<br>Logged GDP per capita=%{x}<br>Generosity=%{y}<br>Healthy life expectancy=%{marker.size}<extra></extra>\",\"legendgroup\":\"Chile\",\"marker\":{\"color\":\"#00cc96\",\"size\":[70.0],\"sizemode\":\"area\",\"sizeref\":0.1923825,\"symbol\":\"circle\"},\"mode\":\"markers\",\"name\":\"Chile\",\"orientation\":\"v\",\"showlegend\":true,\"x\":[10.071],\"xaxis\":\"x\",\"y\":[-0.044],\"yaxis\":\"y\",\"type\":\"scatter\"},{\"hovertemplate\":\"Country name=Poland<br>Logged GDP per capita=%{x}<br>Generosity=%{y}<br>Healthy life expectancy=%{marker.size}<extra></extra>\",\"legendgroup\":\"Poland\",\"marker\":{\"color\":\"#ab63fa\",\"size\":[69.702],\"sizemode\":\"area\",\"sizeref\":0.1923825,\"symbol\":\"circle\"},\"mode\":\"markers\",\"name\":\"Poland\",\"orientation\":\"v\",\"showlegend\":true,\"x\":[10.382],\"xaxis\":\"x\",\"y\":[-0.165],\"yaxis\":\"y\",\"type\":\"scatter\"},{\"hovertemplate\":\"Country name=Kazakhstan<br>Logged GDP per capita=%{x}<br>Generosity=%{y}<br>Healthy life expectancy=%{marker.size}<extra></extra>\",\"legendgroup\":\"Kazakhstan\",\"marker\":{\"color\":\"#FFA15A\",\"size\":[65.2],\"sizemode\":\"area\",\"sizeref\":0.1923825,\"symbol\":\"circle\"},\"mode\":\"markers\",\"name\":\"Kazakhstan\",\"orientation\":\"v\",\"showlegend\":true,\"x\":[10.155],\"xaxis\":\"x\",\"y\":[-0.069],\"yaxis\":\"y\",\"type\":\"scatter\"},{\"hovertemplate\":\"Country name=Romania<br>Logged GDP per capita=%{x}<br>Generosity=%{y}<br>Healthy life expectancy=%{marker.size}<extra></extra>\",\"legendgroup\":\"Romania\",\"marker\":{\"color\":\"#19d3f3\",\"size\":[67.355],\"sizemode\":\"area\",\"sizeref\":0.1923825,\"symbol\":\"circle\"},\"mode\":\"markers\",\"name\":\"Romania\",\"orientation\":\"v\",\"showlegend\":true,\"x\":[10.284],\"xaxis\":\"x\",\"y\":[-0.219],\"yaxis\":\"y\",\"type\":\"scatter\"},{\"hovertemplate\":\"Country name=Kuwait<br>Logged GDP per capita=%{x}<br>Generosity=%{y}<br>Healthy life expectancy=%{marker.size}<extra></extra>\",\"legendgroup\":\"Kuwait\",\"marker\":{\"color\":\"#FF6692\",\"size\":[66.9],\"sizemode\":\"area\",\"sizeref\":0.1923825,\"symbol\":\"circle\"},\"mode\":\"markers\",\"name\":\"Kuwait\",\"orientation\":\"v\",\"showlegend\":true,\"x\":[10.817],\"xaxis\":\"x\",\"y\":[-0.104],\"yaxis\":\"y\",\"type\":\"scatter\"},{\"hovertemplate\":\"Country name=Serbia<br>Logged GDP per capita=%{x}<br>Generosity=%{y}<br>Healthy life expectancy=%{marker.size}<extra></extra>\",\"legendgroup\":\"Serbia\",\"marker\":{\"color\":\"#B6E880\",\"size\":[68.6],\"sizemode\":\"area\",\"sizeref\":0.1923825,\"symbol\":\"circle\"},\"mode\":\"markers\",\"name\":\"Serbia\",\"orientation\":\"v\",\"showlegend\":true,\"x\":[9.787],\"xaxis\":\"x\",\"y\":[0.002],\"yaxis\":\"y\",\"type\":\"scatter\"},{\"hovertemplate\":\"Country name=El Salvador<br>Logged GDP per capita=%{x}<br>Generosity=%{y}<br>Healthy life expectancy=%{marker.size}<extra></extra>\",\"legendgroup\":\"El Salvador\",\"marker\":{\"color\":\"#FF97FF\",\"size\":[66.402],\"sizemode\":\"area\",\"sizeref\":0.1923825,\"symbol\":\"circle\"},\"mode\":\"markers\",\"name\":\"El Salvador\",\"orientation\":\"v\",\"showlegend\":true,\"x\":[9.054],\"xaxis\":\"x\",\"y\":[-0.11],\"yaxis\":\"y\",\"type\":\"scatter\"},{\"hovertemplate\":\"Country name=Mauritius<br>Logged GDP per capita=%{x}<br>Generosity=%{y}<br>Healthy life expectancy=%{marker.size}<extra></extra>\",\"legendgroup\":\"Mauritius\",\"marker\":{\"color\":\"#FECB52\",\"size\":[66.701],\"sizemode\":\"area\",\"sizeref\":0.1923825,\"symbol\":\"circle\"},\"mode\":\"markers\",\"name\":\"Mauritius\",\"orientation\":\"v\",\"showlegend\":true,\"x\":[10.008],\"xaxis\":\"x\",\"y\":[-0.054],\"yaxis\":\"y\",\"type\":\"scatter\"},{\"hovertemplate\":\"Country name=Latvia<br>Logged GDP per capita=%{x}<br>Generosity=%{y}<br>Healthy life expectancy=%{marker.size}<extra></extra>\",\"legendgroup\":\"Latvia\",\"marker\":{\"color\":\"#636efa\",\"size\":[67.1],\"sizemode\":\"area\",\"sizeref\":0.1923825,\"symbol\":\"circle\"},\"mode\":\"markers\",\"name\":\"Latvia\",\"orientation\":\"v\",\"showlegend\":true,\"x\":[10.315],\"xaxis\":\"x\",\"y\":[-0.162],\"yaxis\":\"y\",\"type\":\"scatter\"},{\"hovertemplate\":\"Country name=Colombia<br>Logged GDP per capita=%{x}<br>Generosity=%{y}<br>Healthy life expectancy=%{marker.size}<extra></extra>\",\"legendgroup\":\"Colombia\",\"marker\":{\"color\":\"#EF553B\",\"size\":[68.001],\"sizemode\":\"area\",\"sizeref\":0.1923825,\"symbol\":\"circle\"},\"mode\":\"markers\",\"name\":\"Colombia\",\"orientation\":\"v\",\"showlegend\":true,\"x\":[9.557],\"xaxis\":\"x\",\"y\":[-0.135],\"yaxis\":\"y\",\"type\":\"scatter\"},{\"hovertemplate\":\"Country name=Hungary<br>Logged GDP per capita=%{x}<br>Generosity=%{y}<br>Healthy life expectancy=%{marker.size}<extra></extra>\",\"legendgroup\":\"Hungary\",\"marker\":{\"color\":\"#00cc96\",\"size\":[68.0],\"sizemode\":\"area\",\"sizeref\":0.1923825,\"symbol\":\"circle\"},\"mode\":\"markers\",\"name\":\"Hungary\",\"orientation\":\"v\",\"showlegend\":true,\"x\":[10.358],\"xaxis\":\"x\",\"y\":[-0.186],\"yaxis\":\"y\",\"type\":\"scatter\"},{\"hovertemplate\":\"Country name=Thailand<br>Logged GDP per capita=%{x}<br>Generosity=%{y}<br>Healthy life expectancy=%{marker.size}<extra></extra>\",\"legendgroup\":\"Thailand\",\"marker\":{\"color\":\"#ab63fa\",\"size\":[67.401],\"sizemode\":\"area\",\"sizeref\":0.1923825,\"symbol\":\"circle\"},\"mode\":\"markers\",\"name\":\"Thailand\",\"orientation\":\"v\",\"showlegend\":true,\"x\":[9.805],\"xaxis\":\"x\",\"y\":[0.287],\"yaxis\":\"y\",\"type\":\"scatter\"},{\"hovertemplate\":\"Country name=Nicaragua<br>Logged GDP per capita=%{x}<br>Generosity=%{y}<br>Healthy life expectancy=%{marker.size}<extra></extra>\",\"legendgroup\":\"Nicaragua\",\"marker\":{\"color\":\"#FFA15A\",\"size\":[67.657],\"sizemode\":\"area\",\"sizeref\":0.1923825,\"symbol\":\"circle\"},\"mode\":\"markers\",\"name\":\"Nicaragua\",\"orientation\":\"v\",\"showlegend\":true,\"x\":[8.62],\"xaxis\":\"x\",\"y\":[0.02],\"yaxis\":\"y\",\"type\":\"scatter\"},{\"hovertemplate\":\"Country name=Japan<br>Logged GDP per capita=%{x}<br>Generosity=%{y}<br>Healthy life expectancy=%{marker.size}<extra></extra>\",\"legendgroup\":\"Japan\",\"marker\":{\"color\":\"#19d3f3\",\"size\":[75.1],\"sizemode\":\"area\",\"sizeref\":0.1923825,\"symbol\":\"circle\"},\"mode\":\"markers\",\"name\":\"Japan\",\"orientation\":\"v\",\"showlegend\":true,\"x\":[10.611],\"xaxis\":\"x\",\"y\":[-0.258],\"yaxis\":\"y\",\"type\":\"scatter\"},{\"hovertemplate\":\"Country name=Argentina<br>Logged GDP per capita=%{x}<br>Generosity=%{y}<br>Healthy life expectancy=%{marker.size}<extra></extra>\",\"legendgroup\":\"Argentina\",\"marker\":{\"color\":\"#FF6692\",\"size\":[69.0],\"sizemode\":\"area\",\"sizeref\":0.1923825,\"symbol\":\"circle\"},\"mode\":\"markers\",\"name\":\"Argentina\",\"orientation\":\"v\",\"showlegend\":true,\"x\":[9.962],\"xaxis\":\"x\",\"y\":[-0.182],\"yaxis\":\"y\",\"type\":\"scatter\"},{\"hovertemplate\":\"Country name=Portugal<br>Logged GDP per capita=%{x}<br>Generosity=%{y}<br>Healthy life expectancy=%{marker.size}<extra></extra>\",\"legendgroup\":\"Portugal\",\"marker\":{\"color\":\"#B6E880\",\"size\":[72.6],\"sizemode\":\"area\",\"sizeref\":0.1923825,\"symbol\":\"circle\"},\"mode\":\"markers\",\"name\":\"Portugal\",\"orientation\":\"v\",\"showlegend\":true,\"x\":[10.421],\"xaxis\":\"x\",\"y\":[-0.244],\"yaxis\":\"y\",\"type\":\"scatter\"},{\"hovertemplate\":\"Country name=Honduras<br>Logged GDP per capita=%{x}<br>Generosity=%{y}<br>Healthy life expectancy=%{marker.size}<extra></extra>\",\"legendgroup\":\"Honduras\",\"marker\":{\"color\":\"#FF97FF\",\"size\":[67.3],\"sizemode\":\"area\",\"sizeref\":0.1923825,\"symbol\":\"circle\"},\"mode\":\"markers\",\"name\":\"Honduras\",\"orientation\":\"v\",\"showlegend\":true,\"x\":[8.648],\"xaxis\":\"x\",\"y\":[0.081],\"yaxis\":\"y\",\"type\":\"scatter\"},{\"hovertemplate\":\"Country name=Croatia<br>Logged GDP per capita=%{x}<br>Generosity=%{y}<br>Healthy life expectancy=%{marker.size}<extra></extra>\",\"legendgroup\":\"Croatia\",\"marker\":{\"color\":\"#FECB52\",\"size\":[70.799],\"sizemode\":\"area\",\"sizeref\":0.1923825,\"symbol\":\"circle\"},\"mode\":\"markers\",\"name\":\"Croatia\",\"orientation\":\"v\",\"showlegend\":true,\"x\":[10.217],\"xaxis\":\"x\",\"y\":[-0.118],\"yaxis\":\"y\",\"type\":\"scatter\"},{\"hovertemplate\":\"Country name=Philippines<br>Logged GDP per capita=%{x}<br>Generosity=%{y}<br>Healthy life expectancy=%{marker.size}<extra></extra>\",\"legendgroup\":\"Philippines\",\"marker\":{\"color\":\"#636efa\",\"size\":[62.0],\"sizemode\":\"area\",\"sizeref\":0.1923825,\"symbol\":\"circle\"},\"mode\":\"markers\",\"name\":\"Philippines\",\"orientation\":\"v\",\"showlegend\":true,\"x\":[9.076],\"xaxis\":\"x\",\"y\":[-0.097],\"yaxis\":\"y\",\"type\":\"scatter\"},{\"hovertemplate\":\"Country name=South Korea<br>Logged GDP per capita=%{x}<br>Generosity=%{y}<br>Healthy life expectancy=%{marker.size}<extra></extra>\",\"legendgroup\":\"South Korea\",\"marker\":{\"color\":\"#EF553B\",\"size\":[73.9],\"sizemode\":\"area\",\"sizeref\":0.1923825,\"symbol\":\"circle\"},\"mode\":\"markers\",\"name\":\"South Korea\",\"orientation\":\"v\",\"showlegend\":true,\"x\":[10.651],\"xaxis\":\"x\",\"y\":[-0.083],\"yaxis\":\"y\",\"type\":\"scatter\"},{\"hovertemplate\":\"Country name=Peru<br>Logged GDP per capita=%{x}<br>Generosity=%{y}<br>Healthy life expectancy=%{marker.size}<extra></extra>\",\"legendgroup\":\"Peru\",\"marker\":{\"color\":\"#00cc96\",\"size\":[68.25],\"sizemode\":\"area\",\"sizeref\":0.1923825,\"symbol\":\"circle\"},\"mode\":\"markers\",\"name\":\"Peru\",\"orientation\":\"v\",\"showlegend\":true,\"x\":[9.458],\"xaxis\":\"x\",\"y\":[-0.154],\"yaxis\":\"y\",\"type\":\"scatter\"},{\"hovertemplate\":\"Country name=Bosnia and Herzegovina<br>Logged GDP per capita=%{x}<br>Generosity=%{y}<br>Healthy life expectancy=%{marker.size}<extra></extra>\",\"legendgroup\":\"Bosnia and Herzegovina\",\"marker\":{\"color\":\"#ab63fa\",\"size\":[68.098],\"sizemode\":\"area\",\"sizeref\":0.1923825,\"symbol\":\"circle\"},\"mode\":\"markers\",\"name\":\"Bosnia and Herzegovina\",\"orientation\":\"v\",\"showlegend\":true,\"x\":[9.59],\"xaxis\":\"x\",\"y\":[0.113],\"yaxis\":\"y\",\"type\":\"scatter\"},{\"hovertemplate\":\"Country name=Moldova<br>Logged GDP per capita=%{x}<br>Generosity=%{y}<br>Healthy life expectancy=%{marker.size}<extra></extra>\",\"legendgroup\":\"Moldova\",\"marker\":{\"color\":\"#FFA15A\",\"size\":[65.699],\"sizemode\":\"area\",\"sizeref\":0.1923825,\"symbol\":\"circle\"},\"mode\":\"markers\",\"name\":\"Moldova\",\"orientation\":\"v\",\"showlegend\":true,\"x\":[9.454],\"xaxis\":\"x\",\"y\":[-0.079],\"yaxis\":\"y\",\"type\":\"scatter\"},{\"hovertemplate\":\"Country name=Ecuador<br>Logged GDP per capita=%{x}<br>Generosity=%{y}<br>Healthy life expectancy=%{marker.size}<extra></extra>\",\"legendgroup\":\"Ecuador\",\"marker\":{\"color\":\"#19d3f3\",\"size\":[68.8],\"sizemode\":\"area\",\"sizeref\":0.1923825,\"symbol\":\"circle\"},\"mode\":\"markers\",\"name\":\"Ecuador\",\"orientation\":\"v\",\"showlegend\":true,\"x\":[9.313],\"xaxis\":\"x\",\"y\":[-0.124],\"yaxis\":\"y\",\"type\":\"scatter\"},{\"hovertemplate\":\"Country name=Kyrgyzstan<br>Logged GDP per capita=%{x}<br>Generosity=%{y}<br>Healthy life expectancy=%{marker.size}<extra></extra>\",\"legendgroup\":\"Kyrgyzstan\",\"marker\":{\"color\":\"#FF6692\",\"size\":[64.401],\"sizemode\":\"area\",\"sizeref\":0.1923825,\"symbol\":\"circle\"},\"mode\":\"markers\",\"name\":\"Kyrgyzstan\",\"orientation\":\"v\",\"showlegend\":true,\"x\":[8.538],\"xaxis\":\"x\",\"y\":[0.119],\"yaxis\":\"y\",\"type\":\"scatter\"},{\"hovertemplate\":\"Country name=Greece<br>Logged GDP per capita=%{x}<br>Generosity=%{y}<br>Healthy life expectancy=%{marker.size}<extra></extra>\",\"legendgroup\":\"Greece\",\"marker\":{\"color\":\"#B6E880\",\"size\":[72.6],\"sizemode\":\"area\",\"sizeref\":0.1923825,\"symbol\":\"circle\"},\"mode\":\"markers\",\"name\":\"Greece\",\"orientation\":\"v\",\"showlegend\":true,\"x\":[10.279],\"xaxis\":\"x\",\"y\":[-0.288],\"yaxis\":\"y\",\"type\":\"scatter\"},{\"hovertemplate\":\"Country name=Bolivia<br>Logged GDP per capita=%{x}<br>Generosity=%{y}<br>Healthy life expectancy=%{marker.size}<extra></extra>\",\"legendgroup\":\"Bolivia\",\"marker\":{\"color\":\"#FF97FF\",\"size\":[63.901],\"sizemode\":\"area\",\"sizeref\":0.1923825,\"symbol\":\"circle\"},\"mode\":\"markers\",\"name\":\"Bolivia\",\"orientation\":\"v\",\"showlegend\":true,\"x\":[9.046],\"xaxis\":\"x\",\"y\":[-0.077],\"yaxis\":\"y\",\"type\":\"scatter\"},{\"hovertemplate\":\"Country name=Mongolia<br>Logged GDP per capita=%{x}<br>Generosity=%{y}<br>Healthy life expectancy=%{marker.size}<extra></extra>\",\"legendgroup\":\"Mongolia\",\"marker\":{\"color\":\"#FECB52\",\"size\":[62.5],\"sizemode\":\"area\",\"sizeref\":0.1923825,\"symbol\":\"circle\"},\"mode\":\"markers\",\"name\":\"Mongolia\",\"orientation\":\"v\",\"showlegend\":true,\"x\":[9.4],\"xaxis\":\"x\",\"y\":[0.116],\"yaxis\":\"y\",\"type\":\"scatter\"},{\"hovertemplate\":\"Country name=Paraguay<br>Logged GDP per capita=%{x}<br>Generosity=%{y}<br>Healthy life expectancy=%{marker.size}<extra></extra>\",\"legendgroup\":\"Paraguay\",\"marker\":{\"color\":\"#636efa\",\"size\":[65.9],\"sizemode\":\"area\",\"sizeref\":0.1923825,\"symbol\":\"circle\"},\"mode\":\"markers\",\"name\":\"Paraguay\",\"orientation\":\"v\",\"showlegend\":true,\"x\":[9.448],\"xaxis\":\"x\",\"y\":[0.028],\"yaxis\":\"y\",\"type\":\"scatter\"},{\"hovertemplate\":\"Country name=Montenegro<br>Logged GDP per capita=%{x}<br>Generosity=%{y}<br>Healthy life expectancy=%{marker.size}<extra></extra>\",\"legendgroup\":\"Montenegro\",\"marker\":{\"color\":\"#EF553B\",\"size\":[68.699],\"sizemode\":\"area\",\"sizeref\":0.1923825,\"symbol\":\"circle\"},\"mode\":\"markers\",\"name\":\"Montenegro\",\"orientation\":\"v\",\"showlegend\":true,\"x\":[9.94],\"xaxis\":\"x\",\"y\":[-0.034],\"yaxis\":\"y\",\"type\":\"scatter\"},{\"hovertemplate\":\"Country name=Dominican Republic<br>Logged GDP per capita=%{x}<br>Generosity=%{y}<br>Healthy life expectancy=%{marker.size}<extra></extra>\",\"legendgroup\":\"Dominican Republic\",\"marker\":{\"color\":\"#00cc96\",\"size\":[66.102],\"sizemode\":\"area\",\"sizeref\":0.1923825,\"symbol\":\"circle\"},\"mode\":\"markers\",\"name\":\"Dominican Republic\",\"orientation\":\"v\",\"showlegend\":true,\"x\":[9.802],\"xaxis\":\"x\",\"y\":[-0.133],\"yaxis\":\"y\",\"type\":\"scatter\"},{\"hovertemplate\":\"Country name=North Cyprus<br>Logged GDP per capita=%{x}<br>Generosity=%{y}<br>Healthy life expectancy=%{marker.size}<extra></extra>\",\"legendgroup\":\"North Cyprus\",\"marker\":{\"color\":\"#ab63fa\",\"size\":[73.898],\"sizemode\":\"area\",\"sizeref\":0.1923825,\"symbol\":\"circle\"},\"mode\":\"markers\",\"name\":\"North Cyprus\",\"orientation\":\"v\",\"showlegend\":true,\"x\":[10.576],\"xaxis\":\"x\",\"y\":[0.012],\"yaxis\":\"y\",\"type\":\"scatter\"},{\"hovertemplate\":\"Country name=Belarus<br>Logged GDP per capita=%{x}<br>Generosity=%{y}<br>Healthy life expectancy=%{marker.size}<extra></extra>\",\"legendgroup\":\"Belarus\",\"marker\":{\"color\":\"#FFA15A\",\"size\":[66.253],\"sizemode\":\"area\",\"sizeref\":0.1923825,\"symbol\":\"circle\"},\"mode\":\"markers\",\"name\":\"Belarus\",\"orientation\":\"v\",\"showlegend\":true,\"x\":[9.853],\"xaxis\":\"x\",\"y\":[-0.18],\"yaxis\":\"y\",\"type\":\"scatter\"},{\"hovertemplate\":\"Country name=Russia<br>Logged GDP per capita=%{x}<br>Generosity=%{y}<br>Healthy life expectancy=%{marker.size}<extra></extra>\",\"legendgroup\":\"Russia\",\"marker\":{\"color\":\"#19d3f3\",\"size\":[64.703],\"sizemode\":\"area\",\"sizeref\":0.1923825,\"symbol\":\"circle\"},\"mode\":\"markers\",\"name\":\"Russia\",\"orientation\":\"v\",\"showlegend\":true,\"x\":[10.189],\"xaxis\":\"x\",\"y\":[-0.111],\"yaxis\":\"y\",\"type\":\"scatter\"},{\"hovertemplate\":\"Country name=Hong Kong S.A.R. of China<br>Logged GDP per capita=%{x}<br>Generosity=%{y}<br>Healthy life expectancy=%{marker.size}<extra></extra>\",\"legendgroup\":\"Hong Kong S.A.R. of China\",\"marker\":{\"color\":\"#FF6692\",\"size\":[76.82],\"sizemode\":\"area\",\"sizeref\":0.1923825,\"symbol\":\"circle\"},\"mode\":\"markers\",\"name\":\"Hong Kong S.A.R. of China\",\"orientation\":\"v\",\"showlegend\":true,\"x\":[11.0],\"xaxis\":\"x\",\"y\":[0.067],\"yaxis\":\"y\",\"type\":\"scatter\"},{\"hovertemplate\":\"Country name=Tajikistan<br>Logged GDP per capita=%{x}<br>Generosity=%{y}<br>Healthy life expectancy=%{marker.size}<extra></extra>\",\"legendgroup\":\"Tajikistan\",\"marker\":{\"color\":\"#B6E880\",\"size\":[64.281],\"sizemode\":\"area\",\"sizeref\":0.1923825,\"symbol\":\"circle\"},\"mode\":\"markers\",\"name\":\"Tajikistan\",\"orientation\":\"v\",\"showlegend\":true,\"x\":[8.091],\"xaxis\":\"x\",\"y\":[-0.056],\"yaxis\":\"y\",\"type\":\"scatter\"},{\"hovertemplate\":\"Country name=Vietnam<br>Logged GDP per capita=%{x}<br>Generosity=%{y}<br>Healthy life expectancy=%{marker.size}<extra></extra>\",\"legendgroup\":\"Vietnam\",\"marker\":{\"color\":\"#FF97FF\",\"size\":[68.034],\"sizemode\":\"area\",\"sizeref\":0.1923825,\"symbol\":\"circle\"},\"mode\":\"markers\",\"name\":\"Vietnam\",\"orientation\":\"v\",\"showlegend\":true,\"x\":[8.973],\"xaxis\":\"x\",\"y\":[-0.098],\"yaxis\":\"y\",\"type\":\"scatter\"},{\"hovertemplate\":\"Country name=Libya<br>Logged GDP per capita=%{x}<br>Generosity=%{y}<br>Healthy life expectancy=%{marker.size}<extra></extra>\",\"legendgroup\":\"Libya\",\"marker\":{\"color\":\"#FECB52\",\"size\":[62.3],\"sizemode\":\"area\",\"sizeref\":0.1923825,\"symbol\":\"circle\"},\"mode\":\"markers\",\"name\":\"Libya\",\"orientation\":\"v\",\"showlegend\":true,\"x\":[9.622],\"xaxis\":\"x\",\"y\":[-0.087],\"yaxis\":\"y\",\"type\":\"scatter\"},{\"hovertemplate\":\"Country name=Malaysia<br>Logged GDP per capita=%{x}<br>Generosity=%{y}<br>Healthy life expectancy=%{marker.size}<extra></extra>\",\"legendgroup\":\"Malaysia\",\"marker\":{\"color\":\"#636efa\",\"size\":[67.102],\"sizemode\":\"area\",\"sizeref\":0.1923825,\"symbol\":\"circle\"},\"mode\":\"markers\",\"name\":\"Malaysia\",\"orientation\":\"v\",\"showlegend\":true,\"x\":[10.238],\"xaxis\":\"x\",\"y\":[0.125],\"yaxis\":\"y\",\"type\":\"scatter\"},{\"hovertemplate\":\"Country name=Indonesia<br>Logged GDP per capita=%{x}<br>Generosity=%{y}<br>Healthy life expectancy=%{marker.size}<extra></extra>\",\"legendgroup\":\"Indonesia\",\"marker\":{\"color\":\"#EF553B\",\"size\":[62.236],\"sizemode\":\"area\",\"sizeref\":0.1923825,\"symbol\":\"circle\"},\"mode\":\"markers\",\"name\":\"Indonesia\",\"orientation\":\"v\",\"showlegend\":true,\"x\":[9.365],\"xaxis\":\"x\",\"y\":[0.542],\"yaxis\":\"y\",\"type\":\"scatter\"},{\"hovertemplate\":\"Country name=Congo (Brazzaville)<br>Logged GDP per capita=%{x}<br>Generosity=%{y}<br>Healthy life expectancy=%{marker.size}<extra></extra>\",\"legendgroup\":\"Congo (Brazzaville)\",\"marker\":{\"color\":\"#00cc96\",\"size\":[58.221],\"sizemode\":\"area\",\"sizeref\":0.1923825,\"symbol\":\"circle\"},\"mode\":\"markers\",\"name\":\"Congo (Brazzaville)\",\"orientation\":\"v\",\"showlegend\":true,\"x\":[8.117],\"xaxis\":\"x\",\"y\":[-0.068],\"yaxis\":\"y\",\"type\":\"scatter\"},{\"hovertemplate\":\"Country name=China<br>Logged GDP per capita=%{x}<br>Generosity=%{y}<br>Healthy life expectancy=%{marker.size}<extra></extra>\",\"legendgroup\":\"China\",\"marker\":{\"color\":\"#ab63fa\",\"size\":[69.593],\"sizemode\":\"area\",\"sizeref\":0.1923825,\"symbol\":\"circle\"},\"mode\":\"markers\",\"name\":\"China\",\"orientation\":\"v\",\"showlegend\":true,\"x\":[9.673],\"xaxis\":\"x\",\"y\":[-0.146],\"yaxis\":\"y\",\"type\":\"scatter\"},{\"hovertemplate\":\"Country name=Ivory Coast<br>Logged GDP per capita=%{x}<br>Generosity=%{y}<br>Healthy life expectancy=%{marker.size}<extra></extra>\",\"legendgroup\":\"Ivory Coast\",\"marker\":{\"color\":\"#FFA15A\",\"size\":[50.114],\"sizemode\":\"area\",\"sizeref\":0.1923825,\"symbol\":\"circle\"},\"mode\":\"markers\",\"name\":\"Ivory Coast\",\"orientation\":\"v\",\"showlegend\":true,\"x\":[8.551],\"xaxis\":\"x\",\"y\":[-0.016],\"yaxis\":\"y\",\"type\":\"scatter\"},{\"hovertemplate\":\"Country name=Armenia<br>Logged GDP per capita=%{x}<br>Generosity=%{y}<br>Healthy life expectancy=%{marker.size}<extra></extra>\",\"legendgroup\":\"Armenia\",\"marker\":{\"color\":\"#19d3f3\",\"size\":[67.055],\"sizemode\":\"area\",\"sizeref\":0.1923825,\"symbol\":\"circle\"},\"mode\":\"markers\",\"name\":\"Armenia\",\"orientation\":\"v\",\"showlegend\":true,\"x\":[9.487],\"xaxis\":\"x\",\"y\":[-0.168],\"yaxis\":\"y\",\"type\":\"scatter\"},{\"hovertemplate\":\"Country name=Nepal<br>Logged GDP per capita=%{x}<br>Generosity=%{y}<br>Healthy life expectancy=%{marker.size}<extra></extra>\",\"legendgroup\":\"Nepal\",\"marker\":{\"color\":\"#FF6692\",\"size\":[64.233],\"sizemode\":\"area\",\"sizeref\":0.1923825,\"symbol\":\"circle\"},\"mode\":\"markers\",\"name\":\"Nepal\",\"orientation\":\"v\",\"showlegend\":true,\"x\":[8.12],\"xaxis\":\"x\",\"y\":[0.152],\"yaxis\":\"y\",\"type\":\"scatter\"},{\"hovertemplate\":\"Country name=Bulgaria<br>Logged GDP per capita=%{x}<br>Generosity=%{y}<br>Healthy life expectancy=%{marker.size}<extra></extra>\",\"legendgroup\":\"Bulgaria\",\"marker\":{\"color\":\"#B6E880\",\"size\":[67.0],\"sizemode\":\"area\",\"sizeref\":0.1923825,\"symbol\":\"circle\"},\"mode\":\"markers\",\"name\":\"Bulgaria\",\"orientation\":\"v\",\"showlegend\":true,\"x\":[10.016],\"xaxis\":\"x\",\"y\":[-0.096],\"yaxis\":\"y\",\"type\":\"scatter\"},{\"hovertemplate\":\"Country name=Maldives<br>Logged GDP per capita=%{x}<br>Generosity=%{y}<br>Healthy life expectancy=%{marker.size}<extra></extra>\",\"legendgroup\":\"Maldives\",\"marker\":{\"color\":\"#FF97FF\",\"size\":[70.6],\"sizemode\":\"area\",\"sizeref\":0.1923825,\"symbol\":\"circle\"},\"mode\":\"markers\",\"name\":\"Maldives\",\"orientation\":\"v\",\"showlegend\":true,\"x\":[9.826],\"xaxis\":\"x\",\"y\":[0.024],\"yaxis\":\"y\",\"type\":\"scatter\"},{\"hovertemplate\":\"Country name=Azerbaijan<br>Logged GDP per capita=%{x}<br>Generosity=%{y}<br>Healthy life expectancy=%{marker.size}<extra></extra>\",\"legendgroup\":\"Azerbaijan\",\"marker\":{\"color\":\"#FECB52\",\"size\":[65.656],\"sizemode\":\"area\",\"sizeref\":0.1923825,\"symbol\":\"circle\"},\"mode\":\"markers\",\"name\":\"Azerbaijan\",\"orientation\":\"v\",\"showlegend\":true,\"x\":[9.569],\"xaxis\":\"x\",\"y\":[-0.223],\"yaxis\":\"y\",\"type\":\"scatter\"},{\"hovertemplate\":\"Country name=Cameroon<br>Logged GDP per capita=%{x}<br>Generosity=%{y}<br>Healthy life expectancy=%{marker.size}<extra></extra>\",\"legendgroup\":\"Cameroon\",\"marker\":{\"color\":\"#636efa\",\"size\":[53.515],\"sizemode\":\"area\",\"sizeref\":0.1923825,\"symbol\":\"circle\"},\"mode\":\"markers\",\"name\":\"Cameroon\",\"orientation\":\"v\",\"showlegend\":true,\"x\":[8.189],\"xaxis\":\"x\",\"y\":[0.026],\"yaxis\":\"y\",\"type\":\"scatter\"},{\"hovertemplate\":\"Country name=Senegal<br>Logged GDP per capita=%{x}<br>Generosity=%{y}<br>Healthy life expectancy=%{marker.size}<extra></extra>\",\"legendgroup\":\"Senegal\",\"marker\":{\"color\":\"#EF553B\",\"size\":[59.802],\"sizemode\":\"area\",\"sizeref\":0.1923825,\"symbol\":\"circle\"},\"mode\":\"markers\",\"name\":\"Senegal\",\"orientation\":\"v\",\"showlegend\":true,\"x\":[8.118],\"xaxis\":\"x\",\"y\":[-0.046],\"yaxis\":\"y\",\"type\":\"scatter\"},{\"hovertemplate\":\"Country name=Albania<br>Logged GDP per capita=%{x}<br>Generosity=%{y}<br>Healthy life expectancy=%{marker.size}<extra></extra>\",\"legendgroup\":\"Albania\",\"marker\":{\"color\":\"#00cc96\",\"size\":[68.999],\"sizemode\":\"area\",\"sizeref\":0.1923825,\"symbol\":\"circle\"},\"mode\":\"markers\",\"name\":\"Albania\",\"orientation\":\"v\",\"showlegend\":true,\"x\":[9.52],\"xaxis\":\"x\",\"y\":[-0.03],\"yaxis\":\"y\",\"type\":\"scatter\"},{\"hovertemplate\":\"Country name=North Macedonia<br>Logged GDP per capita=%{x}<br>Generosity=%{y}<br>Healthy life expectancy=%{marker.size}<extra></extra>\",\"legendgroup\":\"North Macedonia\",\"marker\":{\"color\":\"#ab63fa\",\"size\":[65.474],\"sizemode\":\"area\",\"sizeref\":0.1923825,\"symbol\":\"circle\"},\"mode\":\"markers\",\"name\":\"North Macedonia\",\"orientation\":\"v\",\"showlegend\":true,\"x\":[9.693],\"xaxis\":\"x\",\"y\":[0.038],\"yaxis\":\"y\",\"type\":\"scatter\"},{\"hovertemplate\":\"Country name=Ghana<br>Logged GDP per capita=%{x}<br>Generosity=%{y}<br>Healthy life expectancy=%{marker.size}<extra></extra>\",\"legendgroup\":\"Ghana\",\"marker\":{\"color\":\"#FFA15A\",\"size\":[57.586],\"sizemode\":\"area\",\"sizeref\":0.1923825,\"symbol\":\"circle\"},\"mode\":\"markers\",\"name\":\"Ghana\",\"orientation\":\"v\",\"showlegend\":true,\"x\":[8.58],\"xaxis\":\"x\",\"y\":[0.123],\"yaxis\":\"y\",\"type\":\"scatter\"},{\"hovertemplate\":\"Country name=Niger<br>Logged GDP per capita=%{x}<br>Generosity=%{y}<br>Healthy life expectancy=%{marker.size}<extra></extra>\",\"legendgroup\":\"Niger\",\"marker\":{\"color\":\"#19d3f3\",\"size\":[53.78],\"sizemode\":\"area\",\"sizeref\":0.1923825,\"symbol\":\"circle\"},\"mode\":\"markers\",\"name\":\"Niger\",\"orientation\":\"v\",\"showlegend\":true,\"x\":[7.098],\"xaxis\":\"x\",\"y\":[0.018],\"yaxis\":\"y\",\"type\":\"scatter\"},{\"hovertemplate\":\"Country name=Turkmenistan<br>Logged GDP per capita=%{x}<br>Generosity=%{y}<br>Healthy life expectancy=%{marker.size}<extra></extra>\",\"legendgroup\":\"Turkmenistan\",\"marker\":{\"color\":\"#FF6692\",\"size\":[62.409],\"sizemode\":\"area\",\"sizeref\":0.1923825,\"symbol\":\"circle\"},\"mode\":\"markers\",\"name\":\"Turkmenistan\",\"orientation\":\"v\",\"showlegend\":true,\"x\":[9.629],\"xaxis\":\"x\",\"y\":[0.273],\"yaxis\":\"y\",\"type\":\"scatter\"},{\"hovertemplate\":\"Country name=Gambia<br>Logged GDP per capita=%{x}<br>Generosity=%{y}<br>Healthy life expectancy=%{marker.size}<extra></extra>\",\"legendgroup\":\"Gambia\",\"marker\":{\"color\":\"#B6E880\",\"size\":[55.16],\"sizemode\":\"area\",\"sizeref\":0.1923825,\"symbol\":\"circle\"},\"mode\":\"markers\",\"name\":\"Gambia\",\"orientation\":\"v\",\"showlegend\":true,\"x\":[7.686],\"xaxis\":\"x\",\"y\":[0.424],\"yaxis\":\"y\",\"type\":\"scatter\"},{\"hovertemplate\":\"Country name=Benin<br>Logged GDP per capita=%{x}<br>Generosity=%{y}<br>Healthy life expectancy=%{marker.size}<extra></extra>\",\"legendgroup\":\"Benin\",\"marker\":{\"color\":\"#FF97FF\",\"size\":[54.713],\"sizemode\":\"area\",\"sizeref\":0.1923825,\"symbol\":\"circle\"},\"mode\":\"markers\",\"name\":\"Benin\",\"orientation\":\"v\",\"showlegend\":true,\"x\":[8.087],\"xaxis\":\"x\",\"y\":[-0.034],\"yaxis\":\"y\",\"type\":\"scatter\"},{\"hovertemplate\":\"Country name=Laos<br>Logged GDP per capita=%{x}<br>Generosity=%{y}<br>Healthy life expectancy=%{marker.size}<extra></extra>\",\"legendgroup\":\"Laos\",\"marker\":{\"color\":\"#FECB52\",\"size\":[58.968],\"sizemode\":\"area\",\"sizeref\":0.1923825,\"symbol\":\"circle\"},\"mode\":\"markers\",\"name\":\"Laos\",\"orientation\":\"v\",\"showlegend\":true,\"x\":[8.947],\"xaxis\":\"x\",\"y\":[0.123],\"yaxis\":\"y\",\"type\":\"scatter\"},{\"hovertemplate\":\"Country name=Bangladesh<br>Logged GDP per capita=%{x}<br>Generosity=%{y}<br>Healthy life expectancy=%{marker.size}<extra></extra>\",\"legendgroup\":\"Bangladesh\",\"marker\":{\"color\":\"#636efa\",\"size\":[64.8],\"sizemode\":\"area\",\"sizeref\":0.1923825,\"symbol\":\"circle\"},\"mode\":\"markers\",\"name\":\"Bangladesh\",\"orientation\":\"v\",\"showlegend\":true,\"x\":[8.454],\"xaxis\":\"x\",\"y\":[-0.041],\"yaxis\":\"y\",\"type\":\"scatter\"},{\"hovertemplate\":\"Country name=Guinea<br>Logged GDP per capita=%{x}<br>Generosity=%{y}<br>Healthy life expectancy=%{marker.size}<extra></extra>\",\"legendgroup\":\"Guinea\",\"marker\":{\"color\":\"#EF553B\",\"size\":[55.008],\"sizemode\":\"area\",\"sizeref\":0.1923825,\"symbol\":\"circle\"},\"mode\":\"markers\",\"name\":\"Guinea\",\"orientation\":\"v\",\"showlegend\":true,\"x\":[7.838],\"xaxis\":\"x\",\"y\":[0.095],\"yaxis\":\"y\",\"type\":\"scatter\"},{\"hovertemplate\":\"Country name=South Africa<br>Logged GDP per capita=%{x}<br>Generosity=%{y}<br>Healthy life expectancy=%{marker.size}<extra></extra>\",\"legendgroup\":\"South Africa\",\"marker\":{\"color\":\"#00cc96\",\"size\":[56.904],\"sizemode\":\"area\",\"sizeref\":0.1923825,\"symbol\":\"circle\"},\"mode\":\"markers\",\"name\":\"South Africa\",\"orientation\":\"v\",\"showlegend\":true,\"x\":[9.403],\"xaxis\":\"x\",\"y\":[-0.067],\"yaxis\":\"y\",\"type\":\"scatter\"},{\"hovertemplate\":\"Country name=Turkey<br>Logged GDP per capita=%{x}<br>Generosity=%{y}<br>Healthy life expectancy=%{marker.size}<extra></extra>\",\"legendgroup\":\"Turkey\",\"marker\":{\"color\":\"#ab63fa\",\"size\":[67.199],\"sizemode\":\"area\",\"sizeref\":0.1923825,\"symbol\":\"circle\"},\"mode\":\"markers\",\"name\":\"Turkey\",\"orientation\":\"v\",\"showlegend\":true,\"x\":[10.24],\"xaxis\":\"x\",\"y\":[-0.139],\"yaxis\":\"y\",\"type\":\"scatter\"},{\"hovertemplate\":\"Country name=Pakistan<br>Logged GDP per capita=%{x}<br>Generosity=%{y}<br>Healthy life expectancy=%{marker.size}<extra></extra>\",\"legendgroup\":\"Pakistan\",\"marker\":{\"color\":\"#FFA15A\",\"size\":[58.709],\"sizemode\":\"area\",\"sizeref\":0.1923825,\"symbol\":\"circle\"},\"mode\":\"markers\",\"name\":\"Pakistan\",\"orientation\":\"v\",\"showlegend\":true,\"x\":[8.458],\"xaxis\":\"x\",\"y\":[0.098],\"yaxis\":\"y\",\"type\":\"scatter\"},{\"hovertemplate\":\"Country name=Morocco<br>Logged GDP per capita=%{x}<br>Generosity=%{y}<br>Healthy life expectancy=%{marker.size}<extra></extra>\",\"legendgroup\":\"Morocco\",\"marker\":{\"color\":\"#19d3f3\",\"size\":[66.208],\"sizemode\":\"area\",\"sizeref\":0.1923825,\"symbol\":\"circle\"},\"mode\":\"markers\",\"name\":\"Morocco\",\"orientation\":\"v\",\"showlegend\":true,\"x\":[8.903],\"xaxis\":\"x\",\"y\":[-0.236],\"yaxis\":\"y\",\"type\":\"scatter\"},{\"hovertemplate\":\"Country name=Venezuela<br>Logged GDP per capita=%{x}<br>Generosity=%{y}<br>Healthy life expectancy=%{marker.size}<extra></extra>\",\"legendgroup\":\"Venezuela\",\"marker\":{\"color\":\"#FF6692\",\"size\":[66.7],\"sizemode\":\"area\",\"sizeref\":0.1923825,\"symbol\":\"circle\"},\"mode\":\"markers\",\"name\":\"Venezuela\",\"orientation\":\"v\",\"showlegend\":true,\"x\":[9.073],\"xaxis\":\"x\",\"y\":[-0.169],\"yaxis\":\"y\",\"type\":\"scatter\"},{\"hovertemplate\":\"Country name=Georgia<br>Logged GDP per capita=%{x}<br>Generosity=%{y}<br>Healthy life expectancy=%{marker.size}<extra></extra>\",\"legendgroup\":\"Georgia\",\"marker\":{\"color\":\"#B6E880\",\"size\":[64.3],\"sizemode\":\"area\",\"sizeref\":0.1923825,\"symbol\":\"circle\"},\"mode\":\"markers\",\"name\":\"Georgia\",\"orientation\":\"v\",\"showlegend\":true,\"x\":[9.585],\"xaxis\":\"x\",\"y\":[-0.238],\"yaxis\":\"y\",\"type\":\"scatter\"},{\"hovertemplate\":\"Country name=Algeria<br>Logged GDP per capita=%{x}<br>Generosity=%{y}<br>Healthy life expectancy=%{marker.size}<extra></extra>\",\"legendgroup\":\"Algeria\",\"marker\":{\"color\":\"#FF97FF\",\"size\":[66.005],\"sizemode\":\"area\",\"sizeref\":0.1923825,\"symbol\":\"circle\"},\"mode\":\"markers\",\"name\":\"Algeria\",\"orientation\":\"v\",\"showlegend\":true,\"x\":[9.342],\"xaxis\":\"x\",\"y\":[-0.067],\"yaxis\":\"y\",\"type\":\"scatter\"},{\"hovertemplate\":\"Country name=Ukraine<br>Logged GDP per capita=%{x}<br>Generosity=%{y}<br>Healthy life expectancy=%{marker.size}<extra></extra>\",\"legendgroup\":\"Ukraine\",\"marker\":{\"color\":\"#FECB52\",\"size\":[64.902],\"sizemode\":\"area\",\"sizeref\":0.1923825,\"symbol\":\"circle\"},\"mode\":\"markers\",\"name\":\"Ukraine\",\"orientation\":\"v\",\"showlegend\":true,\"x\":[9.436],\"xaxis\":\"x\",\"y\":[-0.011],\"yaxis\":\"y\",\"type\":\"scatter\"},{\"hovertemplate\":\"Country name=Iraq<br>Logged GDP per capita=%{x}<br>Generosity=%{y}<br>Healthy life expectancy=%{marker.size}<extra></extra>\",\"legendgroup\":\"Iraq\",\"marker\":{\"color\":\"#636efa\",\"size\":[60.583],\"sizemode\":\"area\",\"sizeref\":0.1923825,\"symbol\":\"circle\"},\"mode\":\"markers\",\"name\":\"Iraq\",\"orientation\":\"v\",\"showlegend\":true,\"x\":[9.24],\"xaxis\":\"x\",\"y\":[-0.053],\"yaxis\":\"y\",\"type\":\"scatter\"},{\"hovertemplate\":\"Country name=Gabon<br>Logged GDP per capita=%{x}<br>Generosity=%{y}<br>Healthy life expectancy=%{marker.size}<extra></extra>\",\"legendgroup\":\"Gabon\",\"marker\":{\"color\":\"#EF553B\",\"size\":[59.962],\"sizemode\":\"area\",\"sizeref\":0.1923825,\"symbol\":\"circle\"},\"mode\":\"markers\",\"name\":\"Gabon\",\"orientation\":\"v\",\"showlegend\":true,\"x\":[9.603],\"xaxis\":\"x\",\"y\":[-0.2],\"yaxis\":\"y\",\"type\":\"scatter\"},{\"hovertemplate\":\"Country name=Burkina Faso<br>Logged GDP per capita=%{x}<br>Generosity=%{y}<br>Healthy life expectancy=%{marker.size}<extra></extra>\",\"legendgroup\":\"Burkina Faso\",\"marker\":{\"color\":\"#00cc96\",\"size\":[54.151],\"sizemode\":\"area\",\"sizeref\":0.1923825,\"symbol\":\"circle\"},\"mode\":\"markers\",\"name\":\"Burkina Faso\",\"orientation\":\"v\",\"showlegend\":true,\"x\":[7.678],\"xaxis\":\"x\",\"y\":[-0.009],\"yaxis\":\"y\",\"type\":\"scatter\"},{\"hovertemplate\":\"Country name=Cambodia<br>Logged GDP per capita=%{x}<br>Generosity=%{y}<br>Healthy life expectancy=%{marker.size}<extra></extra>\",\"legendgroup\":\"Cambodia\",\"marker\":{\"color\":\"#ab63fa\",\"size\":[62.0],\"sizemode\":\"area\",\"sizeref\":0.1923825,\"symbol\":\"circle\"},\"mode\":\"markers\",\"name\":\"Cambodia\",\"orientation\":\"v\",\"showlegend\":true,\"x\":[8.36],\"xaxis\":\"x\",\"y\":[0.034],\"yaxis\":\"y\",\"type\":\"scatter\"},{\"hovertemplate\":\"Country name=Mozambique<br>Logged GDP per capita=%{x}<br>Generosity=%{y}<br>Healthy life expectancy=%{marker.size}<extra></extra>\",\"legendgroup\":\"Mozambique\",\"marker\":{\"color\":\"#FFA15A\",\"size\":[54.706],\"sizemode\":\"area\",\"sizeref\":0.1923825,\"symbol\":\"circle\"},\"mode\":\"markers\",\"name\":\"Mozambique\",\"orientation\":\"v\",\"showlegend\":true,\"x\":[7.158],\"xaxis\":\"x\",\"y\":[0.061],\"yaxis\":\"y\",\"type\":\"scatter\"},{\"hovertemplate\":\"Country name=Nigeria<br>Logged GDP per capita=%{x}<br>Generosity=%{y}<br>Healthy life expectancy=%{marker.size}<extra></extra>\",\"legendgroup\":\"Nigeria\",\"marker\":{\"color\":\"#19d3f3\",\"size\":[50.102],\"sizemode\":\"area\",\"sizeref\":0.1923825,\"symbol\":\"circle\"},\"mode\":\"markers\",\"name\":\"Nigeria\",\"orientation\":\"v\",\"showlegend\":true,\"x\":[8.533],\"xaxis\":\"x\",\"y\":[0.037],\"yaxis\":\"y\",\"type\":\"scatter\"},{\"hovertemplate\":\"Country name=Mali<br>Logged GDP per capita=%{x}<br>Generosity=%{y}<br>Healthy life expectancy=%{marker.size}<extra></extra>\",\"legendgroup\":\"Mali\",\"marker\":{\"color\":\"#FF6692\",\"size\":[51.969],\"sizemode\":\"area\",\"sizeref\":0.1923825,\"symbol\":\"circle\"},\"mode\":\"markers\",\"name\":\"Mali\",\"orientation\":\"v\",\"showlegend\":true,\"x\":[7.744],\"xaxis\":\"x\",\"y\":[-0.036],\"yaxis\":\"y\",\"type\":\"scatter\"},{\"hovertemplate\":\"Country name=Iran<br>Logged GDP per capita=%{x}<br>Generosity=%{y}<br>Healthy life expectancy=%{marker.size}<extra></extra>\",\"legendgroup\":\"Iran\",\"marker\":{\"color\":\"#B6E880\",\"size\":[66.3],\"sizemode\":\"area\",\"sizeref\":0.1923825,\"symbol\":\"circle\"},\"mode\":\"markers\",\"name\":\"Iran\",\"orientation\":\"v\",\"showlegend\":true,\"x\":[9.584],\"xaxis\":\"x\",\"y\":[0.218],\"yaxis\":\"y\",\"type\":\"scatter\"},{\"hovertemplate\":\"Country name=Uganda<br>Logged GDP per capita=%{x}<br>Generosity=%{y}<br>Healthy life expectancy=%{marker.size}<extra></extra>\",\"legendgroup\":\"Uganda\",\"marker\":{\"color\":\"#FF97FF\",\"size\":[56.101],\"sizemode\":\"area\",\"sizeref\":0.1923825,\"symbol\":\"circle\"},\"mode\":\"markers\",\"name\":\"Uganda\",\"orientation\":\"v\",\"showlegend\":true,\"x\":[7.677],\"xaxis\":\"x\",\"y\":[0.122],\"yaxis\":\"y\",\"type\":\"scatter\"},{\"hovertemplate\":\"Country name=Liberia<br>Logged GDP per capita=%{x}<br>Generosity=%{y}<br>Healthy life expectancy=%{marker.size}<extra></extra>\",\"legendgroup\":\"Liberia\",\"marker\":{\"color\":\"#FECB52\",\"size\":[56.498],\"sizemode\":\"area\",\"sizeref\":0.1923825,\"symbol\":\"circle\"},\"mode\":\"markers\",\"name\":\"Liberia\",\"orientation\":\"v\",\"showlegend\":true,\"x\":[7.288],\"xaxis\":\"x\",\"y\":[0.05],\"yaxis\":\"y\",\"type\":\"scatter\"},{\"hovertemplate\":\"Country name=Kenya<br>Logged GDP per capita=%{x}<br>Generosity=%{y}<br>Healthy life expectancy=%{marker.size}<extra></extra>\",\"legendgroup\":\"Kenya\",\"marker\":{\"color\":\"#636efa\",\"size\":[60.704],\"sizemode\":\"area\",\"sizeref\":0.1923825,\"symbol\":\"circle\"},\"mode\":\"markers\",\"name\":\"Kenya\",\"orientation\":\"v\",\"showlegend\":true,\"x\":[8.361],\"xaxis\":\"x\",\"y\":[0.287],\"yaxis\":\"y\",\"type\":\"scatter\"},{\"hovertemplate\":\"Country name=Tunisia<br>Logged GDP per capita=%{x}<br>Generosity=%{y}<br>Healthy life expectancy=%{marker.size}<extra></extra>\",\"legendgroup\":\"Tunisia\",\"marker\":{\"color\":\"#EF553B\",\"size\":[67.201],\"sizemode\":\"area\",\"sizeref\":0.1923825,\"symbol\":\"circle\"},\"mode\":\"markers\",\"name\":\"Tunisia\",\"orientation\":\"v\",\"showlegend\":true,\"x\":[9.266],\"xaxis\":\"x\",\"y\":[-0.201],\"yaxis\":\"y\",\"type\":\"scatter\"},{\"hovertemplate\":\"Country name=Lebanon<br>Logged GDP per capita=%{x}<br>Generosity=%{y}<br>Healthy life expectancy=%{marker.size}<extra></extra>\",\"legendgroup\":\"Lebanon\",\"marker\":{\"color\":\"#00cc96\",\"size\":[67.355],\"sizemode\":\"area\",\"sizeref\":0.1923825,\"symbol\":\"circle\"},\"mode\":\"markers\",\"name\":\"Lebanon\",\"orientation\":\"v\",\"showlegend\":true,\"x\":[9.626],\"xaxis\":\"x\",\"y\":[-0.073],\"yaxis\":\"y\",\"type\":\"scatter\"},{\"hovertemplate\":\"Country name=Namibia<br>Logged GDP per capita=%{x}<br>Generosity=%{y}<br>Healthy life expectancy=%{marker.size}<extra></extra>\",\"legendgroup\":\"Namibia\",\"marker\":{\"color\":\"#ab63fa\",\"size\":[56.799],\"sizemode\":\"area\",\"sizeref\":0.1923825,\"symbol\":\"circle\"},\"mode\":\"markers\",\"name\":\"Namibia\",\"orientation\":\"v\",\"showlegend\":true,\"x\":[9.161],\"xaxis\":\"x\",\"y\":[-0.149],\"yaxis\":\"y\",\"type\":\"scatter\"},{\"hovertemplate\":\"Country name=Palestinian Territories<br>Logged GDP per capita=%{x}<br>Generosity=%{y}<br>Healthy life expectancy=%{marker.size}<extra></extra>\",\"legendgroup\":\"Palestinian Territories\",\"marker\":{\"color\":\"#FFA15A\",\"size\":[62.25],\"sizemode\":\"area\",\"sizeref\":0.1923825,\"symbol\":\"circle\"},\"mode\":\"markers\",\"name\":\"Palestinian Territories\",\"orientation\":\"v\",\"showlegend\":true,\"x\":[8.485],\"xaxis\":\"x\",\"y\":[-0.163],\"yaxis\":\"y\",\"type\":\"scatter\"},{\"hovertemplate\":\"Country name=Myanmar<br>Logged GDP per capita=%{x}<br>Generosity=%{y}<br>Healthy life expectancy=%{marker.size}<extra></extra>\",\"legendgroup\":\"Myanmar\",\"marker\":{\"color\":\"#19d3f3\",\"size\":[59.302],\"sizemode\":\"area\",\"sizeref\":0.1923825,\"symbol\":\"circle\"},\"mode\":\"markers\",\"name\":\"Myanmar\",\"orientation\":\"v\",\"showlegend\":true,\"x\":[8.541],\"xaxis\":\"x\",\"y\":[0.509],\"yaxis\":\"y\",\"type\":\"scatter\"},{\"hovertemplate\":\"Country name=Jordan<br>Logged GDP per capita=%{x}<br>Generosity=%{y}<br>Healthy life expectancy=%{marker.size}<extra></extra>\",\"legendgroup\":\"Jordan\",\"marker\":{\"color\":\"#FF6692\",\"size\":[67.0],\"sizemode\":\"area\",\"sizeref\":0.1923825,\"symbol\":\"circle\"},\"mode\":\"markers\",\"name\":\"Jordan\",\"orientation\":\"v\",\"showlegend\":true,\"x\":[9.182],\"xaxis\":\"x\",\"y\":[-0.167],\"yaxis\":\"y\",\"type\":\"scatter\"},{\"hovertemplate\":\"Country name=Chad<br>Logged GDP per capita=%{x}<br>Generosity=%{y}<br>Healthy life expectancy=%{marker.size}<extra></extra>\",\"legendgroup\":\"Chad\",\"marker\":{\"color\":\"#B6E880\",\"size\":[48.478],\"sizemode\":\"area\",\"sizeref\":0.1923825,\"symbol\":\"circle\"},\"mode\":\"markers\",\"name\":\"Chad\",\"orientation\":\"v\",\"showlegend\":true,\"x\":[7.364],\"xaxis\":\"x\",\"y\":[0.041],\"yaxis\":\"y\",\"type\":\"scatter\"},{\"hovertemplate\":\"Country name=Sri Lanka<br>Logged GDP per capita=%{x}<br>Generosity=%{y}<br>Healthy life expectancy=%{marker.size}<extra></extra>\",\"legendgroup\":\"Sri Lanka\",\"marker\":{\"color\":\"#FF97FF\",\"size\":[67.299],\"sizemode\":\"area\",\"sizeref\":0.1923825,\"symbol\":\"circle\"},\"mode\":\"markers\",\"name\":\"Sri Lanka\",\"orientation\":\"v\",\"showlegend\":true,\"x\":[9.47],\"xaxis\":\"x\",\"y\":[0.079],\"yaxis\":\"y\",\"type\":\"scatter\"},{\"hovertemplate\":\"Country name=Swaziland<br>Logged GDP per capita=%{x}<br>Generosity=%{y}<br>Healthy life expectancy=%{marker.size}<extra></extra>\",\"legendgroup\":\"Swaziland\",\"marker\":{\"color\":\"#FECB52\",\"size\":[50.833],\"sizemode\":\"area\",\"sizeref\":0.1923825,\"symbol\":\"circle\"},\"mode\":\"markers\",\"name\":\"Swaziland\",\"orientation\":\"v\",\"showlegend\":true,\"x\":[9.065],\"xaxis\":\"x\",\"y\":[-0.185],\"yaxis\":\"y\",\"type\":\"scatter\"},{\"hovertemplate\":\"Country name=Comoros<br>Logged GDP per capita=%{x}<br>Generosity=%{y}<br>Healthy life expectancy=%{marker.size}<extra></extra>\",\"legendgroup\":\"Comoros\",\"marker\":{\"color\":\"#636efa\",\"size\":[57.349],\"sizemode\":\"area\",\"sizeref\":0.1923825,\"symbol\":\"circle\"},\"mode\":\"markers\",\"name\":\"Comoros\",\"orientation\":\"v\",\"showlegend\":true,\"x\":[8.031],\"xaxis\":\"x\",\"y\":[0.082],\"yaxis\":\"y\",\"type\":\"scatter\"},{\"hovertemplate\":\"Country name=Egypt<br>Logged GDP per capita=%{x}<br>Generosity=%{y}<br>Healthy life expectancy=%{marker.size}<extra></extra>\",\"legendgroup\":\"Egypt\",\"marker\":{\"color\":\"#EF553B\",\"size\":[61.998],\"sizemode\":\"area\",\"sizeref\":0.1923825,\"symbol\":\"circle\"},\"mode\":\"markers\",\"name\":\"Egypt\",\"orientation\":\"v\",\"showlegend\":true,\"x\":[9.367],\"xaxis\":\"x\",\"y\":[-0.182],\"yaxis\":\"y\",\"type\":\"scatter\"},{\"hovertemplate\":\"Country name=Ethiopia<br>Logged GDP per capita=%{x}<br>Generosity=%{y}<br>Healthy life expectancy=%{marker.size}<extra></extra>\",\"legendgroup\":\"Ethiopia\",\"marker\":{\"color\":\"#00cc96\",\"size\":[59.0],\"sizemode\":\"area\",\"sizeref\":0.1923825,\"symbol\":\"circle\"},\"mode\":\"markers\",\"name\":\"Ethiopia\",\"orientation\":\"v\",\"showlegend\":true,\"x\":[7.694],\"xaxis\":\"x\",\"y\":[0.082],\"yaxis\":\"y\",\"type\":\"scatter\"},{\"hovertemplate\":\"Country name=Mauritania<br>Logged GDP per capita=%{x}<br>Generosity=%{y}<br>Healthy life expectancy=%{marker.size}<extra></extra>\",\"legendgroup\":\"Mauritania\",\"marker\":{\"color\":\"#ab63fa\",\"size\":[57.161],\"sizemode\":\"area\",\"sizeref\":0.1923825,\"symbol\":\"circle\"},\"mode\":\"markers\",\"name\":\"Mauritania\",\"orientation\":\"v\",\"showlegend\":true,\"x\":[8.542],\"xaxis\":\"x\",\"y\":[-0.106],\"yaxis\":\"y\",\"type\":\"scatter\"},{\"hovertemplate\":\"Country name=Madagascar<br>Logged GDP per capita=%{x}<br>Generosity=%{y}<br>Healthy life expectancy=%{marker.size}<extra></extra>\",\"legendgroup\":\"Madagascar\",\"marker\":{\"color\":\"#FFA15A\",\"size\":[59.305],\"sizemode\":\"area\",\"sizeref\":0.1923825,\"symbol\":\"circle\"},\"mode\":\"markers\",\"name\":\"Madagascar\",\"orientation\":\"v\",\"showlegend\":true,\"x\":[7.396],\"xaxis\":\"x\",\"y\":[-0.005],\"yaxis\":\"y\",\"type\":\"scatter\"},{\"hovertemplate\":\"Country name=Togo<br>Logged GDP per capita=%{x}<br>Generosity=%{y}<br>Healthy life expectancy=%{marker.size}<extra></extra>\",\"legendgroup\":\"Togo\",\"marker\":{\"color\":\"#19d3f3\",\"size\":[54.914],\"sizemode\":\"area\",\"sizeref\":0.1923825,\"symbol\":\"circle\"},\"mode\":\"markers\",\"name\":\"Togo\",\"orientation\":\"v\",\"showlegend\":true,\"x\":[7.362],\"xaxis\":\"x\",\"y\":[0.032],\"yaxis\":\"y\",\"type\":\"scatter\"},{\"hovertemplate\":\"Country name=Zambia<br>Logged GDP per capita=%{x}<br>Generosity=%{y}<br>Healthy life expectancy=%{marker.size}<extra></extra>\",\"legendgroup\":\"Zambia\",\"marker\":{\"color\":\"#FF6692\",\"size\":[55.809],\"sizemode\":\"area\",\"sizeref\":0.1923825,\"symbol\":\"circle\"},\"mode\":\"markers\",\"name\":\"Zambia\",\"orientation\":\"v\",\"showlegend\":true,\"x\":[8.145],\"xaxis\":\"x\",\"y\":[0.061],\"yaxis\":\"y\",\"type\":\"scatter\"},{\"hovertemplate\":\"Country name=Sierra Leone<br>Logged GDP per capita=%{x}<br>Generosity=%{y}<br>Healthy life expectancy=%{marker.size}<extra></extra>\",\"legendgroup\":\"Sierra Leone\",\"marker\":{\"color\":\"#B6E880\",\"size\":[51.651],\"sizemode\":\"area\",\"sizeref\":0.1923825,\"symbol\":\"circle\"},\"mode\":\"markers\",\"name\":\"Sierra Leone\",\"orientation\":\"v\",\"showlegend\":true,\"x\":[7.434],\"xaxis\":\"x\",\"y\":[0.084],\"yaxis\":\"y\",\"type\":\"scatter\"},{\"hovertemplate\":\"Country name=India<br>Logged GDP per capita=%{x}<br>Generosity=%{y}<br>Healthy life expectancy=%{marker.size}<extra></extra>\",\"legendgroup\":\"India\",\"marker\":{\"color\":\"#FF97FF\",\"size\":[60.633],\"sizemode\":\"area\",\"sizeref\":0.1923825,\"symbol\":\"circle\"},\"mode\":\"markers\",\"name\":\"India\",\"orientation\":\"v\",\"showlegend\":true,\"x\":[8.755],\"xaxis\":\"x\",\"y\":[0.089],\"yaxis\":\"y\",\"type\":\"scatter\"},{\"hovertemplate\":\"Country name=Burundi<br>Logged GDP per capita=%{x}<br>Generosity=%{y}<br>Healthy life expectancy=%{marker.size}<extra></extra>\",\"legendgroup\":\"Burundi\",\"marker\":{\"color\":\"#FECB52\",\"size\":[53.4],\"sizemode\":\"area\",\"sizeref\":0.1923825,\"symbol\":\"circle\"},\"mode\":\"markers\",\"name\":\"Burundi\",\"orientation\":\"v\",\"showlegend\":true,\"x\":[6.635],\"xaxis\":\"x\",\"y\":[-0.024],\"yaxis\":\"y\",\"type\":\"scatter\"},{\"hovertemplate\":\"Country name=Yemen<br>Logged GDP per capita=%{x}<br>Generosity=%{y}<br>Healthy life expectancy=%{marker.size}<extra></extra>\",\"legendgroup\":\"Yemen\",\"marker\":{\"color\":\"#636efa\",\"size\":[57.122],\"sizemode\":\"area\",\"sizeref\":0.1923825,\"symbol\":\"circle\"},\"mode\":\"markers\",\"name\":\"Yemen\",\"orientation\":\"v\",\"showlegend\":true,\"x\":[7.578],\"xaxis\":\"x\",\"y\":[-0.147],\"yaxis\":\"y\",\"type\":\"scatter\"},{\"hovertemplate\":\"Country name=Tanzania<br>Logged GDP per capita=%{x}<br>Generosity=%{y}<br>Healthy life expectancy=%{marker.size}<extra></extra>\",\"legendgroup\":\"Tanzania\",\"marker\":{\"color\":\"#EF553B\",\"size\":[57.999],\"sizemode\":\"area\",\"sizeref\":0.1923825,\"symbol\":\"circle\"},\"mode\":\"markers\",\"name\":\"Tanzania\",\"orientation\":\"v\",\"showlegend\":true,\"x\":[7.876],\"xaxis\":\"x\",\"y\":[0.183],\"yaxis\":\"y\",\"type\":\"scatter\"},{\"hovertemplate\":\"Country name=Haiti<br>Logged GDP per capita=%{x}<br>Generosity=%{y}<br>Healthy life expectancy=%{marker.size}<extra></extra>\",\"legendgroup\":\"Haiti\",\"marker\":{\"color\":\"#00cc96\",\"size\":[55.7],\"sizemode\":\"area\",\"sizeref\":0.1923825,\"symbol\":\"circle\"},\"mode\":\"markers\",\"name\":\"Haiti\",\"orientation\":\"v\",\"showlegend\":true,\"x\":[7.477],\"xaxis\":\"x\",\"y\":[0.422],\"yaxis\":\"y\",\"type\":\"scatter\"},{\"hovertemplate\":\"Country name=Malawi<br>Logged GDP per capita=%{x}<br>Generosity=%{y}<br>Healthy life expectancy=%{marker.size}<extra></extra>\",\"legendgroup\":\"Malawi\",\"marker\":{\"color\":\"#ab63fa\",\"size\":[57.948],\"sizemode\":\"area\",\"sizeref\":0.1923825,\"symbol\":\"circle\"},\"mode\":\"markers\",\"name\":\"Malawi\",\"orientation\":\"v\",\"showlegend\":true,\"x\":[6.958],\"xaxis\":\"x\",\"y\":[0.038],\"yaxis\":\"y\",\"type\":\"scatter\"},{\"hovertemplate\":\"Country name=Lesotho<br>Logged GDP per capita=%{x}<br>Generosity=%{y}<br>Healthy life expectancy=%{marker.size}<extra></extra>\",\"legendgroup\":\"Lesotho\",\"marker\":{\"color\":\"#FFA15A\",\"size\":[48.7],\"sizemode\":\"area\",\"sizeref\":0.1923825,\"symbol\":\"circle\"},\"mode\":\"markers\",\"name\":\"Lesotho\",\"orientation\":\"v\",\"showlegend\":true,\"x\":[7.926],\"xaxis\":\"x\",\"y\":[-0.131],\"yaxis\":\"y\",\"type\":\"scatter\"},{\"hovertemplate\":\"Country name=Botswana<br>Logged GDP per capita=%{x}<br>Generosity=%{y}<br>Healthy life expectancy=%{marker.size}<extra></extra>\",\"legendgroup\":\"Botswana\",\"marker\":{\"color\":\"#19d3f3\",\"size\":[59.269],\"sizemode\":\"area\",\"sizeref\":0.1923825,\"symbol\":\"circle\"},\"mode\":\"markers\",\"name\":\"Botswana\",\"orientation\":\"v\",\"showlegend\":true,\"x\":[9.782],\"xaxis\":\"x\",\"y\":[-0.246],\"yaxis\":\"y\",\"type\":\"scatter\"},{\"hovertemplate\":\"Country name=Rwanda<br>Logged GDP per capita=%{x}<br>Generosity=%{y}<br>Healthy life expectancy=%{marker.size}<extra></extra>\",\"legendgroup\":\"Rwanda\",\"marker\":{\"color\":\"#FF6692\",\"size\":[61.4],\"sizemode\":\"area\",\"sizeref\":0.1923825,\"symbol\":\"circle\"},\"mode\":\"markers\",\"name\":\"Rwanda\",\"orientation\":\"v\",\"showlegend\":true,\"x\":[7.676],\"xaxis\":\"x\",\"y\":[0.061],\"yaxis\":\"y\",\"type\":\"scatter\"},{\"hovertemplate\":\"Country name=Zimbabwe<br>Logged GDP per capita=%{x}<br>Generosity=%{y}<br>Healthy life expectancy=%{marker.size}<extra></extra>\",\"legendgroup\":\"Zimbabwe\",\"marker\":{\"color\":\"#B6E880\",\"size\":[56.201],\"sizemode\":\"area\",\"sizeref\":0.1923825,\"symbol\":\"circle\"},\"mode\":\"markers\",\"name\":\"Zimbabwe\",\"orientation\":\"v\",\"showlegend\":true,\"x\":[7.943],\"xaxis\":\"x\",\"y\":[-0.047],\"yaxis\":\"y\",\"type\":\"scatter\"},{\"hovertemplate\":\"Country name=Afghanistan<br>Logged GDP per capita=%{x}<br>Generosity=%{y}<br>Healthy life expectancy=%{marker.size}<extra></extra>\",\"legendgroup\":\"Afghanistan\",\"marker\":{\"color\":\"#FF97FF\",\"size\":[52.493],\"sizemode\":\"area\",\"sizeref\":0.1923825,\"symbol\":\"circle\"},\"mode\":\"markers\",\"name\":\"Afghanistan\",\"orientation\":\"v\",\"showlegend\":true,\"x\":[7.695],\"xaxis\":\"x\",\"y\":[-0.102],\"yaxis\":\"y\",\"type\":\"scatter\"}],                        {\"template\":{\"data\":{\"histogram2dcontour\":[{\"type\":\"histogram2dcontour\",\"colorbar\":{\"outlinewidth\":0,\"ticks\":\"\"},\"colorscale\":[[0.0,\"#0d0887\"],[0.1111111111111111,\"#46039f\"],[0.2222222222222222,\"#7201a8\"],[0.3333333333333333,\"#9c179e\"],[0.4444444444444444,\"#bd3786\"],[0.5555555555555556,\"#d8576b\"],[0.6666666666666666,\"#ed7953\"],[0.7777777777777778,\"#fb9f3a\"],[0.8888888888888888,\"#fdca26\"],[1.0,\"#f0f921\"]]}],\"choropleth\":[{\"type\":\"choropleth\",\"colorbar\":{\"outlinewidth\":0,\"ticks\":\"\"}}],\"histogram2d\":[{\"type\":\"histogram2d\",\"colorbar\":{\"outlinewidth\":0,\"ticks\":\"\"},\"colorscale\":[[0.0,\"#0d0887\"],[0.1111111111111111,\"#46039f\"],[0.2222222222222222,\"#7201a8\"],[0.3333333333333333,\"#9c179e\"],[0.4444444444444444,\"#bd3786\"],[0.5555555555555556,\"#d8576b\"],[0.6666666666666666,\"#ed7953\"],[0.7777777777777778,\"#fb9f3a\"],[0.8888888888888888,\"#fdca26\"],[1.0,\"#f0f921\"]]}],\"heatmap\":[{\"type\":\"heatmap\",\"colorbar\":{\"outlinewidth\":0,\"ticks\":\"\"},\"colorscale\":[[0.0,\"#0d0887\"],[0.1111111111111111,\"#46039f\"],[0.2222222222222222,\"#7201a8\"],[0.3333333333333333,\"#9c179e\"],[0.4444444444444444,\"#bd3786\"],[0.5555555555555556,\"#d8576b\"],[0.6666666666666666,\"#ed7953\"],[0.7777777777777778,\"#fb9f3a\"],[0.8888888888888888,\"#fdca26\"],[1.0,\"#f0f921\"]]}],\"heatmapgl\":[{\"type\":\"heatmapgl\",\"colorbar\":{\"outlinewidth\":0,\"ticks\":\"\"},\"colorscale\":[[0.0,\"#0d0887\"],[0.1111111111111111,\"#46039f\"],[0.2222222222222222,\"#7201a8\"],[0.3333333333333333,\"#9c179e\"],[0.4444444444444444,\"#bd3786\"],[0.5555555555555556,\"#d8576b\"],[0.6666666666666666,\"#ed7953\"],[0.7777777777777778,\"#fb9f3a\"],[0.8888888888888888,\"#fdca26\"],[1.0,\"#f0f921\"]]}],\"contourcarpet\":[{\"type\":\"contourcarpet\",\"colorbar\":{\"outlinewidth\":0,\"ticks\":\"\"}}],\"contour\":[{\"type\":\"contour\",\"colorbar\":{\"outlinewidth\":0,\"ticks\":\"\"},\"colorscale\":[[0.0,\"#0d0887\"],[0.1111111111111111,\"#46039f\"],[0.2222222222222222,\"#7201a8\"],[0.3333333333333333,\"#9c179e\"],[0.4444444444444444,\"#bd3786\"],[0.5555555555555556,\"#d8576b\"],[0.6666666666666666,\"#ed7953\"],[0.7777777777777778,\"#fb9f3a\"],[0.8888888888888888,\"#fdca26\"],[1.0,\"#f0f921\"]]}],\"surface\":[{\"type\":\"surface\",\"colorbar\":{\"outlinewidth\":0,\"ticks\":\"\"},\"colorscale\":[[0.0,\"#0d0887\"],[0.1111111111111111,\"#46039f\"],[0.2222222222222222,\"#7201a8\"],[0.3333333333333333,\"#9c179e\"],[0.4444444444444444,\"#bd3786\"],[0.5555555555555556,\"#d8576b\"],[0.6666666666666666,\"#ed7953\"],[0.7777777777777778,\"#fb9f3a\"],[0.8888888888888888,\"#fdca26\"],[1.0,\"#f0f921\"]]}],\"mesh3d\":[{\"type\":\"mesh3d\",\"colorbar\":{\"outlinewidth\":0,\"ticks\":\"\"}}],\"scatter\":[{\"fillpattern\":{\"fillmode\":\"overlay\",\"size\":10,\"solidity\":0.2},\"type\":\"scatter\"}],\"parcoords\":[{\"type\":\"parcoords\",\"line\":{\"colorbar\":{\"outlinewidth\":0,\"ticks\":\"\"}}}],\"scatterpolargl\":[{\"type\":\"scatterpolargl\",\"marker\":{\"colorbar\":{\"outlinewidth\":0,\"ticks\":\"\"}}}],\"bar\":[{\"error_x\":{\"color\":\"#2a3f5f\"},\"error_y\":{\"color\":\"#2a3f5f\"},\"marker\":{\"line\":{\"color\":\"#E5ECF6\",\"width\":0.5},\"pattern\":{\"fillmode\":\"overlay\",\"size\":10,\"solidity\":0.2}},\"type\":\"bar\"}],\"scattergeo\":[{\"type\":\"scattergeo\",\"marker\":{\"colorbar\":{\"outlinewidth\":0,\"ticks\":\"\"}}}],\"scatterpolar\":[{\"type\":\"scatterpolar\",\"marker\":{\"colorbar\":{\"outlinewidth\":0,\"ticks\":\"\"}}}],\"histogram\":[{\"marker\":{\"pattern\":{\"fillmode\":\"overlay\",\"size\":10,\"solidity\":0.2}},\"type\":\"histogram\"}],\"scattergl\":[{\"type\":\"scattergl\",\"marker\":{\"colorbar\":{\"outlinewidth\":0,\"ticks\":\"\"}}}],\"scatter3d\":[{\"type\":\"scatter3d\",\"line\":{\"colorbar\":{\"outlinewidth\":0,\"ticks\":\"\"}},\"marker\":{\"colorbar\":{\"outlinewidth\":0,\"ticks\":\"\"}}}],\"scattermapbox\":[{\"type\":\"scattermapbox\",\"marker\":{\"colorbar\":{\"outlinewidth\":0,\"ticks\":\"\"}}}],\"scatterternary\":[{\"type\":\"scatterternary\",\"marker\":{\"colorbar\":{\"outlinewidth\":0,\"ticks\":\"\"}}}],\"scattercarpet\":[{\"type\":\"scattercarpet\",\"marker\":{\"colorbar\":{\"outlinewidth\":0,\"ticks\":\"\"}}}],\"carpet\":[{\"aaxis\":{\"endlinecolor\":\"#2a3f5f\",\"gridcolor\":\"white\",\"linecolor\":\"white\",\"minorgridcolor\":\"white\",\"startlinecolor\":\"#2a3f5f\"},\"baxis\":{\"endlinecolor\":\"#2a3f5f\",\"gridcolor\":\"white\",\"linecolor\":\"white\",\"minorgridcolor\":\"white\",\"startlinecolor\":\"#2a3f5f\"},\"type\":\"carpet\"}],\"table\":[{\"cells\":{\"fill\":{\"color\":\"#EBF0F8\"},\"line\":{\"color\":\"white\"}},\"header\":{\"fill\":{\"color\":\"#C8D4E3\"},\"line\":{\"color\":\"white\"}},\"type\":\"table\"}],\"barpolar\":[{\"marker\":{\"line\":{\"color\":\"#E5ECF6\",\"width\":0.5},\"pattern\":{\"fillmode\":\"overlay\",\"size\":10,\"solidity\":0.2}},\"type\":\"barpolar\"}],\"pie\":[{\"automargin\":true,\"type\":\"pie\"}]},\"layout\":{\"autotypenumbers\":\"strict\",\"colorway\":[\"#636efa\",\"#EF553B\",\"#00cc96\",\"#ab63fa\",\"#FFA15A\",\"#19d3f3\",\"#FF6692\",\"#B6E880\",\"#FF97FF\",\"#FECB52\"],\"font\":{\"color\":\"#2a3f5f\"},\"hovermode\":\"closest\",\"hoverlabel\":{\"align\":\"left\"},\"paper_bgcolor\":\"white\",\"plot_bgcolor\":\"#E5ECF6\",\"polar\":{\"bgcolor\":\"#E5ECF6\",\"angularaxis\":{\"gridcolor\":\"white\",\"linecolor\":\"white\",\"ticks\":\"\"},\"radialaxis\":{\"gridcolor\":\"white\",\"linecolor\":\"white\",\"ticks\":\"\"}},\"ternary\":{\"bgcolor\":\"#E5ECF6\",\"aaxis\":{\"gridcolor\":\"white\",\"linecolor\":\"white\",\"ticks\":\"\"},\"baxis\":{\"gridcolor\":\"white\",\"linecolor\":\"white\",\"ticks\":\"\"},\"caxis\":{\"gridcolor\":\"white\",\"linecolor\":\"white\",\"ticks\":\"\"}},\"coloraxis\":{\"colorbar\":{\"outlinewidth\":0,\"ticks\":\"\"}},\"colorscale\":{\"sequential\":[[0.0,\"#0d0887\"],[0.1111111111111111,\"#46039f\"],[0.2222222222222222,\"#7201a8\"],[0.3333333333333333,\"#9c179e\"],[0.4444444444444444,\"#bd3786\"],[0.5555555555555556,\"#d8576b\"],[0.6666666666666666,\"#ed7953\"],[0.7777777777777778,\"#fb9f3a\"],[0.8888888888888888,\"#fdca26\"],[1.0,\"#f0f921\"]],\"sequentialminus\":[[0.0,\"#0d0887\"],[0.1111111111111111,\"#46039f\"],[0.2222222222222222,\"#7201a8\"],[0.3333333333333333,\"#9c179e\"],[0.4444444444444444,\"#bd3786\"],[0.5555555555555556,\"#d8576b\"],[0.6666666666666666,\"#ed7953\"],[0.7777777777777778,\"#fb9f3a\"],[0.8888888888888888,\"#fdca26\"],[1.0,\"#f0f921\"]],\"diverging\":[[0,\"#8e0152\"],[0.1,\"#c51b7d\"],[0.2,\"#de77ae\"],[0.3,\"#f1b6da\"],[0.4,\"#fde0ef\"],[0.5,\"#f7f7f7\"],[0.6,\"#e6f5d0\"],[0.7,\"#b8e186\"],[0.8,\"#7fbc41\"],[0.9,\"#4d9221\"],[1,\"#276419\"]]},\"xaxis\":{\"gridcolor\":\"white\",\"linecolor\":\"white\",\"ticks\":\"\",\"title\":{\"standoff\":15},\"zerolinecolor\":\"white\",\"automargin\":true,\"zerolinewidth\":2},\"yaxis\":{\"gridcolor\":\"white\",\"linecolor\":\"white\",\"ticks\":\"\",\"title\":{\"standoff\":15},\"zerolinecolor\":\"white\",\"automargin\":true,\"zerolinewidth\":2},\"scene\":{\"xaxis\":{\"backgroundcolor\":\"#E5ECF6\",\"gridcolor\":\"white\",\"linecolor\":\"white\",\"showbackground\":true,\"ticks\":\"\",\"zerolinecolor\":\"white\",\"gridwidth\":2},\"yaxis\":{\"backgroundcolor\":\"#E5ECF6\",\"gridcolor\":\"white\",\"linecolor\":\"white\",\"showbackground\":true,\"ticks\":\"\",\"zerolinecolor\":\"white\",\"gridwidth\":2},\"zaxis\":{\"backgroundcolor\":\"#E5ECF6\",\"gridcolor\":\"white\",\"linecolor\":\"white\",\"showbackground\":true,\"ticks\":\"\",\"zerolinecolor\":\"white\",\"gridwidth\":2}},\"shapedefaults\":{\"line\":{\"color\":\"#2a3f5f\"}},\"annotationdefaults\":{\"arrowcolor\":\"#2a3f5f\",\"arrowhead\":0,\"arrowwidth\":1},\"geo\":{\"bgcolor\":\"white\",\"landcolor\":\"#E5ECF6\",\"subunitcolor\":\"white\",\"showland\":true,\"showlakes\":true,\"lakecolor\":\"white\"},\"title\":{\"x\":0.05},\"mapbox\":{\"style\":\"light\"}}},\"xaxis\":{\"anchor\":\"y\",\"domain\":[0.0,1.0],\"title\":{\"text\":\"Logged GDP per capita\"}},\"yaxis\":{\"anchor\":\"x\",\"domain\":[0.0,1.0],\"title\":{\"text\":\"Generosity\"}},\"legend\":{\"title\":{\"text\":\"Country name\"},\"tracegroupgap\":0,\"itemsizing\":\"constant\"},\"margin\":{\"t\":60}},                        {\"responsive\": true}                    ).then(function(){\n                            \nvar gd = document.getElementById('f7a54788-095e-4d84-9403-5935be4f5058');\nvar x = new MutationObserver(function (mutations, observer) {{\n        var display = window.getComputedStyle(gd).display;\n        if (!display || display === 'none') {{\n            console.log([gd, 'removed!']);\n            Plotly.purge(gd);\n            observer.disconnect();\n        }}\n}});\n\n// Listen for the removal of the full notebook cells\nvar notebookContainer = gd.closest('#notebook-container');\nif (notebookContainer) {{\n    x.observe(notebookContainer, {childList: true});\n}}\n\n// Listen for the clearing of the current output cell\nvar outputEl = gd.closest('.output');\nif (outputEl) {{\n    x.observe(outputEl, {childList: true});\n}}\n\n                        })                };                            </script>        </div>\n</body>\n</html>"
     },
     "execution_count": 23,
     "metadata": {
     },
     "output_type": "execute_result"
    }
   ],
   "source": [
    "#scatter plot gdp vs. generosity\n",
    "import plotly.express as px\n",
    "fig = px.scatter(wh_df21, x=\"Logged GDP per capita\", y=\"Generosity\", size=\"Healthy life expectancy\", color=\"Country name\")\n",
    "fig.show()"
   ]
  },
  {
   "cell_type": "code",
   "execution_count": 24,
   "metadata": {
    "collapsed": false
   },
   "outputs": [
    {
     "data": {
      "text/html": "<html>\n<head><meta charset=\"utf-8\" /></head>\n<body>\n    <div>            <script src=\"https://cdnjs.cloudflare.com/ajax/libs/mathjax/2.7.5/MathJax.js?config=TeX-AMS-MML_SVG\"></script><script type=\"text/javascript\">if (window.MathJax && window.MathJax.Hub && window.MathJax.Hub.Config) {window.MathJax.Hub.Config({SVG: {font: \"STIX-Web\"}});}</script>                <script type=\"text/javascript\">window.PlotlyConfig = {MathJaxConfig: 'local'};</script>\n        <script src=\"https://cdn.plot.ly/plotly-2.16.1.min.js\"></script>                <div id=\"75beab9e-b36a-4eaf-908c-900a6404f49d\" class=\"plotly-graph-div\" style=\"height:525px; width:100%;\"></div>            <script type=\"text/javascript\">                                    window.PLOTLYENV=window.PLOTLYENV || {};                                    if (document.getElementById(\"75beab9e-b36a-4eaf-908c-900a6404f49d\")) {                    Plotly.newPlot(                        \"75beab9e-b36a-4eaf-908c-900a6404f49d\",                        [{\"hovertemplate\":\"Regional indicator=Western Europe<br>Logged GDP per capita=%{x}<br>Healthy life expectancy=%{y}<br>Social support=%{marker.size}<extra></extra>\",\"legendgroup\":\"Western Europe\",\"marker\":{\"color\":\"#636efa\",\"size\":[0.954,0.954,0.942,0.983,0.942,0.954,0.934,0.908,0.934,0.903,0.947,0.934,0.906,0.942,0.931,0.932,0.88,0.802,0.879,0.823,0.82],\"sizemode\":\"area\",\"sizeref\":0.0024575,\"symbol\":\"circle\"},\"mode\":\"markers\",\"name\":\"Western Europe\",\"orientation\":\"v\",\"showlegend\":true,\"x\":[10.775,10.933,11.117,10.878,10.932,11.053,10.867,11.647,10.906,10.873,11.342,10.707,10.823,10.704,10.674,10.571,10.623,10.576,10.421,10.279,10.576],\"xaxis\":\"x\",\"y\":[72.0,72.7,74.4,73.0,72.4,73.3,72.7,72.6,73.3,72.5,72.4,72.5,72.199,74.0,72.2,74.7,73.8,73.898,72.6,72.6,73.898],\"yaxis\":\"y\",\"type\":\"scatter\"},{\"hovertemplate\":\"Regional indicator=North America and ANZ<br>Logged GDP per capita=%{x}<br>Healthy life expectancy=%{y}<br>Social support=%{marker.size}<extra></extra>\",\"legendgroup\":\"North America and ANZ\",\"marker\":{\"color\":\"#EF553B\",\"size\":[0.948,0.94,0.926,0.92],\"sizemode\":\"area\",\"sizeref\":0.0024575,\"symbol\":\"circle\"},\"mode\":\"markers\",\"name\":\"North America and ANZ\",\"orientation\":\"v\",\"showlegend\":true,\"x\":[10.643,10.796,10.776,11.023],\"xaxis\":\"x\",\"y\":[73.4,73.9,73.8,68.2],\"yaxis\":\"y\",\"type\":\"scatter\"},{\"hovertemplate\":\"Regional indicator=Middle East and North Africa<br>Logged GDP per capita=%{x}<br>Healthy life expectancy=%{y}<br>Social support=%{marker.size}<extra></extra>\",\"legendgroup\":\"Middle East and North Africa\",\"marker\":{\"color\":\"#00cc96\",\"size\":[0.939,0.862,0.844,0.891,0.843,0.827,0.822,0.56,0.802,0.746,0.71,0.691,0.848,0.826,0.767,0.75,0.832],\"sizemode\":\"area\",\"sizeref\":0.0024575,\"symbol\":\"circle\"},\"mode\":\"markers\",\"name\":\"Middle East and North Africa\",\"orientation\":\"v\",\"showlegend\":true,\"x\":[10.575,10.669,11.085,10.743,10.817,9.622,10.24,8.903,9.342,9.24,9.584,9.266,9.626,8.485,9.182,9.367,7.578],\"xaxis\":\"x\",\"y\":[73.503,69.495,67.333,66.603,66.9,62.3,67.199,66.208,66.005,60.583,66.3,67.201,67.355,62.25,67.0,61.998,57.122],\"yaxis\":\"y\",\"type\":\"scatter\"},{\"hovertemplate\":\"Regional indicator=Latin America and Caribbean<br>Logged GDP per capita=%{x}<br>Healthy life expectancy=%{y}<br>Social support=%{marker.size}<extra></extra>\",\"legendgroup\":\"Latin America and Caribbean\",\"marker\":{\"color\":\"#ab63fa\",\"size\":[0.891,0.813,0.925,0.882,0.831,0.877,0.896,0.882,0.762,0.847,0.864,0.898,0.812,0.832,0.821,0.81,0.893,0.853,0.861,0.54],\"sizemode\":\"area\",\"sizeref\":0.0024575,\"symbol\":\"circle\"},\"mode\":\"markers\",\"name\":\"Latin America and Caribbean\",\"orientation\":\"v\",\"showlegend\":true,\"x\":[9.88,9.053,9.966,9.577,9.859,9.186,10.35,10.071,9.054,9.557,8.62,9.962,8.648,9.458,9.313,9.046,9.448,9.802,9.073,7.477],\"xaxis\":\"x\",\"y\":[71.4,64.958,69.1,66.601,68.597,67.5,69.652,70.0,66.402,68.001,67.657,69.0,67.3,68.25,68.8,63.901,65.9,66.102,66.7,55.7],\"yaxis\":\"y\",\"type\":\"scatter\"},{\"hovertemplate\":\"Regional indicator=Central and Eastern Europe<br>Logged GDP per capita=%{x}<br>Healthy life expectancy=%{y}<br>Social support=%{marker.size}<extra></extra>\",\"legendgroup\":\"Central and Eastern Europe\",\"marker\":{\"color\":\"#FFA15A\",\"size\":[0.947,0.948,0.821,0.936,0.935,0.941,0.898,0.832,0.873,0.927,0.943,0.924,0.87,0.858,0.931,0.697,0.805],\"sizemode\":\"area\",\"sizeref\":0.0024575,\"symbol\":\"circle\"},\"mode\":\"markers\",\"name\":\"Central and Eastern Europe\",\"orientation\":\"v\",\"showlegend\":true,\"x\":[10.556,10.529,9.318,10.369,10.499,10.481,10.382,10.284,9.787,10.315,10.358,10.217,9.59,9.94,10.016,9.52,9.693],\"xaxis\":\"x\",\"y\":[70.807,71.4,63.813,69.201,67.906,68.8,69.702,67.355,68.6,67.1,68.0,70.799,68.098,68.699,67.0,68.999,65.474],\"yaxis\":\"y\",\"type\":\"scatter\"},{\"hovertemplate\":\"Regional indicator=East Asia<br>Logged GDP per capita=%{x}<br>Healthy life expectancy=%{y}<br>Social support=%{marker.size}<extra></extra>\",\"legendgroup\":\"East Asia\",\"marker\":{\"color\":\"#19d3f3\",\"size\":[0.898,0.884,0.799,0.935,0.836,0.811],\"sizemode\":\"area\",\"sizeref\":0.0024575,\"symbol\":\"circle\"},\"mode\":\"markers\",\"name\":\"East Asia\",\"orientation\":\"v\",\"showlegend\":true,\"x\":[10.871,10.611,10.651,9.4,11.0,9.673],\"xaxis\":\"x\",\"y\":[69.6,75.1,73.9,62.5,76.82,69.593],\"yaxis\":\"y\",\"type\":\"scatter\"},{\"hovertemplate\":\"Regional indicator=Southeast Asia<br>Logged GDP per capita=%{x}<br>Healthy life expectancy=%{y}<br>Social support=%{marker.size}<extra></extra>\",\"legendgroup\":\"Southeast Asia\",\"marker\":{\"color\":\"#FF6692\",\"size\":[0.915,0.888,0.83,0.85,0.817,0.811,0.728,0.765,0.779],\"sizemode\":\"area\",\"sizeref\":0.0024575,\"symbol\":\"circle\"},\"mode\":\"markers\",\"name\":\"Southeast Asia\",\"orientation\":\"v\",\"showlegend\":true,\"x\":[11.488,9.805,9.076,8.973,10.238,9.365,8.947,8.36,8.541],\"xaxis\":\"x\",\"y\":[76.953,67.401,62.0,68.034,67.102,62.236,58.968,62.0,59.302],\"yaxis\":\"y\",\"type\":\"scatter\"},{\"hovertemplate\":\"Regional indicator=Commonwealth of Independent States<br>Logged GDP per capita=%{x}<br>Healthy life expectancy=%{y}<br>Social support=%{marker.size}<extra></extra>\",\"legendgroup\":\"Commonwealth of Independent States\",\"marker\":{\"color\":\"#B6E880\",\"size\":[0.918,0.952,0.857,0.893,0.91,0.903,0.86,0.799,0.836,0.983,0.671,0.888],\"sizemode\":\"area\",\"sizeref\":0.0024575,\"symbol\":\"circle\"},\"mode\":\"markers\",\"name\":\"Commonwealth of Independent States\",\"orientation\":\"v\",\"showlegend\":true,\"x\":[8.836,10.155,9.454,8.538,9.853,10.189,8.091,9.487,9.569,9.629,9.585,9.436],\"xaxis\":\"x\",\"y\":[65.255,65.2,65.699,64.401,66.253,64.703,64.281,67.055,65.656,62.409,64.3,64.902],\"yaxis\":\"y\",\"type\":\"scatter\"},{\"hovertemplate\":\"Regional indicator=Sub-Saharan Africa<br>Logged GDP per capita=%{x}<br>Healthy life expectancy=%{y}<br>Social support=%{marker.size}<extra></extra>\",\"legendgroup\":\"Sub-Saharan Africa\",\"marker\":{\"color\":\"#FF97FF\",\"size\":[0.905,0.636,0.644,0.71,0.71,0.727,0.641,0.69,0.489,0.639,0.86,0.776,0.672,0.744,0.74,0.724,0.781,0.72,0.688,0.818,0.619,0.77,0.626,0.764,0.795,0.686,0.569,0.708,0.63,0.49,0.702,0.537,0.787,0.784,0.552,0.75],\"sizemode\":\"area\",\"sizeref\":0.0024575,\"symbol\":\"circle\"},\"mode\":\"markers\",\"name\":\"Sub-Saharan Africa\",\"orientation\":\"v\",\"showlegend\":true,\"x\":[10.008,8.117,8.551,8.189,8.118,8.58,7.098,7.686,8.087,7.838,9.403,9.603,7.678,7.158,8.533,7.744,7.677,7.288,8.361,9.161,7.364,9.065,8.031,7.694,8.542,7.396,7.362,8.145,7.434,6.635,7.876,6.958,7.926,9.782,7.676,7.943],\"xaxis\":\"x\",\"y\":[66.701,58.221,50.114,53.515,59.802,57.586,53.78,55.16,54.713,55.008,56.904,59.962,54.151,54.706,50.102,51.969,56.101,56.498,60.704,56.799,48.478,50.833,57.349,59.0,57.161,59.305,54.914,55.809,51.651,53.4,57.999,57.948,48.7,59.269,61.4,56.201],\"yaxis\":\"y\",\"type\":\"scatter\"},{\"hovertemplate\":\"Regional indicator=South Asia<br>Logged GDP per capita=%{x}<br>Healthy life expectancy=%{y}<br>Social support=%{marker.size}<extra></extra>\",\"legendgroup\":\"South Asia\",\"marker\":{\"color\":\"#FECB52\",\"size\":[0.774,0.913,0.693,0.651,0.827,0.603,0.463],\"sizemode\":\"area\",\"sizeref\":0.0024575,\"symbol\":\"circle\"},\"mode\":\"markers\",\"name\":\"South Asia\",\"orientation\":\"v\",\"showlegend\":true,\"x\":[8.12,9.826,8.454,8.458,9.47,8.755,7.695],\"xaxis\":\"x\",\"y\":[64.233,70.6,64.8,58.709,67.299,60.633,52.493],\"yaxis\":\"y\",\"type\":\"scatter\"}],                        {\"template\":{\"data\":{\"histogram2dcontour\":[{\"type\":\"histogram2dcontour\",\"colorbar\":{\"outlinewidth\":0,\"ticks\":\"\"},\"colorscale\":[[0.0,\"#0d0887\"],[0.1111111111111111,\"#46039f\"],[0.2222222222222222,\"#7201a8\"],[0.3333333333333333,\"#9c179e\"],[0.4444444444444444,\"#bd3786\"],[0.5555555555555556,\"#d8576b\"],[0.6666666666666666,\"#ed7953\"],[0.7777777777777778,\"#fb9f3a\"],[0.8888888888888888,\"#fdca26\"],[1.0,\"#f0f921\"]]}],\"choropleth\":[{\"type\":\"choropleth\",\"colorbar\":{\"outlinewidth\":0,\"ticks\":\"\"}}],\"histogram2d\":[{\"type\":\"histogram2d\",\"colorbar\":{\"outlinewidth\":0,\"ticks\":\"\"},\"colorscale\":[[0.0,\"#0d0887\"],[0.1111111111111111,\"#46039f\"],[0.2222222222222222,\"#7201a8\"],[0.3333333333333333,\"#9c179e\"],[0.4444444444444444,\"#bd3786\"],[0.5555555555555556,\"#d8576b\"],[0.6666666666666666,\"#ed7953\"],[0.7777777777777778,\"#fb9f3a\"],[0.8888888888888888,\"#fdca26\"],[1.0,\"#f0f921\"]]}],\"heatmap\":[{\"type\":\"heatmap\",\"colorbar\":{\"outlinewidth\":0,\"ticks\":\"\"},\"colorscale\":[[0.0,\"#0d0887\"],[0.1111111111111111,\"#46039f\"],[0.2222222222222222,\"#7201a8\"],[0.3333333333333333,\"#9c179e\"],[0.4444444444444444,\"#bd3786\"],[0.5555555555555556,\"#d8576b\"],[0.6666666666666666,\"#ed7953\"],[0.7777777777777778,\"#fb9f3a\"],[0.8888888888888888,\"#fdca26\"],[1.0,\"#f0f921\"]]}],\"heatmapgl\":[{\"type\":\"heatmapgl\",\"colorbar\":{\"outlinewidth\":0,\"ticks\":\"\"},\"colorscale\":[[0.0,\"#0d0887\"],[0.1111111111111111,\"#46039f\"],[0.2222222222222222,\"#7201a8\"],[0.3333333333333333,\"#9c179e\"],[0.4444444444444444,\"#bd3786\"],[0.5555555555555556,\"#d8576b\"],[0.6666666666666666,\"#ed7953\"],[0.7777777777777778,\"#fb9f3a\"],[0.8888888888888888,\"#fdca26\"],[1.0,\"#f0f921\"]]}],\"contourcarpet\":[{\"type\":\"contourcarpet\",\"colorbar\":{\"outlinewidth\":0,\"ticks\":\"\"}}],\"contour\":[{\"type\":\"contour\",\"colorbar\":{\"outlinewidth\":0,\"ticks\":\"\"},\"colorscale\":[[0.0,\"#0d0887\"],[0.1111111111111111,\"#46039f\"],[0.2222222222222222,\"#7201a8\"],[0.3333333333333333,\"#9c179e\"],[0.4444444444444444,\"#bd3786\"],[0.5555555555555556,\"#d8576b\"],[0.6666666666666666,\"#ed7953\"],[0.7777777777777778,\"#fb9f3a\"],[0.8888888888888888,\"#fdca26\"],[1.0,\"#f0f921\"]]}],\"surface\":[{\"type\":\"surface\",\"colorbar\":{\"outlinewidth\":0,\"ticks\":\"\"},\"colorscale\":[[0.0,\"#0d0887\"],[0.1111111111111111,\"#46039f\"],[0.2222222222222222,\"#7201a8\"],[0.3333333333333333,\"#9c179e\"],[0.4444444444444444,\"#bd3786\"],[0.5555555555555556,\"#d8576b\"],[0.6666666666666666,\"#ed7953\"],[0.7777777777777778,\"#fb9f3a\"],[0.8888888888888888,\"#fdca26\"],[1.0,\"#f0f921\"]]}],\"mesh3d\":[{\"type\":\"mesh3d\",\"colorbar\":{\"outlinewidth\":0,\"ticks\":\"\"}}],\"scatter\":[{\"fillpattern\":{\"fillmode\":\"overlay\",\"size\":10,\"solidity\":0.2},\"type\":\"scatter\"}],\"parcoords\":[{\"type\":\"parcoords\",\"line\":{\"colorbar\":{\"outlinewidth\":0,\"ticks\":\"\"}}}],\"scatterpolargl\":[{\"type\":\"scatterpolargl\",\"marker\":{\"colorbar\":{\"outlinewidth\":0,\"ticks\":\"\"}}}],\"bar\":[{\"error_x\":{\"color\":\"#2a3f5f\"},\"error_y\":{\"color\":\"#2a3f5f\"},\"marker\":{\"line\":{\"color\":\"#E5ECF6\",\"width\":0.5},\"pattern\":{\"fillmode\":\"overlay\",\"size\":10,\"solidity\":0.2}},\"type\":\"bar\"}],\"scattergeo\":[{\"type\":\"scattergeo\",\"marker\":{\"colorbar\":{\"outlinewidth\":0,\"ticks\":\"\"}}}],\"scatterpolar\":[{\"type\":\"scatterpolar\",\"marker\":{\"colorbar\":{\"outlinewidth\":0,\"ticks\":\"\"}}}],\"histogram\":[{\"marker\":{\"pattern\":{\"fillmode\":\"overlay\",\"size\":10,\"solidity\":0.2}},\"type\":\"histogram\"}],\"scattergl\":[{\"type\":\"scattergl\",\"marker\":{\"colorbar\":{\"outlinewidth\":0,\"ticks\":\"\"}}}],\"scatter3d\":[{\"type\":\"scatter3d\",\"line\":{\"colorbar\":{\"outlinewidth\":0,\"ticks\":\"\"}},\"marker\":{\"colorbar\":{\"outlinewidth\":0,\"ticks\":\"\"}}}],\"scattermapbox\":[{\"type\":\"scattermapbox\",\"marker\":{\"colorbar\":{\"outlinewidth\":0,\"ticks\":\"\"}}}],\"scatterternary\":[{\"type\":\"scatterternary\",\"marker\":{\"colorbar\":{\"outlinewidth\":0,\"ticks\":\"\"}}}],\"scattercarpet\":[{\"type\":\"scattercarpet\",\"marker\":{\"colorbar\":{\"outlinewidth\":0,\"ticks\":\"\"}}}],\"carpet\":[{\"aaxis\":{\"endlinecolor\":\"#2a3f5f\",\"gridcolor\":\"white\",\"linecolor\":\"white\",\"minorgridcolor\":\"white\",\"startlinecolor\":\"#2a3f5f\"},\"baxis\":{\"endlinecolor\":\"#2a3f5f\",\"gridcolor\":\"white\",\"linecolor\":\"white\",\"minorgridcolor\":\"white\",\"startlinecolor\":\"#2a3f5f\"},\"type\":\"carpet\"}],\"table\":[{\"cells\":{\"fill\":{\"color\":\"#EBF0F8\"},\"line\":{\"color\":\"white\"}},\"header\":{\"fill\":{\"color\":\"#C8D4E3\"},\"line\":{\"color\":\"white\"}},\"type\":\"table\"}],\"barpolar\":[{\"marker\":{\"line\":{\"color\":\"#E5ECF6\",\"width\":0.5},\"pattern\":{\"fillmode\":\"overlay\",\"size\":10,\"solidity\":0.2}},\"type\":\"barpolar\"}],\"pie\":[{\"automargin\":true,\"type\":\"pie\"}]},\"layout\":{\"autotypenumbers\":\"strict\",\"colorway\":[\"#636efa\",\"#EF553B\",\"#00cc96\",\"#ab63fa\",\"#FFA15A\",\"#19d3f3\",\"#FF6692\",\"#B6E880\",\"#FF97FF\",\"#FECB52\"],\"font\":{\"color\":\"#2a3f5f\"},\"hovermode\":\"closest\",\"hoverlabel\":{\"align\":\"left\"},\"paper_bgcolor\":\"white\",\"plot_bgcolor\":\"#E5ECF6\",\"polar\":{\"bgcolor\":\"#E5ECF6\",\"angularaxis\":{\"gridcolor\":\"white\",\"linecolor\":\"white\",\"ticks\":\"\"},\"radialaxis\":{\"gridcolor\":\"white\",\"linecolor\":\"white\",\"ticks\":\"\"}},\"ternary\":{\"bgcolor\":\"#E5ECF6\",\"aaxis\":{\"gridcolor\":\"white\",\"linecolor\":\"white\",\"ticks\":\"\"},\"baxis\":{\"gridcolor\":\"white\",\"linecolor\":\"white\",\"ticks\":\"\"},\"caxis\":{\"gridcolor\":\"white\",\"linecolor\":\"white\",\"ticks\":\"\"}},\"coloraxis\":{\"colorbar\":{\"outlinewidth\":0,\"ticks\":\"\"}},\"colorscale\":{\"sequential\":[[0.0,\"#0d0887\"],[0.1111111111111111,\"#46039f\"],[0.2222222222222222,\"#7201a8\"],[0.3333333333333333,\"#9c179e\"],[0.4444444444444444,\"#bd3786\"],[0.5555555555555556,\"#d8576b\"],[0.6666666666666666,\"#ed7953\"],[0.7777777777777778,\"#fb9f3a\"],[0.8888888888888888,\"#fdca26\"],[1.0,\"#f0f921\"]],\"sequentialminus\":[[0.0,\"#0d0887\"],[0.1111111111111111,\"#46039f\"],[0.2222222222222222,\"#7201a8\"],[0.3333333333333333,\"#9c179e\"],[0.4444444444444444,\"#bd3786\"],[0.5555555555555556,\"#d8576b\"],[0.6666666666666666,\"#ed7953\"],[0.7777777777777778,\"#fb9f3a\"],[0.8888888888888888,\"#fdca26\"],[1.0,\"#f0f921\"]],\"diverging\":[[0,\"#8e0152\"],[0.1,\"#c51b7d\"],[0.2,\"#de77ae\"],[0.3,\"#f1b6da\"],[0.4,\"#fde0ef\"],[0.5,\"#f7f7f7\"],[0.6,\"#e6f5d0\"],[0.7,\"#b8e186\"],[0.8,\"#7fbc41\"],[0.9,\"#4d9221\"],[1,\"#276419\"]]},\"xaxis\":{\"gridcolor\":\"white\",\"linecolor\":\"white\",\"ticks\":\"\",\"title\":{\"standoff\":15},\"zerolinecolor\":\"white\",\"automargin\":true,\"zerolinewidth\":2},\"yaxis\":{\"gridcolor\":\"white\",\"linecolor\":\"white\",\"ticks\":\"\",\"title\":{\"standoff\":15},\"zerolinecolor\":\"white\",\"automargin\":true,\"zerolinewidth\":2},\"scene\":{\"xaxis\":{\"backgroundcolor\":\"#E5ECF6\",\"gridcolor\":\"white\",\"linecolor\":\"white\",\"showbackground\":true,\"ticks\":\"\",\"zerolinecolor\":\"white\",\"gridwidth\":2},\"yaxis\":{\"backgroundcolor\":\"#E5ECF6\",\"gridcolor\":\"white\",\"linecolor\":\"white\",\"showbackground\":true,\"ticks\":\"\",\"zerolinecolor\":\"white\",\"gridwidth\":2},\"zaxis\":{\"backgroundcolor\":\"#E5ECF6\",\"gridcolor\":\"white\",\"linecolor\":\"white\",\"showbackground\":true,\"ticks\":\"\",\"zerolinecolor\":\"white\",\"gridwidth\":2}},\"shapedefaults\":{\"line\":{\"color\":\"#2a3f5f\"}},\"annotationdefaults\":{\"arrowcolor\":\"#2a3f5f\",\"arrowhead\":0,\"arrowwidth\":1},\"geo\":{\"bgcolor\":\"white\",\"landcolor\":\"#E5ECF6\",\"subunitcolor\":\"white\",\"showland\":true,\"showlakes\":true,\"lakecolor\":\"white\"},\"title\":{\"x\":0.05},\"mapbox\":{\"style\":\"light\"}}},\"xaxis\":{\"anchor\":\"y\",\"domain\":[0.0,1.0],\"title\":{\"text\":\"Logged GDP per capita\"}},\"yaxis\":{\"anchor\":\"x\",\"domain\":[0.0,1.0],\"title\":{\"text\":\"Healthy life expectancy\"}},\"legend\":{\"title\":{\"text\":\"Regional indicator\"},\"tracegroupgap\":0,\"itemsizing\":\"constant\"},\"margin\":{\"t\":60}},                        {\"responsive\": true}                    ).then(function(){\n                            \nvar gd = document.getElementById('75beab9e-b36a-4eaf-908c-900a6404f49d');\nvar x = new MutationObserver(function (mutations, observer) {{\n        var display = window.getComputedStyle(gd).display;\n        if (!display || display === 'none') {{\n            console.log([gd, 'removed!']);\n            Plotly.purge(gd);\n            observer.disconnect();\n        }}\n}});\n\n// Listen for the removal of the full notebook cells\nvar notebookContainer = gd.closest('#notebook-container');\nif (notebookContainer) {{\n    x.observe(notebookContainer, {childList: true});\n}}\n\n// Listen for the clearing of the current output cell\nvar outputEl = gd.closest('.output');\nif (outputEl) {{\n    x.observe(outputEl, {childList: true});\n}}\n\n                        })                };                            </script>        </div>\n</body>\n</html>"
     },
     "execution_count": 24,
     "metadata": {
     },
     "output_type": "execute_result"
    }
   ],
   "source": [
    "#scatter plot gdp vs. life expectancy\n",
    "import plotly.express as px\n",
    "fig = px.scatter(wh_df21, x=\"Logged GDP per capita\", y=\"Healthy life expectancy\", size=\"Social support\", color=\"Regional indicator\")\n",
    "fig.show()"
   ]
  },
  {
   "cell_type": "code",
   "execution_count": 25,
   "metadata": {
    "collapsed": false
   },
   "outputs": [
    {
     "name": "stderr",
     "output_type": "stream",
     "text": [
      "/projects/edd1874b-535e-4ea0-8897-aa8a85e79c89/miniconda3/lib/python3.10/site-packages/plotly/express/_core.py:279: FutureWarning:\n",
      "\n",
      "iteritems is deprecated and will be removed in a future version. Use .items instead.\n",
      "\n"
     ]
    },
    {
     "data": {
      "text/html": "<html>\n<head><meta charset=\"utf-8\" /></head>\n<body>\n    <div>            <script src=\"https://cdnjs.cloudflare.com/ajax/libs/mathjax/2.7.5/MathJax.js?config=TeX-AMS-MML_SVG\"></script><script type=\"text/javascript\">if (window.MathJax && window.MathJax.Hub && window.MathJax.Hub.Config) {window.MathJax.Hub.Config({SVG: {font: \"STIX-Web\"}});}</script>                <script type=\"text/javascript\">window.PlotlyConfig = {MathJaxConfig: 'local'};</script>\n        <script src=\"https://cdn.plot.ly/plotly-2.16.1.min.js\"></script>                <div id=\"19b64152-da6d-463b-a1f6-7f1304dd6a7f\" class=\"plotly-graph-div\" style=\"height:525px; width:100%;\"></div>            <script type=\"text/javascript\">                                    window.PLOTLYENV=window.PLOTLYENV || {};                                    if (document.getElementById(\"19b64152-da6d-463b-a1f6-7f1304dd6a7f\")) {                    Plotly.newPlot(                        \"19b64152-da6d-463b-a1f6-7f1304dd6a7f\",                        [{\"dimensions\":[{\"axis\":{\"matches\":true},\"label\":\"Logged GDP per capita\",\"values\":[10.775,10.933,11.117,10.878,10.932,11.053,10.867,11.647,10.643,10.906,10.796,10.575,10.873,10.776,11.342,9.88,10.707,10.556,11.023,10.823,10.704,10.669,10.674,10.871,11.085,10.743,10.571,10.623,10.529,9.053,9.966,11.488,9.318,10.369,9.577,9.859,9.186,10.499,10.576,10.481,10.35,8.836,10.071,10.382,10.155,10.284,10.817,9.787,9.054,10.008,10.315,9.557,10.358,9.805,8.62,10.611,9.962,10.421,8.648,10.217,9.076,10.651,9.458,9.59,9.454,9.313,8.538,10.279,9.046,9.4,9.448,9.94,9.802,10.576,9.853,10.189,11.0,8.091,8.973,9.622,10.238,9.365,8.117,9.673,8.551,9.487,8.12,10.016,9.826,9.569,8.189,8.118,9.52,9.693,8.58,7.098,9.629,7.686,8.087,8.947,8.454,7.838,9.403,10.24,8.458,8.903,9.073,9.585,9.342,9.436,9.24,9.603,7.678,8.36,7.158,8.533,7.744,9.584,7.677,7.288,8.361,9.266,9.626,9.161,8.485,8.541,9.182,7.364,9.47,9.065,8.031,9.367,7.694,8.542,7.396,7.362,8.145,7.434,8.755,6.635,7.578,7.876,7.477,6.958,7.926,9.782,7.676,7.943,7.695]},{\"axis\":{\"matches\":true},\"label\":\"Healthy life expectancy\",\"values\":[72.0,72.7,74.4,73.0,72.4,73.3,72.7,72.6,73.4,73.3,73.9,73.503,72.5,73.8,72.4,71.4,72.5,70.807,68.2,72.199,74.0,69.495,72.2,69.6,67.333,66.603,74.7,73.8,71.4,64.958,69.1,76.953,63.813,69.201,66.601,68.597,67.5,67.906,73.898,68.8,69.652,65.255,70.0,69.702,65.2,67.355,66.9,68.6,66.402,66.701,67.1,68.001,68.0,67.401,67.657,75.1,69.0,72.6,67.3,70.799,62.0,73.9,68.25,68.098,65.699,68.8,64.401,72.6,63.901,62.5,65.9,68.699,66.102,73.898,66.253,64.703,76.82,64.281,68.034,62.3,67.102,62.236,58.221,69.593,50.114,67.055,64.233,67.0,70.6,65.656,53.515,59.802,68.999,65.474,57.586,53.78,62.409,55.16,54.713,58.968,64.8,55.008,56.904,67.199,58.709,66.208,66.7,64.3,66.005,64.902,60.583,59.962,54.151,62.0,54.706,50.102,51.969,66.3,56.101,56.498,60.704,67.201,67.355,56.799,62.25,59.302,67.0,48.478,67.299,50.833,57.349,61.998,59.0,57.161,59.305,54.914,55.809,51.651,60.633,53.4,57.122,57.999,55.7,57.948,48.7,59.269,61.4,56.201,52.493]},{\"axis\":{\"matches\":true},\"label\":\"Ladder score\",\"values\":[7.842,7.62,7.571,7.554,7.464,7.392,7.363,7.324,7.277,7.268,7.183,7.157,7.155,7.103,7.085,7.069,7.064,6.965,6.951,6.834,6.69,6.647,6.602,6.584,6.561,6.494,6.491,6.483,6.461,6.435,6.431,6.377,6.372,6.331,6.33,6.317,6.309,6.255,6.223,6.189,6.18,6.179,6.172,6.166,6.152,6.14,6.106,6.078,6.061,6.049,6.032,6.012,5.992,5.985,5.972,5.94,5.929,5.929,5.919,5.882,5.88,5.845,5.84,5.813,5.766,5.764,5.744,5.723,5.716,5.677,5.653,5.581,5.545,5.536,5.534,5.477,5.477,5.466,5.411,5.41,5.384,5.345,5.342,5.339,5.306,5.283,5.269,5.266,5.198,5.171,5.142,5.132,5.117,5.101,5.088,5.074,5.066,5.051,5.045,5.03,5.025,4.984,4.956,4.948,4.934,4.918,4.892,4.891,4.887,4.875,4.854,4.852,4.834,4.83,4.794,4.759,4.723,4.721,4.636,4.625,4.607,4.596,4.584,4.574,4.517,4.426,4.395,4.355,4.325,4.308,4.289,4.283,4.275,4.227,4.208,4.107,4.073,3.849,3.819,3.775,3.658,3.623,3.615,3.6,3.512,3.467,3.415,3.145,2.523]}],\"hovertemplate\":\"%{xaxis.title.text}=%{x}<br>%{yaxis.title.text}=%{y}<br>Healthy life expectancy=%{marker.color}<extra></extra>\",\"legendgroup\":\"\",\"marker\":{\"color\":[72.0,72.7,74.4,73.0,72.4,73.3,72.7,72.6,73.4,73.3,73.9,73.503,72.5,73.8,72.4,71.4,72.5,70.807,68.2,72.199,74.0,69.495,72.2,69.6,67.333,66.603,74.7,73.8,71.4,64.958,69.1,76.953,63.813,69.201,66.601,68.597,67.5,67.906,73.898,68.8,69.652,65.255,70.0,69.702,65.2,67.355,66.9,68.6,66.402,66.701,67.1,68.001,68.0,67.401,67.657,75.1,69.0,72.6,67.3,70.799,62.0,73.9,68.25,68.098,65.699,68.8,64.401,72.6,63.901,62.5,65.9,68.699,66.102,73.898,66.253,64.703,76.82,64.281,68.034,62.3,67.102,62.236,58.221,69.593,50.114,67.055,64.233,67.0,70.6,65.656,53.515,59.802,68.999,65.474,57.586,53.78,62.409,55.16,54.713,58.968,64.8,55.008,56.904,67.199,58.709,66.208,66.7,64.3,66.005,64.902,60.583,59.962,54.151,62.0,54.706,50.102,51.969,66.3,56.101,56.498,60.704,67.201,67.355,56.799,62.25,59.302,67.0,48.478,67.299,50.833,57.349,61.998,59.0,57.161,59.305,54.914,55.809,51.651,60.633,53.4,57.122,57.999,55.7,57.948,48.7,59.269,61.4,56.201,52.493],\"coloraxis\":\"coloraxis\",\"symbol\":\"circle\"},\"name\":\"\",\"showlegend\":false,\"type\":\"splom\"}],                        {\"template\":{\"data\":{\"histogram2dcontour\":[{\"type\":\"histogram2dcontour\",\"colorbar\":{\"outlinewidth\":0,\"ticks\":\"\"},\"colorscale\":[[0.0,\"#0d0887\"],[0.1111111111111111,\"#46039f\"],[0.2222222222222222,\"#7201a8\"],[0.3333333333333333,\"#9c179e\"],[0.4444444444444444,\"#bd3786\"],[0.5555555555555556,\"#d8576b\"],[0.6666666666666666,\"#ed7953\"],[0.7777777777777778,\"#fb9f3a\"],[0.8888888888888888,\"#fdca26\"],[1.0,\"#f0f921\"]]}],\"choropleth\":[{\"type\":\"choropleth\",\"colorbar\":{\"outlinewidth\":0,\"ticks\":\"\"}}],\"histogram2d\":[{\"type\":\"histogram2d\",\"colorbar\":{\"outlinewidth\":0,\"ticks\":\"\"},\"colorscale\":[[0.0,\"#0d0887\"],[0.1111111111111111,\"#46039f\"],[0.2222222222222222,\"#7201a8\"],[0.3333333333333333,\"#9c179e\"],[0.4444444444444444,\"#bd3786\"],[0.5555555555555556,\"#d8576b\"],[0.6666666666666666,\"#ed7953\"],[0.7777777777777778,\"#fb9f3a\"],[0.8888888888888888,\"#fdca26\"],[1.0,\"#f0f921\"]]}],\"heatmap\":[{\"type\":\"heatmap\",\"colorbar\":{\"outlinewidth\":0,\"ticks\":\"\"},\"colorscale\":[[0.0,\"#0d0887\"],[0.1111111111111111,\"#46039f\"],[0.2222222222222222,\"#7201a8\"],[0.3333333333333333,\"#9c179e\"],[0.4444444444444444,\"#bd3786\"],[0.5555555555555556,\"#d8576b\"],[0.6666666666666666,\"#ed7953\"],[0.7777777777777778,\"#fb9f3a\"],[0.8888888888888888,\"#fdca26\"],[1.0,\"#f0f921\"]]}],\"heatmapgl\":[{\"type\":\"heatmapgl\",\"colorbar\":{\"outlinewidth\":0,\"ticks\":\"\"},\"colorscale\":[[0.0,\"#0d0887\"],[0.1111111111111111,\"#46039f\"],[0.2222222222222222,\"#7201a8\"],[0.3333333333333333,\"#9c179e\"],[0.4444444444444444,\"#bd3786\"],[0.5555555555555556,\"#d8576b\"],[0.6666666666666666,\"#ed7953\"],[0.7777777777777778,\"#fb9f3a\"],[0.8888888888888888,\"#fdca26\"],[1.0,\"#f0f921\"]]}],\"contourcarpet\":[{\"type\":\"contourcarpet\",\"colorbar\":{\"outlinewidth\":0,\"ticks\":\"\"}}],\"contour\":[{\"type\":\"contour\",\"colorbar\":{\"outlinewidth\":0,\"ticks\":\"\"},\"colorscale\":[[0.0,\"#0d0887\"],[0.1111111111111111,\"#46039f\"],[0.2222222222222222,\"#7201a8\"],[0.3333333333333333,\"#9c179e\"],[0.4444444444444444,\"#bd3786\"],[0.5555555555555556,\"#d8576b\"],[0.6666666666666666,\"#ed7953\"],[0.7777777777777778,\"#fb9f3a\"],[0.8888888888888888,\"#fdca26\"],[1.0,\"#f0f921\"]]}],\"surface\":[{\"type\":\"surface\",\"colorbar\":{\"outlinewidth\":0,\"ticks\":\"\"},\"colorscale\":[[0.0,\"#0d0887\"],[0.1111111111111111,\"#46039f\"],[0.2222222222222222,\"#7201a8\"],[0.3333333333333333,\"#9c179e\"],[0.4444444444444444,\"#bd3786\"],[0.5555555555555556,\"#d8576b\"],[0.6666666666666666,\"#ed7953\"],[0.7777777777777778,\"#fb9f3a\"],[0.8888888888888888,\"#fdca26\"],[1.0,\"#f0f921\"]]}],\"mesh3d\":[{\"type\":\"mesh3d\",\"colorbar\":{\"outlinewidth\":0,\"ticks\":\"\"}}],\"scatter\":[{\"fillpattern\":{\"fillmode\":\"overlay\",\"size\":10,\"solidity\":0.2},\"type\":\"scatter\"}],\"parcoords\":[{\"type\":\"parcoords\",\"line\":{\"colorbar\":{\"outlinewidth\":0,\"ticks\":\"\"}}}],\"scatterpolargl\":[{\"type\":\"scatterpolargl\",\"marker\":{\"colorbar\":{\"outlinewidth\":0,\"ticks\":\"\"}}}],\"bar\":[{\"error_x\":{\"color\":\"#2a3f5f\"},\"error_y\":{\"color\":\"#2a3f5f\"},\"marker\":{\"line\":{\"color\":\"#E5ECF6\",\"width\":0.5},\"pattern\":{\"fillmode\":\"overlay\",\"size\":10,\"solidity\":0.2}},\"type\":\"bar\"}],\"scattergeo\":[{\"type\":\"scattergeo\",\"marker\":{\"colorbar\":{\"outlinewidth\":0,\"ticks\":\"\"}}}],\"scatterpolar\":[{\"type\":\"scatterpolar\",\"marker\":{\"colorbar\":{\"outlinewidth\":0,\"ticks\":\"\"}}}],\"histogram\":[{\"marker\":{\"pattern\":{\"fillmode\":\"overlay\",\"size\":10,\"solidity\":0.2}},\"type\":\"histogram\"}],\"scattergl\":[{\"type\":\"scattergl\",\"marker\":{\"colorbar\":{\"outlinewidth\":0,\"ticks\":\"\"}}}],\"scatter3d\":[{\"type\":\"scatter3d\",\"line\":{\"colorbar\":{\"outlinewidth\":0,\"ticks\":\"\"}},\"marker\":{\"colorbar\":{\"outlinewidth\":0,\"ticks\":\"\"}}}],\"scattermapbox\":[{\"type\":\"scattermapbox\",\"marker\":{\"colorbar\":{\"outlinewidth\":0,\"ticks\":\"\"}}}],\"scatterternary\":[{\"type\":\"scatterternary\",\"marker\":{\"colorbar\":{\"outlinewidth\":0,\"ticks\":\"\"}}}],\"scattercarpet\":[{\"type\":\"scattercarpet\",\"marker\":{\"colorbar\":{\"outlinewidth\":0,\"ticks\":\"\"}}}],\"carpet\":[{\"aaxis\":{\"endlinecolor\":\"#2a3f5f\",\"gridcolor\":\"white\",\"linecolor\":\"white\",\"minorgridcolor\":\"white\",\"startlinecolor\":\"#2a3f5f\"},\"baxis\":{\"endlinecolor\":\"#2a3f5f\",\"gridcolor\":\"white\",\"linecolor\":\"white\",\"minorgridcolor\":\"white\",\"startlinecolor\":\"#2a3f5f\"},\"type\":\"carpet\"}],\"table\":[{\"cells\":{\"fill\":{\"color\":\"#EBF0F8\"},\"line\":{\"color\":\"white\"}},\"header\":{\"fill\":{\"color\":\"#C8D4E3\"},\"line\":{\"color\":\"white\"}},\"type\":\"table\"}],\"barpolar\":[{\"marker\":{\"line\":{\"color\":\"#E5ECF6\",\"width\":0.5},\"pattern\":{\"fillmode\":\"overlay\",\"size\":10,\"solidity\":0.2}},\"type\":\"barpolar\"}],\"pie\":[{\"automargin\":true,\"type\":\"pie\"}]},\"layout\":{\"autotypenumbers\":\"strict\",\"colorway\":[\"#636efa\",\"#EF553B\",\"#00cc96\",\"#ab63fa\",\"#FFA15A\",\"#19d3f3\",\"#FF6692\",\"#B6E880\",\"#FF97FF\",\"#FECB52\"],\"font\":{\"color\":\"#2a3f5f\"},\"hovermode\":\"closest\",\"hoverlabel\":{\"align\":\"left\"},\"paper_bgcolor\":\"white\",\"plot_bgcolor\":\"#E5ECF6\",\"polar\":{\"bgcolor\":\"#E5ECF6\",\"angularaxis\":{\"gridcolor\":\"white\",\"linecolor\":\"white\",\"ticks\":\"\"},\"radialaxis\":{\"gridcolor\":\"white\",\"linecolor\":\"white\",\"ticks\":\"\"}},\"ternary\":{\"bgcolor\":\"#E5ECF6\",\"aaxis\":{\"gridcolor\":\"white\",\"linecolor\":\"white\",\"ticks\":\"\"},\"baxis\":{\"gridcolor\":\"white\",\"linecolor\":\"white\",\"ticks\":\"\"},\"caxis\":{\"gridcolor\":\"white\",\"linecolor\":\"white\",\"ticks\":\"\"}},\"coloraxis\":{\"colorbar\":{\"outlinewidth\":0,\"ticks\":\"\"}},\"colorscale\":{\"sequential\":[[0.0,\"#0d0887\"],[0.1111111111111111,\"#46039f\"],[0.2222222222222222,\"#7201a8\"],[0.3333333333333333,\"#9c179e\"],[0.4444444444444444,\"#bd3786\"],[0.5555555555555556,\"#d8576b\"],[0.6666666666666666,\"#ed7953\"],[0.7777777777777778,\"#fb9f3a\"],[0.8888888888888888,\"#fdca26\"],[1.0,\"#f0f921\"]],\"sequentialminus\":[[0.0,\"#0d0887\"],[0.1111111111111111,\"#46039f\"],[0.2222222222222222,\"#7201a8\"],[0.3333333333333333,\"#9c179e\"],[0.4444444444444444,\"#bd3786\"],[0.5555555555555556,\"#d8576b\"],[0.6666666666666666,\"#ed7953\"],[0.7777777777777778,\"#fb9f3a\"],[0.8888888888888888,\"#fdca26\"],[1.0,\"#f0f921\"]],\"diverging\":[[0,\"#8e0152\"],[0.1,\"#c51b7d\"],[0.2,\"#de77ae\"],[0.3,\"#f1b6da\"],[0.4,\"#fde0ef\"],[0.5,\"#f7f7f7\"],[0.6,\"#e6f5d0\"],[0.7,\"#b8e186\"],[0.8,\"#7fbc41\"],[0.9,\"#4d9221\"],[1,\"#276419\"]]},\"xaxis\":{\"gridcolor\":\"white\",\"linecolor\":\"white\",\"ticks\":\"\",\"title\":{\"standoff\":15},\"zerolinecolor\":\"white\",\"automargin\":true,\"zerolinewidth\":2},\"yaxis\":{\"gridcolor\":\"white\",\"linecolor\":\"white\",\"ticks\":\"\",\"title\":{\"standoff\":15},\"zerolinecolor\":\"white\",\"automargin\":true,\"zerolinewidth\":2},\"scene\":{\"xaxis\":{\"backgroundcolor\":\"#E5ECF6\",\"gridcolor\":\"white\",\"linecolor\":\"white\",\"showbackground\":true,\"ticks\":\"\",\"zerolinecolor\":\"white\",\"gridwidth\":2},\"yaxis\":{\"backgroundcolor\":\"#E5ECF6\",\"gridcolor\":\"white\",\"linecolor\":\"white\",\"showbackground\":true,\"ticks\":\"\",\"zerolinecolor\":\"white\",\"gridwidth\":2},\"zaxis\":{\"backgroundcolor\":\"#E5ECF6\",\"gridcolor\":\"white\",\"linecolor\":\"white\",\"showbackground\":true,\"ticks\":\"\",\"zerolinecolor\":\"white\",\"gridwidth\":2}},\"shapedefaults\":{\"line\":{\"color\":\"#2a3f5f\"}},\"annotationdefaults\":{\"arrowcolor\":\"#2a3f5f\",\"arrowhead\":0,\"arrowwidth\":1},\"geo\":{\"bgcolor\":\"white\",\"landcolor\":\"#E5ECF6\",\"subunitcolor\":\"white\",\"showland\":true,\"showlakes\":true,\"lakecolor\":\"white\"},\"title\":{\"x\":0.05},\"mapbox\":{\"style\":\"light\"}}},\"coloraxis\":{\"colorbar\":{\"title\":{\"text\":\"Healthy life expectancy\"}},\"colorscale\":[[0.0,\"#0d0887\"],[0.1111111111111111,\"#46039f\"],[0.2222222222222222,\"#7201a8\"],[0.3333333333333333,\"#9c179e\"],[0.4444444444444444,\"#bd3786\"],[0.5555555555555556,\"#d8576b\"],[0.6666666666666666,\"#ed7953\"],[0.7777777777777778,\"#fb9f3a\"],[0.8888888888888888,\"#fdca26\"],[1.0,\"#f0f921\"]]},\"legend\":{\"tracegroupgap\":0},\"margin\":{\"t\":60},\"dragmode\":\"select\"},                        {\"responsive\": true}                    ).then(function(){\n                            \nvar gd = document.getElementById('19b64152-da6d-463b-a1f6-7f1304dd6a7f');\nvar x = new MutationObserver(function (mutations, observer) {{\n        var display = window.getComputedStyle(gd).display;\n        if (!display || display === 'none') {{\n            console.log([gd, 'removed!']);\n            Plotly.purge(gd);\n            observer.disconnect();\n        }}\n}});\n\n// Listen for the removal of the full notebook cells\nvar notebookContainer = gd.closest('#notebook-container');\nif (notebookContainer) {{\n    x.observe(notebookContainer, {childList: true});\n}}\n\n// Listen for the clearing of the current output cell\nvar outputEl = gd.closest('.output');\nif (outputEl) {{\n    x.observe(outputEl, {childList: true});\n}}\n\n                        })                };                            </script>        </div>\n</body>\n</html>"
     },
     "execution_count": 25,
     "metadata": {
     },
     "output_type": "execute_result"
    }
   ],
   "source": [
    "#scatter matrix\n",
    "numerical_wh_df21 = wh_df21[['Logged GDP per capita', 'Healthy life expectancy', 'Ladder score']]\n",
    "fig = px.scatter_matrix(numerical_wh_df21, color='Healthy life expectancy')\n",
    "fig.show()"
   ]
  },
  {
   "cell_type": "code",
   "execution_count": 26,
   "metadata": {
    "collapsed": false
   },
   "outputs": [
    {
     "data": {
      "text/html": "<html>\n<head><meta charset=\"utf-8\" /></head>\n<body>\n    <div>            <script src=\"https://cdnjs.cloudflare.com/ajax/libs/mathjax/2.7.5/MathJax.js?config=TeX-AMS-MML_SVG\"></script><script type=\"text/javascript\">if (window.MathJax && window.MathJax.Hub && window.MathJax.Hub.Config) {window.MathJax.Hub.Config({SVG: {font: \"STIX-Web\"}});}</script>                <script type=\"text/javascript\">window.PlotlyConfig = {MathJaxConfig: 'local'};</script>\n        <script src=\"https://cdn.plot.ly/plotly-2.16.1.min.js\"></script>                <div id=\"f991c5b9-6ab7-41fd-82f6-49df3c9a3649\" class=\"plotly-graph-div\" style=\"height:525px; width:100%;\"></div>            <script type=\"text/javascript\">                                    window.PLOTLYENV=window.PLOTLYENV || {};                                    if (document.getElementById(\"f991c5b9-6ab7-41fd-82f6-49df3c9a3649\")) {                    Plotly.newPlot(                        \"f991c5b9-6ab7-41fd-82f6-49df3c9a3649\",                        [{\"domain\":{\"x\":[0.0,1.0],\"y\":[0.0,1.0]},\"hovertemplate\":\"Regional indicator=%{label}<br>Ladder score=%{value}<extra></extra>\",\"labels\":[\"Western Europe\",\"Western Europe\",\"Western Europe\",\"Western Europe\",\"Western Europe\",\"Western Europe\",\"Western Europe\",\"Western Europe\",\"North America and ANZ\",\"Western Europe\",\"North America and ANZ\",\"Middle East and North Africa\",\"Western Europe\",\"North America and ANZ\",\"Western Europe\",\"Latin America and Caribbean\",\"Western Europe\",\"Central and Eastern Europe\",\"North America and ANZ\",\"Western Europe\",\"Western Europe\",\"Middle East and North Africa\",\"Western Europe\",\"East Asia\",\"Middle East and North Africa\",\"Middle East and North Africa\",\"Western Europe\",\"Western Europe\",\"Central and Eastern Europe\",\"Latin America and Caribbean\",\"Latin America and Caribbean\",\"Southeast Asia\",\"Central and Eastern Europe\",\"Central and Eastern Europe\",\"Latin America and Caribbean\",\"Latin America and Caribbean\",\"Latin America and Caribbean\",\"Central and Eastern Europe\",\"Western Europe\",\"Central and Eastern Europe\",\"Latin America and Caribbean\",\"Commonwealth of Independent States\",\"Latin America and Caribbean\",\"Central and Eastern Europe\",\"Commonwealth of Independent States\",\"Central and Eastern Europe\",\"Middle East and North Africa\",\"Central and Eastern Europe\",\"Latin America and Caribbean\",\"Sub-Saharan Africa\",\"Central and Eastern Europe\",\"Latin America and Caribbean\",\"Central and Eastern Europe\",\"Southeast Asia\",\"Latin America and Caribbean\",\"East Asia\",\"Latin America and Caribbean\",\"Western Europe\",\"Latin America and Caribbean\",\"Central and Eastern Europe\",\"Southeast Asia\",\"East Asia\",\"Latin America and Caribbean\",\"Central and Eastern Europe\",\"Commonwealth of Independent States\",\"Latin America and Caribbean\",\"Commonwealth of Independent States\",\"Western Europe\",\"Latin America and Caribbean\",\"East Asia\",\"Latin America and Caribbean\",\"Central and Eastern Europe\",\"Latin America and Caribbean\",\"Western Europe\",\"Commonwealth of Independent States\",\"Commonwealth of Independent States\",\"East Asia\",\"Commonwealth of Independent States\",\"Southeast Asia\",\"Middle East and North Africa\",\"Southeast Asia\",\"Southeast Asia\",\"Sub-Saharan Africa\",\"East Asia\",\"Sub-Saharan Africa\",\"Commonwealth of Independent States\",\"South Asia\",\"Central and Eastern Europe\",\"South Asia\",\"Commonwealth of Independent States\",\"Sub-Saharan Africa\",\"Sub-Saharan Africa\",\"Central and Eastern Europe\",\"Central and Eastern Europe\",\"Sub-Saharan Africa\",\"Sub-Saharan Africa\",\"Commonwealth of Independent States\",\"Sub-Saharan Africa\",\"Sub-Saharan Africa\",\"Southeast Asia\",\"South Asia\",\"Sub-Saharan Africa\",\"Sub-Saharan Africa\",\"Middle East and North Africa\",\"South Asia\",\"Middle East and North Africa\",\"Latin America and Caribbean\",\"Commonwealth of Independent States\",\"Middle East and North Africa\",\"Commonwealth of Independent States\",\"Middle East and North Africa\",\"Sub-Saharan Africa\",\"Sub-Saharan Africa\",\"Southeast Asia\",\"Sub-Saharan Africa\",\"Sub-Saharan Africa\",\"Sub-Saharan Africa\",\"Middle East and North Africa\",\"Sub-Saharan Africa\",\"Sub-Saharan Africa\",\"Sub-Saharan Africa\",\"Middle East and North Africa\",\"Middle East and North Africa\",\"Sub-Saharan Africa\",\"Middle East and North Africa\",\"Southeast Asia\",\"Middle East and North Africa\",\"Sub-Saharan Africa\",\"South Asia\",\"Sub-Saharan Africa\",\"Sub-Saharan Africa\",\"Middle East and North Africa\",\"Sub-Saharan Africa\",\"Sub-Saharan Africa\",\"Sub-Saharan Africa\",\"Sub-Saharan Africa\",\"Sub-Saharan Africa\",\"Sub-Saharan Africa\",\"South Asia\",\"Sub-Saharan Africa\",\"Middle East and North Africa\",\"Sub-Saharan Africa\",\"Latin America and Caribbean\",\"Sub-Saharan Africa\",\"Sub-Saharan Africa\",\"Sub-Saharan Africa\",\"Sub-Saharan Africa\",\"Sub-Saharan Africa\",\"South Asia\"],\"legendgroup\":\"\",\"name\":\"\",\"showlegend\":true,\"values\":[7.842,7.62,7.571,7.554,7.464,7.392,7.363,7.324,7.277,7.268,7.183,7.157,7.155,7.103,7.085,7.069,7.064,6.965,6.951,6.834,6.69,6.647,6.602,6.584,6.561,6.494,6.491,6.483,6.461,6.435,6.431,6.377,6.372,6.331,6.33,6.317,6.309,6.255,6.223,6.189,6.18,6.179,6.172,6.166,6.152,6.14,6.106,6.078,6.061,6.049,6.032,6.012,5.992,5.985,5.972,5.94,5.929,5.929,5.919,5.882,5.88,5.845,5.84,5.813,5.766,5.764,5.744,5.723,5.716,5.677,5.653,5.581,5.545,5.536,5.534,5.477,5.477,5.466,5.411,5.41,5.384,5.345,5.342,5.339,5.306,5.283,5.269,5.266,5.198,5.171,5.142,5.132,5.117,5.101,5.088,5.074,5.066,5.051,5.045,5.03,5.025,4.984,4.956,4.948,4.934,4.918,4.892,4.891,4.887,4.875,4.854,4.852,4.834,4.83,4.794,4.759,4.723,4.721,4.636,4.625,4.607,4.596,4.584,4.574,4.517,4.426,4.395,4.355,4.325,4.308,4.289,4.283,4.275,4.227,4.208,4.107,4.073,3.849,3.819,3.775,3.658,3.623,3.615,3.6,3.512,3.467,3.415,3.145,2.523],\"type\":\"pie\"}],                        {\"template\":{\"data\":{\"histogram2dcontour\":[{\"type\":\"histogram2dcontour\",\"colorbar\":{\"outlinewidth\":0,\"ticks\":\"\"},\"colorscale\":[[0.0,\"#0d0887\"],[0.1111111111111111,\"#46039f\"],[0.2222222222222222,\"#7201a8\"],[0.3333333333333333,\"#9c179e\"],[0.4444444444444444,\"#bd3786\"],[0.5555555555555556,\"#d8576b\"],[0.6666666666666666,\"#ed7953\"],[0.7777777777777778,\"#fb9f3a\"],[0.8888888888888888,\"#fdca26\"],[1.0,\"#f0f921\"]]}],\"choropleth\":[{\"type\":\"choropleth\",\"colorbar\":{\"outlinewidth\":0,\"ticks\":\"\"}}],\"histogram2d\":[{\"type\":\"histogram2d\",\"colorbar\":{\"outlinewidth\":0,\"ticks\":\"\"},\"colorscale\":[[0.0,\"#0d0887\"],[0.1111111111111111,\"#46039f\"],[0.2222222222222222,\"#7201a8\"],[0.3333333333333333,\"#9c179e\"],[0.4444444444444444,\"#bd3786\"],[0.5555555555555556,\"#d8576b\"],[0.6666666666666666,\"#ed7953\"],[0.7777777777777778,\"#fb9f3a\"],[0.8888888888888888,\"#fdca26\"],[1.0,\"#f0f921\"]]}],\"heatmap\":[{\"type\":\"heatmap\",\"colorbar\":{\"outlinewidth\":0,\"ticks\":\"\"},\"colorscale\":[[0.0,\"#0d0887\"],[0.1111111111111111,\"#46039f\"],[0.2222222222222222,\"#7201a8\"],[0.3333333333333333,\"#9c179e\"],[0.4444444444444444,\"#bd3786\"],[0.5555555555555556,\"#d8576b\"],[0.6666666666666666,\"#ed7953\"],[0.7777777777777778,\"#fb9f3a\"],[0.8888888888888888,\"#fdca26\"],[1.0,\"#f0f921\"]]}],\"heatmapgl\":[{\"type\":\"heatmapgl\",\"colorbar\":{\"outlinewidth\":0,\"ticks\":\"\"},\"colorscale\":[[0.0,\"#0d0887\"],[0.1111111111111111,\"#46039f\"],[0.2222222222222222,\"#7201a8\"],[0.3333333333333333,\"#9c179e\"],[0.4444444444444444,\"#bd3786\"],[0.5555555555555556,\"#d8576b\"],[0.6666666666666666,\"#ed7953\"],[0.7777777777777778,\"#fb9f3a\"],[0.8888888888888888,\"#fdca26\"],[1.0,\"#f0f921\"]]}],\"contourcarpet\":[{\"type\":\"contourcarpet\",\"colorbar\":{\"outlinewidth\":0,\"ticks\":\"\"}}],\"contour\":[{\"type\":\"contour\",\"colorbar\":{\"outlinewidth\":0,\"ticks\":\"\"},\"colorscale\":[[0.0,\"#0d0887\"],[0.1111111111111111,\"#46039f\"],[0.2222222222222222,\"#7201a8\"],[0.3333333333333333,\"#9c179e\"],[0.4444444444444444,\"#bd3786\"],[0.5555555555555556,\"#d8576b\"],[0.6666666666666666,\"#ed7953\"],[0.7777777777777778,\"#fb9f3a\"],[0.8888888888888888,\"#fdca26\"],[1.0,\"#f0f921\"]]}],\"surface\":[{\"type\":\"surface\",\"colorbar\":{\"outlinewidth\":0,\"ticks\":\"\"},\"colorscale\":[[0.0,\"#0d0887\"],[0.1111111111111111,\"#46039f\"],[0.2222222222222222,\"#7201a8\"],[0.3333333333333333,\"#9c179e\"],[0.4444444444444444,\"#bd3786\"],[0.5555555555555556,\"#d8576b\"],[0.6666666666666666,\"#ed7953\"],[0.7777777777777778,\"#fb9f3a\"],[0.8888888888888888,\"#fdca26\"],[1.0,\"#f0f921\"]]}],\"mesh3d\":[{\"type\":\"mesh3d\",\"colorbar\":{\"outlinewidth\":0,\"ticks\":\"\"}}],\"scatter\":[{\"fillpattern\":{\"fillmode\":\"overlay\",\"size\":10,\"solidity\":0.2},\"type\":\"scatter\"}],\"parcoords\":[{\"type\":\"parcoords\",\"line\":{\"colorbar\":{\"outlinewidth\":0,\"ticks\":\"\"}}}],\"scatterpolargl\":[{\"type\":\"scatterpolargl\",\"marker\":{\"colorbar\":{\"outlinewidth\":0,\"ticks\":\"\"}}}],\"bar\":[{\"error_x\":{\"color\":\"#2a3f5f\"},\"error_y\":{\"color\":\"#2a3f5f\"},\"marker\":{\"line\":{\"color\":\"#E5ECF6\",\"width\":0.5},\"pattern\":{\"fillmode\":\"overlay\",\"size\":10,\"solidity\":0.2}},\"type\":\"bar\"}],\"scattergeo\":[{\"type\":\"scattergeo\",\"marker\":{\"colorbar\":{\"outlinewidth\":0,\"ticks\":\"\"}}}],\"scatterpolar\":[{\"type\":\"scatterpolar\",\"marker\":{\"colorbar\":{\"outlinewidth\":0,\"ticks\":\"\"}}}],\"histogram\":[{\"marker\":{\"pattern\":{\"fillmode\":\"overlay\",\"size\":10,\"solidity\":0.2}},\"type\":\"histogram\"}],\"scattergl\":[{\"type\":\"scattergl\",\"marker\":{\"colorbar\":{\"outlinewidth\":0,\"ticks\":\"\"}}}],\"scatter3d\":[{\"type\":\"scatter3d\",\"line\":{\"colorbar\":{\"outlinewidth\":0,\"ticks\":\"\"}},\"marker\":{\"colorbar\":{\"outlinewidth\":0,\"ticks\":\"\"}}}],\"scattermapbox\":[{\"type\":\"scattermapbox\",\"marker\":{\"colorbar\":{\"outlinewidth\":0,\"ticks\":\"\"}}}],\"scatterternary\":[{\"type\":\"scatterternary\",\"marker\":{\"colorbar\":{\"outlinewidth\":0,\"ticks\":\"\"}}}],\"scattercarpet\":[{\"type\":\"scattercarpet\",\"marker\":{\"colorbar\":{\"outlinewidth\":0,\"ticks\":\"\"}}}],\"carpet\":[{\"aaxis\":{\"endlinecolor\":\"#2a3f5f\",\"gridcolor\":\"white\",\"linecolor\":\"white\",\"minorgridcolor\":\"white\",\"startlinecolor\":\"#2a3f5f\"},\"baxis\":{\"endlinecolor\":\"#2a3f5f\",\"gridcolor\":\"white\",\"linecolor\":\"white\",\"minorgridcolor\":\"white\",\"startlinecolor\":\"#2a3f5f\"},\"type\":\"carpet\"}],\"table\":[{\"cells\":{\"fill\":{\"color\":\"#EBF0F8\"},\"line\":{\"color\":\"white\"}},\"header\":{\"fill\":{\"color\":\"#C8D4E3\"},\"line\":{\"color\":\"white\"}},\"type\":\"table\"}],\"barpolar\":[{\"marker\":{\"line\":{\"color\":\"#E5ECF6\",\"width\":0.5},\"pattern\":{\"fillmode\":\"overlay\",\"size\":10,\"solidity\":0.2}},\"type\":\"barpolar\"}],\"pie\":[{\"automargin\":true,\"type\":\"pie\"}]},\"layout\":{\"autotypenumbers\":\"strict\",\"colorway\":[\"#636efa\",\"#EF553B\",\"#00cc96\",\"#ab63fa\",\"#FFA15A\",\"#19d3f3\",\"#FF6692\",\"#B6E880\",\"#FF97FF\",\"#FECB52\"],\"font\":{\"color\":\"#2a3f5f\"},\"hovermode\":\"closest\",\"hoverlabel\":{\"align\":\"left\"},\"paper_bgcolor\":\"white\",\"plot_bgcolor\":\"#E5ECF6\",\"polar\":{\"bgcolor\":\"#E5ECF6\",\"angularaxis\":{\"gridcolor\":\"white\",\"linecolor\":\"white\",\"ticks\":\"\"},\"radialaxis\":{\"gridcolor\":\"white\",\"linecolor\":\"white\",\"ticks\":\"\"}},\"ternary\":{\"bgcolor\":\"#E5ECF6\",\"aaxis\":{\"gridcolor\":\"white\",\"linecolor\":\"white\",\"ticks\":\"\"},\"baxis\":{\"gridcolor\":\"white\",\"linecolor\":\"white\",\"ticks\":\"\"},\"caxis\":{\"gridcolor\":\"white\",\"linecolor\":\"white\",\"ticks\":\"\"}},\"coloraxis\":{\"colorbar\":{\"outlinewidth\":0,\"ticks\":\"\"}},\"colorscale\":{\"sequential\":[[0.0,\"#0d0887\"],[0.1111111111111111,\"#46039f\"],[0.2222222222222222,\"#7201a8\"],[0.3333333333333333,\"#9c179e\"],[0.4444444444444444,\"#bd3786\"],[0.5555555555555556,\"#d8576b\"],[0.6666666666666666,\"#ed7953\"],[0.7777777777777778,\"#fb9f3a\"],[0.8888888888888888,\"#fdca26\"],[1.0,\"#f0f921\"]],\"sequentialminus\":[[0.0,\"#0d0887\"],[0.1111111111111111,\"#46039f\"],[0.2222222222222222,\"#7201a8\"],[0.3333333333333333,\"#9c179e\"],[0.4444444444444444,\"#bd3786\"],[0.5555555555555556,\"#d8576b\"],[0.6666666666666666,\"#ed7953\"],[0.7777777777777778,\"#fb9f3a\"],[0.8888888888888888,\"#fdca26\"],[1.0,\"#f0f921\"]],\"diverging\":[[0,\"#8e0152\"],[0.1,\"#c51b7d\"],[0.2,\"#de77ae\"],[0.3,\"#f1b6da\"],[0.4,\"#fde0ef\"],[0.5,\"#f7f7f7\"],[0.6,\"#e6f5d0\"],[0.7,\"#b8e186\"],[0.8,\"#7fbc41\"],[0.9,\"#4d9221\"],[1,\"#276419\"]]},\"xaxis\":{\"gridcolor\":\"white\",\"linecolor\":\"white\",\"ticks\":\"\",\"title\":{\"standoff\":15},\"zerolinecolor\":\"white\",\"automargin\":true,\"zerolinewidth\":2},\"yaxis\":{\"gridcolor\":\"white\",\"linecolor\":\"white\",\"ticks\":\"\",\"title\":{\"standoff\":15},\"zerolinecolor\":\"white\",\"automargin\":true,\"zerolinewidth\":2},\"scene\":{\"xaxis\":{\"backgroundcolor\":\"#E5ECF6\",\"gridcolor\":\"white\",\"linecolor\":\"white\",\"showbackground\":true,\"ticks\":\"\",\"zerolinecolor\":\"white\",\"gridwidth\":2},\"yaxis\":{\"backgroundcolor\":\"#E5ECF6\",\"gridcolor\":\"white\",\"linecolor\":\"white\",\"showbackground\":true,\"ticks\":\"\",\"zerolinecolor\":\"white\",\"gridwidth\":2},\"zaxis\":{\"backgroundcolor\":\"#E5ECF6\",\"gridcolor\":\"white\",\"linecolor\":\"white\",\"showbackground\":true,\"ticks\":\"\",\"zerolinecolor\":\"white\",\"gridwidth\":2}},\"shapedefaults\":{\"line\":{\"color\":\"#2a3f5f\"}},\"annotationdefaults\":{\"arrowcolor\":\"#2a3f5f\",\"arrowhead\":0,\"arrowwidth\":1},\"geo\":{\"bgcolor\":\"white\",\"landcolor\":\"#E5ECF6\",\"subunitcolor\":\"white\",\"showland\":true,\"showlakes\":true,\"lakecolor\":\"white\"},\"title\":{\"x\":0.05},\"mapbox\":{\"style\":\"light\"}}},\"legend\":{\"tracegroupgap\":0},\"title\":{\"text\":\"Ladder Score per Region\"}},                        {\"responsive\": true}                    ).then(function(){\n                            \nvar gd = document.getElementById('f991c5b9-6ab7-41fd-82f6-49df3c9a3649');\nvar x = new MutationObserver(function (mutations, observer) {{\n        var display = window.getComputedStyle(gd).display;\n        if (!display || display === 'none') {{\n            console.log([gd, 'removed!']);\n            Plotly.purge(gd);\n            observer.disconnect();\n        }}\n}});\n\n// Listen for the removal of the full notebook cells\nvar notebookContainer = gd.closest('#notebook-container');\nif (notebookContainer) {{\n    x.observe(notebookContainer, {childList: true});\n}}\n\n// Listen for the clearing of the current output cell\nvar outputEl = gd.closest('.output');\nif (outputEl) {{\n    x.observe(outputEl, {childList: true});\n}}\n\n                        })                };                            </script>        </div>\n</body>\n</html>"
     },
     "execution_count": 26,
     "metadata": {
     },
     "output_type": "execute_result"
    }
   ],
   "source": [
    "#pie chart for ladder score per region\n",
    "fig = px.pie(wh_df21, values='Ladder score', names= 'Regional indicator', title='Ladder Score per Region')\n",
    "fig.show()"
   ]
  },
  {
   "cell_type": "code",
   "execution_count": 27,
   "metadata": {
    "collapsed": false,
    "scrolled": true
   },
   "outputs": [
    {
     "ename": "NameError",
     "evalue": "name 'data_canada' is not defined",
     "output_type": "error",
     "traceback": [
      "\u001b[0;31m---------------------------------------------------------------------------\u001b[0m",
      "\u001b[0;31mNameError\u001b[0m                                 Traceback (most recent call last)",
      "Input \u001b[0;32mIn [27]\u001b[0m, in \u001b[0;36m<cell line: 1>\u001b[0;34m()\u001b[0m\n\u001b[0;32m----> 1\u001b[0m fig \u001b[38;5;241m=\u001b[39m px\u001b[38;5;241m.\u001b[39mbar(\u001b[43mdata_canada\u001b[49m, x\u001b[38;5;241m=\u001b[39m\u001b[38;5;124m'\u001b[39m\u001b[38;5;124m'\u001b[39m, y\u001b[38;5;241m=\u001b[39m\u001b[38;5;124m'\u001b[39m\u001b[38;5;124m'\u001b[39m)\n",
      "\u001b[0;31mNameError\u001b[0m: name 'data_canada' is not defined"
     ]
    }
   ],
   "source": [
    "fig = px.bar(data_canada, x='', y='') #what do we want to compare"
   ]
  },
  {
   "cell_type": "code",
   "execution_count": 0,
   "metadata": {
    "collapsed": false
   },
   "outputs": [
   ],
   "source": [
    "wh_df21.groupby('Regional indicator').mean()"
   ]
  },
  {
   "cell_type": "code",
   "execution_count": 0,
   "metadata": {
    "collapsed": false,
    "scrolled": true
   },
   "outputs": [
   ],
   "source": [
    "avg_wh21 = wh_df21.groupby('Regional indicator', as_index=False).mean()\n",
    "avg_wh21"
   ]
  },
  {
   "cell_type": "code",
   "execution_count": 0,
   "metadata": {
    "collapsed": false,
    "scrolled": true
   },
   "outputs": [
   ],
   "source": [
    "std_wh21 = wh_df21.groupby('Regional indicator', as_index=False).std()\n",
    "std_wh21.head()"
   ]
  },
  {
   "cell_type": "code",
   "execution_count": 0,
   "metadata": {
    "collapsed": false
   },
   "outputs": [
   ],
   "source": [
    "max_wh21 = wh_df21.groupby('Regional indicator', as_index=False).max()\n",
    "max_wh21.head()"
   ]
  },
  {
   "cell_type": "code",
   "execution_count": 0,
   "metadata": {
    "collapsed": false
   },
   "outputs": [
   ],
   "source": [
    "wh_df21[wh_df21['Ladder score']==wh_df21['Ladder score'].max()]"
   ]
  },
  {
   "cell_type": "code",
   "execution_count": 0,
   "metadata": {
    "collapsed": false
   },
   "outputs": [
   ],
   "source": [
    "avg_wh21 = wh_df21.groupby('Regional indicator', as_index=False).mean()\n",
    "avg_wh21"
   ]
  },
  {
   "cell_type": "code",
   "execution_count": 0,
   "metadata": {
    "collapsed": false
   },
   "outputs": [
   ],
   "source": [
    "# bar graph\n",
    "\n",
    "fig = px.bar(avg_wh21, x='Regional indicator', y='Logged GDP per capita')\n",
    "fig.show()"
   ]
  },
  {
   "cell_type": "markdown",
   "metadata": {
    "collapsed": false
   },
   "source": [
    "Hi this is anthony  \n",
    "\n"
   ]
  }
 ],
 "metadata": {
  "kernelspec": {
   "display_name": "Python (ds_env)",
   "language": "python",
   "metadata": {
    "debugger": true
   },
   "name": "ds_env",
   "resource_dir": "/projects/edd1874b-535e-4ea0-8897-aa8a85e79c89/.local/share/jupyter/kernels/ds_env"
  },
  "language_info": {
   "codemirror_mode": {
    "name": "ipython",
    "version": 3
   },
   "file_extension": ".py",
   "mimetype": "text/x-python",
   "name": "python",
   "nbconvert_exporter": "python",
   "pygments_lexer": "ipython3",
   "version": "3.10.8"
  }
 },
 "nbformat": 4,
 "nbformat_minor": 4
}